{
  "nbformat": 4,
  "nbformat_minor": 0,
  "metadata": {
    "colab": {
      "name": "ch4_multilingual_ner.ipynb",
      "provenance": [],
      "collapsed_sections": [],
      "authorship_tag": "ABX9TyPVeIuxlUtebLJeQLt9MdDB",
      "include_colab_link": true
    },
    "kernelspec": {
      "name": "python3",
      "display_name": "Python 3"
    },
    "language_info": {
      "name": "python"
    },
    "widgets": {
      "application/vnd.jupyter.widget-state+json": {
        "2d39a0c1614d4fa4bbb7ca9ba7d32126": {
          "model_module": "@jupyter-widgets/controls",
          "model_name": "HBoxModel",
          "model_module_version": "1.5.0",
          "state": {
            "_dom_classes": [],
            "_model_module": "@jupyter-widgets/controls",
            "_model_module_version": "1.5.0",
            "_model_name": "HBoxModel",
            "_view_count": null,
            "_view_module": "@jupyter-widgets/controls",
            "_view_module_version": "1.5.0",
            "_view_name": "HBoxView",
            "box_style": "",
            "children": [
              "IPY_MODEL_ff1ff5d730ff4b6590619cdff2c66bca",
              "IPY_MODEL_47d2a6425bfc4507bafb98d05e21c444",
              "IPY_MODEL_1ad1d88cd169481c8038f16657f5f30f"
            ],
            "layout": "IPY_MODEL_e4e4665c9f7942c4970b24a91de9cd8e"
          }
        },
        "ff1ff5d730ff4b6590619cdff2c66bca": {
          "model_module": "@jupyter-widgets/controls",
          "model_name": "HTMLModel",
          "model_module_version": "1.5.0",
          "state": {
            "_dom_classes": [],
            "_model_module": "@jupyter-widgets/controls",
            "_model_module_version": "1.5.0",
            "_model_name": "HTMLModel",
            "_view_count": null,
            "_view_module": "@jupyter-widgets/controls",
            "_view_module_version": "1.5.0",
            "_view_name": "HTMLView",
            "description": "",
            "description_tooltip": null,
            "layout": "IPY_MODEL_87deb50251064c7e82bac45aef5ed812",
            "placeholder": "​",
            "style": "IPY_MODEL_92b82989453b4605bacd5cc0060846a8",
            "value": "100%"
          }
        },
        "47d2a6425bfc4507bafb98d05e21c444": {
          "model_module": "@jupyter-widgets/controls",
          "model_name": "FloatProgressModel",
          "model_module_version": "1.5.0",
          "state": {
            "_dom_classes": [],
            "_model_module": "@jupyter-widgets/controls",
            "_model_module_version": "1.5.0",
            "_model_name": "FloatProgressModel",
            "_view_count": null,
            "_view_module": "@jupyter-widgets/controls",
            "_view_module_version": "1.5.0",
            "_view_name": "ProgressView",
            "bar_style": "success",
            "description": "",
            "description_tooltip": null,
            "layout": "IPY_MODEL_a1432d52b3b043f9aed0a16e66b2776d",
            "max": 3,
            "min": 0,
            "orientation": "horizontal",
            "style": "IPY_MODEL_936f8db822a443b3a02a1c2884a2d6d1",
            "value": 3
          }
        },
        "1ad1d88cd169481c8038f16657f5f30f": {
          "model_module": "@jupyter-widgets/controls",
          "model_name": "HTMLModel",
          "model_module_version": "1.5.0",
          "state": {
            "_dom_classes": [],
            "_model_module": "@jupyter-widgets/controls",
            "_model_module_version": "1.5.0",
            "_model_name": "HTMLModel",
            "_view_count": null,
            "_view_module": "@jupyter-widgets/controls",
            "_view_module_version": "1.5.0",
            "_view_name": "HTMLView",
            "description": "",
            "description_tooltip": null,
            "layout": "IPY_MODEL_0f7712aa13934f64aaeb31327ace2d4b",
            "placeholder": "​",
            "style": "IPY_MODEL_65de9943ecde4fe486b1474fed007b45",
            "value": " 3/3 [00:00&lt;00:00, 75.92it/s]"
          }
        },
        "e4e4665c9f7942c4970b24a91de9cd8e": {
          "model_module": "@jupyter-widgets/base",
          "model_name": "LayoutModel",
          "model_module_version": "1.2.0",
          "state": {
            "_model_module": "@jupyter-widgets/base",
            "_model_module_version": "1.2.0",
            "_model_name": "LayoutModel",
            "_view_count": null,
            "_view_module": "@jupyter-widgets/base",
            "_view_module_version": "1.2.0",
            "_view_name": "LayoutView",
            "align_content": null,
            "align_items": null,
            "align_self": null,
            "border": null,
            "bottom": null,
            "display": null,
            "flex": null,
            "flex_flow": null,
            "grid_area": null,
            "grid_auto_columns": null,
            "grid_auto_flow": null,
            "grid_auto_rows": null,
            "grid_column": null,
            "grid_gap": null,
            "grid_row": null,
            "grid_template_areas": null,
            "grid_template_columns": null,
            "grid_template_rows": null,
            "height": null,
            "justify_content": null,
            "justify_items": null,
            "left": null,
            "margin": null,
            "max_height": null,
            "max_width": null,
            "min_height": null,
            "min_width": null,
            "object_fit": null,
            "object_position": null,
            "order": null,
            "overflow": null,
            "overflow_x": null,
            "overflow_y": null,
            "padding": null,
            "right": null,
            "top": null,
            "visibility": null,
            "width": null
          }
        },
        "87deb50251064c7e82bac45aef5ed812": {
          "model_module": "@jupyter-widgets/base",
          "model_name": "LayoutModel",
          "model_module_version": "1.2.0",
          "state": {
            "_model_module": "@jupyter-widgets/base",
            "_model_module_version": "1.2.0",
            "_model_name": "LayoutModel",
            "_view_count": null,
            "_view_module": "@jupyter-widgets/base",
            "_view_module_version": "1.2.0",
            "_view_name": "LayoutView",
            "align_content": null,
            "align_items": null,
            "align_self": null,
            "border": null,
            "bottom": null,
            "display": null,
            "flex": null,
            "flex_flow": null,
            "grid_area": null,
            "grid_auto_columns": null,
            "grid_auto_flow": null,
            "grid_auto_rows": null,
            "grid_column": null,
            "grid_gap": null,
            "grid_row": null,
            "grid_template_areas": null,
            "grid_template_columns": null,
            "grid_template_rows": null,
            "height": null,
            "justify_content": null,
            "justify_items": null,
            "left": null,
            "margin": null,
            "max_height": null,
            "max_width": null,
            "min_height": null,
            "min_width": null,
            "object_fit": null,
            "object_position": null,
            "order": null,
            "overflow": null,
            "overflow_x": null,
            "overflow_y": null,
            "padding": null,
            "right": null,
            "top": null,
            "visibility": null,
            "width": null
          }
        },
        "92b82989453b4605bacd5cc0060846a8": {
          "model_module": "@jupyter-widgets/controls",
          "model_name": "DescriptionStyleModel",
          "model_module_version": "1.5.0",
          "state": {
            "_model_module": "@jupyter-widgets/controls",
            "_model_module_version": "1.5.0",
            "_model_name": "DescriptionStyleModel",
            "_view_count": null,
            "_view_module": "@jupyter-widgets/base",
            "_view_module_version": "1.2.0",
            "_view_name": "StyleView",
            "description_width": ""
          }
        },
        "a1432d52b3b043f9aed0a16e66b2776d": {
          "model_module": "@jupyter-widgets/base",
          "model_name": "LayoutModel",
          "model_module_version": "1.2.0",
          "state": {
            "_model_module": "@jupyter-widgets/base",
            "_model_module_version": "1.2.0",
            "_model_name": "LayoutModel",
            "_view_count": null,
            "_view_module": "@jupyter-widgets/base",
            "_view_module_version": "1.2.0",
            "_view_name": "LayoutView",
            "align_content": null,
            "align_items": null,
            "align_self": null,
            "border": null,
            "bottom": null,
            "display": null,
            "flex": null,
            "flex_flow": null,
            "grid_area": null,
            "grid_auto_columns": null,
            "grid_auto_flow": null,
            "grid_auto_rows": null,
            "grid_column": null,
            "grid_gap": null,
            "grid_row": null,
            "grid_template_areas": null,
            "grid_template_columns": null,
            "grid_template_rows": null,
            "height": null,
            "justify_content": null,
            "justify_items": null,
            "left": null,
            "margin": null,
            "max_height": null,
            "max_width": null,
            "min_height": null,
            "min_width": null,
            "object_fit": null,
            "object_position": null,
            "order": null,
            "overflow": null,
            "overflow_x": null,
            "overflow_y": null,
            "padding": null,
            "right": null,
            "top": null,
            "visibility": null,
            "width": null
          }
        },
        "936f8db822a443b3a02a1c2884a2d6d1": {
          "model_module": "@jupyter-widgets/controls",
          "model_name": "ProgressStyleModel",
          "model_module_version": "1.5.0",
          "state": {
            "_model_module": "@jupyter-widgets/controls",
            "_model_module_version": "1.5.0",
            "_model_name": "ProgressStyleModel",
            "_view_count": null,
            "_view_module": "@jupyter-widgets/base",
            "_view_module_version": "1.2.0",
            "_view_name": "StyleView",
            "bar_color": null,
            "description_width": ""
          }
        },
        "0f7712aa13934f64aaeb31327ace2d4b": {
          "model_module": "@jupyter-widgets/base",
          "model_name": "LayoutModel",
          "model_module_version": "1.2.0",
          "state": {
            "_model_module": "@jupyter-widgets/base",
            "_model_module_version": "1.2.0",
            "_model_name": "LayoutModel",
            "_view_count": null,
            "_view_module": "@jupyter-widgets/base",
            "_view_module_version": "1.2.0",
            "_view_name": "LayoutView",
            "align_content": null,
            "align_items": null,
            "align_self": null,
            "border": null,
            "bottom": null,
            "display": null,
            "flex": null,
            "flex_flow": null,
            "grid_area": null,
            "grid_auto_columns": null,
            "grid_auto_flow": null,
            "grid_auto_rows": null,
            "grid_column": null,
            "grid_gap": null,
            "grid_row": null,
            "grid_template_areas": null,
            "grid_template_columns": null,
            "grid_template_rows": null,
            "height": null,
            "justify_content": null,
            "justify_items": null,
            "left": null,
            "margin": null,
            "max_height": null,
            "max_width": null,
            "min_height": null,
            "min_width": null,
            "object_fit": null,
            "object_position": null,
            "order": null,
            "overflow": null,
            "overflow_x": null,
            "overflow_y": null,
            "padding": null,
            "right": null,
            "top": null,
            "visibility": null,
            "width": null
          }
        },
        "65de9943ecde4fe486b1474fed007b45": {
          "model_module": "@jupyter-widgets/controls",
          "model_name": "DescriptionStyleModel",
          "model_module_version": "1.5.0",
          "state": {
            "_model_module": "@jupyter-widgets/controls",
            "_model_module_version": "1.5.0",
            "_model_name": "DescriptionStyleModel",
            "_view_count": null,
            "_view_module": "@jupyter-widgets/base",
            "_view_module_version": "1.2.0",
            "_view_name": "StyleView",
            "description_width": ""
          }
        },
        "e12c939dc00144faa3c06604e723819a": {
          "model_module": "@jupyter-widgets/controls",
          "model_name": "HBoxModel",
          "model_module_version": "1.5.0",
          "state": {
            "_dom_classes": [],
            "_model_module": "@jupyter-widgets/controls",
            "_model_module_version": "1.5.0",
            "_model_name": "HBoxModel",
            "_view_count": null,
            "_view_module": "@jupyter-widgets/controls",
            "_view_module_version": "1.5.0",
            "_view_name": "HBoxView",
            "box_style": "",
            "children": [
              "IPY_MODEL_e25fb39d86a94290ba55a388fa5534cc",
              "IPY_MODEL_9e25aa05faff4a59b0530f38027647ff",
              "IPY_MODEL_2c324ace9e934a85a3d734422e0bd68d"
            ],
            "layout": "IPY_MODEL_026d95439c8f42c090884f8f91792e1e"
          }
        },
        "e25fb39d86a94290ba55a388fa5534cc": {
          "model_module": "@jupyter-widgets/controls",
          "model_name": "HTMLModel",
          "model_module_version": "1.5.0",
          "state": {
            "_dom_classes": [],
            "_model_module": "@jupyter-widgets/controls",
            "_model_module_version": "1.5.0",
            "_model_name": "HTMLModel",
            "_view_count": null,
            "_view_module": "@jupyter-widgets/controls",
            "_view_module_version": "1.5.0",
            "_view_name": "HTMLView",
            "description": "",
            "description_tooltip": null,
            "layout": "IPY_MODEL_4b4e66f9590041d1a40ec5233e5e6b66",
            "placeholder": "​",
            "style": "IPY_MODEL_d3280646554144b89f49a9926bca9c06",
            "value": "100%"
          }
        },
        "9e25aa05faff4a59b0530f38027647ff": {
          "model_module": "@jupyter-widgets/controls",
          "model_name": "FloatProgressModel",
          "model_module_version": "1.5.0",
          "state": {
            "_dom_classes": [],
            "_model_module": "@jupyter-widgets/controls",
            "_model_module_version": "1.5.0",
            "_model_name": "FloatProgressModel",
            "_view_count": null,
            "_view_module": "@jupyter-widgets/controls",
            "_view_module_version": "1.5.0",
            "_view_name": "ProgressView",
            "bar_style": "success",
            "description": "",
            "description_tooltip": null,
            "layout": "IPY_MODEL_d0f53b17ce524d0aa028e60c85dad5a1",
            "max": 3,
            "min": 0,
            "orientation": "horizontal",
            "style": "IPY_MODEL_f459c47dead343518ddfc2daa482dbff",
            "value": 3
          }
        },
        "2c324ace9e934a85a3d734422e0bd68d": {
          "model_module": "@jupyter-widgets/controls",
          "model_name": "HTMLModel",
          "model_module_version": "1.5.0",
          "state": {
            "_dom_classes": [],
            "_model_module": "@jupyter-widgets/controls",
            "_model_module_version": "1.5.0",
            "_model_name": "HTMLModel",
            "_view_count": null,
            "_view_module": "@jupyter-widgets/controls",
            "_view_module_version": "1.5.0",
            "_view_name": "HTMLView",
            "description": "",
            "description_tooltip": null,
            "layout": "IPY_MODEL_d358bb4044eb4b399c86c3f50191c998",
            "placeholder": "​",
            "style": "IPY_MODEL_e127b5e714e948d98182ba33680642c2",
            "value": " 3/3 [00:00&lt;00:00, 60.28it/s]"
          }
        },
        "026d95439c8f42c090884f8f91792e1e": {
          "model_module": "@jupyter-widgets/base",
          "model_name": "LayoutModel",
          "model_module_version": "1.2.0",
          "state": {
            "_model_module": "@jupyter-widgets/base",
            "_model_module_version": "1.2.0",
            "_model_name": "LayoutModel",
            "_view_count": null,
            "_view_module": "@jupyter-widgets/base",
            "_view_module_version": "1.2.0",
            "_view_name": "LayoutView",
            "align_content": null,
            "align_items": null,
            "align_self": null,
            "border": null,
            "bottom": null,
            "display": null,
            "flex": null,
            "flex_flow": null,
            "grid_area": null,
            "grid_auto_columns": null,
            "grid_auto_flow": null,
            "grid_auto_rows": null,
            "grid_column": null,
            "grid_gap": null,
            "grid_row": null,
            "grid_template_areas": null,
            "grid_template_columns": null,
            "grid_template_rows": null,
            "height": null,
            "justify_content": null,
            "justify_items": null,
            "left": null,
            "margin": null,
            "max_height": null,
            "max_width": null,
            "min_height": null,
            "min_width": null,
            "object_fit": null,
            "object_position": null,
            "order": null,
            "overflow": null,
            "overflow_x": null,
            "overflow_y": null,
            "padding": null,
            "right": null,
            "top": null,
            "visibility": null,
            "width": null
          }
        },
        "4b4e66f9590041d1a40ec5233e5e6b66": {
          "model_module": "@jupyter-widgets/base",
          "model_name": "LayoutModel",
          "model_module_version": "1.2.0",
          "state": {
            "_model_module": "@jupyter-widgets/base",
            "_model_module_version": "1.2.0",
            "_model_name": "LayoutModel",
            "_view_count": null,
            "_view_module": "@jupyter-widgets/base",
            "_view_module_version": "1.2.0",
            "_view_name": "LayoutView",
            "align_content": null,
            "align_items": null,
            "align_self": null,
            "border": null,
            "bottom": null,
            "display": null,
            "flex": null,
            "flex_flow": null,
            "grid_area": null,
            "grid_auto_columns": null,
            "grid_auto_flow": null,
            "grid_auto_rows": null,
            "grid_column": null,
            "grid_gap": null,
            "grid_row": null,
            "grid_template_areas": null,
            "grid_template_columns": null,
            "grid_template_rows": null,
            "height": null,
            "justify_content": null,
            "justify_items": null,
            "left": null,
            "margin": null,
            "max_height": null,
            "max_width": null,
            "min_height": null,
            "min_width": null,
            "object_fit": null,
            "object_position": null,
            "order": null,
            "overflow": null,
            "overflow_x": null,
            "overflow_y": null,
            "padding": null,
            "right": null,
            "top": null,
            "visibility": null,
            "width": null
          }
        },
        "d3280646554144b89f49a9926bca9c06": {
          "model_module": "@jupyter-widgets/controls",
          "model_name": "DescriptionStyleModel",
          "model_module_version": "1.5.0",
          "state": {
            "_model_module": "@jupyter-widgets/controls",
            "_model_module_version": "1.5.0",
            "_model_name": "DescriptionStyleModel",
            "_view_count": null,
            "_view_module": "@jupyter-widgets/base",
            "_view_module_version": "1.2.0",
            "_view_name": "StyleView",
            "description_width": ""
          }
        },
        "d0f53b17ce524d0aa028e60c85dad5a1": {
          "model_module": "@jupyter-widgets/base",
          "model_name": "LayoutModel",
          "model_module_version": "1.2.0",
          "state": {
            "_model_module": "@jupyter-widgets/base",
            "_model_module_version": "1.2.0",
            "_model_name": "LayoutModel",
            "_view_count": null,
            "_view_module": "@jupyter-widgets/base",
            "_view_module_version": "1.2.0",
            "_view_name": "LayoutView",
            "align_content": null,
            "align_items": null,
            "align_self": null,
            "border": null,
            "bottom": null,
            "display": null,
            "flex": null,
            "flex_flow": null,
            "grid_area": null,
            "grid_auto_columns": null,
            "grid_auto_flow": null,
            "grid_auto_rows": null,
            "grid_column": null,
            "grid_gap": null,
            "grid_row": null,
            "grid_template_areas": null,
            "grid_template_columns": null,
            "grid_template_rows": null,
            "height": null,
            "justify_content": null,
            "justify_items": null,
            "left": null,
            "margin": null,
            "max_height": null,
            "max_width": null,
            "min_height": null,
            "min_width": null,
            "object_fit": null,
            "object_position": null,
            "order": null,
            "overflow": null,
            "overflow_x": null,
            "overflow_y": null,
            "padding": null,
            "right": null,
            "top": null,
            "visibility": null,
            "width": null
          }
        },
        "f459c47dead343518ddfc2daa482dbff": {
          "model_module": "@jupyter-widgets/controls",
          "model_name": "ProgressStyleModel",
          "model_module_version": "1.5.0",
          "state": {
            "_model_module": "@jupyter-widgets/controls",
            "_model_module_version": "1.5.0",
            "_model_name": "ProgressStyleModel",
            "_view_count": null,
            "_view_module": "@jupyter-widgets/base",
            "_view_module_version": "1.2.0",
            "_view_name": "StyleView",
            "bar_color": null,
            "description_width": ""
          }
        },
        "d358bb4044eb4b399c86c3f50191c998": {
          "model_module": "@jupyter-widgets/base",
          "model_name": "LayoutModel",
          "model_module_version": "1.2.0",
          "state": {
            "_model_module": "@jupyter-widgets/base",
            "_model_module_version": "1.2.0",
            "_model_name": "LayoutModel",
            "_view_count": null,
            "_view_module": "@jupyter-widgets/base",
            "_view_module_version": "1.2.0",
            "_view_name": "LayoutView",
            "align_content": null,
            "align_items": null,
            "align_self": null,
            "border": null,
            "bottom": null,
            "display": null,
            "flex": null,
            "flex_flow": null,
            "grid_area": null,
            "grid_auto_columns": null,
            "grid_auto_flow": null,
            "grid_auto_rows": null,
            "grid_column": null,
            "grid_gap": null,
            "grid_row": null,
            "grid_template_areas": null,
            "grid_template_columns": null,
            "grid_template_rows": null,
            "height": null,
            "justify_content": null,
            "justify_items": null,
            "left": null,
            "margin": null,
            "max_height": null,
            "max_width": null,
            "min_height": null,
            "min_width": null,
            "object_fit": null,
            "object_position": null,
            "order": null,
            "overflow": null,
            "overflow_x": null,
            "overflow_y": null,
            "padding": null,
            "right": null,
            "top": null,
            "visibility": null,
            "width": null
          }
        },
        "e127b5e714e948d98182ba33680642c2": {
          "model_module": "@jupyter-widgets/controls",
          "model_name": "DescriptionStyleModel",
          "model_module_version": "1.5.0",
          "state": {
            "_model_module": "@jupyter-widgets/controls",
            "_model_module_version": "1.5.0",
            "_model_name": "DescriptionStyleModel",
            "_view_count": null,
            "_view_module": "@jupyter-widgets/base",
            "_view_module_version": "1.2.0",
            "_view_name": "StyleView",
            "description_width": ""
          }
        },
        "6209e399cbe047c9a48eb37a91e6528c": {
          "model_module": "@jupyter-widgets/controls",
          "model_name": "HBoxModel",
          "model_module_version": "1.5.0",
          "state": {
            "_dom_classes": [],
            "_model_module": "@jupyter-widgets/controls",
            "_model_module_version": "1.5.0",
            "_model_name": "HBoxModel",
            "_view_count": null,
            "_view_module": "@jupyter-widgets/controls",
            "_view_module_version": "1.5.0",
            "_view_name": "HBoxView",
            "box_style": "",
            "children": [
              "IPY_MODEL_6e6e84fa785641339b8235574a76f3d7",
              "IPY_MODEL_312cb15fdff849cba834c367d6a08d98",
              "IPY_MODEL_79a231dfe5194861b6d821fdeab33712"
            ],
            "layout": "IPY_MODEL_bd48068821b245479274c9d8b8ec2a01"
          }
        },
        "6e6e84fa785641339b8235574a76f3d7": {
          "model_module": "@jupyter-widgets/controls",
          "model_name": "HTMLModel",
          "model_module_version": "1.5.0",
          "state": {
            "_dom_classes": [],
            "_model_module": "@jupyter-widgets/controls",
            "_model_module_version": "1.5.0",
            "_model_name": "HTMLModel",
            "_view_count": null,
            "_view_module": "@jupyter-widgets/controls",
            "_view_module_version": "1.5.0",
            "_view_name": "HTMLView",
            "description": "",
            "description_tooltip": null,
            "layout": "IPY_MODEL_db85df747c6f4cbab01d9976524d4ed5",
            "placeholder": "​",
            "style": "IPY_MODEL_f69697a893494bdb9562aac66427bc3a",
            "value": "100%"
          }
        },
        "312cb15fdff849cba834c367d6a08d98": {
          "model_module": "@jupyter-widgets/controls",
          "model_name": "FloatProgressModel",
          "model_module_version": "1.5.0",
          "state": {
            "_dom_classes": [],
            "_model_module": "@jupyter-widgets/controls",
            "_model_module_version": "1.5.0",
            "_model_name": "FloatProgressModel",
            "_view_count": null,
            "_view_module": "@jupyter-widgets/controls",
            "_view_module_version": "1.5.0",
            "_view_name": "ProgressView",
            "bar_style": "success",
            "description": "",
            "description_tooltip": null,
            "layout": "IPY_MODEL_b0f80f3091544f419a261b8b9aeab57e",
            "max": 3,
            "min": 0,
            "orientation": "horizontal",
            "style": "IPY_MODEL_fdcdcb8909c048319228990aa6b2bf44",
            "value": 3
          }
        },
        "79a231dfe5194861b6d821fdeab33712": {
          "model_module": "@jupyter-widgets/controls",
          "model_name": "HTMLModel",
          "model_module_version": "1.5.0",
          "state": {
            "_dom_classes": [],
            "_model_module": "@jupyter-widgets/controls",
            "_model_module_version": "1.5.0",
            "_model_name": "HTMLModel",
            "_view_count": null,
            "_view_module": "@jupyter-widgets/controls",
            "_view_module_version": "1.5.0",
            "_view_name": "HTMLView",
            "description": "",
            "description_tooltip": null,
            "layout": "IPY_MODEL_83052999a17447d5bd5e26a1ae388b66",
            "placeholder": "​",
            "style": "IPY_MODEL_b3b33b4e8d2e4bf3b84005b022683845",
            "value": " 3/3 [00:00&lt;00:00, 69.87it/s]"
          }
        },
        "bd48068821b245479274c9d8b8ec2a01": {
          "model_module": "@jupyter-widgets/base",
          "model_name": "LayoutModel",
          "model_module_version": "1.2.0",
          "state": {
            "_model_module": "@jupyter-widgets/base",
            "_model_module_version": "1.2.0",
            "_model_name": "LayoutModel",
            "_view_count": null,
            "_view_module": "@jupyter-widgets/base",
            "_view_module_version": "1.2.0",
            "_view_name": "LayoutView",
            "align_content": null,
            "align_items": null,
            "align_self": null,
            "border": null,
            "bottom": null,
            "display": null,
            "flex": null,
            "flex_flow": null,
            "grid_area": null,
            "grid_auto_columns": null,
            "grid_auto_flow": null,
            "grid_auto_rows": null,
            "grid_column": null,
            "grid_gap": null,
            "grid_row": null,
            "grid_template_areas": null,
            "grid_template_columns": null,
            "grid_template_rows": null,
            "height": null,
            "justify_content": null,
            "justify_items": null,
            "left": null,
            "margin": null,
            "max_height": null,
            "max_width": null,
            "min_height": null,
            "min_width": null,
            "object_fit": null,
            "object_position": null,
            "order": null,
            "overflow": null,
            "overflow_x": null,
            "overflow_y": null,
            "padding": null,
            "right": null,
            "top": null,
            "visibility": null,
            "width": null
          }
        },
        "db85df747c6f4cbab01d9976524d4ed5": {
          "model_module": "@jupyter-widgets/base",
          "model_name": "LayoutModel",
          "model_module_version": "1.2.0",
          "state": {
            "_model_module": "@jupyter-widgets/base",
            "_model_module_version": "1.2.0",
            "_model_name": "LayoutModel",
            "_view_count": null,
            "_view_module": "@jupyter-widgets/base",
            "_view_module_version": "1.2.0",
            "_view_name": "LayoutView",
            "align_content": null,
            "align_items": null,
            "align_self": null,
            "border": null,
            "bottom": null,
            "display": null,
            "flex": null,
            "flex_flow": null,
            "grid_area": null,
            "grid_auto_columns": null,
            "grid_auto_flow": null,
            "grid_auto_rows": null,
            "grid_column": null,
            "grid_gap": null,
            "grid_row": null,
            "grid_template_areas": null,
            "grid_template_columns": null,
            "grid_template_rows": null,
            "height": null,
            "justify_content": null,
            "justify_items": null,
            "left": null,
            "margin": null,
            "max_height": null,
            "max_width": null,
            "min_height": null,
            "min_width": null,
            "object_fit": null,
            "object_position": null,
            "order": null,
            "overflow": null,
            "overflow_x": null,
            "overflow_y": null,
            "padding": null,
            "right": null,
            "top": null,
            "visibility": null,
            "width": null
          }
        },
        "f69697a893494bdb9562aac66427bc3a": {
          "model_module": "@jupyter-widgets/controls",
          "model_name": "DescriptionStyleModel",
          "model_module_version": "1.5.0",
          "state": {
            "_model_module": "@jupyter-widgets/controls",
            "_model_module_version": "1.5.0",
            "_model_name": "DescriptionStyleModel",
            "_view_count": null,
            "_view_module": "@jupyter-widgets/base",
            "_view_module_version": "1.2.0",
            "_view_name": "StyleView",
            "description_width": ""
          }
        },
        "b0f80f3091544f419a261b8b9aeab57e": {
          "model_module": "@jupyter-widgets/base",
          "model_name": "LayoutModel",
          "model_module_version": "1.2.0",
          "state": {
            "_model_module": "@jupyter-widgets/base",
            "_model_module_version": "1.2.0",
            "_model_name": "LayoutModel",
            "_view_count": null,
            "_view_module": "@jupyter-widgets/base",
            "_view_module_version": "1.2.0",
            "_view_name": "LayoutView",
            "align_content": null,
            "align_items": null,
            "align_self": null,
            "border": null,
            "bottom": null,
            "display": null,
            "flex": null,
            "flex_flow": null,
            "grid_area": null,
            "grid_auto_columns": null,
            "grid_auto_flow": null,
            "grid_auto_rows": null,
            "grid_column": null,
            "grid_gap": null,
            "grid_row": null,
            "grid_template_areas": null,
            "grid_template_columns": null,
            "grid_template_rows": null,
            "height": null,
            "justify_content": null,
            "justify_items": null,
            "left": null,
            "margin": null,
            "max_height": null,
            "max_width": null,
            "min_height": null,
            "min_width": null,
            "object_fit": null,
            "object_position": null,
            "order": null,
            "overflow": null,
            "overflow_x": null,
            "overflow_y": null,
            "padding": null,
            "right": null,
            "top": null,
            "visibility": null,
            "width": null
          }
        },
        "fdcdcb8909c048319228990aa6b2bf44": {
          "model_module": "@jupyter-widgets/controls",
          "model_name": "ProgressStyleModel",
          "model_module_version": "1.5.0",
          "state": {
            "_model_module": "@jupyter-widgets/controls",
            "_model_module_version": "1.5.0",
            "_model_name": "ProgressStyleModel",
            "_view_count": null,
            "_view_module": "@jupyter-widgets/base",
            "_view_module_version": "1.2.0",
            "_view_name": "StyleView",
            "bar_color": null,
            "description_width": ""
          }
        },
        "83052999a17447d5bd5e26a1ae388b66": {
          "model_module": "@jupyter-widgets/base",
          "model_name": "LayoutModel",
          "model_module_version": "1.2.0",
          "state": {
            "_model_module": "@jupyter-widgets/base",
            "_model_module_version": "1.2.0",
            "_model_name": "LayoutModel",
            "_view_count": null,
            "_view_module": "@jupyter-widgets/base",
            "_view_module_version": "1.2.0",
            "_view_name": "LayoutView",
            "align_content": null,
            "align_items": null,
            "align_self": null,
            "border": null,
            "bottom": null,
            "display": null,
            "flex": null,
            "flex_flow": null,
            "grid_area": null,
            "grid_auto_columns": null,
            "grid_auto_flow": null,
            "grid_auto_rows": null,
            "grid_column": null,
            "grid_gap": null,
            "grid_row": null,
            "grid_template_areas": null,
            "grid_template_columns": null,
            "grid_template_rows": null,
            "height": null,
            "justify_content": null,
            "justify_items": null,
            "left": null,
            "margin": null,
            "max_height": null,
            "max_width": null,
            "min_height": null,
            "min_width": null,
            "object_fit": null,
            "object_position": null,
            "order": null,
            "overflow": null,
            "overflow_x": null,
            "overflow_y": null,
            "padding": null,
            "right": null,
            "top": null,
            "visibility": null,
            "width": null
          }
        },
        "b3b33b4e8d2e4bf3b84005b022683845": {
          "model_module": "@jupyter-widgets/controls",
          "model_name": "DescriptionStyleModel",
          "model_module_version": "1.5.0",
          "state": {
            "_model_module": "@jupyter-widgets/controls",
            "_model_module_version": "1.5.0",
            "_model_name": "DescriptionStyleModel",
            "_view_count": null,
            "_view_module": "@jupyter-widgets/base",
            "_view_module_version": "1.2.0",
            "_view_name": "StyleView",
            "description_width": ""
          }
        },
        "0bc9950af6f94cf482c17b00de4580b7": {
          "model_module": "@jupyter-widgets/controls",
          "model_name": "HBoxModel",
          "model_module_version": "1.5.0",
          "state": {
            "_dom_classes": [],
            "_model_module": "@jupyter-widgets/controls",
            "_model_module_version": "1.5.0",
            "_model_name": "HBoxModel",
            "_view_count": null,
            "_view_module": "@jupyter-widgets/controls",
            "_view_module_version": "1.5.0",
            "_view_name": "HBoxView",
            "box_style": "",
            "children": [
              "IPY_MODEL_c2488f39e7d24508a8f0820d77f1c5ef",
              "IPY_MODEL_5324eef8fa484de298602517a49b831c",
              "IPY_MODEL_1666b1fadeb1435a86b58baf45c6dff3"
            ],
            "layout": "IPY_MODEL_0a814411669e4cac80bbd6ff917cfb39"
          }
        },
        "c2488f39e7d24508a8f0820d77f1c5ef": {
          "model_module": "@jupyter-widgets/controls",
          "model_name": "HTMLModel",
          "model_module_version": "1.5.0",
          "state": {
            "_dom_classes": [],
            "_model_module": "@jupyter-widgets/controls",
            "_model_module_version": "1.5.0",
            "_model_name": "HTMLModel",
            "_view_count": null,
            "_view_module": "@jupyter-widgets/controls",
            "_view_module_version": "1.5.0",
            "_view_name": "HTMLView",
            "description": "",
            "description_tooltip": null,
            "layout": "IPY_MODEL_ca53c1c554a74cf0a2698de9cdadc0d4",
            "placeholder": "​",
            "style": "IPY_MODEL_20d7e6b40f434c63a13c56f8615e8106",
            "value": "100%"
          }
        },
        "5324eef8fa484de298602517a49b831c": {
          "model_module": "@jupyter-widgets/controls",
          "model_name": "FloatProgressModel",
          "model_module_version": "1.5.0",
          "state": {
            "_dom_classes": [],
            "_model_module": "@jupyter-widgets/controls",
            "_model_module_version": "1.5.0",
            "_model_name": "FloatProgressModel",
            "_view_count": null,
            "_view_module": "@jupyter-widgets/controls",
            "_view_module_version": "1.5.0",
            "_view_name": "ProgressView",
            "bar_style": "success",
            "description": "",
            "description_tooltip": null,
            "layout": "IPY_MODEL_3a8d7fcaec0c46a5b6833c74e2b9be8b",
            "max": 3,
            "min": 0,
            "orientation": "horizontal",
            "style": "IPY_MODEL_34ffe4bda5ed4d478befbdc28f1a7bfb",
            "value": 3
          }
        },
        "1666b1fadeb1435a86b58baf45c6dff3": {
          "model_module": "@jupyter-widgets/controls",
          "model_name": "HTMLModel",
          "model_module_version": "1.5.0",
          "state": {
            "_dom_classes": [],
            "_model_module": "@jupyter-widgets/controls",
            "_model_module_version": "1.5.0",
            "_model_name": "HTMLModel",
            "_view_count": null,
            "_view_module": "@jupyter-widgets/controls",
            "_view_module_version": "1.5.0",
            "_view_name": "HTMLView",
            "description": "",
            "description_tooltip": null,
            "layout": "IPY_MODEL_32e2a45f1b2a4f9dae82f812d6a46330",
            "placeholder": "​",
            "style": "IPY_MODEL_7038bc61745e426ca51456eff601a0c3",
            "value": " 3/3 [00:00&lt;00:00, 76.55it/s]"
          }
        },
        "0a814411669e4cac80bbd6ff917cfb39": {
          "model_module": "@jupyter-widgets/base",
          "model_name": "LayoutModel",
          "model_module_version": "1.2.0",
          "state": {
            "_model_module": "@jupyter-widgets/base",
            "_model_module_version": "1.2.0",
            "_model_name": "LayoutModel",
            "_view_count": null,
            "_view_module": "@jupyter-widgets/base",
            "_view_module_version": "1.2.0",
            "_view_name": "LayoutView",
            "align_content": null,
            "align_items": null,
            "align_self": null,
            "border": null,
            "bottom": null,
            "display": null,
            "flex": null,
            "flex_flow": null,
            "grid_area": null,
            "grid_auto_columns": null,
            "grid_auto_flow": null,
            "grid_auto_rows": null,
            "grid_column": null,
            "grid_gap": null,
            "grid_row": null,
            "grid_template_areas": null,
            "grid_template_columns": null,
            "grid_template_rows": null,
            "height": null,
            "justify_content": null,
            "justify_items": null,
            "left": null,
            "margin": null,
            "max_height": null,
            "max_width": null,
            "min_height": null,
            "min_width": null,
            "object_fit": null,
            "object_position": null,
            "order": null,
            "overflow": null,
            "overflow_x": null,
            "overflow_y": null,
            "padding": null,
            "right": null,
            "top": null,
            "visibility": null,
            "width": null
          }
        },
        "ca53c1c554a74cf0a2698de9cdadc0d4": {
          "model_module": "@jupyter-widgets/base",
          "model_name": "LayoutModel",
          "model_module_version": "1.2.0",
          "state": {
            "_model_module": "@jupyter-widgets/base",
            "_model_module_version": "1.2.0",
            "_model_name": "LayoutModel",
            "_view_count": null,
            "_view_module": "@jupyter-widgets/base",
            "_view_module_version": "1.2.0",
            "_view_name": "LayoutView",
            "align_content": null,
            "align_items": null,
            "align_self": null,
            "border": null,
            "bottom": null,
            "display": null,
            "flex": null,
            "flex_flow": null,
            "grid_area": null,
            "grid_auto_columns": null,
            "grid_auto_flow": null,
            "grid_auto_rows": null,
            "grid_column": null,
            "grid_gap": null,
            "grid_row": null,
            "grid_template_areas": null,
            "grid_template_columns": null,
            "grid_template_rows": null,
            "height": null,
            "justify_content": null,
            "justify_items": null,
            "left": null,
            "margin": null,
            "max_height": null,
            "max_width": null,
            "min_height": null,
            "min_width": null,
            "object_fit": null,
            "object_position": null,
            "order": null,
            "overflow": null,
            "overflow_x": null,
            "overflow_y": null,
            "padding": null,
            "right": null,
            "top": null,
            "visibility": null,
            "width": null
          }
        },
        "20d7e6b40f434c63a13c56f8615e8106": {
          "model_module": "@jupyter-widgets/controls",
          "model_name": "DescriptionStyleModel",
          "model_module_version": "1.5.0",
          "state": {
            "_model_module": "@jupyter-widgets/controls",
            "_model_module_version": "1.5.0",
            "_model_name": "DescriptionStyleModel",
            "_view_count": null,
            "_view_module": "@jupyter-widgets/base",
            "_view_module_version": "1.2.0",
            "_view_name": "StyleView",
            "description_width": ""
          }
        },
        "3a8d7fcaec0c46a5b6833c74e2b9be8b": {
          "model_module": "@jupyter-widgets/base",
          "model_name": "LayoutModel",
          "model_module_version": "1.2.0",
          "state": {
            "_model_module": "@jupyter-widgets/base",
            "_model_module_version": "1.2.0",
            "_model_name": "LayoutModel",
            "_view_count": null,
            "_view_module": "@jupyter-widgets/base",
            "_view_module_version": "1.2.0",
            "_view_name": "LayoutView",
            "align_content": null,
            "align_items": null,
            "align_self": null,
            "border": null,
            "bottom": null,
            "display": null,
            "flex": null,
            "flex_flow": null,
            "grid_area": null,
            "grid_auto_columns": null,
            "grid_auto_flow": null,
            "grid_auto_rows": null,
            "grid_column": null,
            "grid_gap": null,
            "grid_row": null,
            "grid_template_areas": null,
            "grid_template_columns": null,
            "grid_template_rows": null,
            "height": null,
            "justify_content": null,
            "justify_items": null,
            "left": null,
            "margin": null,
            "max_height": null,
            "max_width": null,
            "min_height": null,
            "min_width": null,
            "object_fit": null,
            "object_position": null,
            "order": null,
            "overflow": null,
            "overflow_x": null,
            "overflow_y": null,
            "padding": null,
            "right": null,
            "top": null,
            "visibility": null,
            "width": null
          }
        },
        "34ffe4bda5ed4d478befbdc28f1a7bfb": {
          "model_module": "@jupyter-widgets/controls",
          "model_name": "ProgressStyleModel",
          "model_module_version": "1.5.0",
          "state": {
            "_model_module": "@jupyter-widgets/controls",
            "_model_module_version": "1.5.0",
            "_model_name": "ProgressStyleModel",
            "_view_count": null,
            "_view_module": "@jupyter-widgets/base",
            "_view_module_version": "1.2.0",
            "_view_name": "StyleView",
            "bar_color": null,
            "description_width": ""
          }
        },
        "32e2a45f1b2a4f9dae82f812d6a46330": {
          "model_module": "@jupyter-widgets/base",
          "model_name": "LayoutModel",
          "model_module_version": "1.2.0",
          "state": {
            "_model_module": "@jupyter-widgets/base",
            "_model_module_version": "1.2.0",
            "_model_name": "LayoutModel",
            "_view_count": null,
            "_view_module": "@jupyter-widgets/base",
            "_view_module_version": "1.2.0",
            "_view_name": "LayoutView",
            "align_content": null,
            "align_items": null,
            "align_self": null,
            "border": null,
            "bottom": null,
            "display": null,
            "flex": null,
            "flex_flow": null,
            "grid_area": null,
            "grid_auto_columns": null,
            "grid_auto_flow": null,
            "grid_auto_rows": null,
            "grid_column": null,
            "grid_gap": null,
            "grid_row": null,
            "grid_template_areas": null,
            "grid_template_columns": null,
            "grid_template_rows": null,
            "height": null,
            "justify_content": null,
            "justify_items": null,
            "left": null,
            "margin": null,
            "max_height": null,
            "max_width": null,
            "min_height": null,
            "min_width": null,
            "object_fit": null,
            "object_position": null,
            "order": null,
            "overflow": null,
            "overflow_x": null,
            "overflow_y": null,
            "padding": null,
            "right": null,
            "top": null,
            "visibility": null,
            "width": null
          }
        },
        "7038bc61745e426ca51456eff601a0c3": {
          "model_module": "@jupyter-widgets/controls",
          "model_name": "DescriptionStyleModel",
          "model_module_version": "1.5.0",
          "state": {
            "_model_module": "@jupyter-widgets/controls",
            "_model_module_version": "1.5.0",
            "_model_name": "DescriptionStyleModel",
            "_view_count": null,
            "_view_module": "@jupyter-widgets/base",
            "_view_module_version": "1.2.0",
            "_view_name": "StyleView",
            "description_width": ""
          }
        },
        "148b21f0bbc642088dee58a38bee88b8": {
          "model_module": "@jupyter-widgets/controls",
          "model_name": "HBoxModel",
          "model_module_version": "1.5.0",
          "state": {
            "_dom_classes": [],
            "_model_module": "@jupyter-widgets/controls",
            "_model_module_version": "1.5.0",
            "_model_name": "HBoxModel",
            "_view_count": null,
            "_view_module": "@jupyter-widgets/controls",
            "_view_module_version": "1.5.0",
            "_view_name": "HBoxView",
            "box_style": "",
            "children": [
              "IPY_MODEL_e5ed7f4dcb674d4bb2a3489a97caadb5",
              "IPY_MODEL_3ada9281a09b41b9ae2526dd7c85028e",
              "IPY_MODEL_aa5dfb70e61f49b6a6e93cb974c9b15d"
            ],
            "layout": "IPY_MODEL_620fd7ccd979416b97f588408c7b558b"
          }
        },
        "e5ed7f4dcb674d4bb2a3489a97caadb5": {
          "model_module": "@jupyter-widgets/controls",
          "model_name": "HTMLModel",
          "model_module_version": "1.5.0",
          "state": {
            "_dom_classes": [],
            "_model_module": "@jupyter-widgets/controls",
            "_model_module_version": "1.5.0",
            "_model_name": "HTMLModel",
            "_view_count": null,
            "_view_module": "@jupyter-widgets/controls",
            "_view_module_version": "1.5.0",
            "_view_name": "HTMLView",
            "description": "",
            "description_tooltip": null,
            "layout": "IPY_MODEL_e4a6da93334c45e5bb73f811664f7523",
            "placeholder": "​",
            "style": "IPY_MODEL_de86fa04ad6846c98275fa50d0cf1329",
            "value": "100%"
          }
        },
        "3ada9281a09b41b9ae2526dd7c85028e": {
          "model_module": "@jupyter-widgets/controls",
          "model_name": "FloatProgressModel",
          "model_module_version": "1.5.0",
          "state": {
            "_dom_classes": [],
            "_model_module": "@jupyter-widgets/controls",
            "_model_module_version": "1.5.0",
            "_model_name": "FloatProgressModel",
            "_view_count": null,
            "_view_module": "@jupyter-widgets/controls",
            "_view_module_version": "1.5.0",
            "_view_name": "ProgressView",
            "bar_style": "success",
            "description": "",
            "description_tooltip": null,
            "layout": "IPY_MODEL_ec1771587c48412faa4cda431a61c6fa",
            "max": 7,
            "min": 0,
            "orientation": "horizontal",
            "style": "IPY_MODEL_a5ccd8f432a74c0c93d94e86eec8e030",
            "value": 7
          }
        },
        "aa5dfb70e61f49b6a6e93cb974c9b15d": {
          "model_module": "@jupyter-widgets/controls",
          "model_name": "HTMLModel",
          "model_module_version": "1.5.0",
          "state": {
            "_dom_classes": [],
            "_model_module": "@jupyter-widgets/controls",
            "_model_module_version": "1.5.0",
            "_model_name": "HTMLModel",
            "_view_count": null,
            "_view_module": "@jupyter-widgets/controls",
            "_view_module_version": "1.5.0",
            "_view_name": "HTMLView",
            "description": "",
            "description_tooltip": null,
            "layout": "IPY_MODEL_be51459dc42a4114a3f3f7a6642e5078",
            "placeholder": "​",
            "style": "IPY_MODEL_48fd4287fdd84df0955bae54fa7a4342",
            "value": " 7/7 [00:00&lt;00:00,  8.25ba/s]"
          }
        },
        "620fd7ccd979416b97f588408c7b558b": {
          "model_module": "@jupyter-widgets/base",
          "model_name": "LayoutModel",
          "model_module_version": "1.2.0",
          "state": {
            "_model_module": "@jupyter-widgets/base",
            "_model_module_version": "1.2.0",
            "_model_name": "LayoutModel",
            "_view_count": null,
            "_view_module": "@jupyter-widgets/base",
            "_view_module_version": "1.2.0",
            "_view_name": "LayoutView",
            "align_content": null,
            "align_items": null,
            "align_self": null,
            "border": null,
            "bottom": null,
            "display": null,
            "flex": null,
            "flex_flow": null,
            "grid_area": null,
            "grid_auto_columns": null,
            "grid_auto_flow": null,
            "grid_auto_rows": null,
            "grid_column": null,
            "grid_gap": null,
            "grid_row": null,
            "grid_template_areas": null,
            "grid_template_columns": null,
            "grid_template_rows": null,
            "height": null,
            "justify_content": null,
            "justify_items": null,
            "left": null,
            "margin": null,
            "max_height": null,
            "max_width": null,
            "min_height": null,
            "min_width": null,
            "object_fit": null,
            "object_position": null,
            "order": null,
            "overflow": null,
            "overflow_x": null,
            "overflow_y": null,
            "padding": null,
            "right": null,
            "top": null,
            "visibility": null,
            "width": null
          }
        },
        "e4a6da93334c45e5bb73f811664f7523": {
          "model_module": "@jupyter-widgets/base",
          "model_name": "LayoutModel",
          "model_module_version": "1.2.0",
          "state": {
            "_model_module": "@jupyter-widgets/base",
            "_model_module_version": "1.2.0",
            "_model_name": "LayoutModel",
            "_view_count": null,
            "_view_module": "@jupyter-widgets/base",
            "_view_module_version": "1.2.0",
            "_view_name": "LayoutView",
            "align_content": null,
            "align_items": null,
            "align_self": null,
            "border": null,
            "bottom": null,
            "display": null,
            "flex": null,
            "flex_flow": null,
            "grid_area": null,
            "grid_auto_columns": null,
            "grid_auto_flow": null,
            "grid_auto_rows": null,
            "grid_column": null,
            "grid_gap": null,
            "grid_row": null,
            "grid_template_areas": null,
            "grid_template_columns": null,
            "grid_template_rows": null,
            "height": null,
            "justify_content": null,
            "justify_items": null,
            "left": null,
            "margin": null,
            "max_height": null,
            "max_width": null,
            "min_height": null,
            "min_width": null,
            "object_fit": null,
            "object_position": null,
            "order": null,
            "overflow": null,
            "overflow_x": null,
            "overflow_y": null,
            "padding": null,
            "right": null,
            "top": null,
            "visibility": null,
            "width": null
          }
        },
        "de86fa04ad6846c98275fa50d0cf1329": {
          "model_module": "@jupyter-widgets/controls",
          "model_name": "DescriptionStyleModel",
          "model_module_version": "1.5.0",
          "state": {
            "_model_module": "@jupyter-widgets/controls",
            "_model_module_version": "1.5.0",
            "_model_name": "DescriptionStyleModel",
            "_view_count": null,
            "_view_module": "@jupyter-widgets/base",
            "_view_module_version": "1.2.0",
            "_view_name": "StyleView",
            "description_width": ""
          }
        },
        "ec1771587c48412faa4cda431a61c6fa": {
          "model_module": "@jupyter-widgets/base",
          "model_name": "LayoutModel",
          "model_module_version": "1.2.0",
          "state": {
            "_model_module": "@jupyter-widgets/base",
            "_model_module_version": "1.2.0",
            "_model_name": "LayoutModel",
            "_view_count": null,
            "_view_module": "@jupyter-widgets/base",
            "_view_module_version": "1.2.0",
            "_view_name": "LayoutView",
            "align_content": null,
            "align_items": null,
            "align_self": null,
            "border": null,
            "bottom": null,
            "display": null,
            "flex": null,
            "flex_flow": null,
            "grid_area": null,
            "grid_auto_columns": null,
            "grid_auto_flow": null,
            "grid_auto_rows": null,
            "grid_column": null,
            "grid_gap": null,
            "grid_row": null,
            "grid_template_areas": null,
            "grid_template_columns": null,
            "grid_template_rows": null,
            "height": null,
            "justify_content": null,
            "justify_items": null,
            "left": null,
            "margin": null,
            "max_height": null,
            "max_width": null,
            "min_height": null,
            "min_width": null,
            "object_fit": null,
            "object_position": null,
            "order": null,
            "overflow": null,
            "overflow_x": null,
            "overflow_y": null,
            "padding": null,
            "right": null,
            "top": null,
            "visibility": null,
            "width": null
          }
        },
        "a5ccd8f432a74c0c93d94e86eec8e030": {
          "model_module": "@jupyter-widgets/controls",
          "model_name": "ProgressStyleModel",
          "model_module_version": "1.5.0",
          "state": {
            "_model_module": "@jupyter-widgets/controls",
            "_model_module_version": "1.5.0",
            "_model_name": "ProgressStyleModel",
            "_view_count": null,
            "_view_module": "@jupyter-widgets/base",
            "_view_module_version": "1.2.0",
            "_view_name": "StyleView",
            "bar_color": null,
            "description_width": ""
          }
        },
        "be51459dc42a4114a3f3f7a6642e5078": {
          "model_module": "@jupyter-widgets/base",
          "model_name": "LayoutModel",
          "model_module_version": "1.2.0",
          "state": {
            "_model_module": "@jupyter-widgets/base",
            "_model_module_version": "1.2.0",
            "_model_name": "LayoutModel",
            "_view_count": null,
            "_view_module": "@jupyter-widgets/base",
            "_view_module_version": "1.2.0",
            "_view_name": "LayoutView",
            "align_content": null,
            "align_items": null,
            "align_self": null,
            "border": null,
            "bottom": null,
            "display": null,
            "flex": null,
            "flex_flow": null,
            "grid_area": null,
            "grid_auto_columns": null,
            "grid_auto_flow": null,
            "grid_auto_rows": null,
            "grid_column": null,
            "grid_gap": null,
            "grid_row": null,
            "grid_template_areas": null,
            "grid_template_columns": null,
            "grid_template_rows": null,
            "height": null,
            "justify_content": null,
            "justify_items": null,
            "left": null,
            "margin": null,
            "max_height": null,
            "max_width": null,
            "min_height": null,
            "min_width": null,
            "object_fit": null,
            "object_position": null,
            "order": null,
            "overflow": null,
            "overflow_x": null,
            "overflow_y": null,
            "padding": null,
            "right": null,
            "top": null,
            "visibility": null,
            "width": null
          }
        },
        "48fd4287fdd84df0955bae54fa7a4342": {
          "model_module": "@jupyter-widgets/controls",
          "model_name": "DescriptionStyleModel",
          "model_module_version": "1.5.0",
          "state": {
            "_model_module": "@jupyter-widgets/controls",
            "_model_module_version": "1.5.0",
            "_model_name": "DescriptionStyleModel",
            "_view_count": null,
            "_view_module": "@jupyter-widgets/base",
            "_view_module_version": "1.2.0",
            "_view_name": "StyleView",
            "description_width": ""
          }
        }
      }
    },
    "accelerator": "GPU"
  },
  "cells": [
    {
      "cell_type": "markdown",
      "metadata": {
        "id": "view-in-github",
        "colab_type": "text"
      },
      "source": [
        "<a href=\"https://colab.research.google.com/github/Gooogr/Book_nlp_with_transformers/blob/main/ch4_multilingual_ner.ipynb\" target=\"_parent\"><img src=\"https://colab.research.google.com/assets/colab-badge.svg\" alt=\"Open In Colab\"/></a>"
      ]
    },
    {
      "cell_type": "markdown",
      "source": [
        "In this notebook we will explore how a single transformer model called XLM-RoBERTa (introduced in Chapter 3) can be fine-tuned to perform named entity recognition (NER) across several languages.\n"
      ],
      "metadata": {
        "id": "0HT9UU887Hen"
      }
    },
    {
      "cell_type": "code",
      "source": [
        "!pip install -qq transformers[sentencepiece] datasets seqeval"
      ],
      "metadata": {
        "id": "1oUqx-FQAJav"
      },
      "execution_count": 47,
      "outputs": []
    },
    {
      "cell_type": "code",
      "source": [
        "from datasets import load_dataset, DatasetDict\n",
        "from collections import defaultdict,Counter \n",
        "from transformers import AutoTokenizer\n",
        "import pandas as pd"
      ],
      "metadata": {
        "id": "nBL76Jmv-FBP"
      },
      "execution_count": 48,
      "outputs": []
    },
    {
      "cell_type": "markdown",
      "source": [
        "For this case let’s assume that we want to perform NER for a customer based in\n",
        "Switzerland, where there are four national languages (with English often serving as a\n",
        "bridge between them). Let’s start by getting a suitable multilingual corpus for this\n",
        "problem."
      ],
      "metadata": {
        "id": "-PkLT1EF_BCU"
      }
    },
    {
      "cell_type": "markdown",
      "source": [
        "## Dataset"
      ],
      "metadata": {
        "id": "Sri5NSOL_B9f"
      }
    },
    {
      "cell_type": "markdown",
      "source": [
        "![Screenshot from 2022-05-26 23-09-57.png](data:image/png;base64,iVBORw0KGgoAAAANSUhEUgAAAu8AAAGkCAYAAACB9MtjAAAABHNCSVQICAgIfAhkiAAAABl0RVh0U29mdHdhcmUAZ25vbWUtc2NyZWVuc2hvdO8Dvz4AACAASURBVHic7J15XFTV//9fDKsgIUKKIJCFLKIWKWB+XBGTckFIBBE0BYkMS1Pr08clzCX3paQ+llsaoIkbaiparl+lJD/mgn5EFAVFBNlkZ4b37w9+cz8Mc+fOvTPDpvf5ePgozj3L+7zf5/0+Z2bOOVePiAgiIiIiIiIiIiIiIq0eSUsLICIiIiIiIiIiIiLCD3HxLiIiIiIiIiIiItJGEBfvIiIiIiIiIiIiIm0EcfEuIiIiIiIiIiIi0kYQF+8iIiIiIiIiIiIibQRx8S4iIiIiIiIiIiLSRhAX7yIiIiIiIiIiIiJtBHHxLiIiIiIiIiIiItJGaJOLdyJCTU1NS4uhQGuUSeR/sNlHiM2qq6ubQiwRHfI82aiqqkqjeCLGIeE8Lzp7XvqhDZr6TWtGtCt/nkf7q6JNLd4PHjyIsWPHwtraGqdOnWppcQC0TplE/sf+/fvh7+8PKysrxj5saapYs2YNhgwZgg4dOkAmkzWHyCICeZ5sVFVVhdmzZ6Nz586wtLTEwYMHeZVryTgkk8nw6NEj3Lx5E0+fPm3WtrVBSBxozQjpR35+Pm7fvq22zoqKCqSlpelKxCZHU79pzTwv47M5eB7trw6NF+937tzB+PHj4eDgAHt7e7i4uGDKlCm6lE2JgQMHwsHBAYWFhbzyyw36559/thqZRJqWxjYfMGAAbG1tUVRUxORhS1NFYGAgqqqqUFVV1WQy64rmGO+tkbZkIy7q6uoQHh6OyMhIPHjwAB999BHvPrVEHDp9+jTee+89jB49GkuXLsWGDRswevRomJqaYuDAga3+lxBVcaCt+ZGQeHb16lX07NkTLi4uGDJkCEaNGgV3d3c4ODhg9OjR8PPzQ58+fdCpUyds374dubm5CA4OhqOjI+zt7dGjRw+MGTMGgwcPxjvvvINt27aBiJqhl6rRxm+EINeFfM3j7e3N6MzLywv29vaYOnWqztoTYldd05Z8oLns3+ogLYmOjiYAtHv3bm2rUqKkpIQyMzMV0g4dOkQA6NixY2rLp6WlEQCKiYnRuWyayqRr2HT0IsNm8wMHDijZhy1NFR9//DEBIKlU2iQy64rmGu+tkea0UVP53Lp162j48OEay9BccaiqqoomT55MVlZW9Ntvvyk9P3jwIBkYGNCtW7eaVA5dwBYH2qIf8Y1ne/bsIW9vbyovL2fSRo0aRSYmJgr55s6dS2FhYczf06dPJwCUkpJCRETV1dU0e/ZsAkCzZs3SYU+EI8RvdIF8zXPu3DmF9H//+980dOhQnbYlZJ7SFLZY0pZ8oLnt31rQetuMvb09AKBr167aVqVAWVkZRowYgUuXLimkGxoa8q6jT58+OHXqFJYsWaJT2RojRCZdokpHLzJsNjcxMVHKx5amCiMjI53I1tQ013hvjTSXjZrS53bu3Ak7OzuNZWiuOBQeHo5du3bhwoUL8PHxUXo+ZswYfPjhh8jMzGwWebSBLQ60RT/iG8+Ki4vx4YcfwtTUlDPfzJkzUVZWxvwtH5edOnUCUO9vK1euxKuvvoqNGzeisrJSQ8m1h6/f6Ar5mqexv02ZMgUGBgY6bUvIPKUJqmJJW/KB5rZ/a0Hrxbu+vr7Cf3XFjRs3kJqaqnU9Q4YMgYWFhQ4kal747N3VlY6eN9qqzXXBi9z35qApfS4jIwPm5uYtKoM69u7diz179uDDDz+Es7OzynyzZs2Ck5NTM0qmW55XPxo7dixCQkLU5rO1tcX333/P/M02v0skErzxxhuora3F3bt3dSqnEPj6ja5QtdYxMjLC0aNHm00OXcAVS9qKDzS3/VsLTXJgtbq6GomJiZg4cSLmzZuH3NxcREZGonv37ggICMCDBw84yx89ehRffPEFAGDdunUICgpCXFycQh4iQkJCAvz8/ODu7o7Y2FiFBW9ZWRl27NiB8PBwLFy4kEmXSqVYsWIFQkND4evrK2iP2qVLlxASEgIXFxf0799fyVHVySQnMzMTc+fOhaurK0JCQlBQUAAAuH79OubMmQNXV1ckJSUhNTUVo0aNQu/evRETE4OSkhLeOqqpqcHixYsRGBiIt956Czt37gQAVFZWIj4+nrFNVlYWfH19MXr0aEilUtZ+L1iwAEFBQQgKCkJwcDD++9//AgBqa2uxdetWJt+SJUuYfIsWLVIriyo0bU+VzXXFhQsXEB4eDldXV4wbNw6XL19WyiO0r3/99RdmzpyJgIAAJCcnA6gPRp999hlCQ0PxwQcfMHm5xi5b3zXxwzNnziAsLAyRkZGYNGkS1q5diwULFiA6OlrtfmpV45oLVX0SopeGqLOROv/nsh+fuNSY8vJyLFy4EGFhYRg2bBiioqKU9H7z5k0EBQXh2bNnOHr0KIKCghAdHc1any5iI5++qmLjxo0AgMjISM583bp1g7OzM694w0dHALfttInrDWkuPxI6vjXxLTasra1hbGzMK6+NjY3aPI8fP4apqSm6devGW16h+lRlW3V+wzW+NZkH1ZGQkACZTIZJkyYx89LkyZNRV1eHiooKhIWFMem//fYbL101RpO4qKp+VbFE3Tyqzl+1Xf/xbUdI3Hwu0XbfzfLlywkApaamMmnFxcX0wQcfEADy8PCgyMhISkhIoOXLl5OxsTENGTKEs86ioiJKTk4mABQXF0c5OTlUWlpKRETHjh0jADR06FBatWoV/frrrzRp0iQCQN999x1Tx5MnTygqKooAUHR0NJO+YMECevvtt4mIqLy8nHr27ElZWVmc8tTV1dHMmTPp888/p6ysLLp8+TIFBgbShAkTBMlERPTVV1+Rh4cHZWdnU2pqKpmZmdHEiROJiOjGjRv03nvvEQAaOHAgLViwgBITEyk0NJQAUI8ePaimpkatjsrKymjAgAF06tQpIiIm386dO6moqIjZHzx58mTy9fUlLy8vsrS0pOLiYtb+19bW0tixYwkAHTlyhEnfv38/tW/fnsrKyoiISCaTkb+/P40fP56qq6vVyqIKTdtTZXO5fRruG2RLU8WcOXMIAC1fvpxOnjxJGzdupE6dOpGhoSEdPXqUyadJXysqKuif//wnAaBt27Yx/T9//jyZmppS3759mbxcY5et70L9MDk5mYyMjCg9PZ2IiJKSkggABQYGqtUT17jmQlWfhOiFiL+NuHSozn5cPsdGYWEhOTk50YoVK4iISCqVUlRUFFlYWCjEy7KyMsrJySEAFBERQTk5OZSfn89apy5iI5++slFbW0v6+vokkUioqqpKZb7G8nLFG746IuK2nSZxvaHO5OO7ufxIyPjm41tC4llj2Pa8N0Y+z1+5coVJS01NJSMjI1q/fr1CXnXyCtWnKtty+Q0fXxY6DzbWxYkTJ6i4uJiysrJo79695O3tzbTt5eWlpK/MzEzS09NjZOKjq8Z2FRoXuepXFUtUzaNE/GKatus/vu0IiZvPI02yeCeqVywAZoErZ8qUKaSnp0eVlZWc9aamphIA2rVrl0K6fDDv27ePSZNKpdS1a1fGweWUl5crDcDevXvT5MmTmb/Pnj1L165d45Rl9erV5Ovrq5Quk8kEyVRWVkYWFha0Y8cOJm3ChAlkZ2fH/H3y5EkCQD///LNCWxEREQSANm/ezKSp0tHcuXMV+lhXV0d2dnbk6empoBcLCwu6f/8+ERHzoUAV8ra+/fZbJk2+wN6+fTuTNmTIEPrvf//LWxZdt8dmc10t3hsehszIyCBjY2Oyt7en2tparfp6/vx5AkDx8fEK6V5eXgrBWN3YZeu7ED/09vZWktXGxkbJrxrDZ1yrgqtPfPVCxN9GXO3xsZ8qn2MjODiYunXrxsQJovrDnh07dqQePXooHa4FQDNnzlRbry5ioyZjNTc3lwCQpaWlWhkbwhVvhOiIy3aaxHUi9jjQXH7EZ3zz9a3mWrzHxcXRvn37aPHixeTs7ExJSUkK+fjKK0Sf6mzL5jd8xrcm82BDXfTr14/8/PyoX79+1LFjR4WYJLfHN998w6SdPHlSob98dMVmV75xkU/9qmIJmw8Q8fdXbdd/QuIC37j5vKHb0xUNMDMzg4GBgdKeKRcXFxARnj59qtUhg4YHbvT19eHm5qb0c4ypqanSARI3Nzfs2LED7du3x6JFizBw4EC1bW3YsAGzZs1SSpdIFHcdqZPJzMwMjx49YvIVFhaitLRU4W7k9u3bA4CS3DExMdiyZQvS0tIQERGhUlapVIpvv/0WDg4O8PHxgYmJCUxNTdGlSxe4u7szchoYGCAgIAAODg4A1B928/LyQteuXXHgwAHExMTg6dOnqKurg6WlJbZv347JkyejpKQE1dXVzF5YPrLosr2GfWtqnJycEBwcjB07diA9PR09evTQuK9yeRvvpTQyMlK48krd2GXruxA/vHXrlpKsnTp1Qnl5Oaf8fMa1Krj6xFcvqmhso969e6tsT5uxykZtbS3279+PsWPHKsQJY2NjvPPOO4iPj0d6ejp69eoluG51qItDmvbV2toaRkZGKCoqQnFxMTp06MBbHrZ4I1RHXGOF61ldXZ3SdYZcZ7Say4/4jG9tfKspKCgoQEFBAdatW4fy8nK4ubkpPOcrrxB9Cp2z+Y5vTebBhqxfvx7e3t4A6rdbjRkzhnn29ttv45VXXsGWLVswY8YMAMBPP/2EmJgYwbpqDN+4qM3YYfMBIf6qzfqvJWNnW6LpVzmNG2yihZWxsTGvvWrr169HQUEB4uLikJiYiCVLluDDDz9UmT87OxvZ2dkwMzPTiUympqb4+++/sXHjRpSXl0NPT49XXa+99hoAoGPHjpz5bt26xdzRGhkZqfQBoyFCTrLr6ekhICAA33//PQoLC5GYmIiIiAg4ODggLi4Od+/eRVpaGsaNG6eRLLpor7np2bMngPoXn2jTV74IHbtcsPmhp6cnUlNTUVJSAgsLC5SXl+Pu3bv49NNP1dan6bjWZZ/YaGgjrvZ0bb/r16+jpqaG+TDekFdeeQUAcPv27WaZgBrHIU37amBgAFdXV1y9ehW3bt1Cv379BMnRON4I1RHXWOF65ufnhxMnTjB19+3bV2e3Benaj9jQ1LeaAn9/f7z++uvo168fRowYgenTp+P06dMKebSRl02fQmOE0PGtixtd2rdvr3D2RE9PDxEREViwYAH+85//oHv37sjIyED//v0VyjW1bXVZvy5iGp/1X2uKna2ZNvWGVV1gY2ODkydPYs+ePTAyMsL06dOxbds2lfnlL0i4ceOGTtr/5JNP4O/vj6ioKCQkJMDV1ZVXOfnio2/fvpz55JN0VlaWzheQgYGBkEqlOHz4MI4fP453330XkZGRICL89NNPOHLkCMaPH68zWYS219xUVFQAAN544w2d6L3xt4ONETp2hbJ582Y4OTkhMDAQSUlJmDhxIoYPH4558+apLavpuObTJ3V64aKhjbja07XfyD/sP3z4UOmZ/PBoS93Gok1fQ0NDAQA//vgjZ766ujq1b4UUqiOuscL1bPfu3cw3xgUFBfj999959lYzhPqRuvGtqW81JW+//TbCwsJw5swZJX/VtbxC415TzoFcyH+FyM7OBlB/daS+vj62bNmCpKQkhIeHK5XRRld84qIubdFcMa01x87WhNYju66uTuG/DaH6PfVKaQ3/q47G98eqKs/WVuP0nJwcLFu2DAAwbtw4XLx4ERKJBOfPn1fZvqurK8zMzBAfH4+8vDyFZ/KfQfnKdP/+fXzzzTcIDQ2Fp6cnk86mu8akpKTAw8MDo0aNUnrWUEcuLi5o164dtm7ditLSUoV8DW+cUKUvLgYOHAhra2usXr0arq6uMDAwwOuvv46+ffti+/btKC0tVbjvn68sumpPVd/Y7CN0HALKdkpLS8PQoUNhZWWlVV/btWsHAHj06BFrXwD+Y1eVz/HxQ3Nzczg6OiIsLAwSiQRff/019u3bp/YOdU3Htbo+8dFLY7hsxNWeUPupu9fayckJXbp0wcWLF5W2S9y/fx8dOnRAjx49ePeLDU1jozZj9dNPP4Wbmxu2b9+Ov//+W2W+TZs24T//+Y9KGQBhOuKynbpxZGlpCSsrK+Zfw2vlhMwnuvYjPuObr29pEs8a1qXOV9nm+bVr18LKygozZsxgvtwSEgv46FNI3JMjZHxrMg/K+8L2S396ejrmzJkDoP5u/HfffRcJCQmIj49HWFiYQl4+umKzK9+4KMQWbPGssW6ExjRN13+axE5tvuBpq2i9eJcvaOXfDMvJz8+HTCbDkydPFNJzcnIAQCm9MVZWVgCAEydOQCqVMgNV/mmscfmHDx8iLy9PwYiPHz+GTCZjynbq1AnLly9n/raxsYG5uTmzb40NIyMjzJs3D0+fPoWPjw8OHTqEmzdvYsuWLYiKigIR8ZbJ2NgYEokEKSkpyMnJwZ07d3Du3DnU1NTg+PHjyM3NZcpeuXKF+f/r169j27ZtiI+PV9iTx6ajdu3aYfbs2cjLy4OPjw9OnDiB69evY82aNYiNjWXklMlkrJ9sudDX14e/vz+uXbuG999/n0mXv5Z4+PDhCvn5yKLL9gBlmwP/+yZEPvZUpanj7NmzCv9/4cIF5upKbfr62muvwdjYGJs2bcLt27fx6NEjrFy5Eunp6cjKysKTJ094jV22vgvxw379+uH06dPo0qULExzv3bundkEnZFw3RF2f+OilMVw24mqPr/1UxaXGSCQSrF+/HqWlpVixYgWTXlhYiEOHDiEuLk7Bl+W+2HixwYa2sVGbsWpoaIjdu3ejc+fO8PX1VdiOIufkyZP47LPPMHHiREYetngjREdcttMkrsthiwPN5Ud8xjdf39Iknsl59OgRampqOK+Cffz4MaMHOS+//DK2bt2K6upqBAYGorCwkLe8fPWpzrZsfsN3fGs6D8r7cOvWLYX06upqfPbZZ/Dy8mLSpk2bhqKiInTr1g0vvfSSQn4+umKzK9+4yKd+VbGEzQeE+Ks26z8h7QiJm88dgo+4/n8yMjIoODiYTExMCADZ2trS1KlTiaj+NLj8qiQzMzPmJPBXX31FFhYWzBVCly5d4mzD19eXAFDnzp1p1apVtGXLFnJwcCAA5OjoSLt37yaZTEZBQUGkr69PAOidd96hJ0+e0KVLlxgZTExMmFPPI0eOJEdHR4qNjSU/Pz+aMWMG1dXVccohk8lo8eLFTF8lEglFRERQdXW1IJmIiJYtW0Z6enpkYGBA77//Ph0+fJgMDQ3J2dmZLly4wJz+lt+SMXjwYIqOjqbCwkJeOiKqvzpq7ty5ZGhoSADI1NSU5s+fTzKZjC5fvkze3t6MXgICAig7O5u33Y8cOUJeXl4KaSUlJfTSSy9RXl6eUn4uWXTdHpvNN2zYQHZ2dgSA7OzsaN26daxpXCQmJpKdnR2ZmZnRhAkTKDw8nMaPH08PHjzQWV/XrFlDEomEAFDPnj3pzJkzNGDAAHrppZfIz8+PMjIyOMcuW9+F+uHWrVuZMd7wn62tLZ05c4ZTfnXjWhXq/JGPXoTYiKs9vvZj8zlV7N27l2xtbSkoKIgWL15MgwYNUrj9gaj+9ghPT0/GdmPHjmX6pQptYqOQvqriyZMn9Mknn1Dnzp1p4MCBNGfOHFqyZAmNGTOGjI2NmbmAT7zhoyMibttpEtfZ4kBz+xGf8a3Ot4TGMzmbNm2iQYMGMfJ1796dpk6dqjAGbt26RePHj2f6Y2dnRzExMQr17N+/n9zc3MjZ2ZkuXryoVl6h+lRlWy6/UTe+NZkHT58+Tf7+/kydJiYm5OPjQwEBAeTr60tdu3YlAHT+/HmmjFQqJVtbW/rrr79Y6+TSVUhIiEq78o2LfOJy41iiau0kR52/6mr9p64dTeLm84QeUev9vUEqleLmzZtwcnJifirSBXl5eXj48CG6desGS0tLwfJ07tyZeU20JuTm5oKIYGtry8hjaWkJIyMj/PHHH+jXrx8SEhLw5ptv4pVXXuF8qQaXjqqrq3H79m04OzvzfjGHOmpra/Ho0SM4OjoqpGdmZjKHatnQVBZN29M1dXV1yMrKQmlpKVxdXTkPOWna19zcXFRUVDD9un//Prp27apwq4CmY5cPlZWVmDRpEvr37w8PDw+UlJQgPT0dy5Ytg6urq9pDflzjmgt1feKjF4C/jdS1p85+msSl7OxsVFRUoHv37jrZh6ur2KhtjKirq8OtW7eQl5cHiUQCW1tbODg4aFQXHx1x2a4pfUMIQv2Iz/jW1Leak4KCAhgYGKBDhw46l1dT2zbFHCiUu3fv4tVXX1X5XFNd8Y2L6urXNJboOqa1dDttjVa9eH8RkS/ed+3aheDg4JYWR+QFoba2FgMGDEBERASioqIUnsXGxiIhIQG3b99uIelERNoGoh+JiIg0B+LHmFaGfF8kn0OsIiK64siRI/jzzz9Z7/murKyEv79/C0glItK2EP1IRESkORAX762Ma9euAQD++9//trAkIi8SLi4uMDIywscff4yrV68CqP/J+eeff8aVK1ewZMmSFpZQRKT1I/qRiIhIcyAu3lsR3333HX7++WcMGDAAv/32G8aNG8frxVMiItri5uaGgwcPQiqVwsPDAxYWFvD09ERxcTGOHDnSYvtFRUTaEqIfiYiINAfinncREREFqqqqIJFIWtVhOBGRtoboRyIiIk2FuHgXERERERERERERaSOI22ZERERERERERERE2gji4l1ERERERERERESkjdCmFu9EhJqamhavo6V5HvqgCVVVVS0tgkgrp7q6uqVFYKUt+Wxrk5VNHl3L2FpjS2uzhYiILhHHt+a0icX7/v374e/vDysrK5w6darF6mhpnoc+CCU9PR0RERFwc3PDmDFjWlocldy6dQsffvihRmXz8/N5vbiloqICaWlpGrXR2pHJZAgKCkJeXp5G5desWYMhQ4agQ4cOzLsSWgMHDx7E2LFjYW1t3ep99tixYwgICIC1tTXOnTvX0uKwxjtdxsDWHFuawhYymQzPnj3TSV0i7LR1HRMR7t27J/jDrNA5rC3FxdaKVov3OXPmwN3dHfb29liwYIHa/CEhIbC3t4eHhwfmz5/Pu50BAwbA1tYWRUVFvPJXVVVh9uzZ+PPPP9XWwZa3tSJUDw3Jzc1FcHAwHBwcYG9vD29vb4wePRp+fn7w8vKCvb09pk6d2gRSa8err76KyZMnIyMjA631bPWVK1cwceJExMbGIjk5Gb1794a9vT3s7e3Rt29fXLhwAQBw8+ZNRtf29vYYOnQobt26hatXr6Jnz55wcXHBkCFDMGrUKLi7u8PBwYGxUZ8+fdCpUyds374dwP/s6ejoCHt7e/To0QNjxozB4MGD8c4772Dbtm0K+hJqf134tpA29fX1MX/+fIwYMQI5OTmCbRAYGIiqqqpW9w3qwIED4eDggMLCwpYWRS3e3t6wsbFpNbKyxTttYmBjtIktK1euRLdu3Rhf9vHxUdLbrl27cOnSJYW0lJQU9OrViykXFBTEOgfxtYWQ+Wv58uWYN28e67Nt27ahT58+nPPAyZMnMWjQIEZ2X19fZGRkaFW2tfHs2TOEh4fjlVdegb29PVxdXREQEIDhw4dj1KhR2L17N+eXA1w6BrTTsyo0mXPYKC8vx6RJk/Dpp5/C2dkZmZmZKttsjNA5TGhcbEvrtGaDtOTixYsEgMzNzam4uFhlvqtXrxIAAkBZWVmC2zlw4AABoGPHjimkl5SUUGZmpkJaWloaAaCYmBi1dajK21pRpQe+REdHEwA6d+6cQvq///1vGjp0qC5EbBK6d+9Ovr6+LS2GEjU1NdSrVy/at28fkyaVSik4OJgA0KJFixTynz59mtq1a0cpKSlM2p49e8jb25vKy8uZtFGjRpGJiYlC2blz51JYWJhC2vTp0wkAU191dTXNnj2bANCsWbOU5BVif135tpA2lyxZQiNHjlTZFhcff/wxASCpVKpR+abi0KFDWvlsc3Lw4EECQCdPnmxpUYiIPd5pGwMbo2ls+b//+z8CQJ07d2Z93q9fP4qKilJKr6qqIolEQj/88AMRqZ6D+NiC7/xVV1dH3bp1o5dffplqa2tZ85SWlpKHhwcBoKVLl6qsKywsjAYMGKCzsq2RmJgYAkDJyclERCSTyWjlypUEgNWmRPx0TNQ0uhI657CRlpZGFRUVRFTf/yVLlvBqm0izOUxIXGxr67TmQOttM/b29nB2dsazZ8/www8/qMy3evVqjBw5EgBgZ2cnuB0TExOltLKyMowYMULp240+ffrg1KlTSm+zY6tDVd7WClsfhGBvbw8AMDQ0VEifMmUKDAwMtKq7KWmtLzdZt24d9PT0MHbsWCZNX18f27Ztg5ubG1atWoXs7Gzm2cqVK7Fz504MHz6cSSsuLsaHH34IU1NTzrZmzpyJsrIyhTS5L3Xq1AkAYGRkhJUrV+LVV1/Fxo0bUVlZqZBfiP115dtC2pwxYwYuXLiAvXv3qmxPFa31Pu3G/W7NtDY/Y4t32sbAxmja5/79+2Pw4MF48uQJnjx5ovDs4cOH+OOPP7Bnzx6lPb1ZWVlwdHTElClTAKieg/jIxXf+OnnyJAwNDZGfn4+UlBTWPObm5ggMDISRkRHmz5+P/fv3s+br3bs3vLy8dFa2NdKlSxcAgK2tLQBAIpFg7ty5GDRoEH744QfWN6Dz0THQNLoSOuew0adPH7Rr146R0dnZmVfbgGZzmJC42NbWac2B1ov3iooKDB48GN7e3tiwYQNqa2uV8mRnZ6OkpATu7u4AoLM9qTdu3EBqairrsyFDhsDCwoJXPULytnX09fVZ042MjHD06NFmlqbt88MPP2DChAnQ09NTSG/Xrh02bdqE8vJyTJ8+HQBw4MABWFlZ4b333lPIO3bsWISEhKhty9bWFt9//71CGps9JRIJ3njjDdTW1uLu3btq8wPs9teVbwtp86WXXsKoUaOwefNm1jIiIq2J8ePHg4iUxvG+ffvQu3dvFBUV4fjxxoCzbAAAIABJREFU4wrPjh8/jvHjxyt8cNVmDuJTduvWrUhISIBEIsHOnTtV5jMzM8PChQvRuXNnhIeH48qVK6x52D5AaVO2taEqZskX02xnj/jqGGgaXQmZc7iorq5GRkYGRo8ezbuMNnMYX16kdRoftF68FxcXw9zcHDExMXj48CESExOV8qxbtw4ff/wxJJL65uQ3Qvz111+YOXMmAgICkJycDADIyMjAZ599htDQUHzwwQcq2z169Ci++OILpv6goCDExcWhrKwMO3bsQHh4OBYuXMgpO1ve6upqJCYmYuLEiZg3bx5yc3MRGRmJ7t27IyAgAA8ePFCq58yZMwgLC0NkZCQmTZqEtWvXYsGCBYiOjsaJEycE9zEzMxNz586Fq6srQkJCUFBQwNkPXZCQkMAELE10AACXLl1CSEgIXFxc0L9/f4UJrby8HAsXLkRYWBiGDRuGqKgolfUAwOnTpxETE4Nhw4bB09MT9+/fV8pTU1ODxYsXIzAwEG+99RYTMCsrKxEfH8/In5WVBV9fX4wePRpSqRQAIJVKsWLFCoSGhsLX11ej/f5///03MjMz4evry/p84MCBmDp1Kg4fPowdO3Zg1apV+Oabb5TyWVtb8/72z8bGhle+x48fw9TUFN26deOVv6H95Wjj25q2CQDDhg3D77//jtLSUt51NeTChQsIDw+Hq6srxo0bh8uXLyvlUTV25H3Q9fgH6g+DJSQkwM/PD+7u7oiNjVX4sFNVVYX4+HiEhoZi0aJFePz4MaZNmwYXFxdMmTIFJSUlAOr3zXp4eKBv37745ZdflOTgih98fKMhmzZtQkhICEaPHo333nsPf/31lxrtC9eLruIdl00bwie28EV+0PXw4cMK6UeOHMG2bdsA1I/zhhw7dgz+/v4A2OcgVTS2xZkzZ3iVzc/PR3l5Ofr06YMhQ4bg4MGDKg9VSiQSdO3aFfv27UNtbS38/f2VDpGbmZkx39Dqqiwf1M0hQse2Jsh9sHPnzgrpQnQMNJ2u+M45XKxcuRKrV68W9MFBmzlMXVxU5SO6mMPbNNruuzl27BjFxsZSVVUVvfzyy9SrVy+F54WFhfSPf/yDiIj+9a9/EQDKy8sjIqKKigr65z//SQBo27ZtRERUW1tL58+fJ1NTU+rbt69CO2iwP6qoqIiSk5MJAMXFxVFOTg6VlpbSkydPKCoqigBQdHS0kqwN62DLW1xcTB988AEBIA8PD4qMjKSEhARavnw5GRsb05AhQxTqTE5OJiMjI0pPTycioqSkJAJAgYGBdOzYMUF9JCL66quvyMPDg7Kzsyk1NZXMzMxo4sSJKvsglOXLlxMAOnHiBBUXF1NWVhbt3buXvL29mTxCdVBXV0czZ86kzz//nLKysujy5csUGBhIEyZMIKL6MeDk5EQrVqwgovr9eVFRUWRhYUGpqalKMs6YMYNCQ0OZ/XeHDh0iU1NThX2pZWVlNGDAADp16hQRETMWdu7cSUVFRcz+58mTJ5Ovry95eXmRpaUls3d7wYIF9PbbbxMRUXl5OfXs2VPwWYzvv/+eJBIJ5x7rp0+f0ssvv0x6enoK++LVwbZfkA25Pa9cucKkpaamkpGREa1fv15lfi77y9HGtzVtk4jo2rVrBICxLV/mzJlDAGj58uV08uRJ2rhxI3Xq1IkMDQ3p6NGjTD6usUOk+/Ev99mhQ4fSqlWr6Ndff6VJkyYRAPruu++YeoqKipjzAV5eXjR16lSKj4+nxYsXk76+Po0aNYoiIyNp7dq1tHv3burduzcZGBjQnTt3mDrUxQ91viGXVb7PurCwkCwtLWnLli0kk8kE2UOdXvjIyxbv2NLU2VQOn9gilDfffJPMzc2ppqaGiIjy8vJo7NixRETk7e1Npqam9OzZMyIiqqyspG7dujG65DNfqbIFV9mGrFq1iuLj44mI6IcffiAAtH37dta869evZ55t3ryZANBbb71FVVVVTJ7ExET6+uuvdVpWHXzmED5xny/ymJWWlsakVVdXU/fu3cnKyopKSkoU8gvRMVHT6krTOYeI6Mcff6Tr168TEdFvv/0muO2GqJvD+MZFVeNcF3N4W0brxXtiYiKtWbOGiIi++OILpaC6dOlS+umnn4iIaP78+QSAHjx4wDw/f/48AWAGvhwvLy/OxTtR/SIFAO3atUuhbHl5Oa/Fu6q8ZWVlBEBhkiEimjJlCunp6VFlZSWT5u3tTZ6engr5bGxsmEElpI9lZWVkYWFBO3bsYNImTJhAdnZ2nH0Qgjwo9evXj/z8/Khfv37UsWNHpQ8RQnSwevVq1slPPkEFBwcrTFhE9Ye2OnbsSD169FBY/H7//fdkbW1NpaWlCnX17NlToY25c+fS5MmTmb/r6urIzs6OsYXcrhYWFnT//n0iImZyJSLq3bu3QvmzZ8/StWvX2JWmgi+//JKsra3V5lu6dKnaCbYxQhfvcXFxtG/fPlq8eDE5OztTUlISZ3519ifS3rc1aZOoPliz+bU65Iv3huMpIyODjI2Nyd7enjlEpm7sEOl2/Mt9tvGh5q5duyrECaL/jdvg4GCF9NGjR5Oenp7CIkQeV3788UdGZnXxo2EbbL7ReME4adIktQfdVKFOL5rGO7Y0PjblG1uEsmjRIgWdbdq0ifGLDRs2EAD6+eefiYjo+PHjNG3aNIXy6uYrLluoKtuQvn37MgcJnz59SoaGhir723BRSfS/g5uTJk1i0nbt2kXLly/XaVl18J1D1MV9vshjVlJSElVVVVFmZiaNGzeOTE1N6fDhw0r5heiYqGl1RaTZnLNp0yaytramnj17kouLi8YXB8jhu3gXEhcb9kcXc3hbRuttM4WFhTA3NwcAREdHQ19fH6tWrQJQ/zPwL7/8wuyFYvtpXb7vr/HP59ocPjM1NeV9+JItr5mZGQwMDJT2V7m4uICI8PTpUybt1q1bSgcvOnXqhPLycuZvvn00MzPDo0ePEB4eDqBet6WlpQrt6Yr169fj6NGjuHjxIu7fv8/YsKEsfHWwYcMGvPvuu0ptSCQS1NbWYv/+/fD09GTsD9QfxnrnnXeQnp6O9PR0Jn3hwoXw8vJSkqchUqkU3377LS5evAgfHx+8++67CAoKQpcuXZi913K7BgQEwMHBAYDiARk3Nzfs2LEDMTExePr0KQYOHIiePXvyUR1Dfn4+OnbsyJmnpKQEBw4cwLBhw7Bp0yacPXtWUBt8KSgowLVr17BmzRrcu3cPbm5unPnV2R/Q3rc1aRMArKysAEDpEKAmODk5ITg4GNnZ2UhPT+c1dgDdjf+GNDzMpa+vDzc3N6UtOPJxa2lpqZDu7OwMIlL4KdvFxQUAmJ/b+cYPdb4B1P+U/eWXX2LAgAFqD7qpQp1edBXv+NqUT2zRhMZbZ5KTk5n9wuPHj4e+vj6zdabhlhk56uYrLluoK3v27FkUFBTgyy+/xNy5c/H111+jY8eO+P333/Hw4UPWtqjBtZnr1q3D0KFDsWPHDqxcuZJLDVqV5ULIHMJnbAvh8OHDGDFiBCZMmAB7e3tcv36dOZwvR6iOAc10VVdXB5lMpvCPDU3nnKioKOTn5+PatWu4deuW0lawpkJIXGyILubwtozW14vk5uYyk4j8Ts8DBw7gP//5D/78808EBQUxi1RN9sW2JtiCpKenJ1JTU1FSUgILCwuUl5fj7t27+PTTTzVqw9TUFH///Tc2btyI8vJypYOQTUH79u0RFxfHK29jHWRnZyM7OxtmZmas+a9fv46amhq0b99e6dkrr7wCALh9+zZ69eqFzMxM5Ofno2vXrpwy3Lp1i7n3NTIyUmmR1BBV+/bWr1+PgoICxMXFITExEUuWLBH8kiULCwul218a88knn+Djjz/GP/7xD7i7u2PatGm4evWqzm/18Pf3x+uvv45+/fphxIgRmD59Ok6fPs2rrCr7N6Vvc405uU51dThJHtDz8/MFjR02hI5/LoyNjXnvxWVbgLClCYkfXHtaFy1ahPPnz8PPzw9Tp05VeYBPFXz1oot4x8emfGOLJrzxxhtwcHDA4cOHsXDhQkgkEubDl42NDXx8fJCSkoKCggKcO3cOy5YtE1S/Nrb48ccf8dFHHyl8mDc2NsbSpUuRmJiIOXPmKOSvrq5WOJhuYGCAX375BZ6envjiiy84vxTQpiwXQuYQObo6FBsTE4M+ffpw5hGqY0AzXfn5+eHEiRPM33379lW6aQ9ovjmnqeAbF3Uxh7dltP7m/dGjRwqTyEcffQQAWLFiBb777jtER0f/r7H/H1TZXqRCrfQFPOrYvHkznJycEBgYiKSkJEycOBHDhw9nfVEDnz5+8skn8Pf3R1RUFBISEuDq6toUYishDxYNr5jig/xlKTdu3GB9Lp+82b6BkH9z4OTkBABMMOM6yAqAceysrCzBiy85NjY2OHnyJPbs2QMjIyNMnz6dOWAmpI78/HyVzw8ePIi7d+8iLCwM3bp1w8KFC3H79m189dVXGsnMh7fffhthYWE4c+aMoP6w2V9Xvi2kTQCMTvkezlVHRUUFgPpFli7GTkPUjf/mRlfxIzY2FkuXLsWxY8fwySefCC7PVy+6kJePTfnGFk0ZM2YM7ty5g1WrVim9rXXChAmQSqVYvXo1HB0dBS8sNbVFUVERzpw5g1mzZmHkyJHMv3/+858wNTXFzz//rFSmsrJSyYetra1x4MABtGvXDqGhobh69Spre9qU5ULIHNLcaKJjQDNd7d69GwUFBcy/33//XanelphzWgpdzOFtGa1nr4cPHypM8MOGDYOLiwt2796N/v37Mz+BA/9bvMonUwDMaepHjx4p1d1wsSv/f7YFcOO7rOX5GudVVYeqvHzKm5ubw9HREWFhYZBIJPj666+xb98+hS0xfPt4//59fPPNNwgNDYWnpyeTXldXp7YPfJHXxfbJNj09XeFbAj46cHV1hZmZGeLj45VOy5eXl8PJyQldunTBxYsXFbYSAfX97dChA3r06AGgfmtA+/btcfbsWdYPEXLZXVxc0K5dO2zdulXpRpKGPyWyyQ8AOTk5zLdf48aNw8WLFyGRSHD+/HmlvFy4ubmhtrYW9+7dU3pWUFCAjz76SOHb5dmzZ8Pd3R0rV65Ue2tHXV2dgt258jX8LwCsXbsWVlZWmDFjhtLiSYj9tfVtTdoEwLxmW/6tv1Aa6y0tLQ1Dhw6FlZUV77ED6Gb8s5Xhql9du1yy8IkffNqW//df//oXJkyYgLi4OHz77bdKebngoxdN413jND425RtbNEW+FWbdunUK73wA6t/+a2xsjDVr1ihtmWnYJ66xxmULVbbcvHkzRo4cqfRNffv27eHv74+///5b6crDiooK1vn09ddfx/bt21FWVoavv/6atQ/alOVCyBwCqNaHENjiKhua6BjQTFeWlpawsrJi/jXe/qXJnNOUX5qqm8O0iYu6msPbMlot3isrK3HlyhUUFxczaXp6epg+fTr09PSUviWQ72FteDXXa6+9BmNjY2zatAm3b9/Go0ePsHLlSqSnpyMrK4spIw+4DV+dLl88nDhxAlKplFkcP378GDKZTGmxzFYHW978/HzIZDKlPbfycg3T+/Xrh9OnT6NLly5MALl3757CQoBvH42NjSGRSJCSkoKcnBzcuXMH586dQ01NDY4fP47c3FzWPgghNzcXAJRekVxdXY3PPvuMuceWrw6MjIwwb948PH36FD4+Pjh06BBu3ryJLVu2ICoqCnp6eli/fj1KS0uxYsUKpp7CwkIcOnQIcXFxzAJRIpFg/vz5qKiogL+/P9LS0lBYWIg9e/YgJycHGRkZuHfvHkxMTDB79mzk5eXBx8cHJ06cwPXr17FmzRrExsYy8slkMtZvazp16oTly5czNrexsYG5uTm8vb0F6XLIkCHo0KEDfvvtN4X00tJSBAcHo3///go/5RoaGmLFihWQSqXw9/dXuR8SqP+gV1NTo/b10Y8fPwYAhV8AXn75ZWzduhXV1dUIDAxUqIOv/XXh20LblPPbb7/Bw8MDjo6OnH1XRcM9nmfPnsWFCxewdetWAPUfpNWNHUB345+IGDuzvcgnLy9PYaLKzc3lbFdub6D+m+aGaXzih1wOVb4h9wl5e1u3boWnpydmzZqldOUhF3z0omm8a5zGx6Z8Y4umi5nBgwfDwsIC/fv3h7W1tcIzCwsLjBw5EkSktF8aUD1f8bGFqrKFhYX4+uuvMWzYMFZ5R4wYAQBKV0xevnwZd+7cYS0zbtw4zJ8/X6WOtCnLhUQi4T2HcI1tIcg/cHKdu9FUx4DudaXJnPP555/DxsYGmZmZvNsRgro5TEhcbDzOdTWHt2kEHnBlSE5OJjc3NwLqX58+ZswYevr0KRHVX7UWERHB5M3Ly6OgoCAyMjIiANShQwcKCwtjrutas2YNSSQSAkA9e/akM2fO0IABA+ill14iPz8/mjFjBtnZ2REAsrOzo3Xr1jF1+/r6ElD/iupVq1bRpUuXyMvLiwCQiYkJc1vEhg0blOpgy3v27FkmzczMjGbOnElE9VeaWVhYEP7/9XGXLl0iIqKtW7eSiYkJAVD4Z2trS2fOnGHkVNfHjIwMIiJatmwZ6enpkYGBAb3//vt0+PBhMjQ0JGdnZwoJCVGpB3WcPn2a/P39ydDQkOmvj48PBQQEkK+vL3Xt2pUA0Pnz5wXrQCaT0eLFixk9SCQSioiIoOrqaqb9vXv3kq2tLQUFBdHixYtp0KBBCrdMyJFKpTRv3jwyMDAgAOTu7k6JiYnk7u5OnTt3pqCgILp37x7V1tbS3Llzmf6YmprS/PnzSSaT0eXLl8nb25vpZ0BAAGVnZyu0M3LkSHJ0dKTY2FhmjNXV1fHWp5yIiAgaNWoU8/fHH39MNjY2BICsra1p7dq1zLM7d+5Q//79mTHSvn178vf3V6hv06ZNNGjQICZP9+7daerUqUrX9N26dYvGjx/P6NzOzk7p1dH79+8nNzc3cnZ2puXLl/O2v658W8iYk1NXV0eurq7MlXBCSExMJDs7OzIzM6MJEyZQeHg4jR8/XukGHK6xQ0Q6Hf9btmwhBwcHAkCOjo60e/dukslkFBQURPr6+gSA3nnnHXry5AmlpKRQnz59mHZXrlxJRETTpk0jMzMzAkCenp5048YNOnnyJPXq1YsAkKWlJfOada74ceHCBU7fWLt2LRNfunbtysSXhw8fkq2tLQGgkSNH0pMnT3jZg09cEBrv2OI4H5sS8Y8tmhISEqJwxV1DkpKSlK4YJSKV8xUfW3Tu3Jm6deumVHbTpk3UqVMnZh5q7EtJSUn06quvMjHmjTfeoC1bttDgwYMZOw0aNIjOnTunJG9dXR2NHj1a4RaUK1euaFxWCOrmED5xXx0PHjyg4OBgZsza2NjQ5MmTla7A1UTHaWlpTaIrTeecgIAA0tPToz/++EOQjtTBZw4TEhdV+Yiu5vC2ih5R69hsnpubi4qKCrz22msA6r/B69q1q9rDOVKpFDdv3oSTk5PGL3/QhsrKSkyaNAn9+/eHh4cHSkpKkJ6ejmXLlsHV1VXhQAnfPubm5oKImFcz5+XlwdLSstW+/l2O3BadO3dGp06dWPNkZ2ejoqIC3bt359xzXFZWhocPHzJbJ3JyclgPm1VXV+P27dtwdnYWfCAnLy8PDx8+RLdu3ZRu9+DL48eP0aNHD5w5c0bhG4/WREFBAQwMDNChQ4eWFkUte/fuxRdffIGrV69qdOisrq4OWVlZKC0thaurK2cd2owdNviM/+agKeJHTU0NiAgGBgaCD6+q04su5eVjU76xRSiPHz+Gubk56yHd2tpaPH78GPb29lq3o40tdEFlZSXKy8uVfmFo6rJy+M4hbR1d6IqL2tpa5ObmMrfytEV0MYe3VVrN4r0tUltbiwEDBiAiIgJRUVEKz2JjY5GQkMDs3xV5ftm+fTt27dqFX3/99bmeTJqaZ8+eYeDAgdiwYQMGDx7c0uKIiIiIiIi0SsSVhhYcOXIEf/75p8JdwnIqKytVHk4Seb54//33ERwcjM8++6ylRWmzyGQyREREYM2aNeLCXUREREREhAPxm3ctuHnzJt544w307NkT27ZtQ+/evVFdXY09e/Zg586dSE5ObjN3q4poT3Z2tk5+Fn9RefDgQZv+CVdERERERKQ5EL951wI3NzccPHgQUqkUHh4esLCwgKenJ4qLi3HkyBFx4f6CIS7ctUNcuIuIiIiIiKhH/OZdR1RVVUEikbT6Q6UiIiIiIiIiIiJtF3HxLiIiIiIiIiIiItJGELfNiIiIiIiIiIiIiLQRxMW7iIiIiIiIiIiISBuhyRbvVVVVTVW1yHNKVVUVampqWloMAAARtRpZ2HhR/au120WkHtFOzw9NYcu2Fr9acjy3pnlRpPWg08V7eno6IiIi4ObmhjFjxuiyapHnmKqqKsyePRudO3eGpaUlDh482GKyHDt2DAEBAbC2tsa5c+daTA42XmT/2r9/P/z9/WFlZYVTp061tDgiKhDt9Pyga1u2xfh18OBBjB07FtbW1s0+nlvTvCjS+tDp4v3VV1/F5MmTkZGRAfEcbPMjd/Y///yzpUXhTV1dHcLDwxEZGYkHDx7go48+4vxWZuXKlejWrRvs7e1hb28PHx8fFBYWKuTZtWsXLl26pJCWkpKCXr16MeWCgoJY9eXt7Q0bGxulOtlobn2r8q+2ZndN5B0wYABsbW1RVFTUhJIp09Z029K0lJ1eRJp6bOrallzrg9bqZwMHDoSDgwOv+UCXCJ0XRV5AqAno3r07+fr6Ci5XUlJCmZmZTSBR62xX16SlpREAiomJ4V2mpfu+bt06Gj58uKAy//d//0cAqHPnzqzP+/XrR1FRUUrpVVVVJJFI6IcffiAi1fo6ePAgAaCTJ09yyqGJvnVBY/9qKTn4wDa+NJX3wIEDBICOHTumSxE5ac26ba20hJ1eRJpjbDaFLdnWB63Fz9ji1aFDh5p9PGsyL76otPQapqVokj3vmrycqKysDCNGjFD6xrSpaal2m4I+ffrg1KlTWLJkCa/8raHvO3fuhJ2dnaAy/fv3x+DBg/HkyRM8efJE4dnDhw/xxx9/YM+ePUr7BLOysuDo6IgpU6YAUK0vvuNXqL51RWP5WkoOdagaX5rKa2JiokvxeNFadduaaQk7vYg0x9hsCluyxdfW4Geq4pWhoWGzy6LJvPgi0hrWMC1Fq7lt5saNG0hNTX1h2m0qhgwZAgsLC155W0PfMzIyYG5uLrjc+PHjQUQ4evSoQvq+ffvQu3dvFBUV4fjx4wrPjh8/jvHjx8PAwIBJE6IvNlSVl8lkGtepSzlaEq7x1RrlVUVbklXkxeJ5Gpst3ZfWMB/K0XRefNFoTTZrbnSyeD99+jRiYmIwbNgweHp64v79+0p5MjMzMXfuXLi6uiIkJAQFBQXMs6NHj+KLL74AAKxbtw5BQUGIi4vjVVYqlWLFihUIDQ2Fr68vpk6dqtR2TU0NFi9ejMDAQLz11lvYuXMnr3b5cOnSJYSEhMDFxQX9+/dXWkyWl5dj4cKFCAsLw7BhwxAVFYUHDx4wz6urq5GYmIiJEydi3rx5yM3NRWRkJLp3746AgACFvFz9LSsrw44dOxAeHo6FCxeqzc/Vdz46VYe6ft+8eRNBQUF49uwZjh49iqCgIERHR/OuX37g6fDhwwrpR44cwbZt2wAACQkJCs+OHTsGf39/AKr1xcamTZsQEhKC0aNH47333sNff/3FWv769euYM2cOXF1dkZSUhNTUVIwaNQq9e/dGTEwMSkpKFOpVNS4bw+VfXP3g8hu+cNVRWVmJ+Ph4ZuxmZWXB19cXo0ePxqFDh1jHFx+9q/OpxnDpUZuxzCarUH/loqqqCvHx8QgNDcWiRYvw+PFjTJs2DS4uLpgyZQozXrZt2wYPDw/07dsXv/zyi1I9XDbiK+/UqVMRFBSEoKAghIWFoaamBqWlpZg4cSKTfuLECd59Y0OVnJro9MyZMwgLC0NkZCQmTZqEtWvXYsGCBYiOjsaJEycwc+ZMBAQEIDk5GUD9Yuizzz5DaGgoPvjgA0E65NOmfE90U43FxqjyI010KcTf/vrrL8G6Vbc+0JWf8bGPKvisBYgICQkJ8PPzg7u7O2JjY1m/pOEb19ngmhfVzalCbMMVu6VSKaeMuopbfPoEaLaGeSHQdt/NjBkzKDQ0lCoqKoiofn+Yqampwp62r776ijw8PCg7O5tSU1PJzMyMJk6cyDwvKiqi5ORkAkBxcXGUk5NDpaWlvMouWLCA3n77bSIiKi8vp549e1JWVhbzvKysjAYMGECnTp0iImLa2blzJ2e76qirq6OZM2fS559/TllZWXT58mUKDAykCRMmMHkKCwvJycmJVqxYQUREUqmUoqKiyMLCglJTU4mIqLi4mD744AMCQB4eHhQZGUkJCQm0fPlyMjY2piFDhii0q6q/T548oaioKAJA0dHRavNz9V2dTtXBp99lZWWUk5NDACgiIoJycnIoPz+fdxtERG+++SaZm5tTTU0NERHl5eXR2LFjiYjI29ubTE1N6dmzZ0REVFlZSd26dSOZTEZEpFJfRETHjh1T2PNeWFhIlpaWtGXLFs7yN27coPfee48A0MCBA2nBggWUmJhIoaGhBIB69OjByMo1Lhuizr9U9UOd3/CBj99+/PHHBIAmT55Mvr6+5OXlRZaWlpSVlcU6vrj0rs6n5HZpuPdUnR61Gctssgr1Vy6KioooOjqaAJCXlxdNnTqV4uPjafHixaSvr0+jRo2iyMhIWrt2Le3evZt69+5NBgYGdOfOHd424ivvs2fPaOjQoQSAjh49ypS/d+8eSSQSOn36NO9+sdmJS06hOk1OTiYjIyNKT08nIqKkpCQCQIGBgXTs2DGqqKigf/7znwSAtm3bRkREtbW1dP78eTI1NaW+ffsq1MfHV9S1SdS0Y7ExqvxIiC75zGGNbSnjjQ4DAAAgAElEQVRUt3zWB7rwMz724YJrPpTrYOjQobRq1Sr69ddfadKkSQSAvvvuO4V6+MZ1VaiaF/nMqUJswxW7i4uL1epK27hFxG+dQKTZGuZFQKvF+/fff0/W1tZKCuvZsyfjnGVlZWRhYUE7duxgnk+YMIHs7OwUyqSmphIA2rVrF5PGp2zv3r1p8uTJzN9nz56la9euMX/PnTtX4XldXR3Z2dmRp6enynb5sHr1atZDufLFHRFRcHCwwoKRqP7QZMeOHalHjx4klUqZfgJQCJpERFOmTCE9PT2qrKzk1d/y8nKlYM6VX1Xf1elUHXz7TUQEgGbOnMm77oYsWrRIYZG9adMm+umnn4iIaMOGDQSAfv75ZyIiOn78OE2bNk2hPJu+iJQX75MmTaKUlBSl9tnKnzx5UqFdOREREQSANm/eTETqxyURP/9ik4Ovz3HBtw552xYWFnT//n0iIuYDiqrxpUrv6nyKbVGoTo/ajmU2WYX4K9/6g4ODFdJHjx5Nenp6ChPp+fPnCQD9+OOPjBx8bMRXXnn9X331FZPn+PHjNGXKFN79IVK2Ex85hejU29tbwU+IiGxsbJgJvmFf4uPjFfJ5eXkpLGL46pBPm009Fhujyo/46pLPHMbmc3x1yzd+qeqLrseEOlTFK7kO9u3bx6RJpVLq2rWrUv184jofGs+LfOdUvrYh4o7d6tAmbgntkyZrmBeB/23+1YCFCxfCy8uLc2+WmZkZHj16BFNTUwBAYWEhSktL8fTpU7X18ynr5uaGHTt2oH379li0aBEGDhzIPJNKpfj222/h4OAAHx8fmJiYwNTUFF26dIG7u7um3QYAbNiwAbNmzVJKl0jqdyLV1tZi//79GDt2LJMG1B/WeeeddxAfH4/09HT06tULZmZmMDAwUNrv5+LiAiLC06dPmcMrXP01NTVV2M+tLr8qNCkjR0i/tWXMmDH48ssvcfjwYQwbNgzJycnMT5Tjx4/Hp59+ioSEBEycOFFhy4wcNn01hIjw5ZdfYsCAARg+fLjSc7by7du3BwCl9JiYGGzZsgVpaWmYPHkyr3HJx7/Y5NDG54TWIW87ICAADg4OANQf8FKld3U+1Rg+/q3NWFYlqxB/5Vu/paWlQrqzszOISOHAoIuLCwAgLy+PkYOPjfjK+49//AMuLi7YuXMnFixYAADYvn075syZw6svquAjpxCd3rp1Syl+d+rUCeXl5czfcpvp6+sr5DMyMlK4co+vDtW12RxjsTGq/IivLoX6mxy+uuUbv1T1RddjQlvkYwSo77ubm5vCFo+mWm8ImVP52kbeH6Gxu3FZTeKW0D7p2m+eFzRevGdmZiI/Px9du3ZVm9fU1BR///03Nm7ciPLycujp6fFuR13Z9evXo6CgAHFxcUhMTMSSJUvw4YcfAqh3aPn9sZGRkWqDEl+ys7ORnZ0NMzMzlXmuX7+OmpoaZjHXkFdeeQUAcPv2bc5FLFtg5uovG0Lza1pGji76zZc33ngDDg4OOHz4MBYuXAiJRMIEExsbG/j4+CAlJQUFBQU4d+4cli1bJqj+RYsW4fz58/Dz88PUqVOVAqIQXnvtNQBAx44deY1LIf7FhjY+p0kd2t5KwcenGsNHj9qMZaFwfRAUCtskypamjZ3Z5H3//ffxxRdfIDU1FT169EBubi7efPNNYcKzoKmcbDJ6enoiNTUVJSUlsLCwQHl5Oe7evYtPP/20yWRT12ZrG4tsNNSlJv4mBG3jFxfNMSb4YGxsrLA/vKnWG009p+ryRiG+cUtIn1rab1orGo+u2tpaAOB1QOuTTz6Bv78/oqKikJCQAFdXV97tqCtrY2ODkydPYs+ePTAyMsL06dOZA4tyx8rKytKZIwFgXlpx48YNlXnkQfHhw4dKz+SHXJycnAS3zdVfXeTXtIycpuq3KsaMGYM7d+5g1apVSm/tmzBhAqRSKVavXg1HR0fBQSo2NhZLly7FsWPH8Mknn2glZ35+PgCgb9++vMalEP9iQxuf02UdfOHjU43ho0dtxnJbQNc2Cg8Ph76+Pnbu3IlffvmFuVa1Ncm5efNmODk5ITAwEElJSZg4cSKGDx+OefPmKeUlHi8L5CObujbb2ljUxN8aw6VbbeOXUISMiaaiqdYbmsypfMZ9SyKkT63Jb1oTGo8wZ2dntG/fHmfPnkV2drbS87q6OgDA/fv38c033yA0NBSenp5KzxtTWVnJ/L+6sjk5Ocy3qePGjcPFixchkUhw/vx5APU/17Rr1w5bt25FaWmpQjuNT4k3bFcdrq6uMDMzQ3x8vMJPQQCYn+mcnJzQpUsXXLx4Uemnu/v376NDhw7o0aMHk0b15w8U8sn/lv9XXX8b18Mnf+O+8y2jCqH9btg/TZBvhVm3bh3Gjh2r8CwwMBDGxsZYs2aN0paZhm1z6f1f//oXJkyYgLi4OHz77be8yrORkpICDw8PjBo1ite45OtfbHII9Tk2hNShTgdsvtW4DB+fauwP6vSo7Vjm6h8ff9W2frZ8Df+rrY3Y5LWzs8Pw4cOxe/du7N+/H+PHjxfUF23k5Cujubk5HB0dERYWBolEgq+//hr79u2DkZERk6ddu3YAgEePHqmUT4hs6trUxVj88ccf8fvvvyvJy4Uq31OnSz7+1riMHD66FRq/uGTW1ZjgS+N4pcqvG8smZL3BB3ndQuZUvuNeVR+EyqdJ3AL490mTNcyLgsaLd4lEgvnz56OiogL+/v5IS0tDYWEh9uzZg5ycHGRkZODevXswMjKCRCJBSkoKcnJycOfOHZw7dw41NTU4fvw4cnNzAQBWVlYAgBMnTkAqleLRo0cwNjbmLCuTybB8+XJmoNrY2MDc3Bze3t4A6gfy7NmzkZeXBx8fH5w4cQLXr1/HmjVrEBsbq7JddRgZGWHevHl4+vQpfHx8cOjQIdy8eRNbtmxBVFQUiAgSiQTr169HaWkpVqxYwZQtLCzEoUOHEBcXx/yclJ+fD5lMpvTCoZycHABg0jt16sTZ38ePH0MmkzHP1eVn67u6MuoQ0m/5p+7GgU4IgwcPhoWFBfr37w9ra2uFZxYWFhg5ciSICCNHjlQq21hfcuR/y/W/detWeHp6YtasWQrXT6oqDwBXrlxh/v/69evYtm0b4uPjYWhoyGtc8vUvIlKSQ53fyH2OC751PHnyBDKZjPUbFFW+xaY3Pj4lXwTI7aJOj9qOZVWy8vVXPuTm5nLW9fjxYyYtKytLIY2vjYTK+/777+Pp06dwd3fX6Cf1xnbiI6cQGfv164fTp0+jS5cuzKLl3r17Cguk1157DcbGxti0aRNu376NR48eYeXKlUhPT0dWVhZTH18dqmtT27EolUqxdOlSDBs2DD///DMvPauKP3x0ycff2GzJV7dC4peqvuh6TKhDVbySxza2FwLm5eUxfeAT1/nQeF4UMqfyHffy/qiK3erQJm4J6ZMma5gXBr4nW9mQSqU0b948MjAwIADk7u5OiYmJ5O7uTp07d6agoCC6d+8eLVu2jPT09MjAwIDef/99Onz4MBkaGpKzszNduHCBqc/X15eA+tfer1q1iohIbdmRI0eSo6MjxcbGkp+fH82YMYPq6uqYOmtra2nu3LlkaGhIAMjU1JTmz5+vcMKZrV11yGQyWrx4MZmYmBAAkkgkFBERQdXV1Qr59u7dS7a2thQUFESLFy+mQYMGKdxscPbsWfLy8iIAZGZmxpww/+qrr8jCwoK5KuvSpUtERCr7e+nSJaYeExMT5oS+Ov2w9V1dGT6o6/f58+fJ09OTkXfs2LGUkZEhqA05ISEhSld2yUlKSmK9vk+VvtauXUt2dnYEgLp27Urr1q0jIqKHDx+Sra0tAaCRI0fSr7/+ylpefvrd2NiY7O3tafDgwRQdHU2FhYUK7fMZl3z8a8+ePaxy8PU5LtTVcfnyZfL29mbaDggIoOzsbIU6Go8vVXon4vapDRs2MHaxs7Nj7KJOj9qMZTZZhforFykpKdSnTx+mrpUrVxIR0bRp08jMzIwA0P9j79zjasreP/45p6SbEg0JMURF5TKKmcm1XIdJlJB7TWIaY5gGQ+SS0SB8DcbduBTDuMttSJiRwSAkkpIUReko1alznt8f/c6eTue2zyUV+/169eKstfZaz3rWs5797L3XXtvFxYXu3btHf/75Jzk5OREAsrCwoPDwcFZjpIm8RUVFxOPxNJqPisZJmZwRERFqybht2zbGRir+WVtbU1xcHCPLypUric/nEwBydHSkuLg4cnNzIzMzMxowYADTPzZzhU2b2tpiUVER2dnZ0bhx41TqWdE8Ume8VZ3DFI0lW92yjQ90Mc/Y2oQqKvurrVu3ko2NDQGgFi1a0L59+0gkEpGPjw/p6ekRABo4cCBlZ2ezsgFVKDsvqjqnqjM2bHy3InThtySw6ZMmMcyHgNb7vBOV7xGclJTE/JZnBJmZmfTs2TPm9/Pnz2UC3dLSUkpISGD2hGV77PPnz+nGjRsyAVJFiouLKSEhgYqLi2XyFLXLBsmxL168UFouPT2dkpKSWE9iZbDpL9vyivqubhuK0GW/FZGVlUUFBQVy84RCIaWnp+uknZKSEiouLpba6rIykuA9KiqKkpKS5NpbRZTZpQQ280sebOZcVdehydxiO6cqokyPurLlmoouxrlyfT179tSBZLL16kLOt2/fkre3N0VGRlJsbCwdPnyYli5dSqampjLb4WVmZkrtL52WliZ3/qqSTZ02tbFFV1dXWrNmDTtF6AhN5hsRe91q6r/UQZ3xUYY2sUBF2Ph1TWFzTmU7NjUFVX3SJIZ53+ER1fA3Gzg4ahFXr15Ft27dsHfvXvj6+la3OBwcajNnzhzY29tj/Pjx1S2KDKWlpXBzc4O/vz8CAwOl8sLCwhAVFYWHDx/WujaFQiGCgoJgbm6OFStWaLWz1YdGddgEB0d1o7tXojk4OJg1luq8HMrBUVO4d+8etmzZAm9v7+oWRS4nTpzAP//8I3ff7KKiIoUvptf0Ng0MDLBo0SKsWrWKC9zVpDpsgoOjuuGCdw4OHXLnzh0AwIMHD6pZEg4O9bhx4wZ69eoFT0/PKtv/W1vs7OxgYGCAadOmISEhAQBQUlKC3bt349atW1iyZEmtbbMq9kT/EKgOm+DgqG644J2DQ0esX78eu3fvhpubG86dOwdvb2+pj3hwcNRkHj58iPz8fHz11VfVLYpCHBwccOTIEZSVlaFTp04wNzeHi4sLXr9+jRMnTqBu3brvRZsc7OHGh+NDhFvzzsHBwcEBoPyOZW0JdoqLi8Hn8zXay7s2tcnBHm58OD4UuOCdg4ODg4ODg4ODo5bALZvh4ODg4ODg4ODgqCVwwTsHBwcHBwcHBwdHLYEL3qsYIoJQKKxuMTSmJslfk2Th4JBQXXZZXFz8ztvk4KjtcOeR2gk3btJwwXsVcejQIXh6eqJhw4aIjY2tbnHU5tSpU/Dy8oKlpSUuXbpUrbLUdl1+yOTn5yM1NRXv46s11WGXiYmJ8Pf3h4ODA7788kud119QUIAHDx4gNzdX53XXVpKSkjBlypTqFkMniEQi+Pj44MWLF9UtyjvnyJEjGDp0KCwtLXU2XznbqHq48798uOC9inBzc4O1tTXy8vKqWxSN6Nq1K6ysrGrESby267KmUlxcjJkzZ+Kff/7Red3nzp2Dh4cH5s+fj/DwcFhbW8PPz0/reqtSZnWpDrts1aoVxo8fj+TkZJ1dEN25cwc+Pj7o06cPvvrqK6xbtw6jRo2CqakpPvvsM+bbBR8it27dgp+fH8LCwhSWKS0txeXLl7FkyRLExMRIpf/++++YPXs21q5dy9pOxGIxYmJiEBoainXr1uHx48dyy925cwcLFy7E+vXr5dadmJiIpUuXSqXp6elh3rx56N+/PzIyMljJU5mXL19i1KhRaNGiBZo3b46uXbtiyJAh6N+/Pzp27IjmzZvjxx9/1KjuqqR79+6wsbHR2TlNkW2wGff31TYePXqEESNGwMbGBs2bN4ednR0mTpyoUV0SuPO/Aoijyjh8+DABoFOnTlW3KBpx5MgRAkB//vlndYtS63VZE7l+/ToBoODgYJ3We+3aNTIzM6PU1FQm7a+//qKPPvpI67qVyZyfn08pKSlat6EO1WWXbdq0IQ8PD63qKCwspLFjx1KjRo3o4MGDMvm3b9+mBg0a0O7du7Vqp7YiFArJyclJrm4kbN++ndq2bUuTJ0+m8+fPU1lZGRERvXz5klxdXcnR0ZHatWtHAKhRo0b06NEjpW2+fv2a+vXrR2FhYZScnEyRkZFUr149OnHihFS5y5cvk5WVFSUkJNCvv/5KTk5OVFBQIFXG3d2dbt68KbedJUuW0BdffMFGDQqZMmUKAaBLly5JpS9YsIBGjhypVd1VxbFjx3QyXxXZBptx/xBsIygoiADQvn37pNI19dHc+V8WLnivQk6dOlWrDU4if00I3mu7LmsqsbGx9Pr1a53WOWbMGOrWrZtMeu/evenNmzda1y9P5jdv3lC3bt1o7969WtevDtVll46OjloF72KxmPr160d16tShe/fuKSy3adMm+vnnnzVupzYTERFBzs7OJBaLZfJKS0tp0qRJ1KZNG7p//75M/qhRo+j06dPM7507dxIAGjp0qNI2g4KCqEePHjJpFhYWJBAImLQ+ffrQuHHjmN8WFha0YcMG5veuXbto+vTpCtvJz88nCwsLOnDggFJ5lBEeHk4AKD4+Xio9Ly+PBg8erHG9VYmu5qsi22Az7h+Sbfz1119MmjY+mjv/y8Itm3nPEIlE1S0CRy2iV69eMDc312mdT58+xZMnT2S+Lnv8+HGYmppqXb88me/du4f4+HiZsoWFhVq39z7y22+/4cyZM5g2bRratWunsJyPjw/at2//DiWrOWzatAmjRo0Cj8eTyQsMDMSxY8cQFxcHe3t7qbzi4mL4+/ujX79+TNrYsWNhb2+PK1euKGyvoKAAmzdvRu/evaXSfX19kZeXh507dzJpV65cga2tLfP7448/xt9//w2g/D2TyMhILFy4UGFbZmZmGDx4MLZs2aKwjCr09PTkptevXx979+7VuN7agDzbYDPuH5ptVLQRRT6aQzN0Erxfu3YNI0eOhJ2dHT777DOcPHmSySssLMT8+fMxZswYuLu7IzAwEOnp6Ux+cXEx9uzZg9GjR2PhwoV4/vw5vvrqK2atVH5+PgBg+/bt6NSpE7p06YLff/9dqn1d1MFG1pKSEkRHR8PPzw9z585FVlYWAgIC0KZNG3h5eUmVlcekSZPg4+MDHx8fjBkzBkKhEAKBAH5+fkz62bNnFR5fVlaGiIgIjB49Gh4eHpg0aRIA4O7du/j+++9hb2+PAwcOID4+HoMHD4azszOCg4OZ/qvTV3ls3LgRI0eOxJAhQzB8+HDcuHGDyRMKhVi8eDGGDRuGTz/9FLt27dKJzlSRkpKCkJAQ2NvbY+TIkXj58iWTp0nbcXFxGDNmDAICAjBu3DhERkYiNDQUQUFBOHv2LKZPnw4vLy8cPXoUAJCcnIwffvgBo0ePxuTJk9WST1V7FddmKtIvoNgulFFQUICdO3di7NixmD9/vsb6koerqyuysrIQFBSEoqIiJt3Y2Jj5f2hoKGPzvr6+ePDgAYDytaDbtm1jyi1ZsoQpFxISIiMzAJw8eRJz5swBAKxatQo+Pj5Yt24dAMDPzw/u7u4YMWIERo0aBV9fX/j4+GDPnj0qdVtUVIQ9e/Yw+khLS4OHhweGDBkic2FSGUXjrqmOL1y4gODgYLi7u8PFxQVPnjyRW04gECiVS8KmTZsY/Sijfv36GDRokFSapvrSlZ/WtW7lcfv2baSkpMDDw0Mm76+//sL27duxatUqNGnSRCbf0NAQ7u7uMulWVlYwMjJS2OaDBw8gEolkdhGSXBzcvXsXAJh3HSoGjjwej/kdGhqKWbNmwczMTGkf3d3dcf78edY2w5bbt2/DxMQEALs5pMy3aTKmyuIRCUSEqKgoDBgwAO3bt0dYWBjrG1+KbIPNuH+otqHMRwOqz5McctDmtr1YLKbp06fTrFmzKC0tjf79918aNmwYjRo1ioiIcnNzydbWliIiIoiIqKysjAIDA8nc3Jx51JaXl8esj3J1daVJkybRnj17aPHixaSnp0eDBw+mgIAAioyMpH379pGzszPp6+tLrQ/TRR1sZH39+jVNnjyZAFCnTp0oICCAoqKiaNmyZVS3bl3q1auXlH4qP+p58+YN9e7dmwDQyZMnmXKpqanE5/PpwoULSvUdGhpK/fr1I6Ly9aqOjo6UlpZG9+7do+HDhxMA6t69O4WGhlJ0dDSNHj2aAFC7du1IKBSq1deK8kuWzeTm5pKFhQVt3bqVRCIRU66goIDc3NwoNjaWiIiOHj1KAGjXrl1q60wR8h6bLVq0iDp16kRPnz6l+Ph4MjExIT8/PyZf3baPHj1KBgYGlJiYSEREBw4cIAA0bNgwOnXqFL19+5Zmz55NAGj79u1EVP74/PLly2RsbExdunSRqk+VfKraY6NfIsV2oYzs7GwKDAwkABQUFKSRvhTx6tUratmyJQGgNm3a0MWLF2XKlJaW0tChQwmA1JrNQ4cOkampKbNGUyQSkaenJ40YMYIyMjJkZCYqn/8Snaxbt44yMjJIIBCQWCwmKysrOnDgAAkEAhKJRPTpp5+Sqakppaenq9RtXl4eTZs2jQDQ+PHjycPDg1xdXcnCwoJZtqOuXWqi42+++YZGjx5Nb9++JaLydbvGxsYyy2YmTJhABgYGdOvWLaXjU1paSnw+n3g8HhUWFiotWxlt9KULP61r3Spiw4YNxOfzmTXsFXFzc2N8ZXBwMHl4eNAPP/xAL1++VFifWCymxo0b05QpUxSWycrKIgDUuXNnqXSBQEAAyMvLi0nr3bu31NKIBg0a0Pr16+nmzZvUv39/Vn28c+cOAWDGUl2WLVsms2xGIBDQJ598wvxWZROqfJs6Y6oqHiH6b7727t2bli9fTjExMTRu3DgCQOvXr2fVb2W2URk24/4h2IYiH02k+jxJxC2bkYdWwfuKFSvkrruUBHa+vr708ccfSwV6xcXF1KBBA2rXrh1j/IWFhQSAfH19peoZMmQI8Xg8qfWtly9fJgC0efNmqbLa1sFW1oKCAgIg5RCIiCZOnEg8Ho+KioqYNHkGJ2l70aJFTNrp06dp4sSJMnqsjLOzM40fP575ffHiRbpz5w4REf35558EQOblMn9/fwJAW7ZsUbuvlYP3cePG0ZkzZ2TkCgkJkZJLLBZT06ZNycXFhYjU05kiKuuyoKCAzM3NaefOnUyZUaNGUdOmTaWOU6ftrl27MjJLsLKyYgJjov/Gb8+ePVLlXF1dpYJ3NvKxaY9ItX6V2YUyJHOmYiCsi7EiKg/gJSdFHo9HAQEBlJubK1UmPj6eANDatWuZNElAv2PHDiatV69e9ODBA4UyV6yr4nrKJ0+eUFhYGPN77dq1BIBWrVrFpKnSraQ9c3NzevLkCRGR1IWwJnapjo43bNhAlpaWUmtaieSveZ8yZQoZGxsrXcNORJSZmUkAqEGDBkrLyUNbfWnjp3WtW2UsWLCALC0tZdJzc3OJz+dT8+bNad68ebRz506aOnUq8fl8sra2ppycHLn1HTx4kBo3bkwZGRlK2+3Xrx8BoJCQEEZWiY199913TLlLly6RlZUVJSYm0pYtW6h9+/YkEAioZ8+e9ODBAzp79iwNHjyYfH19acaMGVK+XkJ2drbMnFEHSYDm7OxMbm5u5OTkRPr6+mRqaipVTplNqLInIvZjqioeIfpPlxVfNC0rK6NmzZrJ+F1FKLINebAZ9/fZNipe2Mnz0WzP41zwLotWy2bWrFkj80gVAPh8PkpLS3Ho0CG4uLiAz/+vmbp162LgwIFITExEYmIigPLH6fr6+rCwsJCqp23btiAiGBoaMml2dnYAILMXqTZ1qCOriYkJ9PX1Zdbc2tnZgYjw6tUrZSrD559/Djs7O6lHgzt27EBwcLDS4wDAwcEBO3fuRHBwMF69eoXu3bvD0dERAJi1xPr6+lLHSOq9fv262n2VQERYsGAB3Nzc0LdvX6m8srIyrF27FleuXEGfPn0waNAg+Pj4oEmTJsxaWW11Jg8TExNkZmZi7NixAIDc3FwIBAKZutRpOykpCXXq1JEq16hRI6l10xL9Vl7vaWBgoLZ8bNpjo19ldqEMyZypLLcuxqpBgwb47bffEBMTg6ZNm2LLli347LPPpPrm6uqKZs2a4fDhwwCAV69eQSwWw8LCAjt27ABQvkazpKQEbdu2VSizImxsbLBgwQIA5evwf/zxR3Tq1AnffPMNAHa6lbTn5eUFGxsbAJAZs4qwGXd1dDx//ny4urqiXr16Kvu7fv165ObmKl3DDoCpKzc3FwUFBTL5t2/fxhdffIGPPvoIRkZGaNSoEZYvX64TfWnjp3WtW2Xk5OSgQYMGMumpqakQi8Xw9vbG4sWLMXbsWKxbtw4///wzMjMzER4eLnNMXl4efvjhB+zfvx9NmzZV2u6OHTvQu3dvLF++HGZmZnB0dGSWkVVcx+zm5oaTJ08iKioKb968QVxcHPbt24cePXrAyMgIQ4YMQXh4OPbu3YurV6/Klathw4YAgOzsbFY6UcSmTZtw6dIlJCQk4Pnz52jevLlUviKbYGNPAPsxVRaPVKbiEj49PT04ODiwXlalyDYqw2bc33fbUAXb87g8xGIxRCKR1N+HBLuzoByePn2Kp0+fMmvbKnP37l0IhUK5L6i1bNkSAPDw4UM4OTkpbEPeSVLZiVPTOnQhK9uAAgAmTJiAOXPmID4+Hu3atUNWVhY6d+6s8rjVq1fj5cuXWLduHaKjo7FkyRKVH4ho3bo1ADDORpO+Lly4EJcvX8aAAQMwadIkqcA1KSmJ2Xs7ICBArqNUhDo6k4exsTFu376NX375BVm6lbgAACAASURBVIWFhXJfLFOnbRcXF8THxyM/Px/m5uYoLCzE48ePMWPGjCqRj017bPSriV2oi6ZjNXDgQNy9exe+vr44ffo0tmzZgm+//RZA+VpMLy8vbNiwAbm5uYiOjoa/vz9sbGyYPYyvX78Ob29vreWfOnUqCgsLsXHjRsZ+1bHdikGlKjS1y8o6TklJQU5ODpo1a8a67bp166osY2pqilatWuHx48e4c+cOPv30U6n8Dh064MSJE/jjjz/g7e2NGTNmICQkBHfv3q0SfQHsfb2udKsKc3NzuRc2JSUlAGQv1qdOnYo5c+YwLwZWJCAgADNnzkT37t1VttukSROcP38eT58+xatXr+Ds7Aw/Pz8YGBhg6NChUmU7duyIjh07AigPejZt2oS4uDhERkbC0NAQzs7OAICePXti06ZNCA0NlTpe0j9dvrDesGFDREREyM2rbBPanDsA6TFVFY+oom7duirfY5GgyDYqw2bcPyTbUISmc3rAgAFS7wh26dIF165dqyoxaxwa33mXbJh/7949ufmSSfTs2TOZPMkVUsWrxerkXcs6duxY6OnpYdeuXfj9999Zf8TAysoKf/75J/bv3w8DAwNMnToV27dvV3pMTk4OgHLDBjTra1hYGMLDw3Hq1Ckm8JIgcXhpaWlqO19t+fbbb+Hp6YnAwEBERUXJ7PqgLlu2bIGtrS2GDRuGAwcOwM/PD3379sXcuXNlyhKLD+Soko9Ne2z0q4ldVBV5eXk4fvy4VJq5uTl+/fVXAEBCQoJU3rBhw1BWVobjx4/j9OnTGDRoEAICAkBE+O2333DixAmMGDFCK5n27duH48ePIzg4GC4uLkx6VdmuruyytLQUALR+qVsekhdVV61apbBM48aNAZQ/DQKqd65L0PWcV4SVlRXjOysi8Y2ZmZlS6UZGRrC2tpYJHhcvXoxPPvkEQUFBarXfvHlzdOzYEcnJyTh8+DDGjRsHa2trheVnz56NsLAwGBkZ4dGjR8wdbkldGRkZzIWHBEn/rKys1JJNFUOGDGFVTpf2pCoe0SWKbKMibMb9Q7QNeWg6p/ft24eXL18yf+fPn69iSWsWGs8Ye3t7mJiYYM+ePTJLWAoLC2Fra4smTZrgypUrMtu1PXnyBPXr15d6vEvl6++lyskLkCRpivI0qUOXslZMVyRr06ZN0bdvX+zbtw+HDh1iFZxkZGQwX0Tz9vbGlStXwOfzcfnyZaXHnTlzBp06dcLgwYPV7mtF+X/88UeMGjUK69atw9q1a5lj7OzsYGRkhG3btsm8mV7xMRZbnSmictknT57gf//7H0aPHi0VkInFYrnHsmm7Xr16aNGiBcaMGQM+n4+ffvoJBw8elLrLJtkRoPLJu3JdbORj054q/WpqF6p0o+lYmZqaYv78+TKPMK2srMDj8ZilEBK6d+8OS0tLrFixAvb29tDX10eHDh3QpUsX7NixAwKBQObOszz5JFTc3QYov+s0bdo0NG3aFEuWLGHSd+zYAWtra41tt2JexX/Z2iUbHbdt2xampqa4ePEinj59KtO2Iltnw/fff4+WLVviwIEDKr9WK6lTm7leuT5N/LQudasKBwcHlJaWIjU1VSr9o48+Qtu2bREbGyvVrlgsRl5eHrp168akrV69Gm/fvpX62mhmZqbMBZMimQoLC+Ht7Y3WrVsrvJsNAFevXkVubi6zZMTS0lIquMzJyYGZmZnMU5mHDx8C+G950ubNm9UKgCT9l2eHlZE3JmztSdHxFcdUVTwi7xhV9StCkW1IYDPuH7JtVPTR6szpiv8CgIWFBRo2bMj8sVla+D6hcfBuYGCAuXPn4tWrV+jTpw+OHTuG+/fvY+vWrQgMDASPx8Pq1ashEAikjCs3NxfHjh3DunXrmMeiWVlZEIlEMuurJJ/off78OZOWlpYmk6ZtHXw+n7WsOTk5StupmC454cr71PCECRPw6tUrtG/fntUj5kaNGmHZsmVM0GhlZYV69eqha9euUuVu3brF/P/u3bvYvn079uzZw8ivTl8lbUnk37ZtG1xcXPDdd98hKioKQHkwO3PmTLx48QJ9+vTB2bNncffuXaxcuZL5bLQ6OlNEZV3WrVsXfD4fZ86cQUZGBh49eoRLly5BKBTi9OnTyMrKUrvtbt264cKFC2jSpAlzAZOamip1ImndujXq1q2LjRs34uHDh8jMzMTPP/+MxMREpKWlMfWxkY9Ne6r0y9Yu5PH8+XOIRCKpCxFtx6pOnToQCoUy+wgfPXoUVlZWmDBhglS6np4ePD09cefOHam8gIAApKeny7xjIU9m4L81mmfPnkVZWRmTP3PmTGRnZ2Pt2rWMc79w4QJ++eUXNGrUSKXtZmdnQyQSyX1SBWhml2x1zOfzMW/ePLx9+xaenp64fv06cnNzsX//fmRkZCA5ORmpqanMCW3u3Llo3Lgxc+JVhpmZGU6dOoVWrVphyJAhuHjxokwZyXaUksCKzVxXpS9t/LQudauKXr16oX79+jh37pxM3rJly5CRkYHNmzczacePH0fdunUREhICoDzYWbVqFRo2bIiVK1cyOho0aJDUcqBZs2bBysoKKSkpUm3cunULXbt2RZ06dXD69GmFa6zFYjFCQkKkgr7hw4cjKyuL0VtCQgKGDx8uc+y5c+fQqVMntGjRAmVlZQgPD4e7uzt2797NSkeSILnyubgyimyCjT0B7HySqnhEMkckMlSu69mzZ3jx4gWrAF6ZbbAZ9w/JNipeKMjz0WzP48piqQ8W9u+2yiISiWjx4sVkaGhIAIjP55O/vz+VlJQwZf744w+ytrYmHx8fWrx4MfXo0UPqzeIzZ87QJ598QgDIxMSE+ZrfV199RSYmJgSAXFxc6N69e/Tnn3+Sk5MTASALCwsKDw/XWR1sZL148SK5uroy7Ui+UrZo0SIyNzdntrO6du0arVmzhpo2bUoAqGnTplI7XBARFRUVEY/Ho+TkZNb6/uKLL6hFixYUFhZGAwYMoG+++Yb5wpvkTe66detS8+bNqWfPnhQUFCSzwwfbvkZGRjLyN2vWjJH/2bNnZG1tTQDoiy++oOzsbCotLaWQkBCqU6cOASBjY2OaN28eiUQitXSmCEW6XLp0KfF4PNLX16cJEybQ8ePHqU6dOtS2bVv6+++/1W5727ZtjC1X/LO2tqa4uDhGnpUrVxKfzycA5OjoSHFxceTm5kZmZmY0YMAAZkxVyce2PWX6VWUXirh27RqjG0NDQxo1apROxkpS3sDAgNzd3WnJkiU0ZcoU8vDwULgDzokTJ8jV1VUqLT8/n8zMzOjFixdKZa6Ih4cHAaDGjRvT8uXLmTlhaGhIvr6+NGLECHJyciI+n08rV65Uqdt///2XunbtytTh5eVFT58+ZdrTxC4jIiLU0nFZWRnNnTuX9PX1CQC1b9+eoqOjqX379tS4cWPy8fGh1NRUIiLy8fEhQPqrhqrIz8+n+fPnU7NmzahPnz60aNEiWr16NU2aNIksLS2pQ4cOUjsraaMvXfhpXepWFf7+/gq/FLpz505q2LAhjRs3jmbOnEl9+/ZldkQ6f/484x/k/Um2hiUi8vLyIh6PR1evXiUioujoaBo4cCB17tyZNm3aJHcnkIqsXbtW7hdwFy5cSH369KH58+dTly5dpOYRUfmuLvb29sx2wUTl5yQ7OzupbQblkZ6eTiNHjmR810cffUTjxo2Tu1uKKptQ5dvU8Umq4pGtW7eSjY0NAaAWLVrQvn37SCQSkY+PD+np6REAGjhwIGVnZyvtP5F822Az7u+7bSQnJ5Ovry8zBtbW1jRp0iQmv7KPJlJ9nlQVS32oaBW8SygtLaWEhAQZI6hIeno6JSUlqTS4msC7kDUzM5N69uyp9nHPnz+nGzduKNx2LyoqipKSkqi4uJhVfZr0taSkhIqLi2X2uS0uLqaEhATWbeuCzMxMevbsGfP7+fPnUheP6vD27Vvy9vamyMhIio2NpcOHD9PSpUvJ1NRUZg/3zMxMqf2n09LS5O77q0w+ddojUq5fRXZRXRQVFVFCQgLFxsZK9V8eQqFQ7r70FfXLBokfkuyHrg66tl1d2iVR+TcikpKSmN8VAyAJQqGQ2YpPE5KTk+nChQt0/vx5evDggdI94KtjrkvQtW4VkZWVRRYWFpSQkCA3XyQSUWJiotLznioqj9nNmzdVbhlYkX379kltxVmR169fMxcUlTlw4AC1adNGZutMV1dXWrNmDev2dYUu7YlNPKItqmxDF7yPtqHIR7+rOf0+oZPgnUN9Zs+eLbWXtbbI20OVgz1CoZBcXV1p48aNMnkLFiygNm3a1Or2ODg41Gf79u3Uv3//WnHTiS0CgYA6dOgg9VHAkpISmjhxIk2fPp3Vx4c4ONvgqF6026uPQyPu3buHLVu2MGs6dYFknTSbl4c4ZDlx4gT++ecfREZGyuQVFRXB09OzVrfHwcGhPhMmTAAR4YcffsCKFSuqWxytEYlE8Pf3x8qVK9GzZ08m3cDAAIsWLVJrW9IPHc42OKoTLnh/x9y4cQMDBgyAp6enxnvSyuPOnTsAgAcPHuiszg8JOzs7GBgYYNq0adi+fTucnZ1RUlKC/fv349atWzh69Gitbo+Dg0MzJk6cKHe3n9qInp4eVqxYIbVdoAQuOFMfzjY4qovq2az3A+bhw4fIz8/HV199pbM6169fj927d8PNzQ3nzp2Dt7c36w9OcJTj4OCAI0eOoKysDJ06dYK5uTlcXFzw+vVrnDhxgtXHb2pyexwcHJpT+auhtRl5wRmH5nC2wVEd8IhYbm7KoTNKSkq44KwGU1xcDD6fL/MVxfelPQ4ODg4ODo7aCxe8c3BwcHBwcHBwcNQSuGUzHBwcHBwcHBwcHLUELnjn4ODg4ODg4ODgqCVwwTsHBwcHBwcHBwdHLYEL3jlYU1xcXN0iqAURQSgU1ph6ON497/PYvc99+1CpqT72Q7S1D7HPHLWH9yp4T0pKwpQpU6pbDKWIRCL4+PjgxYsX1S0KKxITE+Hv7w8HBwd8+eWX1S0OKw4dOgRPT080bNgQsbGxGtdz5MgRDB06FJaWllrVU5naYKdA7bPVilTV2NUEdGXfHDWDmuxj3+d5VBmJX/7Q51dt9vsfEloF78XFxZg5cyb++ecfXcmjMbdu3YKfnx/CwsJk8s6ePYvQ0FCEh4cjISFBo/ojIyPx+vVrqbQ7d+5g4cKFWL9+PfLy8mSOSUxMxNKlS6XS9PT0MG/ePPTv3x8ZGRkayfIuadWqFcaPH4/k5GSoszFRVlYWfH19YWNjg+bNm6Nr164YMmQIBgwYAFdXVzRv3hyTJk2qEpnd3NxgbW0tMybq2mv37t1hY2OD3NxcncmmyE7/+usv7NmzR+ZP1Z04sViMmJgYhIaGYt26dXj8+LHcctVtq+/aHqpi7KoCTXyoIvuuDlk4tEdTH6sp6oxzbZlH2lLRL1fV/NIF72KO1rYY5YOFtOD69esEgIKDg7WpRmuEQiE5OTnRwYMHZfLGjh1LEydOpPT0dDp27BhZWFjQjh071Kp/69atBIDS0tKYtMuXL5OVlRUlJCTQr7/+Sk5OTlRQUCB1nLu7O928eVNunUuWLKEvvvhCLTmqkzZt2pCHh4faxwUFBREAunTpklT6r7/+Sr1799aVeDIcPnyYANCpU6eYNE3s9dixYzL1aIoyO3V3dycAUn+2trYkFosV1vf69Wvq168fhYWFUXJyMkVGRlK9evXoxIkTUuVqkq2+S3vQ5djpgvz8fEpJSZFK09SHyrNvbakp/vxdI29c3sWxldHUx6qLsnGW1x9dzaNbt27RyJEjKTExUWXZhIQEGjFiBNna2lKvXr3ol19+kVvu9OnTNGLECGrdujV16NCBpk2bRqmpqWrJJc8vV8X8Uhdd+gtN0KXfP3jwIE2dOpWGDRtGHh4eFBAQQHv37pU6v0nsQ95fRZuZN28ejR8/nvr160deXl4UEhJCycnJOpGzNqHVnfdPPvkEsbGxWLJkiTbVaM2qVavA4/EwdOhQqfSDBw8iKioKP/30E5o3b47Bgwdj8uTJ+PbbbyEWi1nVnZKSgh9//FEmff78+ejXrx+cnJwwefJkZGRkYNeuXUz+7t274eTkhI4dO8qt95tvvsHff/+NP/74Q42eVh+aflRK8vW5OnXqSKVPnDgR+vr6WsulCENDQ5k0Tey1stzaoMhOASAnJwdZWVl4/vw583f9+nXweDyF9c2ePRvFxcVYsGABbG1t8d1338HPzw9jxozBmzdvmHI1yVbfpT3ocuy0paCgAP3798e1a9ek0jX1ofLsW1tqij9/lygal6o+Vh7v6sN9isZZUX90NY+eP3+OvXv3Ijs7W2m5+Ph4fP7550hKSsKYMWPQqFEjBAcHIzg4WKpceHg4BgwYgOTkZHh7e6NHjx44dOgQ4uPj1ZJLnl+uivmlDrr2F5qgS79/9OhRbN26FQ0bNkTbtm2RlpaGkSNHYvjw4UwZtvaxYsUKxMfHo3Xr1rCwsEB0dDQcHBxw6tQpreWsVVT31YMuaN26Nf30008y6d999x2ZmpqSSCRi0jZt2kQA6MWLFyrrLSsrIy8vL5ozZ47MnXcjIyNatGgR87tz5840duxYIiq/I9qpUyfKz89XWv/YsWNpwIABKuWoCTg6Omp0V2jZsmUEgOLj42XyysrKdCGaXE6dOqWTOye6qodIsZ2KRCLq0qWLWnW9efOG9PT0aMGCBVLpsbGxBEDqTlVNstV3aQ+6HDttiY+PJwC0d+9endRXk/pWm9FmXHQ9ppr6WF2hqD+69qUXLlxQWq5v377Upk0bEggETNrcuXOJx+NRUlISERHdvHmTeDwejR8/XspvlJaWklAoVEsueX65uueXrm1LU3Tl9ydMmECWlpZSaf/73/8IAMXExBARe/swNDSkoKAg5vfbt2/JwcGB7OzstJazNqHxnfeCggLs3LkTY8eOxfz586XyUlJSEBISAnt7e4wcORIvX75k8kpKShAdHQ0/Pz/MnTsXWVlZCAgIQJs2beDl5YX09HS15Lh9+zZSUlLg4eEhk2dtbY2CggKsWbOGSbt+/To6deqERo0aqaw7PDwc48aNQ8OGDaXS6f/XJVa8K8rj8ZjfoaGhmDVrFszMzJTW7+7ujvPnz0MgEKiURRWKdK6pvi9cuIDg4GC4u7vDxcUFT5480VrGikRFRUFPT09jGePi4jBmzBgEBARg3LhxiIyMRGhoKIKCguSuz1Rkr2VlZYiIiMDo0aPh4eGhcN01ESEqKgoDBgxA+/btERYWBpFIxLq/yuz02bNnaNGiBeu6AODBgwcQiUQya+Lt7e0BAHfv3mXkBmqWrcqjoj1IUOZHKnLt2jWMHDkSdnZ2+Oyzz3Dy5EmpfG3Hjo08RUVF2LNnD2PDaWlp8PDwwJAhQ3Ds2DHMmTMHQPldPh8fH6xbt06pD2XTL3kIhUIsXrwYw4YNw6effir1hEUZymRhO0cUoYvzgSY+orCwEPPnz8eYMWPg7u6OwMBAqXInT56UOy5s5FZ1LJtx0NbHhoaGwsfHBz4+PvD19cWDBw8AAKWlpdi2bRtTbsmSJUy5kJAQueOsqj+A7uaRMlJTU3H27FlMnDgR9erVY9K//fZb8Pl8bN68GQCwYMECmJqaYs2aNVJ+Q19fX60nBcr8sjxU2VRFVM1fRfalaCxU+QtVsmkyh6rS748aNQoAtH5yZWRkhCFDhuDhw4coLCzUhWi1A02j/uzsbAoMDCQAUldBixYtok6dOtHTp08pPj6eTExMyM/Pj8l//fo1TZ48mQBQp06dKCAggKKiomjZsmVUt25d6tWrl1pybNiwgfh8vty7dnl5eeTo6EgAyMvLi/bv3099+vShrKwslfXGx8fTuHHjiIhoxYoVMnfee/fuzeQTETVo0IDWr19PN2/epP79+7OS/c6dOwSAYmNjWZVXhDKda6Lvb775hkaPHk1v374lovI1j8bGxlrdeT979iy9fv2a0tLS6I8//qCuXbsyZdSV8ejRo2RgYMCsgztw4AABoGHDhjF3SirfOVFkr6GhodSvXz8iIiosLCRHR0epcZbU07t3b1q+fDnFxMTQuHHjCACtX7+etR6U2enFixfJ09OTwsLCqGfPnjR06FBau3at0jvRWVlZBIA6d+4slS4QCBh7l1CTbJWNPRCp9iNERGKxmKZPn06zZs2itLQ0+vfff2nYsGE0atQoItLd2LGRJy8vj6ZNm0YAaPz48eTh4UGurq5kYWFBaWlpdPToUQJA69ato4yMDBIIBAptUlW/Kvat4p3BgoICcnNzY8ZI0uauXbtU9k+RLESq54g2emM799X1Ebm5uWRra0sRERFEVP5UJzAwkMzNzZmnPnl5eXLHhY3cyo5lMw668LGlpaU0dOhQAiD1nsuhQ4fI1NSUea9FJBKRp6cnjRgxgjIyMuSOs7L+6GoesbmzeubMGYV+pn379jRkyBAiImrSpAn5+vqyblsRivyyvPnFxqaI2M1fZfalaCyUzVE2smkSC+jK78u7856RkUEAaMWKFUSk+Z13ovJ3qfh8PhUXF2slZ21Cq2UzhYWFUoZUUFBA5ubmtHPnTqbMqFGjqGnTplLHFRQUEAApYyYimjhxIvF4PCoqKmItw4IFC2SMoiICgYBcXFyYlwBXrlypss6CggL6/PPP6eXLl0QkP3i/dOkSWVlZUWJiIm3ZsoXat29PAoGAevbsSQ8ePKCzZ8/S4MGDydfXl2bMmCG1dEdCdna21o/G2OhcHX1v2LCBLC0tpR5ZEmm/bKZbt240YMAA6tatGzVo0EBmmYg6Mnbt2pVcXFykyllZWTEBBpF851vZXomInJ2dafz48czvixcv0p07d2TqqfgyU1lZGTVr1kyqPVUos9O///6b5s6dS9HR0bRmzRrq2rUrAaC+ffsqfWG1X79+BIBCQkIY/Ujk/e6775hyNcVWidjZA1s/smLFCrk2KZFfV2PHVh6JfZmbm9OTJ0+IiJhH+Ioeg8uzSVX9qti3ivYdEhIiZctisZiaNm0qM1cUIU8WItVzRBG6Ph+o4yN8fX3p448/ltJZcXExNWjQgNq1a8cEa/LGha3cisZU1Tjo0sdKZFi7di2TJgnoK27M0KtXL3rw4AERKR5nVctmtJ1HbIKzbdu2EQC59tW7d2/q0KEDvXnzhgDQ7NmzWbetCEV+Wd78YmtTquYvG/tSx1+oI5u6sZeu/H7l4F0sFtP3339PAOjKlStE9J/OnZycyM3NjfkLDw+Xqqty8B4bG0tmZmZSN6w+BLR6Q8zY2FjqJTMTExNkZmbC2NgYAJCbmwuBQIBXr15JHWdiYgJ9fX2Ym5tLpdvZ2YGI8OrVKzRt2pSVDDk5OWjQoIHcPMnjXnt7e8ydOxfBwcGYOXMmrl69ir179yp8GXD69OmYMWOGzHKZiri5ueHkyZOIiopCw4YNERcXh3379qFHjx7MY5yrV6/C2dkZbm5uCA8PR2hoqFQdkvpVvaChDDY6V0ff8+fPh6urq9QjS12wevVqdO3aFUD5I/rK+xmrI2NSUhLat28vVa5Ro0YqH5lVtlcAcHBwwM6dO2FqaoqFCxeie/fuCo+VoKenBwcHB7WWeCmz008//RSffvop8zs4OBhffvklTpw4gcOHD8PLy0vucTt27ICfnx+WL1+O1atXo23btoxebG1tmXI1xVYroswe2PqRNWvW4LvvvpOpm8+XXg2o7dixlUdiX15eXrCxsQGg+mU/eTbJtl8VKSsrw9q1a2FjY4M+ffrA0NAQxsbGaNKkicxcUUcWgP0cqYyuzwdsy5WWluLQoUMYOnSolM7q1q2LgQMHYs+ePUhMTISTk5NWcsuDzTjo0se6urqiWbNmOHz4MIKDg/Hq1SuIxWJYWFhgx44dGD9+PPLz81FSUoK2bdsCUDzOqtB2HrFBsgzQwMBAJs/AwABFRUWMnzcyMtK6PWV+uSLq2JSq+auNfckbO3VkUzf20qXfFwgE8PHxQVFRERITE5GamoqQkBB069ZNRpZmzZoxvz/++GOZuvbs2YOYmBi8fv0aAoEA3bt3Z5ZUfSjofLsPY2Nj3L59G7/88gsKCwuV7pYhI4wGDsXc3BwFBQVy86ZMmYLz58/j4cOH0NPTQ58+fTBs2DD8/vvv8PT0xOjRo2WOOXLkCE6cOAFbW1tEREQAAC5evAgA2LBhAywsLPD9999DT08PHTt2ZHboyM3NxaZNmxAXF4fIyEgYGhrC2dkZANCzZ09s2rRJJiCSyF15IqmLpjqvrO+UlBTk5ORITZyqwNTUVGY9pSLk2YSLiwvi4+ORn58Pc3NzFBYW4vHjx5gxY4basqxevRovX77EunXrEB0djSVLlrD6gFLdunVRVlbGuh1ldloZPp+PGTNm4MSJE7h7967C4L1JkyY4f/48nj59ilevXsHZ2Rl+fn4wMDCQ2dGmptiqPOTZgyqbfvr0KZ4+fQoTExO121N37NjIUxFtdqrQtF9JSUnMHtABAQFKA3110XSOAO/mfFC53N27dyEUCmFqaipTtmXLlgCAhw8fKgzetZFb1Tjo2sfyeDx4eXlhw4YNyM3NRXR0NPz9/WFjY8N89+H69evw9vbWSXsV0WQeqUISOMoLZHNyctC8eXM0btwYxsbGOrlwYOuX2dpU/fr1Wc1fbeaFprIps3dFc03Xfl9fXx8fffQRJkyYwHzjozLBwcHo2bOn0no6duwIPz8/JCUlYfXq1QgNDVV6s/V9ROdfWP3222/h6emJwMBAREVFMS/QVRVWVlbIycmRSS8uLsbOnTsxaNAg5oWWevXqYcOGDQCAq1evyq3PwMAA3377rdpyzJ49G2FhYTAyMsKjR4+YO29A+fZ4GRkZKCkpkTpGIreVlZXa7VVEVzovLS0FAJ3fTZGHg4MDgPJgRV22bNkCW1tbDBs2DAcO/esf/gAAIABJREFUHICfnx/69u2LuXPnql2XlZUV/vzzT+zfvx8GBgaYOnUqtm/frnY9bNqRZ6eKaNy4MQCgc+fOKss2b94cHTt2RHJyMg4fPoxx48bB2tpaYfnqtFVFVLYHVTYt+YDKvXv3qkSeyrwrv6ZpvyRBVFpamk4Dd0C7OfKuzwcAmMDp2bNnMnmSFywrPpmSh6ZyqxqHqvCxw4YNQ1lZGY4fP47Tp09j0KBBCAgIABHht99+w4kTJzBixAidtVeVSC5qJC/fSigtLUVKSgqz1Wzr1q0VnsPVga1fZmtTbOevLueFLuxdEbr0+2ZmZoiOjsb27duZp0+a0r59e0yePBmRkZHo2bMnZs2a9U4+cFaT0NrLU/m6eQDAkydP8L///Q+jR4+Gi4sLU0benuoVj6uYVvFfNjg4OKC0tBSpqalS6fr6+tDT05MJQpo1awYejwc7OzuZdgFg4MCBmDVrltRf7969AQBBQUGYNWuWzK4YV69eRW5uLgYNGgQAsLS0lHIIOTk5MDMzk9nH9+HDhwAgJcvmzZtx/vx51v1nq3M2+m7bti1MTU1x8eJFuUE1273x5R0j7w5NYmIivv/+e7VkBMovwlq0aIExY8aAz+fjp59+wsGDB6UetSqypYptZGRkMF8V9fb2xpUrV8Dn83H58mW16mGDIjtVxI0bN+Dg4IBevXrJtCuPwsJCeHt7o3Xr1swTI3no0lY1cZZs7IGNTdvb28PExAR79uyR+Yy35LG6rsZOW79WkaKiIqXHsOmX5JiK/9rZ2cHIyAjbtm2T2RlCnR1BKsvPZo4ooirOB2zK2draokmTJrhy5YrMUronT56gfv36aNeunVR6xXFRR+7Kx6oah6rwsd27d4elpSVWrFgBe3t76Ovro0OHDujSpQt27NgBgUAgc6dfmZ1WtlFdzSM2dOjQAR9//DF+//13qfTjx48jPz+feYIwceJE3L17V+s9yBX5ZU1tis38Vce+VPkLdWRTdLy8/krQRYxSlfB4PGzcuBEJCQmIjo6ubnHeKVoF78+fP4dIJEJmZiaA8sdofD4fZ86cQUZGBh49eoRLly5BKBTi9OnTyMrKAlAeIIhEIpl1VJJP8aqzvqpXr16oX78+zp07J5Wur6+P4cOH49ChQ1KP4GJiYtCsWTPGCcyaNQtWVlZISUlR2IbECct7vCYWixESEoJVq1YxacOHD2c+uAMACQkJUh8jkHDu3Dl06tSJ2SawrKwM4eHhcHd3x+7du1n1n43O2eqbz+dj3rx5ePv2LTw9PXH9+nXk5uZi//79yMjIQHJyMlJTU9Vy2JIxT0pKkkovKSnBDz/8wFx9q2MT3bp1w4ULF9CkSRPGKaWmpkoFKZITY8XPO1e210aNGmHZsmXMbysrK9SrV49Ziw38dzejslzPnj3DixcvWOtCkZ0CwMiRI7F9+3apu3a//vorjh8/LvX4VZGt3rp1C127dkWdOnVw+vRphWs4dWmrbOaNPNjYAxubNjAwwNy5c/Hq1Sv06dMHx44dw/3797F161YEBgaCiHQ2dmz9WnZ2NkQikdw7YJJHumfPnkVZWRljc5Vtkk2/AFn7NjIywsyZM/HixQv06dMHZ8+exd27d7Fy5UqEhYWx6mdlWQB2c0RbvbGd++r4sdWrV0MgEEhdyObm5uLYsWNYt24d8y6CvHFhK7e8Y1WNQ1X4WD09PXh6euLOnTuYMGECkx4QEID09HT07dtXqry8cVbUH0B3PlDC5cuXceTIEam/69evM30JCQnByZMnMWvWLNy7dw9//PEHAgIC4OTkxNx0mDp1KmxtbTF69GgsW7YMN27cwI0bN/Dzzz/j7NmzrGVR5Jcrzy+2NsVm/rKxL7b+Qh3ZAPVjL13EKOqizD7kYWdnBx8fH8ydO1fmZu17jYYvutK1a9fI1dWVAJChoSHz9vLSpUuJx+ORvr4+TZgwgY4fP0516tShtm3b0t9//00XL15kjjMxMaHp06cTUfnWSebm5sw2RteuXWMti7+/Pw0ePFgmXSAQ0Pjx48nW1pZ++uknmjNnDg0ZMoT50AMRkZeXF/F4PLp69arM8Y8ePaIhQ4aQqakpAaBWrVrR/PnzpcqsXbuWfv75Z5ljFy5cSH369KH58+dTly5dZD4KJRaLyd7entnaSUJRURHZ2dlJbe2nCmU6j4iIUEvfZWVlNHfuXNLX1ycA1L59e4qOjqb27dtT48aNycfHh9Xnpy9cuECenp5Up04dxkb69OlDXl5e5OHhQc2aNSMAdPnyZbVtYtu2bWRoaMjsICT5s7a2pri4OFqzZg01bdqUAFDTpk1p1apVCu31iy++oBYtWlBYWBgNGDCAvvnmG2aHl61bt5KNjQ0BoBYtWtC+fftIJBKRj48P6enpEQAaOHAgZWdnsxonRXbq7+/P9N3V1ZWmTZtGr169kilX2Vajo6Np4MCB1LlzZ9q0aZPcXWIqoktbVTZv5KGOPRCp9iNE5bs3LF68mLEFPp9P/v7+VFJSovOxUyXPv//+y+wSZGhoSF5eXvT06VOpOjw8PAgANW7cmJYvX67QJpX1i4jk2jdR+daBISEhjI6NjY1p3rx5Ku2CSLE/J1I+R7TVG9u5HxkZqfZ5448//iBra2vy8fGhxYsXU48ePaR2+FA0LmzkVnasqnHQlY+tyIkTJ8jV1VUqLT8/n8zMzKTms7JxltcfXc4jyW4i8v5GjhwpVTYiIoLq1q3L5Pfo0UPGL718+ZK8vLyIz+cz5erXr0/btm1TS3eV/bKi+UXEzqZUzV8idvbF1l+wlU3d86wuYxR5W0VWhq19yNsq8vbt28Tj8SgyMpK1TLWdKvnCamZmJj179oz5/fz5cynD1TVZWVlkYWFBCQkJcvPz8/Pp5s2bcvd3FwqFzLZumrBv3z6FX3R7/fo1sz1XZQ4cOEBt2rSRuy2mq6srrVmzRi05dK3zN2/eSF3kVA5EqpO3b9+St7c3RUZGUmxsLB0+fJiWLl1Kpqaman+plKhcVzdu3KDc3NwqkPY/lNlpTk4O3blzh0pLSxUeX9lWb968SRkZGazb16Wtajtv2MDWpktLSykhIYHVV5PfhTyKkMgp2dubbXl1+1VcXEwJCQk63fNYmznyrs8HlUlPT6ekpCSFFzGKxoWN3MrGVNU46NLHCoVCuXvvP3r0SK161LXRqqSkpIRu3ryp8sKgsLCQrl+/Tvfv39fI5lXFD/JQZVNEquevKvvSdCzYyMYGXccoHLqFR/R+rPLfsWMH9u7di5iYGJ2/sKVr3rx5g+7du2PNmjVSb1ULhUIEBQXB3NwcK1askFlbz1H+4pKbmxv8/f0RGBgolRcWFoaoqChmnV5NpDbZKaDYVjk4ODjeF2qbX65quBil5vPeBO8AsH37dty7dw8rVqyoblEUIhKJMGrUKEyePBnu7u4y+RkZGVW+VWNtRrLv+eXLl/H5559L5c2aNQtisRjLly+vJunYURvsFFBtqxwcHBzvC7XFL1c1XIxSO3ivgneg/EUTyXZSNZX09HSp7fk42HP//n107NgRjo6O2L59O5ydnVFSUoL9+/dj165dOHr0qMxOKTWR2mCnAGerHBwcHw61xS9XNZzfr/m8d8E7x/vPqVOnMGvWLNy9exempqZo0aIFAgMDERQUpNGHvjg4ODg4ODg4agtc8M5RaykuLgafz5f7KW0ODg4ODg4OjvcRLnjn4ODg4ODg4ODgqCVwr1VzcHBwcHBwcHBw1BK44J2Dg4ODg4ODg4OjlsAF7xwcHBwcHBwcHBy1BC54/wAoLi6ubhE4ODiUQEQQCoXvpK3SggK5/69JiDifpXMdiEpKdFrfh4S4tFTpbw52iIqLIX5Hfu59R2fBe1JSEqZMmaKr6mokIpEIPj4+ePHiRXWLopLExET4+/vDwcEBX375ZXWLoxUfgm3VVmrTnKiJHDlyBEOHDoWlpSViY2OrtK3chAT86euL55cvg0Qi3AgLw5XvvgOJxVXaLlvyEhMR5++P3x0ccLqW+yxNqQodJKxciWO9emFH/fogkUgndX5IiIqLsbNRIxzo0AFF2dlIWLkS20xMkKDBx5xeJyXhsobnsuKXL5H/8OE7v3AgkQh/+vigSAsfLyouRvzMmdjVuDF2WFgg7cgRHUr4YaKT4P3WrVvw8/NDWFiYLqqrsejp6WHevHno378/MjIyqlscpbRq1Qrjx49HcnIyavOGQu+TbRUXF2PmzJn4559/3pv2atOcYMu7HKfu3bvDxsYGubm5VdoOiUSIGTAADoGBaD5gAO6sWYPnf/2FHps3g8fnMyfX7CrqM5v6zVq1Qtvx45Ffy32WIqpLBx8PGwZRcfE7fZpR1fb0LtvSMzRE3/378ebxYyRu2AC7SZNg6+eHf+bMQVlREet6Xt26hfN+fvjk/89lgkeP8OeIEYiyscGe5s2xz84OFyZOlDpGVFKCWxEROPL557gUFIRby5bhkIsLDnbpgpS9e2XaKMnNxXk/P0S1bIk9zZtjv6Mjznh54Xjv3jjh4YH7GzfKvVgXl5bi8e+/45/Zs3F37VqU5OUxeTw9PXSaNw8x/fujUAMfT2IxYseOhX1AAEanp6P9119zT9Z0AWmJUCgkJycnOnjwoLZV1RqWLFlCX3zxRXWLwYo2bdqQh4cH6/IJCQk0YsQIsrW1pV69etEvv/wilT9v3jwaP3489evXj7y8vCgkJISSk5MV1hcTE0M+Pj7UqlUr+vTTT+nrr7+m1NRUVrK8b7Z1/fp1AkDBwcE6rzs/P59SUlLeWXuV0XROyJO7unnX43Ts2DECQKdOndJ5exLePHlCGwFKO3KEiIjOjRpFR9zcSFRaSkREOdev00aALleRrahT/942bei4Gj6ruijJz6d8NWy3OnXw17RptBEgcVmZzupURlXbU3W0dbRHD7q9fDkRET3/+2/aamLCzB9ViIRC2u/kRKlyzmWXgoJoI0Ap+/ZJpb998YL+6NSJTn35JZXk50vlPfjtN9piaEinvvyShAKBTJ2S8U49fLg8QSyma6GhtBGgq3PmSJUtevmSDrm60n5HR/q9XTvaCNDORo0o/9EjqXL/LllCJzXw8QmrVtGJvn3VPo5DOVoH7xEREeTs7ExisVgX8tQK8vPzycLCgg4cOFDdoqjE0dGRdfB+5coVqlevHjk7O1NYWBiNGDGCANDXX3/NlDE0NCQ7OzuaMmUKTZo0iZo1a0b6+vp08uRJmfoWLVpEPB6PXFxcaMGCBTRjxgyysbGhmJgYVvK8j7YVGxtLr1+/1mmdb968oW7dutHevXvfSXvy0GROKJO7unmX43Tq1KkqD95JLKZDrq60ic+n5N27KWX/ftrI49F+R0emyLPYWCqpQlthW/9+R8caH7wL37yhQ9260SM1bbe6dHDl++/fafBOVPX29M7aEovp/ubNdKR7dxIKBFTw9CmdHDSIHuzYwbqKWxERtN/ZmUjOuezf8HDaCNDzv/6SSj85aBBFt25NIqFQbp2PoqNpI0CnPT1l8m4uXUobAcq5fv2/bohEtLNRI/rN0lKq7LlRo+jp6dPM74c7d5bXO3SoVLmS/HzaYWFBj9WMe/7o3JliJ0xQ6xgO1Wj9LflNmzYhICAAPB5Pbr5IJIKenp62zdQozMzMMHjwYGzZsgXDhw+vbnF0xvz582FlZYXLly+jXr16AIA2bdpg6dKl+Oabb2BnZwcA6N27N9avXw8AKCoqwieffILp06cjKSmJqevff//FggULMHbsWGzbto2xgaVLl6JOnTqs5FFlW7WRXr16Sf0uLCyEiYmJVnXeu3cP8fHxrNqrKjSZE8rkrm6qQm/V2l8eD4NjY5EeEwPr3r1h2LAhhl27htLCQqaIdRXbSlXX/y7Ju3cP2RqM5fukA1W8y75WZVulhYUwtrLClxcvAgByrl9Hz23bYNS4Mes67m/aBPuAAEDOuYz3/+dGXoU46cnRo0iPiUHvnTvBV3C+bO3ri5s//YS0I0eQceYMmvXr918mX3ZFNI/Ph+FHH5UvfSECeDyIioth5++Ppu7uTLk2Y8fi5tKleHHlitTxBmZmsBk8GElbtuBjNeKe/ORkWH3+OevyHOzQKni/ffs2UlJS4OHhIZV+9+5d7NixA8ePH8fChQvRokULLFmyBOnp6ejRowfCw8Nhbm7OlBcKhYiIiMDNmzeRlZWFqVOnYuzYsQDKg8ODBw8iJiYGLVu2xFdffYWAgAAYGRnh0KFDAICVK1fi9u3byM7Oho2NDbZt28bUXVhYiIiICDx+/BhZWVlo3bo15s2bBxsbGwBASUkJDh48iOPHj6Nly5YIDg5GaGgo4uLi4OjoiDVr1jBlK+Lu7o7AwEAIBAKYmZlppL+UlBT8+uuvOHbsGDp27IhffvkFlpaWWsl14cIFHDhwAPfv34dAIMCTJ09gZWWlUpbU1FScPXsWS5cuZQJ3APj222+xbNkybN68GSvkvKBjZGSEIUOGYPny5VKB6MKFC2FsbIzVq1dLXbzVrVuXlW4U2ZYEVeOqym709fURFxeHzZs3w9DQEEKhEB07dkReXh5ycnKwdOlSNGjQQGdjVFBQgIMHD+Ls2bP4+OOPsWjRIgCAn58f3rx5g4YNG0JPTw9isRhisRhDhw6Fn58fAOV2cvLkSSxfvhwAsGrVKhw4cAC9evXC+PHj5bbHRnfvYk4okvvrr79W2WcArMaurKxMqW+Qh7xx0lQf6vQXKN9xJioqCjt37sTTp0/h4+OD0NBQmZsfyvylMvSNjdHK25v5bfnJJwDKd5xJPXgQz86eRb2PP0aX/7cVUUkJUg8eRPrx46jXsiXaBwfjemgoMuPi0MDREZ+tWQPTCv0Wl5UhYeVK5N6+jaLsbJja2KDntm0K65eQeeECUg8cQN79+ygVCPDmyRMYyfFZYqEQtyIi8PLmTbzNykL7qVPRhkW/AaCssBC3IiIgePwYb7OyYNa6NTrPm8fI//LGDTzctQsFT57AbuJEtPjyS+QnJyNp82YUZmSgTr166L5xIwDg6cmTuP3/Y3ln1SqkHjiAJr16of3XX9doHQDAi7//xv1Nm5Bz7RosHB3R6ccfYdm5s9ptZMXF4f7mzdA3NIRIKETDjh0hzMtDUU4OOv34IzIvXJDqqzq2pE5ZeXpV125V9cd16VLYDB7MlLXu3Zu1vgHg1e3bEKSkoKmCc5k87v7vfwCAJj16KC7E48F+0iT8PX06knfvlg7e5VD47BkEjx7Bzt+fuYjQMzSUCtwlGFtZyV2X3tTdHRcDAyEUCGCgwse/vn8f1+fPR+mbN0g/eRJvfXxQt2FDdP/1VwCq52RZURHSDh5EekwM6rVsCfuvvsLFgADoGRmh36FD4Otrfe+5dqPNbfsNGzYQn8+nskqP4u7du0fDhw8nANS9e3f6P/bOPKyqav//bw6jgCHqVRTHQpnUogQbtBzQtCzFRAJnQbKuNlzzWlcx5zRzaCAvX0VLBTRRr/OEqeTPyCknCEUUBUFBQObpHN6/P+DsOHCGfQYmO6/n4VHWXnutz7Q+a3HO2muHhIQwKiqKAQEBBEA3NzeWV38VVFhYyP79+/PkyZMkyX379hEAt27dSpLMzc3lhx9+SACcPHkyvb296eXlRXt7ez5+/JghISEcNmwYSbKoqIi9evViSkoKSTInJ4dOTk5cuXIlSVIqlTI4OJh2dnaMi4sjST5+/JjvvfceAdDDw4NBQUGMjIzkihUraGlpyYEDByrV/dq1awQgyK0tixcvpoeHB1NTUxkXF0cbGxuOHz9euK6LXLNmzWJAQACLi4tJVu2ltba2FrVt5tixYyr1cXd351tvvUWyatvMjBkzFK7PmDGDEomEpaWlQlmHDh3o6+sryhbKUBVbpDi/aoqbffv20cLCggkJCSTJ6OhoAuCYMWOE7QuG9FFmZiaDg4MJQLBfZWUlHRwcGB0dzfz8fMpkMr700ku0tbXlvXv3RMmQm5srjJnQ0FCmpaUxPz9faX9ibdcQY0KV3GJ0FuM7kmpzgyqU2U1Xe4jVV75tZtCgQVy1ahUPHTrESZMmEQB/+OEHhXY05UtdKMnMZGxwMMMA/lojVsoeP2bse+8xDOAuDw+eDgpiUmQk/1ixghstLbm/lt7nQ0J4sNreFUVF3NmrFwtSUlS2T5L/b9YsnggIYEV1zrq7fz/Dra3rbBmpKCzk3v79eb9a75R9+xgG8KYIvUtzchjl5MTL1TFfKZUyNjiYm+3s+LA65iuKi/n7Z58xDOCNzZtJkrKKCmacOcNwa2vu7tv3L7vk5gr9x4eGsjAtTdh33FRtIN8288eKFUyLieH177/nlnbtuMHcnPdqbHkU00fKvn3cYGHB3Orxdzs6mmEAj40Zw9QjR5Tqqk0saVNX377E6KMv8evX8/8kEpVblv5YsYJhgBCLJPnTP/7BjZaWrJTJ1LZ998ABhgH82d1daZu3tm/nw99/542ffuLeV17huXnzKCsrUy9wZSW3tG/PX99/v86l7GvXGAYI8aGOisJCFqalMQzg6cBAFqalsSQri6S4MVmWmyvs3T85eTIPeHtzj5cXf7S3b7DtWE0ZvRbvX3zxBdvW2j8lJyYmhgC4bds2hfLAwEAC4MaNG0mSc+bM4eTJk4XrlZWVdHR0pKenp1BWVFREALSzs+Pdu3dJUlj89+nTR+H+2NhYXrt2jSTp5+fH7t27U1ZjAJSWlrJ169Z0c3MTFoaFhYUEQH9/fwVZp06dShMTE5aUlNTRLzMzkwB02q9bWFhIOzs7btmyRSjz9/eno6NjnXpi5Vq/fj3btm0rLAjkiN3zvmnTJgIQbFeTQYMG8dlnnyVZd/F+8uRJPvXUU/Tx8RHKCgoKCICfffaZxn5VoS62xPpVXdz069dPIcZI0sHBQVjs1YeP5PLI7Xf37l0uXLhQuP7dd98RANeuXauVDHFxcUpjsXZ/2tiuIcaEMrnF6KzJd3LU5QZ1KLObLvaojSo/yRfvNR/Mlkql7NSpUx2dxORLXagoKlK6sKwoLGQYwBO19D41dSrDTEworaH3zj59eLKGbBmxscyutrey9uPXr+dPbdvWeeBO2X7vuDlzFNpmZSW3OTpytwi9Y/z8GNm9u8JCSFpayh9bt+bPbm7CoirjzBmGAUyKiFC4f4+Xl8LinSQfxsUJiyMF2ZuoDZTtec9LSuJGS0tGdO4sPHgppo89/frV6XOrg4PwR4sqXbWJJa3q6tmXGH304cIXX9TZZ16T2ov3kqwshgHc/NRTGtvO/fNPhgHc2rGj0jbPzJzJ8/Pn85eJE7m9Z0+eGD+ej/74Q22bd3bv5pb27VmYllbnWklmptK4V0cYwLMff6xQJnZMyn272c6OBdVzuKpnAP5u6PW9Q1ZWFlq3bq30mq2tLQDArNZXGzNnzkR4eDguXLiAyZMn47vvvkOXLl0wePBgWFlZwdraGh06dIC7u7twj7W1NczMzODj4yN8PS3fN+3q6ootW7bA1tYWixYtwoABAwAAFRUV2LNnD0aPHg1Jjf1flpaWGDFiBCIiIpCQkIDevXvDxsYGZmZmClt5AMDZ2RkkkZ2dDUdHR4Vrbdq0AQBkZmZqbTcbGxukp6fD2toaAJCTk4P8/HxkZ2fXqSdWrgULFsDLy0thy4s2yF/kZGFhUeeahYUFSmociRUREYFDhw7h8ePHyM/Px4ABA7BhwwbhemH1i19atGhRpy1vb2/4+PgobBdQhqrY0sav6uImMTFRIcYAoF27diiq3gNcHz6SyyOnS5cu+OKLLwAAqamp+M9//gMPDw/MmjVLKxlUUbu/pjwm5IjRWZPv5KjKDZqobTe5XNraQ1vkOgNVR3C6urri3r17QplUKhWVL3XBzNpa6dfQZjY2kJiZwaKW3nbOzgCJ0uxs2FTrbe/qiptbtsDc1hYvLFoEhxr2Vtb+hQUL0M7LC+YaclalVIrr330H2y5dcGDwYJhaWcHM2hrWHTrAvlpvVlZW7eOtgYmpKSorKnBnzx50Gz0aJjVi3tTSEp1HjMCtiAjkJiSgde/egnwmtbYpSSwsRB9t1xRtoIqnnJzwjJ8fbm7ZgscJCWjl5qaxD6DqrHL7WvFm1a4dpDXGnzJdtYklrerq2ZcYffShJCsLlirWScowrd5aWp6fj9LsbFhV51VlVEqlAKCyjvOUKX9tjysowEFvb+zu2xdvHD2qdLtMWW4u4v79bwzduVOwT00sq/sp0SPHazMm5b7t5uMjbKeRPwOgbbw/aei1eLezsxMWamJ55plnAACtW7dGYmKicKZyUFCQwoJCGVZWVnXK1q1bh0ePHiE0NBRRUVFYunQp3n//fVy/fh3l5eXCHxE16datGwDg5s2b6N27t8r+ak/gNZHrXXsyF4u1tTWuXLmC77//HkVFRVo9lFlbruTkZGRlZaFTp046yQJAWHgoWxhmZWWhc+fOwu/PPfccxo8fj8TERKxbtw4hISHCwg0A2rdvjxYtWiA9Pb1OW6dPn1ZrczmqYksXvyqLG09PT8TFxSEvLw92dnYoKirC7du38a9//UuoY0gfaeKDDz5AUVERwsLCFPY46yNDbZr6mJCjSWcxvgNU5wZDoq2ftcHS0hLS6skZgNb5sj5RttB/ad06lD56hPjQUNyKioLn0qVwU2Hv/ORklGZlwUZEznqcmAhZaSn6zJ4Nl6AghQlfzuHhw5F2/Ljw+z/69oXP+fPIuX4dleXlMFcS8y2rYz7v5k20FpGTxNAUbaAO+169AFQtMCGiDwD4h6cnMuPiUJ6XBws7O0iLilBw+zZ61xp/YtFm77K++5yV3W9ofWpjYWen1ZuMzVu2RMtu3VCQkoLHiYlqH/bMv3ULQJUOYtr1+vJLHBgyBFdWrVK6eI8NCkKf2bMV/uisiVyP2n8UaYMuY9JMyRyuS7w/SeiV/R0cHJCVlaXVPfL6ffv2FSZYUlruAAAgAElEQVSmlJQUnSciBwcHxMTEYOfOnbCwsMAHH3yAzZs3Cw9O3r9/v849suq3zDk5OenUJ/CXHmIeBlXGRx99hFGjRiE4OBiRkZFwcXHRWZaK6jeu1fyUTlvkC/8bN27UaTs5OVlh8e7u7o733nsPa9aswWuvvYa5c+cqvFDExMQEzzzzDGKrn87XBVWxZSi/bty4EU5OThgzZgyio6Mxfvx4DB06FPPmzRPqGNJH6tixYwcOHDiAmTNnwrNWEjakDE19TMjRpLMY38nlUJYbmiuGyJf1ibWDA96MiYH3zp0wtbDAmQ8+wA0V9pa/JbJQRM5itd4FKSkqF5RDduzApEePhJ+Rv/wCADCvjvkiJTEvf9voU7VjXo+XIzVFG6hDWlwMAGjz3HOi+gCA1zZuxFNOTjg2ZgxuR0fjl/Hj4Th0KJ6vNf6aC/Wtj7WDA0q1XCf1nDIFAPBn9UPSqsi6cAEA8My774pqt2X37gCAYiUfrF1asgRtX3gBbjNmqLxfroe1HjlepzGpBF3i/UlCrxnA1dUVFRUVuHPnjuh7jh07Bg8PD4wcORLOzs5o0aIFNm3ahPz8fIV6slqvcWbV/nyFsrS0NCxfvhwAMHbsWPz222+QSCQ4c+YMnJyc0KFDB/z22291vk6/e/cuWrVqBTc3N7Xty3+vXQ5UfUIJQDg+EQA2bNiAX0QE0N27d/Htt98iICBAYbFWqeTNZ2Lk6tmzJ2xtbREbG4vU1NQ6bShrtzbPPvssunfvjp9//lmh/MCBA8jLy8PYGqdUyDExMUFYWBiuXr2KqKgohWvTp0/Hn3/+KZwIpC2qYssQfgWAli1bomvXrpgwYQIkEgm+/PJL7N69W9g2ZGgfqaqbk5ODDz/8EI6Ojli6dKlQ/uOPP+L69euiZQCgsLVJWX+NMSbEUFNuMXbX5DtAfW4QgyrdtbGHKmr7SWysaJMvdUHVWFFaLv+9+t+itDT8UW3vp8eOxajffoOJRIIHNexdsx27nj1hbmuLjNhYFCrJWTXfAmnn7AyzFi1wY9MmlNfSWz7ZW9rbw6pNG+FHvg3lKScnWHfogMzffquzDaLw7l1YtGoF++qYN6ve5lekZGGjyr+yGr5sqjZQ1SZQtfiTHx0qpg+g+pPhrl3RY8IEmEgk8PrySwzbvRuSWlsuxY6h2rFkqLpi7xerj660cnVFZUUFClStk6p9UtM3z332Gezd3HArMhK5CQlKbyvLzUV8aCg6vf46Og0dqrTNylp5IfvqVQB1j9a8tm4dpMXF8PjPf4Sy4vR0XFu7VqFeXnWOb6Vljq/pB23GpPxeZeNPTLw/yei1eB84cCBatWqFEydOqKxz+fJl4f/Xr1/H5s2bERERAXNzc7Ro0QKzZ8/Gw4cPMXjwYBw/fhzXr1/H6tWrsbD6FcJA1R5amUxW5xPDdu3aYcWKFcL2DAcHB7Rs2RL9+vWDRCLBunXrkJ+fj5UrVwr35OTkYP/+/QgNDRX2P2dlZUEmk9XZqyt/3buyPbwnTpyAh4cHunbtCqDqU7Fly5ZhyJAh2LZtm1q7WVpaQiKR4NixY0hLS8OtW7fw66+/ory8HEePHkVGRoZWckkkEsyfPx/FxcUYNWoULly4gJycHOzcuRNpaWlISkrCnTt31C4wTE1NMWfOHBw+fBhz585FfHw8du3ahaCgIPTu3RtvvPGG0vucnZ3h6+uLefPmoaysTCgPDg6Gk5MTAgICsHbtWly7dg2nT58W9YcEoDq2tPGrqrgBgBdffBGnTp1Chw4dhAXrnTt3hEWQoX0EAA8ePIBMJlPYTjR79mxkZmbiu+++E55XOHXqlHA0ohgZ5FuWjh8/DqlUKrRfu7+GHhOaUCa3GLtr8h2gPjdoQpmfdLGHGH2Bv74Jqd3G/fv38fDhQ2Hcis2XulD84AEok9X5RK40KwuUyerscS2s1lte3qJdO1xesUK439rBAeYtW6Jdtb1rt28ikcBj/nxIi4txbNQoZF24gLKcHNzeuROFaWnIT0qqWuyQMGvRAn1mz0bJw4c4MHgw0o4fR87167i6ejUuatDbRCLBy+vWoTw/H5drxHxZTg7u7t+P/qGhwh7ap555BqaWlvgzLAx5N2+iOD0dV776CrkJCShMSVGwgXyPcdrx46iUSlGcnt5kbVCTjBrfhmbExuLh2bN4rfr4VLF9/O/FF5F+6lTVXvjq8Vdw547CAl9ZPImNJW3r6tuXGH30oePAgbBo1Qr3VayTih8+FGSWY2ppicEREbDp1AkHBg8WPmGXU56Xh1/Gj0fr3r0xOCKiTpsl1W3lJyUJZQUpKfh9zhx0HjECXl9+KZQnbtiAa2vXwqpNG1xdvVrw9+E33qhzxvz9EyfQ1sMDtiJzvPzT9YoafwxqMyZLMjNBmUzpp/R/e/R94jUwMJAjR46sUy4/WcHS0pKdO3fma6+9xhkzZjAnJ0ehXkVFBefMmUNzc3MCoLW1NefPny+chnHp0iX269ePAGhlZUUfHx+mpqYK97/55pvs2rUrFy5cyOHDh3PWrFkKb+TctWsXO3bsSF9fXy5ZsoSvvvqqwkkWsbGx9PLyIgDa2Njw4+qnohcvXkw7OzvheLjz588L91RWVtLFxUU4bk9OSUkJnZ2dOWnSJI12W758OU1MTGhmZsYpU6bwwIEDNDc3Z8+ePXn27Fmt5ZJKpZw3bx7NzMwIgO7u7oyKiqK7uzvbt29PX19f3rlzR6NcK1eupKWlJQEQAF999VU+fPhQuK7sqMgrV67QxMSEa9asUSjPzs7myJEjaWpqKrRnYWHBr7/+WqMcpOrYIjX7VVPcbNq0iVZWVoJc8p+OHTvy9OnTJA3ro/Pnzwt1rays6O/vL4wRKysr+vn5cdy4cezduzclEglXr14tSgY53t7eBMD27dtz1apVSvsTaztDjglN1JZbjM5ifEdqzg3KUGY3XewhVt/w8HB26dKFANi1a1fu2LGDMpmMvr6+wrgZMWIEMzMzSWrOl7qQef4893h5MQzgRisr4YSOjNhYoTzcxkY4MeLi4sXcbGcnHMWXWa334TffZETXrrywcCEPDR/O/zdrFllZqbL9SqmU5+bN4wYzM+G4u1tRUfzZ3Z1b2rfncV9f5lfnLFlFBePmzOEGc/MqeayteX7+fI1H6cm5vWsXt3bsyOO+vry4ZAn3vfoqb9aIeTlXVq/m/0kkDAO4s1cvpp8+zb39+3PzU0/x0PDhzEtKEuoe8PauepV8+/a8Uh27TdUGt6KiuM3RkeE2Njzh789fJk7k8XHjWFB9JK0cMX0kbtrEjVZWDAMUfrZ27Mj006eV6qpNLGlTV9++xOhjCE4HBvJwrbksLymJMX5+Qt9bO3bkqWnTFOqU5eUxNjiYW9q358Fhw3hx0SL++sEH/N9LLzE+NLTOG1tzExIY4+fH8BYtBP2PvfMOT4wfz6OjRvHGTz8JJwuR5P1ffhHiXdmP/PhMkmRlJXe4uAjHO2oi48wZ7vb0FHxzdPRohfGjaUxmXbrEPf36/XW/jw8La8zhf3f0XrxnZGTQ3t6eV69eVSiXL0wiIyOZmJiocAa4MkpLS3n16lWN9ZTx4MEDXrx4sc4fBjW5d+8eExMT9Zrk5ERHR7NHjx5Kj4fz8vLiN998I6qd9PR03r9/X/j9wYMHLNN0BqsGCgoKmJiYKPyeqkOwl5WV8Y8//hAWDPpSWFjIc+fO8caNG8IZ9GJQFVs10dWvxcXFHDt2LNesWcOTJ0/yf//7H5cvX05bW1v2rXEsXH34SFvEyFBRUcGrV69qZd+GGhPqUCW3Op3F+k5+n6bc0JDo4idl6JMv65PiBw+YdfEiS7Wwd3lBAXNr5Cx1E7S0tJTZV69SqqPeBffuMTcxUe2Ctyg9nXm3bv11T0qK0jO6ZRUVzL56VTifXU5TtUGlTMa85GQ++uMPhaMSte2joriYx8eO5dU1a3j/5Ene+d//+Mfy5dxka1vnSM3mQEPoU5SRwR/t7ZmtZi5TS2Ul827dYvrp08JZ6Q3N7ehobu/RQ2PsaIuYMWmkLnov3kly8+bNfP311xUWAarONG7u5Ofn89lnn+WpU6cUysvKyjh16lR+/PHHSl8sZEQ3lMWWvpSXl9PLy4thYWF1rn3xxRfs0aOHwfr6O6BqTNQHRt8ZMdJ4yMrLucfLiwlKxt+FL77g9mY2/hpSnxubN/Pg6683y0VqeX4+o599lukNkOONiMMgRxZMmTIFfn5++Pe//y2Uyfefit3j3ByQyWQIDAzE6tWr8dprrylcs7CwwOLFi7F27do6rzM3ojvKYktfDh48iHPnzik9G7ukpASjRo0yWF9POurGRH1g9J0RI43HvYMHkXnuXJ1z0YGq19l3bWbjryH16TllCp7x88PvBpzLGgLKZDgdGIgXV69GhwbI8UZEYsi/BO7V2D/33//+lwD4xRdfGLKLRkf+pk4jDcu9Wnsz9SEhIYEWFhZ8/vnneeXKFZJV2xC2bt3KYcOGNbmtCE2dhhwTRt8ZMdJ45CYkcIOFBXc9/zyzq8eftLSUN7du5cFhw3TeztRYNIY+tZ8zaA4UGNc9TQ6DHhYsPwv8hx9+wLZt29C/f3+cOHECY8eOVXjZSHNG/qZOIw1LzXPm9cXV1RV79+6FVCqFh4cH7Ozs4OnpicePH+PgwYOwrH7DnRFxNOSYMPrOiJHGo5WrK17fuxeVUil2eXjgRzs77PH0RPnjxxh+8KDwdtDmQmPoY2vAuayhsDWue5ocJqQeb6QwYqSZU1paColEonBGuJHmgdF3Row0HrLSUphIJAY7D72xedL0MfJkY1y8GzFixIgRI0aMGDHSTGh679g2YsSIESNGjBgxYsSIUoyLdyNGjBgxYsSIESNGmgnGxXs9QRLl5eWN1n9paWmj9m+kadBc46C0tLSxRWhQGiJflJWV1Wv7RsTTXMelEUX+bnnKSNPBuHg3MHv37sXo0aPRtm1bnDx5ssH7Ly0txezZs9G+fXvY29tj7969DS6DkcanOcZBQkICAgMD4erqirfffruxxWkQGiJfrF69GgMHDkSrVq2E928YaRya47g0osjfMU8ZaXo80Yv3W7duYdy4cejSpQs6d+4MZ2dnTJ06tV77HDBgALp06YKcnBxR9eXJ/Ny5c3r3XVlZiYkTJyIoKAj37t3DP//5T+MnA39DlMXB48ePDRZncgwZuwDw9NNPY/LkyUhKSkLN5+gN3U9TQtt8oQtjxoxBaWlpg+aChvJZc4qNv2N+bk7+EYuqPGVEO57E2GhQGu+IeXGU5eUxLzlZrzZmzJhBANyxY4eBpPqLvLw8JteSb//+/QTAI0eOaLz/woULBMCZM2fqLcvatWs5dOhQvdtpLJTZsiH4/PPPOWnSJA4dOpQjR47khx9+yPPnzze4HIZCWRwYMs7qs02S7NGjB729veu9H7LhY07ffKErH374IQFQKpXWWx81qU+fNUY/hqC552dNKIttVf5prFxvSGrnKSOq0SY2jIijSX/yXlFYiEOvv46s8+f1akf+gp9OnToZQiyBwsJCvP766zhfSz5zc3PRbbzwwgs4efIkli5dqrc8W7duhaOjo97tNAaqbNkQrFq1CpcuXYKrqyvat2+PXbt2oV+/foiOjm5wWQyBsjgwZJzVZ5sA6rxoqb76aeiYM0S+0JWGPgu/vnzWWP0YguacnzWhKraV+acxc70hMb4QThzaxIYR8Zg1tgDqyI2PR2ZcnN7tmJqaKvxrKOLj4xFnAPkGDhyovzAAkpKS8MorrxikrYbGULbUFW9vb6xduxYAUFBQgOeeew6rV6/G2LFjDdqPTCYzeBzWRlUcGCrO6rvNhuqnoWOusWO8oWnOsVEfNOf8rAl1sV3bP3+3cfB3R5vYMCIenT95l5WW4lZEBH4JCMDFRYtQ/OABYqdPxw5nZ5yaOhXleXkAgBubN2OXhwd29+2L2z//XKed/ORkxM2Zg59dXHDi3XdR+ugRACD18GGc+/xzAMC1tWsR4+uL+NBQXcWtQ1lZGaKiojB+/HjMmzcPGRkZCAoKQo8ePeDj44N79+6pvf/w4cP4vFq+tWvXwtfXF6G15COJyMhIDB8+HO7u7li4cKHCA2OFhYXYsmULJk6ciAULFgjlUqkUK1euREBAALy9vTFt2jS1svz555/w9fVFQUEBDh8+DF9fX8yYMUO4XlRUhAULFmDChAkYMmQIgoODFfQrKSlBRESEYIuUlBR4e3vjrbfeglQqRWlpKSIiIhAQEIBFixbhwYMHmD59uvAMQV61rzdv3gwPDw/07dsXPyvxdXJyMubMmQMXFxe8++67eFTtazG2FIuqPrShZcuW8PT01OleZVy/fh2ffvopXFxcEB0djbi4OIwcORJ9+vTBzJkzBftp8oOc8vJyLFmyBGPGjMFLL72ErVu3AlAdB8ri7L///S98fX3h6+uLcePG4caNG4iKihLKpk+fjsrKSpU6KWtT1zF16tQpzJw5E0OGDIGnpyfu3r2rtp+anD9/Hu+++y6cnZ3x8ssv4/DhwwrXdY05VTaWo+0YNUS+ECOXJs6ePYuJEyfCxcUFY8eOxaVLl+rU0dTH6dOnMWHCBAQFBWHSpElYs2YNQkJCMGPGDOTk5OgdG2LrqooNXeJQk07q0JRfNeVnVaiKXX3nrpqo8rU2faiKbWX+UVV32rRpQu6ZMGECysvLkZ+fj/Hjxwvlx48fF62XunmgPvKUGDTlKk1xpK3cmnKUmFyiSuaLFy/i448/ho+PD/bt2weg6o/Tf//73wgICMB7770HQLvYKC8vx6RJkwR/T548GZWVlSguLsaECROE8hMnToiW/4lG1/02Zbm5/HXGDIYB3OPlxVPTpjEpIoIXlyzh/5ma8vDIkTwdFMSra9YweccO7uzThxvMzJh365bQxsXFi7nLw4OFqal8GBfHcBsbnhg/Xmg/Zd8+hgGMDw1lYVoay/PzdZJ1xYoVBMC4uDih7PHjx3zvvfcIgB4eHgwKCmJkZCRXrFhBS0tLDhw4UG2bubm53LdvHwEwNDSUaWlpzK+W78iRIwTAQYMGcdWqVTx06BAnTZpEAPzhhx+ENjIzMxkcHEwAnDFjhlAeEhLCYcOGkSSLiorYq1cvpqSkqJSlsLCQaWlpBMDAwECmpaUxKyuLJJmTk0MnJyeuXLmSJCmVShkcHEw7OzvBHrm5ucKe2MmTJ9Pb25teXl60t7fn48ePmZubKzw34OXlxWnTpjEiIoJLliyhqakpR44cyaCgIK5Zs4Y7duxgnz59aGZmxls1fL148WJ6eHgwNTWVcXFxtLGx4fhqX6uzpTao60MdZmZm/Pjjj4XfExIS2LZtW86dO1drGZQRHx/Pd955hwA4YMAAhoSEMCoqigEBAQRANzc3lpeXa/QDWeXr/v378+TJkyQp2G3r1q0q40BVnB06dIjm5uZ8++23SZLl5eV0dHTkjh07WFlZqVYnZW3qMqZmzZrFgIAAFhcXk6za/21tbS3sJVUle2VlJT/++GPOnTuXKSkpvHTpEseMGUN/f3+hjq4xp87GcrQdo4bIF2LkUsWnn35KAFyxYgVjYmL4/fffs127djQ3N+fhw4dF97Fv3z5aWFgwISGBJBkdHU0AHDNmjLBnX9/YEFtXVWxoG4didFKFmPyqLj+rQl3s6jt3yVHna236UBXbyvyjqm5BQQEHDRpEAArxeOfOHUokEp46dUqUTppsp6v9NOUpdYjJVWLiSFu51eUoTeNck8zFxcX87LPPCICbN28mSVZUVPDMmTO0trZm3759SWoXG3K5vLy8CICXL18WypOTk2liYiLIq08ufFLQ64HViqIihgGM8fNTKD/y1lsMMzFhWfWCgyQzzpxhGMA/N2yourewkJvt7Hhzyxahzgl/f25zdBR+fxgXxzCAt7Zv10dMpYt3sioAACgMIpKcOnUqTUxMWFJSorbduLg4AuD2WvLJJ+Pdu3cLZVKplJ06dRIGk5yioqI6AdynTx9OnjxZ+D02NpbXrl3TqCcAhUUoSfr5+bF79+6UyWRCWWlpKVu3bk03NzfhATa5HHZ2drx79y7JqsVcbTn9avn6rbfeoomJibC4JMkzZ84QADdU+7qwsJB2dnbcUsPX/v7+dKzha1W2FIuYPlRhZmbGrl27ctiwYezWrRsB8N1332VFRYVOsigjJiaGALht2zaF8sDAQALgxo0bSWr2w5w5cxRio7Kyko6OjvT09BTKlMWBsjgjyWXLltHExISnTp3i0qVLuX79etE6KWtTmzG1fv16tm3bts4far169VKYFJX18/XXXyudOOVxrk/MibGxLmNU33whRi5VyBfvNR9YTUpKoqWlJTt37izEuqY++vXrV6c/BwcHUXlNm9gQW1dVXGvTl1idlCE2v5LKx6UyxMSuvnMXqdnX2vShKraV+UdVXfm8sXjxYqHs6NGjnDp1qkZd5IidB+ojT6lCU64ixceRNnKry1GafC9GZrm/IiIiFOp4eXkJi3dSu9gg/8qH3377rVAWExOjoLM+ufBJQa8972bW1pCYmcHS3l6h3K5nT4CEqZWVUNbK2RkAUPLwYdW9NjaYkJ4OM2trAEBZTg7K8/NRmp2tj0haYWNjAzMzM9jZ2SmUOzs7gySys7P1esDIulo3oGq/vaura52vtqytrWFmpugGV1dXbNmyBba2tli0aBEGDBigU/8VFRXYs2cPRo8eDYnkrx1SlpaWGDFiBCIiIpCQkIDevXsLcvj4+KBLly4AFB+kk1+3r+Xrnj17giSsavjaudrXD6t9bWNjg/T0dMEeOTk5yM/PR7YBfa1vH61bt4abmxu6deuGy5cvIzo6Gj169MDixYsV6l25ckXhQdZOnToJXxGqw9bWFgDq+HrmzJkIDw/HhQsXEBgYqNYPUqkU3333Hbp06YLBgwfDysoK1tbW6NChA9zd3dX2ryzOAGDOnDnYvn07pkyZgr59+2Lnzp0adVHXpjZjasGCBfDy8kLLli217uebb77BJ598UqeuPM51jQexNjbUGK2Junyhj+9V4eTkBD8/P2zZsgUJCQlwc3PT2EdiYmKd/tq1a4eioqI6uugTG2LrqoprbfoSq1NttMmv2iAmdvWdu8TEkyHmR1X+UcYrr7wCZ2dnbN26FSEhIQCAH3/8EZ9++qmo++Uyixn39ZGnVKEpV2kTR9rIrSpHifG9JpmBv+ay2s9wWVhYiDoCVVVsDBs2DN26dUN4eDhmzZoFAPjpp58wc+ZM0fL/HaiXB1YlSk5PUFZmZm2N7CtXEP/995AWFQEmJvUhjtaITTbaYmlpqbB3WRXr1q3Do0ePEBoaiqioKCxduhTvv/++1v1dv34d5eXlwsKxJt26dQMA3Lx5U2FyqbkIF4OykzKUlVlbW+PKlSv4/vvvUVRUBJN68LU+fbz22mvCA6sAsHLlSnz22WcYPnw4Xn75ZaE8MTER69atE3739PQUtXhXxTPPPAOg6o+HmijzQ2JionA2blBQkEIi1RVzc3OsX78e/fv3x8iRI/VuTxW1x1RycjKysrJ0OgEqNTUVqampsLGxUVtPl3gQa2NDjVF11MwX9eF7AOjVqxcAICsrS1Qfnp6eiIuLQ15eHuzs7FBUVITbt2/jX//6l84yaJNv9c3Nyu7XVSdd8qtYdM1lYu2jTzzV1/wIAFOmTMHnn3+OuLg4uLm5ISMjA88//7xWbegzDxgyTwHicpUh4kiZT1TlKE2+F5tf6wsTExMEBgYiJCQEf/zxB3r06IGkpCRhHq6vXNjcaFStz370EY6OGgXX4GAMjoxEKxeXxhSnyeDg4ICYmBjs3LkTFhYW+OCDD7B582at25EPvvv379e5Jn8QzsnJST9hRfLRRx9h1KhRCA4ORmRkJFzqwdeG7GP8+PEAUOcFEn5+figoKBB+fvnlF71kzsrKAgD07dtXY135Qi4lJcWgCevo0aMYMGAAQkND8euvvxqsXXVUVFQAgFYP18nJzc0FUHWKgTp0iQexNjbUGBVLffm+uLgYAPDcc8+J6mPjxo1wcnLCmDFjEB0djfHjx2Po0KGYN2+ewWRqaHTVqT7za33ny/qKJ32ZOHEiTE1NsXXrVvz88886vVTRkLbTJ08B4nJVfcWRqhylyfdi86sc1sOLqqZOnQpTU1OEh4cjOjoaEydOFK411dhtaPTWnFX75msXKqso1AeAwrt3cf3bb+EUEIB/eHr+VU3JCReykhKl/YpFfmqGstMzlMnPWrJqoqSWfKruV2qrWuVpaWlYvnw5AGDs2LH47bffIJFIcObMGVGy1GzfyckJHTp0wG+//VbnK+C7d++iVatWcHNz0yifuuuq9Kn57927d/Htt98iICAAnjV8rcwftW25YcMGUQtkbfoQw5UrVwAAXbt21el+sRw7dgweHh4Kn3qr8oOzszNatGiBTZs2IT8/X+Fa7VNJNMWZnLNnzyIxMRGHDh1C586dERgYWMcH6lAVE5rGVM+ePWFra4vY2FikpqbWabe232q26eLiAhsbG0RERAhbs+TI41zXmBNjY33HqC75Qhvfq6O2/hcuXMCgQYPQpk0bUX20bNkSXbt2xYQJEyCRSPDll19i9+7dSs+R1zU2tK0rJq+qu18bnWqibX5VpqMyxMauPnOX2HjStg9luUOVf5TVdXR0xNChQ7Fjxw7s2bMH48aNE66JmQu0Gff1kadqIyZXGWKeri23uhylyfdiZAaAFi1aAADS09Pr6K1vbDg6OuKNN95AZGQkIiIiMGHCBOGaoXJhc0evxXtxRgYok6EkM1OhvDAtDQBQ8uCBUFaQkqJQJrG0hIlEgrRjx1CUlob8W7fw4NdfUVlejrSjR1GckQGrNm0AAGnHj6NSKkVxdZDMnTsXDg4OSE5OFiWnPADln3LKycrKgkwmQ2Yt+dOq5a9dXps21fIdP34cUmffLYkAACAASURBVKlUCGL5X9C1779//z4ePnyoEKwPHjyATCYT7m3Xrh1WrFgh/O7g4ICWLVuiX79+amWR91kzmCUSCdatW4f8/HysXLlSKM/JycH+/fsRGhoqbHHJzMyETCZT+tc/AGRkZKi11YMavk6p9rW8zNLSEhKJBMeOHUNaWhpu3bqFX3/9FeXl5Th69CgyMjKU2lIqlWLZsmUYMmQItm3bplZ/MX2o4969ezh79ixOnz6N1atXY9KkSXBycsKQIUPU3qctly9fFv5//fp1bN68GREREaL80KJFC8yePRsPHz7E4MGDcfz4cVy/fh2rV6/GwoULASiPA6BunAFVfvL398dXX30FW1tbfPPNN0hKShK9DUhZm2LHlEQiwfz581FcXIxRo0bhwoULyMnJwc6dO5GWloakpCTcuXMHJOv0Y2FhgXnz5iE7OxuDBw/G/v378eeffyI8PBzBwcEgqXPMibGxrmNUn3whRi4xxMbGKvz/7Nmz2LRpEwBx8fXiiy/i1KlT6NChg7CguHPnTp1JU5/Y0Kausn607UusTrXRJr+qGpfKEBO7+s5dYnytTR+qYluZf1TVlTNlyhRkZ2fD3d1d2D4odi4QOw/UR55ShphcpU0ciZVbXY7S5HsxMgNVWz4tLS0RFhaGmzdvIj09HV999RUSEhKQkpIiyKJNbNRk+vTpyM3NRffu3fHUU08J5YbKhc0eEQ+1KiX12DHueuEFhgEMt7Hh5a++Ikmenj6d4TY2DAO429OTOfHxTIuJ4c7evRkG8Ed7e15atowk+cfy5QwzMeEGMzOenDKFdw8c4AZzc27v2ZMPzp4lSR7w9mYYwC3t2/PKqlUkSR8fH5qYmPD3339XK2NSUhL9/PxoZWVFAOzYsSOnTZtGsurJa/mRRDY2NsIpAIsXL6adnZ1wHNP58+fV9uHt7U0AbN++PVetWsXw8HB26dKFANi1a1fu2LGDMpmMvr6+NDU1JQCOGDGCmZmZPH/+vCCDlZWV8DT1m2++ya5du3LhwoUcPnw4Z82apfbovjNnztDT01NoZ/To0UxKShKu79q1ix07dqSvry+XLFnCV199VeFp/EuXLrFfv37C/T4+PkxNTRWuHzt2jC+88IJgq6+qfT19+nTa2NgQAD09PRkfH8+YmBj27t2bAGhvb89l1b5evnw5TUxMaGZmxilTpvDAgQM0Nzdnz549ebba17VtSZIlJSV0dnbmpEmT1PpBbB/K6NmzJ1u0aEEABMC2bdty2rRpvH37tsY+xSJ/4l5+usdrr73GGTNmMCcnR6ijyQ9k1XFcc+bMobm5OQHQ2tqa8+fPp0wmUxkHyuLs/fffZ9u2bWlqasqQkBCS5EcffSTYwMvLi2fOnFGpj7I2tR1TUqmU8+bNo5mZGQHQ3d2dUVFRdHd3Z/v27enr68udO3cqHSMymYxLliwRxrZEImFgYCDLysoEGXWNOXU2lqPtGJWjT74QI5cqoqKi6OjoSBsbG/r7+3PixIkcN24c7927Jzq+SHLTpk2CzWv+dOzYkadPnzZIbIitu379eqWxoW0citFJHZryq6b8rAx1sbty5UqDzF3qfK3L/Fg7tlXNb8rq1qSkpIQmJiZ1bCR2LtA07usjT925c0elPGJyFak5jrSVW12O0jTOxcq8evVqSiQSAmCvXr14+vRp9u/fn0899RSHDx8u+FCb2JAjlUrZsWNHXrx4sc41fXLhk4JeR0UagqL0dBbdvy/8XvzgAWU1AkRWUcHsq1dZUX2+Kll1dJ78GL3GpqKiglevXhXOfzUUDx484MWLFxUWd/py7949JiYmNlqAp6en834NXz948EAhGaiypZeXF7/55huD9KGOvLw8lpaWiqqrLfLFe2RkJBMTE/Xup7S0lFevXq03eRuSgoICJiYmCr/X/oNFHfKYefjwodLrusYcqdnGuoxRQ+QLXX0vk8mYnJzMP/74Q+NRgqr6KC4u5tixY7lmzRqePHmS//vf/7h8+XLa2toqHA/XnDCUTobOr/rkMm0wVC7RJrbV1U1PT+drr72m9D6xc0F92E6fPEVqzlVyDBlHmnKUJt+LkTk9PV3hnS4pKSkKR6TWbEfbvJecnKz2+pM0D2qLCVkPTxsYMWIAysvLMWPGDNjZ2eHrr7+ucyRVc+L333/Hiy++iO3bt8PPz6+xxTFiRGsqKirQv39/BAYGIjg4WOHawoULERkZiZs3bzaSdLrxJOrU3Pn888/h4uKCyZMnC2VP0lxgxIghqL8zn4wY0RMLCwssXrxY52O6mhLy/bO6PkBrxEhjc/DgQZw7dw5r1qypc62kpASjRo1qBKn040nUqTkTHx+PjRs3Cs9NyXmS5gIjRgzB3/ecHSPNgiclWV+7dg0AcOPGjUaWxIgR3XB2doaFhQU+/PBDXL16FQBQVlaGbdu24fLly1i6dGkjS6g9T6JOzZWLFy9i4MCBGDVqlNIzxp+UucCIEUNgXLwbMVLP/PDDD9i2bRv69++PEydOYOzYsaJe1mXESFPC1dUVe/fuhVQqhYeHB+zs7ODp6YnHjx/j4MGDsLS0bGwRteZJ1Km5cvPmTeTl5WH69OmNLYoRI00e4553I0aMGDGiFaWlpZBIJBrPQm9OPIk6NTfKysqMfzAZMSIC4+LdiBEjRowYMWLEiJFmgnHbjBEjRowYMWLEiBEjzQTj4t2IESNGjBgxYsSIkWaCcfFuxIgRI0aMGDFixEgzodEX7yRRXl7e2GKopayszGBtNQd9nzSMNjdixIi+lJaWGvPI34DS0tLGFqHBaGpzY1OTpynTaIv3I0eOwMfHB23btsWvv/7aWGKoZfXq1Rg4cCBatWolvGRHV/bs2YNRo0ahTZs2OHnypIEkNKKOvXv3YvTo0Wjbtq3R5kaMGNGJ0tJSzJ49G+3bt4e9vT327t3b4DLIZDIUFBQ0eL9/FxISEhAYGAhXV1e8/fbbjS1OvdPU5samJk9zoNEW7/369YODgwNycnIaSwSNjBkzBqWlpQb5S7x///7o2LEjcnNzDSCZ/sgnpHPnzjW2KPXGgAED0KVLlyYdY08qf4f4UsffXf8nhcrKSkycOBFBQUG4d+8e/vnPf+Lx48cN7tsVK1Zg3rx5DdZfU8fQ4+vpp5/G5MmTkZSUhJoH8D2p47ipzY1NTZ7mgN6L9/z8fNy+fVvr++zt7TFixAh9u69Xunfvjn79+hmkrX/84x8YPny4QdoyBPHx8VizZg22bt3a4H3rGjPattm6dWsMGzbMoP0YqYsy26uKr/rwfVOkMcdXY/P777/D39+/zs+yZcsaWzSt+fbbb5GXlwdXV1fY2dnhq6++Qq9evRrUtyQRHh6O7du31/vL3a5duwY/Pz/06NEDgwYNQmhoqKj7GnpcG3p8WVlZ4dVXX8XTTz9dr/3UpCFtVruv+pgbtdGnIeR50tFr8V5YWIjXX38d58+f1+n+5vAyBkO+sMPKyspgbenLCy+8gJMnTzb467/1jRlt2zQ3NzdYP0bqosr2yuKrPnzfVGms8dWUKC8vx/bt2xEfH9/YoujM1q1b4ejoqFDW0L6NiYmBubk5srKycOzYsXrrJy4uDq+88goSExMxYcIEtGvXDjNnzsTMmTPV3tcY47q+fFB7TVJf/TSkzVT1Zci5URt9GkKevwNm+twcHx+PuLg4Q8lipIEZOHBgg/dZHzFjjMPGQ53ta8fX381PjTG+mgL9+vVDVFQU8vLysHv3bvj5+dXLlg+ZTAZTU1ODt1uTpKQkvPLKK3XKG9K3mzZtQmRkJLy8vLB161a88cYb9dLPggUL4ODggDNnzqBly5YAgB49emD58uWYNWsWnJ2dld7XWOO6oXxQH/00pM0aoi9t+vi7zQP1hc6fvB8+fBiff/45AGDt2rXw9fVV+IqtqKgICxYswIQJEzBkyBAEBwfj3r17atsMCwvDu+++i7feegvvvPMOLl68KFwrLy/HkiVLMGbMGLz00kvC11hlZWWIiorC+PHjMW/ePGRkZCAoKAg9evSAj49PnT6lUilWrlyJgIAAeHt7Y9q0aaL0PXv2LCZOnAgXFxeMHTsWly5dqlNHlYya0GQrbXUEgNOnT2PChAkICgrCpEmTsGbNGoSEhGDGjBm4d+8etmzZgokTJ2LBggX10oeyvWv1ETOa2pRDEpGRkRg+fDjc3d2xcOHCOg8ha+s/MbGUnJyMOXPmwMXFBe+++y4ePXoEoGovZUREBAICArBo0SI8ePAA06dPh7OzM6ZOnYq8vDwAwObNm+Hh4YG+ffvi559/ViqHLnFniPGkyvaFhYV14ktV3WnTpsHX1xe+vr6YMGECysvLkZ+fj/Hjxwvlx48fV6mHKvsCQElJCSIiIgRdUlJS4O3tjbfeekvYfqDrmNVmfJWXl2PSpEmCPpMnT0ZlZSWKi4sxYcIEofzEiRMG9Y86VNnNUO3XF9evX8enn34KFxcXREdHIy4uDiNHjkSfPn0wc+ZMYdyI8T2g2s5//vknfH19UVBQgMOHD8PX1xczZsxQGtv//e9/BR+OGzcON27cQFRUlFA2ffp0VFZW6qRvVlYWioqK8MILL2DgwIHYu3ev0gdX9fXbnTt3cPz4cUydOlVYuAPARx99BIlEgg0bNii9T1P+VTc+5Wg7jyjzga76nzp1CjNnzsSQIUPg6emJu3fvqu2nNufPn8e7774LZ2dnvPzyyzh8+LBG3cXMWerykjZrGDF9iZkb9dWnPuTRNXc/MVBHcnNzuW/fPgJgaGgo09LSmJ+fT5LMycmhk5MTV65cSZKUSqUMDg6mnZ0d4+LihDaOHDlCAIyJiRHus7e3Z3h4OGUymVCvsLCQ/fv358mTJ0lS6Hfr1q18/Pgx33vvPQKgh4cHg4KCGBkZyRUrVtDS0pIDBw5UkDskJITDhg0jSRYVFbFXr15MSUlRqeenn35KAFyxYgVjYmL4/fffs127djQ3N+fhw4dFyVhb3yNHjghlYmylrY779u2jhYUFExISSJLR0dEEwDFjxvDIkSPMzMxkcHAwAXDGjBn10ocyDBEz2rRZ0+aDBg3iqlWreOjQIU6aNIkA+MMPP2jlv9poiqXFixfTw8ODqampjIuLo42NDcePHy/IPWPGDAKgl5cXp02bxoiICC5ZsoSmpqYcOXIkg4KCuGbNGu7YsYN9+vShmZkZb926pSCDLnIbajypsr2y+FJVt6CggIMGDSIAhfF0584dSiQSnjp1SqUe6uwr7/PDDz8kAE6ePJne3t708vKivb09Hz9+rJPt5PW0HV+FhYX08vIiAF6+fFloKzk5mSYmJoIMhvSPLnYzRPtyHj9+TABcunSp6Hs0ER8fz3feeYcAOGDAAIaEhDAqKooBAQEEQDc3N5aXl2v0PanezoWFhUxLSyMABgYGMi0tjVlZWUp9S5KHDh2iubk53377bZJkeXk5HR0duWPHDlZWVuqs76pVqxgREUGS/L//+z8C4I8//linnr5+O3bsGAEoxKEcd3d3vvXWW0rvU5d/NY1PUrd5xBDzF0nOmjWLAQEBLC4uJknu37+f1tbW9Pb2VtmPnMrKSn788cecO3cuU1JSeOnSJY4ZM4b+/v4addc0Z2nKS9qsYdT1JXZu1Fef+pBH19z9JKHz4p0k4+LiCIDbt29XKPfz82P37t0VFuClpaVs3bo13dzcKJVKSdZdvE+aNInHjh2r08+cOXM4efJk4ffKyko6OjrS09OTZJUjAQgDR87UqVNpYmLCkpISoaxPnz4KbcXGxvLatWsqdZQv3uUyk2RSUhItLS3ZuXNnVlRUiJKxpr41k5JYW2mjY79+/RT6JUkHBwdhwJNVg752UjJ0H8rQN2a0aZP8y+a7d+8WyqRSKTt16qQgqxj/1UZdLBUWFtLOzo5btmwRrvv7+9PR0VH4Xe4DPz8/hXbfeustmpiYCIsMkjxz5gwBcMOGDQp1dZHbkONJle2VxZequnLdFi9eLJQdPXqUU6dOVamDGPvWlMPOzo53794lWbWwEmMHVeg6vuSx+O233wplMTExdexsSP/URozd9Gm/JvWxeCerbAaA27ZtUygPDAwkAG7cuJGket+T4vwPgB9//LFCP8p8S5LLli2jiYkJT506xaVLl3L9+vV669q3b18WFRWRJLOzs2lubi4sLmujj982bdpEAErnwkGDBvHZZ59Vea+ycS12fOo6j+g7f61fv55t27ats8js1auXgn1V+frrr79W6geZTCZKd3Vzlqa41HYNo6ovsXOjvvoYWh5S99z9JKHXnndlVFRUYM+ePRg9ejQkkr925VhaWmLEiBGIiIhAQkICevfuLVwjiS+++AL9+/fH0KFDFdqTSqX47rvv0KVLFwwePBhWVlawtrZGhw4d4O7uDgCwsbGBmZkZ7OzsFO51dnYGSWRnZwsPHbm6umLLli2wtbXFokWLMGDAAK11dHJygp+fH7Zs2YKEhAS4ublplFFfW2mjY2JiYp1+27Vrh6KiIuF3a2trmJkput/QfYhFl5jRFmtra+H/pqamcHV1Fb5KFRNjylAXSzY2NkhPTxf6zcnJQX5+PrKzsxVkMjMzg729vUK7PXv2BEmFB5zl+00fPnwolOkit6HHkyqUxZcqXnnlFTg7O2Pr1q0ICQkBAPz444/49NNPVd4jxr415fDx8UGXLl0AVD0YpavPAd3H17Bhw9CtWzeEh4dj1qxZAICffvpJ4YHA+vaPGLsZwv9iuXLlCqKjo4XfO3XqhPfee0/tPba2tgBQx74zZ85EeHg4Lly4gMDAQJW+B3Qf84Dq2J4zZw62b9+OKVOmoG/fvti5c6dmA6ghNjYWjx49whdffCGUtW7dGr/88gvu379fxwf6+E1+HLKyAxosLCxQUlKilexix6eu84i+89eCBQvg5eWlsEVIbD8A8M033+CTTz6pUy6RSETrrgwxcWmINUxtHeXUnhsB8b40FJrk0WfsPkkYfPF+/fp1lJeXCwm2Jt26dQMA3Lx5U2EhtmjRIpw5cwbDhw/HtGnTFB5CSkxMFM5aDQoKUljcaULZoFu3bh0ePXqE0NBQREVFYenSpXj//fe10LCKXr16Aajak6irjLrYqjbKdPT09ERcXBzy8vJgZ2eHoqIi3L59G//6179EydXQfRjCDtpiaWkp7H3V1X+aYsna2hpXrlzB999/j6KiIpiYmIhqV9lT98rKdJHb0OPJUEyZMgWff/454uLi4ObmhoyMDDz//PNq79HGvrVPetLHDrrGvomJCQIDAxESEoI//vgDPXr0QFJSEl5++WWDyCXWP7rGZX34PzExEevWrRN+9/T01Lh4V8UzzzwDoGqBWxNlp3zpY2dVmJubY/369ejfvz9Gjhypd3sbNmzAP//5T7i6ugpllpaWWLZsGaKiotT+cVsTMX6TL2qVLciysrLQuXNnkVL/hZg4M/RcpYza+icnJyMrKwudOnXSqb3U1FSkpqbCxsZGZR1dx5iYuDTUGkYVNedGObrqUx/y1MfYbY4YXGt5QN+/f7/ONflDB05OTgrlCxcuxLJly3DkyBF89NFHCtfkTktJSTGIkxwcHBATE4OdO3fCwsICH3zwATZv3qx1O8XFxQCA5557TmcZdbGVGDZu3AgnJyeMGTMG0dHRGD9+PIYOHWrQEx8M2Ud92UEsuvpPUyx99NFHGDVqFIKDgxEZGQkXF5dGl9vQ48lQTJw4Eaampti6dSt+/vlnTJ06VeM9+thXHzvoE/tTp06FqakpwsPDER0djYkTJxpMLrHUd1xqg5+fHwoKCoSfX375Ree2srKyAAB9+/bVWLe+7Hz06FEMGDAAoaGher05PDc3F6dPn8Ynn3yCN998U/j57LPPYG1tjW3bthlMZgDCQvbGjRsK5RUVFUhOTtZp8S4mzhpirqpNRUUFAOj88LX8RYvqjkDVdYyJiUtDrWG0oSnljKY6hzU0BtG85ldqTk5O6NChA3777bc6X33dvXsXrVq1gpubGwAIbzIjif/85z/w9/dHaGgovvvuO+EeZ2dntGjRAps2bUJ+fr5CezWfQGbV/n2F6zXbB4C0tDQsX74cADB27Fj89ttvkEgkOHPmjEYda58WcOHCBQwaNAht2rTRSsaa/2pjK7E6AkDLli3RtWtXTJgwARKJBF9++SV2795d5ytRVe0Zsg9V6BozYttUJ7v8d3mZWP/VRFMs3b17F99++y0CAgLg6ekp3Fc7jtTZW5MeushtyPFUE1W2F1vX0dERQ4cOxY4dO7Bnzx6MGzdOqfxyxNpXlRy62E6OPuPL0dERb7zxBiIjIxEREYEJEyboJJe2/pFjiLhU135jcuzYMXh4eCh86q0qBrXxv6rxWLv87NmzSExMxKFDh9C5c2cEBgaqzUnq2LhxI9588806R2Ha2tpi1KhRuHLlCi5cuCBKLjF+e/bZZ9G9e/c6J1odOHAAeXl5GDt2rEaZa+oqNs70mUd0nb969uwJW1tbxMbGIjU1tU67msaCi4sLbGxsEBERobCNEag6MU2b3FQ7PjTFpT5rmNp9iZkbAe1yrTbbq3SVR5/c/SSh1+K9TZs2AIDjx49DKpUiPT0dEokE69atQ35+PlauXCnUzcnJwf79+xEaGipsAUhPTwdQtRACqs6z9fT0xCeffILIyEgAQIsWLTB79mw8fPgQgwcPxvHjx3H9+nWsXr0aCxcuBFD1iYtMJkNmZqaCfPJ25eXt2rXDihUrhH4dHBzQsmVLUW9RjY2NVfj/2bNnsWnTJtEyAhAShVwubWwlVkcAePHFF3Hq1Cl06NBBWPTeuXNHIbAfPHgAmUwm2KI++lCGvjEjtk058k/za+t0//59PHz4ECRF+68mmmLJ0tISEokEx44dQ1paGm7duoVff/0V5eXlOHr0KDIyMpCRkaHW3g8ePBDKUlJS6pTpIrchx5M62yuLL3V+Aqq2zmRnZ8Pd3V3jC83E2Fcuq0wmq/Otji62k6Pr+JIzffp05Obmonv37njqqae0lksb/+hiN33aB6ry+t69e3Hw4EEAQEJCAvbu3YuzZ8+qvU9bLl++LPz/+vXr2Lx5MyIiIoRcocr3gDg7y++rvUBQ5tuUlBT4+/vjq6++gq2tLb755hskJSXV2QI0d+5cODg4IDk5WaVeOTk5+PLLLzFkyBCl119//XUAqHN8oT5+MzU1xZw5c3D48GHMnTsX8fHx2LVrF4KCgtC7d2+1Z8srG9dix6eu84g+85dEIsH8+fNRXFyMUaNG4cKFC8jJycHOnTuRlpaGpKQk3LlzBySV9mNhYYF58+YhOzsbgwcPxv79+/Hnn38iPDwcwcHBsLCw0Ki7qlyoKS51WcOo6kvM3AiIyxmacrsh5dEndz9RaPV4qxK8vb0JgO3bt+eqVauE8l27drFjx4709fXlkiVL+Oqrryo8rbxmzRo6OjoSADt16sS1a9eSJO/fv8+OHTsSAN98801mZmayoqKCc+bMobm5OQHQ2tqa8+fPp0wmY2xsrHAEm42NjXAywOLFi2lnZyccHXX+/HmS5JtvvsmuXbty4cKFHD58OGfNmqX2KK+oqCg6OjrSxsaG/v7+nDhxIseNG8d79+4p1FMnI0l+8803gr6Ojo6CvmJspa2OmzZtopWVFQEo/HTs2JGnT5/m+fPnhfasrKzo7+9v8D7qI2a0bTM8PJxdunQhAHbt2pU7duygTCajr68vTU1NCYAjRozQGGOq0BRLy5cvp4mJCc3MzDhlyhQeOHCA5ubm7NmzJxctWsQXXnhBsPdXX31Fkpw+fTptbGwIgJ6enoyPj2dMTAx79+5NALS3t+eyZcuEPnSR25DjSZntlcWXJt+TZElJCU1MTJiUlCTG5Wrte/bsWV66dIn9+vUT5PDx8WFqaqpetiN1G181kUql7NixIy9evNgg/tHGbitXrtS7fflxf7V/VJ2Soi3y0yrkJ3699tprnDFjBnNycoQ6mnxPqrfzmTNn6OnpKdw/evRoJiUlKfXt+++/z7Zt29LU1JQhISEkyY8++kjQ28vLi2fOnCFJ+vj40MTEhL///rtS3cLCwtiuXTshnuRH59a07dNPPy20/dxzz/HChQsGiQuSXLlyJS0tLYX2X331VT58+FCjT5SNa03jk9RtHjHE/CWVSjlv3jyamZkRAN3d3RkVFUV3d3e2b9+evr6+3Llzp8pxLJPJuGTJEkF2iUTCwMBAlpWVidZdVS7UlJe0XcMo60ubuVFffepDHl1z95OECanfd6BSqRR//vknnJyc0KJFizrXU1NTUVxcjB49eojen1ReXg6SMDMzU/jasKysDDdv3kTPnj3rvMZYGx4+fIj79++je/fudU76UEZlZSVSUlKQn58PFxcXtZ8K6iOjLrZSRklJCSZNmoSXX34ZHh4eyMvLQ0JCApYvXw4XFxeDvJJZnz7qI2Y0tSkWbf2nKZYyMjJAEh07dhTq29vbi95eVF9y63qPMrSxvbq6GRkZ8Pf3x6lTp0T3bQj7amsHQ4yv27dv4+mnnzaoXNrQUHFZH/z+++948cUXERkZieeffx7dunXTyz71aefaVFRUICMjQzj9pilSXl6OhIQEODo64h//+Ieoe1SNa01x1hBzlToKCwtx//594TSvtLQ0rR5klevdvn17tGvXTuGaJt015U11cantGsYQ86O++hhaHqBhx25TQ+/Fu5GmRUVFBfr374/AwEAEBwcrXFu4cCEiIyNx8+bNJt+Hkb8fn3/+OVxcXDB58uTGFkUlxthvfOSL9+3bt8PPz6+xxTGiI8axZMSI7vx9H9V9Qjl48CDOnTun9LzTkpISjBo1qln0YeTvRXx8PDZu3CjqwbjGxBj7jY98P7SyB+aMNB+MY8mIEd0xLt6fMJyd/z979x0WxbX+AfxLR1ARQUUQS6IURROuAknExILGGtSIjWAsiJqo8Rf1qrHEqFHsh1ySfwAAIABJREFUsRCvMbErtti7Ro16lURNrIggShMEBATpLPv+/jA7l4XZ3dllEcH38zw8ysyZc95T5uxhd2bWGaamppg4cSJu374N4OVHS9u3b8fNmzexYMGCKlEGe3PcuHEDHTt2hK+vr9pnJ78OeOxXvjt37gAo+1hDVrXwucSY7njxXs24urri0KFDkMlkcHd3h5WVFTw8PPD8+XMcO3ZML9eFvYoy2JsjMjISmZmZGD16dGWHohGP/cr1448/Yvv27fD29sZvv/2GAQMGlPlCGVY18LnEmO74mvdqLD8/H4aGhhV6E9qrKINVfwUFBVXuxZrHPmP6wecSY9rhxTtjjDHGGGNVBF82wxhjjDHGWBXBi3fGGGOMMcaqiEpfvBMRCgsLKzsMlfLz8ys7hNdCQUGBXvJ53fubsTdVZZybr6rM/Px8rcsRi43nL8bY66DSFu8nT55Ev379YGtri0uXLlVWGKLCw8MxatQouLq64pNPPqnscCrV8uXL0bFjR9SpU0d4vrIuDhw4AF9fX9jY2OD8+fN6jJAxVh6VcW4eOnQIffv2ha2tbYWWmZ+fj8mTJ6NBgwawtrbGoUOHNB4j1h48fzHGXieVtnj38vKCnZ0d0tPTKysEld566y18/vnniIqKwpt+P2///v2Rn59f7k8gvL29YW9vj4yMDD1Fxl4XigXSn3/+WeFlPXv2DEOGDEGTJk3g6OgILy8v9OnTBx9//DHeffddODo64ptvvqnwOKqTyjg3O3TogMaNG1fo/C+XyxEQEIDAwEDExcXhyy+/lDSPibVHZc1fr/LcYoxVHeVevGdlZeHRo0daH2dtbY0ePXqUt/gKYW5ujg8//BBvvfVWZYdSoaT0XbNmzeDl5VXusurVq4fu3buXO5+Kput4flOItc+9e/ewYsUKbNu2TVL68rC1tUVoaCh69eqFhIQELF++HEeOHMGpU6dw8+ZNjBo1Co8fP9ZbeW+Cij43xcZA3bp10a1btworEwBWr16NzMxMuLq6wsrKCkuWLMGgQYM0HifWHpU1f6k7t6oLnnMZ0165Fu/Z2dn4+OOPce3aNZ2Of92f6/y6x1ce2vSdvp69a25urpd8Kkp5x3N1p6p92rZti/Pnz5f5RsSKbM9GjRoBAExMTJS2T5o0CdnZ2Xovr7qrqHNT3Rgo3Xf6tm3bNjg4OOh0rFh7VMb8percqi54zmVMN+VavN+7dw9hYWH6ioW9Qtx3ZXGbqKeufTp27AgrKyvJ6cvLyMhIdHudOnWwa9euCimzKivP/SrlUZnnVFRUFGrVqlUpZeuT2LlVXfCcy5hudF68nzhxAjNmzAAArFy5En5+fggJCRH25+TkYM6cOfjss8/QpUsXBAUFIS4uTm2e69evx+DBg9GnTx98+umnuHHjhrCvsLAQ8+fPR//+/fH+++8LHyMWFBQgNDQU/v7+mDlzJpKSkhAYGIgWLVqgX79+Gsss6cKFCxg/fjy6dOkCDw8PxMbGlkkjtV6q4lWQyWRYvHgxhg4dCh8fH4wcOVI0Jl3qpylGTX2nypUrVxAQEAAXFxcMGDAAf/31l9b1FqMpXl3a4Pfff8dnn32GwMBADBs2DCtWrMDs2bMxduxY0etsK2I8K0RHR2Pq1KlwcXHB4MGD8ezZM63rNXLkSPj5+cHPzw+fffYZCgsLkZWVBX9/f2H7mTNnRMtX1ydSY1DVPtnZ2di6dSsCAgIwZ84cje1ZnnpIcevWLVhaWgq/a+q3vLw87NixQ6h/TEwMfHx80KdPH8hkMpXlqGvT//znP0JdBg4ciAcPHiA0NFTYNnr0aMjlcgCqxwbw8nrnHTt2YOjQofjuu+/w9OlTjB49Gs7OzhgxYgQyMzMBAJs2bYK7uzvatWuHPXv2CMffvXsXU6ZMgYuLC/bt24ewsDD07t0bbdq0wfjx44Xj1dHlfFaQOs8QEXbu3Inu3bujVatWmDt3bpk/NrSJ4/79+/Dz88OLFy9w4sQJ+Pn5YezYscL+8pzLYjTlN3v2bKHvBw0ahAcPHgAAioqKsHHjRiHdggULhHTfffed6Ln1KuZCQPPrkz5ejzWND32/5l+7dg2DBw+Gs7MzPvjgA5w4cUJjWSVlZWWJ5stYpSAdZWRk0OHDhwkAhYSEUEJCAmVlZRERUXp6OjVv3pwWL15MREQymYyCgoLIysqKwsLChDxOnjxJAOjs2bPCcdbW1vTLL79QcXGxkC47O5u8vb3p/PnzRERCudu2baPnz5/TmDFjCAC5u7tTYGAg7dy5k4KDg8nMzIw6duwoqT4TJkygoUOHUm5uLhERHTlyhCwsLMjHx0dII7Ve6uJVmD17NnXr1o2IiHJycsjNzY1iYmLKxKVt/aTEqK7vxEyZMoUAUHBwMJ09e5bWrl1L9evXJxMTEzpx4oTkeiv6++TJk1rFq20bHD58mExNTSk8PJyIiPbt20cAqH///kpll6SP8Sxm3rx55O7uTvHx8RQWFkaWlpbk7++vdb1evHhBnTp1IgBKbf748WMyNDSkCxcuiJavqU+kxqCqfVJSUigoKIgA0NixYzW2p671KC04OJgAKLV/VlYWtW3bVvhd6rkwceJEAkCff/45+fj4kKenJ1lbW9Pz5891alMiouPHj5OJiQl98sknRERUWFhIDg4OtHv3bpLL5USkfmwoYhs7diwBIE9PTxo5ciTt2LGD5s+fT0ZGRtS7d28KDAykFStW0O7du6lNmzZkbGxMDx8+JCKie/fu0aeffkoAqEOHDjR79mwKDQ2loUOHEgBq2bIlFRYWEpH4uSmlnupommcUZXbq1ImWLl1Kx48fp2HDhhEA+vHHH3WOIzs7mxISEggAjRo1ihISEig1NZWItH9tKtkeus5fRUVF1LdvXwJAx44dE449cOAA1axZk7Kzs4mIqLi4mHx9fWngwIFUUFAgem69irmQSP3rk75ej9WND32+5svlcpo0aRJNmzaNYmJi6K+//qL+/fvTkCFDNJalMHz4cDI1NaWbN2+qbDPGXiWdF+9ERGFhYQSAdu3apbR90KBB1KxZM6UFeH5+PtWtW5datmxJMpmMiMou3ocNG0anT58uU87UqVPp888/F36Xy+Xk4OBAHh4eRPTy5AMgnIwKI0aMIAMDA8rLy1Nbj3Xr1pGtrW2ZBaybm5vS4l1qvTTFS0TUpk0bpTQXL16kO3fuiManTf2kxqiq78QoFu+KY4mIoqKiyMzMjBwdHamoqEhSvcVe/KTGq00beHl5KbU1EZGdnZ3wYqRKecdzadnZ2WRlZUVbt24Vtg0ZMoQcHByU0kit1+XLlwkAzZs3T9h26tQpGjFihMo6SRmLUmNQ1T45OTllFu/q0utSj9IUi/c2bdqQt7c3tW7dmoyNjalmzZpCGqn9pojfysqKYmNjiYiERa0YKW1KRPT999+TgYEBXbhwgRYsWEDr1q0T9kkZGyVjGzRokNL2Pn36kIGBgdIfGIp23bBhg7Dt7NmzBIC2b9+udPyoUaMIAP38889EJH5uSq2nOurmGUWZ+/fvF7bJZDJq1KiR0rmqaxwAaNKkSUrbtH1t0rR413a+XbNmjZBOsaDfvHmzsK1jx4704MED4Xexc+tVzIXqXp/0+Xqsanzos4xly5YpvY4rKPpMyvgaN24cWVhY0L1798rkw1hl0PujIouKinDgwAF4eHjA0PB/2ZuZmaFHjx4IDw9HeHi40jFEhG+//Rbe3t7o2rWr0j6ZTIY1a9bg6tWr6Ny5M3r27Ak/Pz80bNgQrVq1AgBYWlrC2Ni4zHWBzs7OICKkpaWpjXnOnDnw9PRUe32k1HpJiRcAXF1dsXXrVowfPx5paWno0KED3NzcRMuWWj9d2l5XzZs3x6BBgxAfH69VvUvSJl5t+jgiIqLMzXD169dHTk6O1vUsT5taWloiMTERAQEBAID09HRkZWUpxapNvdq3bw9nZ2elj3Q3b96M8ePHi5YvtU/Ke/5YWFjA2NhYbZqStK2HOj/99BMuXbqE27dv4+nTp3B0dASgXb8p4u/Xrx8aN24MQPXNlNqM86lTp8LNzQ3Dhw/HzZs3lS7dkDI2SsZmbW2ttN3JyQlEpHQTpbOzMwAgOTlZ2FazZk0AKNM/ira+fv16uetZXhYWFsL/jYyM4OrqKlz6oM849D0/apOfp6cnGjVqhIMHDwIA0tLSIJfLYW1tjc2bNwMAMjMzUVBQACcnJ6W2Kd13r2IuVPX69Cpej/VdxqpVq9CzZ88y5RgaGkoeXz/++CPS09PRsmVLtbEz9qpIf8WV6O7duygsLBReNEpq2rQpACAyMhKtW7cWtn/33Xe4fPkyunfvjpEjRyrdjBYRESE86zYwMFBpktREyoIiOjoaqampwtMrVJFaLwMDA0nx/vDDD3j27BlCQkIQGhqKBQsWYNy4cZorVULp+unS9uWh+GMjNTVVp37SR7xifezh4YGwsDBkZmbCysoKOTk5ePToEb7++muJNdNfjBYWFrh16xbWrl2LnJwcGBgYSCpX1dgdPnw4ZsyYgbCwMLRs2RJJSUn417/+JZq2POeOuhj0QZt6SGVjY4PFixcD0K3fpDxNRJs2NTExwbp16+Dt7Y3evXuX2a/r2FDkLWWbKm+//TaAl49sFFPesVMeZmZmwv0G+oxD3/OjNvkZGBigX79+WLduHdLT0xEaGopRo0ahcePGCAkJwaNHj3D9+nUMGDBA5/rpcy5U9fpU0a/HgH5f8+Pj4xEfH690H4yuZVXnp8+xqkfvM7LiJHny5EmZfYqbkJo3b660fe7cufj+++9x8uRJfPXVV0r7FJN4TExMhbyAFBUVAYDGG5ak1ktqvHZ2djh79iz27t0LU1NTfPHFF9i0aZNOddA2Rn3Jzc0FALz77rs69VNFxfvzzz+jefPm6N+/P/bt2wd/f3907doVM2fO1Dqv8sb41VdfwdfXF0FBQdi5cydcXFy0jqGkgIAAGBkZYdu2bdizZw9GjBihMm1FnzvloU09tNGnTx8AFTe2tG3TU6dOoUOHDggJCSnzTdL6HhvaSE1NBQC0a9dOdP/rMnb0GYe+x4S2+fXv3x8ymQxHjx7FqVOn0LNnTwQGBoKIsGXLFhw7dgwDBw6UXiEJdJ0LVb0+vYpxoc8yFF+qde/evQovi7FXSS+jNS8vT/h/8+bN0bBhQ1y9erXMR3OxsbGoU6eO8NET/fPtpUSEb775BkOGDEFISAjWrFkjHOPs7IwaNWpg48aNZe72LvlEAnp5/b7S/pL5q+Lk5ISaNWvi4sWLiI+PL7Nf8VQIqfWSEm9CQgIWLlwIABgwYACuXr0KQ0NDXL58WWWcUuqnTdsrlOw7TRRtoXD9+nV06tQJNjY2kupd3nil9nGtWrXQpEkTfPbZZzA0NMSiRYuwf/9+yc+r13U8lxYbG4vVq1dj6NCh8PDwELaXbkdtxq6DgwO6du2K3bt348CBA2pf7KWeO9rGIDZmxI5Xl15dPdSdrwqKNizdlgr6GFtitGnTK1euICIiAsePH4ejoyNGjRoltIXUsaEqNrFYpcx3CqdPn4a7u7vwiUDpY6XUc8OGDTh37pzGsgDVY0Ys3pL11aa9xZTMW9fXJlXxajvGOnToAFtbWyxbtgwuLi4wNjbGO++8g3bt2mHz5s3IysoS/QRYVf9X1Fyo7vWpol6PS44PfZbh4uICS0tL7NixQ+lyMuDlU4K0nSMZe12Ua/FuY2MDADhz5gxkMhkSExNhaGiIH374AVlZWcJH2MDLazqPHDmCkJAQ4ePdxMREAC8nCwDYuHEjPDw88H//93/YuXMnAKBGjRqYPHkykpOT0blzZ5w5cwZ3797F8uXLMXfuXAAv30UqLi5GSkqKUnyKfEtvV2oAQ0PMmjULubm58PX1xfXr15Geno69e/ciISEBUVFRePz4MQwMDCTVS0q89evXR3BwsFB/Ozs71KpVS+U3mUqtnzZtL9Z3mly8eFHp/1euXBEedSal3oo/jhRxaxOvNn383nvv4cKFC2jYsKHw4vn48WONL/blHc+lmZmZwdDQEKdPn0ZCQgIePnyIS5cuobCwEKdOnUJSUpJOY3f48OFIS0tDq1at1F7qIaVPAOltq2rMPH36FMXFxWXGkKYxJlaPadOmwc7ODtHR0SrrBfzvuu6nT5+K7tem31JSUlBcXCz6DmppUts0JiYGQ4YMwZIlS1CzZk2sWrUKUVFRGDNmDABpYwMAkpKS1PZNyfrHxMSobJObN28K/7979y42bdqEHTt2CG1Q+tzUVE+ZTIbvv/8eXbp0wfbt21W2l7oxoGjv0nV78uQJkpOTQUSS27s0Rd4lF2TajInS7SG2Tdu5wcjICL6+vrhz5w6GDx8ubA8MDERcXFyZ+70A8XOroudCda9P+n49Fhsf+izD1NQUM2fORFpaGjp37owjR47g/v37+OWXXxAUFARzc3NJ42vmzJlo0KABIiMjVbYbY6+U7ve6vuTj40MAqEGDBrR06VJh+6+//kr29vbk5+dH8+fPpw8//FDpyQorVqwgBwcHAkCNGjWilStXEhHRkydPyN7engBQr169KCUlhYqKimjq1KlkYmJCAMjCwoJmzZpFxcXFdPHiRfL09CQAZGlpKTxdYN68eWRlZSU8TuratWsq6yCTyWjmzJlkbGxMAKhVq1YUGhpKrVq1ogYNGpCfnx89fvxYUr2ISG28Cr169aImTZrQ3LlzqXv37jRhwgThEXIl6VI/KTGq67vSQkNDycHBgSwtLWnIkCEUEBBAAwcOpLi4OMn1XrVqldDfDg4OQn9LiVfbNti4cSOZm5sTAKUfe3t7+v3331XWU12bSG3T0hYuXEgGBgZkbGxMw4cPp6NHj5KJiQk5OTnR4sWLdRq7eXl5ZGBgQFFRURrL1zQWtW3b0u1z7do14Xhzc/MyT39QN8bE6tGvXz8yMDCgP/74Q7Q+cXFxNHjwYKF/69WrR8OGDaOEhATR9Jr67a+//iIvLy8h/n79+lF8fHy52nTcuHFka2tLRkZGNHv2bCIi+uqrr4Rx6OnpSZcvX1Y7Nq5cuUKnT5+mtm3bCn2zZMkSIiIaPXo0WVpaEgDy8PCge/fu0dmzZ6l169YEgKytren7778nov89zUPxZKiPPvqIxo4dS+np6UJ9VJ2bmuqZl5dHzs7ONGzYMLXtJTYGfvnlF2rcuDEBoCZNmtDu3bupuLiY/Pz8yMjIiABQjx49NM7/Yi5fvkweHh5Cn/bt21dpjGkaE2LtUZ75q6Rjx46Rp6en0rbMzEyqXbs2JScnK20XO7de1Vyo7vVJ36/HYuNDn2UUFxfT/PnzhXYwNDSkUaNGUUFBgcayFPz8/AgA/fe//1XZZoy9SuVevBcVFdHt27eF56OXFhcXRxERESonWjEFBQWUn59f5hF8+fn5dPv2bcrPzy9XzKq8ePGCIiIihN/VvYhLqZemeJ8+fUo3btxQeiHVJ00xauq7koqLiyk6Opr+/vtvjY/e1LWfdBkrYnJzc2nAgAG0YsUKOn/+PB08eJAWLlxINWvWpHbt2qk9tiLGc2JiIj158kT4/enTp8ILhy4SExPpo48+0uoYfZ072owZTenF6lFYWCg8rlGf9DW2StJHm+p7bJSmWLzv3LmTIiIidIpVXT09PT1p1apVao/XdszoEocu9D0mpORXWFgo+n0eimfz61t55kJNr0+vYk7RZ58ryin9R5KUsipqXmJMVwZEfCEXqz6Kiorg7e2NUaNGISgoSGnf3LlzsXPnzir/0eeMGTPg4uKCzz//vLJDKZfqUo/X2R9//IH33nsPu3btwqBBg/SWb2FhIcaOHQsrKyssW7ZM6Qlh7PXwJsyFjL2pKu5ZcIxVgmPHjuHPP//EihUryuzLy8uDr69vJUSlP/fu3cPPP/8sXN9cVVWXerzuFNc2q7qxV1empqaYN2+exkfssspT3edCxt5k/GwkVq04OzvD1NQUEydOxO3btwEABQUF2L59O27evIkFCxZUcoS6u3HjBjp27AhfX1+Vzy2uCqpLPaqCO3fuAAAePHig97x54f56q85zIWNvOl68s2rF1dUVhw4dgkwmg7u7O6ysrODh4YHnz5/j2LFjVfqLNiIjI5GZmYnRo0dXdijlUl3q8br78ccfsX37dnh7e+O3337DgAEDhOdas+qvOs+FjL3p+Jp3Vm3l5+fD0NBQ8vPdq4KCgoJq8aJbXerBWFVQHedCxt5kvHhnjDHGGGOsiuDLZhhjjDHGGKsiePHOGGOMMcZYFcGLd8YYY4wxxqoIXrwzxhhjjDFWRfDinTHGGGOMsSqCF++MMcYYY4xVEbx4Z4wxxhhjrIrgxTtjjDHGGGNVBC/eGWOMMcYYqyJ48c4YY4wxxlgVwYt3xhhjjDHGqghevDPGGGOMMVZF8OKdMcYYY4yxKoIX74wxxhhjjFURvHhnjDHGGGOsiuDFO2OMMcYYY1UEL94BnDt3DmvWrEFKSorabYyxNxsRITw8HDt27KjsUPRKl3rxHMkYY5XDgIiosoMoj6SkJOzfv19pW8+ePdGsWTONxxYXF2PGjBmoVasWjhw5AmdnZ2zevLnMtm3btgEAEhIScOjQIaU8DAwMYG9vj6ZNm+Ktt95C7dq19Ve5ciAiPHnyBI0aNarsUJiOXlUfVoWxkpycjJMnTyIyMhKJiYmwsrKCo6MjPvjgA7z//vuvLI6ffvoJs2fPhqGhIZKSknTKoyLaOzk5Gb///jvu37+PmJgY1K5dG02bNoWPjw9at26t8XixeqmKU2zeVMyRFaUqjFHGGHtlqIorKCigM2fOkI2NDRkYGNDBgwcpNzdX0rHTpk2jX375hYiIZDIZvXjxQnSbQl5eHh0/fpxMTU2pTp06dPDgQbp69SodOnSIJkyYQHXr1iU/Pz968uSJ/iuqpZ9++okA0IMHDyo7lCohPz+/skMoo6L6sHRddSmnvO0l9fisrCz65ptvqE2bNrR//356+vQpyeVyioiIoAEDBlCDBg3KFYcu/v3vf5OdnZ3Ox+uzX/Pz8yk4OJjee+89OnLkCD179oyKioro2rVr9MEHH1DXrl0l51W6XqriVDdHVhSezxhj7H+q/OJdoWvXrtS4cWPJ6XNzc6lGjRp09epVtdvEtG7dmj766KMy2x8+fEhvvfUWNWvW7JW8oKkTFxdHCxYsoIKCgkqNoypIS0uj9957r7LDKKMi+lCsrtqWU972knp8Tk4OeXl5kYeHh+j5JJPJqG3btlRYWKhzLLoIDg4u1+JdX/1aUFBAnTp1ovbt24u2T0ZGBnl6ekrOr3S9xOKUOkfqG89njDH2P9XmmncrKyutLlmJjo5GXl6e0jFi21SVZWJiUmb722+/jS1btuDx48eYM2eO9OArgKOjI2bOnAlTU9NKjaOikR6u+goNDcXNmzf1EI1+VUQfitVV23LK215Sj1+wYAH+/PNP/Pjjj6hZs2aZ/UZGRpg9ezby8vJ0jqUy6Ktfly1bhvPnz2PVqlWi7VOnTh1Mnz5d5/zF4pQ6R+rbmzKfMcaYFNVm8S7m9u3bmDx5Mrp164avv/5aeJG/cuUKJkyYAAD4v//7P/j5+WH//v1ltj19+lTrMr29veHi4oJjx45JigUA9u/fj08//RReXl44f/68sD0jIwMrV66Ej48PwsPDsXbtWrzzzjvo0qUL7t69qzKGlJQULFu2DF27dsWDBw8AvLw34Msvv8TIkSPRrVs33LlzR209VMWkSk5ODhYuXIj27dujTZs2WLdunbDvxo0bGDt2LAIDAzFo0CBcvHhR2Jeeno4VK1agS5cuiIyMREhICN555x30798f8fHxyM3NxYIFC+Du7o6hQ4ciPT0dwMs+HD58OJo0aYKMjAxMnjwZrVu3hr+/P+Li4gAAly5dQlBQELp16yYs8ufMmQN/f3+MHTsWwMuF5M8//4zCwkL4+fnB399fqV5i/ZaWlibEHBERgRkzZsDLywuPHz8WbRt1ba+q3cT6UFU8gLSxIlZXVeWoillTe5UkNoakHi+TybBhwwa0atUK7dq1U1mGr6+v0kJS3ViTmqaoqAhLlizBpEmTMGrUKMycORMzZszAl19+iezsbJWxqDvHFcTaW5fznIiwdu1auLu7o23btipj6tevn9LvUs9rsTjF5k3FHKmuTdWdL1LqrmqMalMfxhirVir5nX+9GTBgALm5uQm/X7x4kbp06UIFBQWUn59Prq6uFBgYSEREcrmcLly4QADo7t27JJPJRLep4u3tTT4+PmpjMTAwoOzsbLWx5Ofnk4+PD82fP5/kcjkFBARQvXr1qKioiIhefuw9evRoAkBDhw6l/fv30++//05OTk707rvvqiz/2bNnwnF3794lIqKOHTvSzp07iYho27ZttHz5ctFjNcUkJj09nfr06UN3796l/Px82rZtG40ePZqIiI4dO0ZvvfUWpaamEhHRpUuXyNzcnEJDQ4Vjg4KCCAD5+/vTvn376Ny5c9S4cWP617/+RV9//TX99ttvtG/fPrKwsKCvvvqKiIji4+Opd+/eZGRkRDNnzqQLFy7Qpk2byNbWlho1akTZ2dkkk8lo9OjRZGhoKMSakZFBXl5e1K5dOyIiKi4uplWrVpGZmRnJZDKlflfVbxkZGfTFF18QAJo4cSJ98cUX5OHhQREREaLto6rt1bWbWB+qG9NSxopYXcXKURezuvaSMoakHE9EFBkZSQDIz89PdL8YTWNNapoxY8ZQr169iOjlfS5OTk7UuXNn+uuvv4hI/LIZdX1Tklh763KeR0VFEQAaMmSIpLaRcl6XrJdYnKrmSE1tqu58kVJ3sVh0macYY6y6qJaLd5lMRi4uLvTLL79QUlISxcfH07Bhw6hWrVpC+suXLxMApQWX2DYxUhbvAIQFpKpY0tLSqG/fvsL1qidPniQAFB0dLeT13//+lwDQnTt3hG31i8TxAAAgAElEQVQLFy4kAwMDtTfmXrlyRenFrnbt2jR9+nRh/82bN0WPkxJTaV27dqVff/21zPaioiKqX78+LVy4UGn7wIEDycbGRrh+VayOX3/9NRkbGysd16NHD/Ly8hJ+X7lyJZmbmyulOXDgAAGgTZs2ERHRmjVryNTUVCnNmDFjhMU7EdHatWvL5KNpDCliVvVHUEmq2l5VuymU7EMpY1rKWBGra+mxoi5mVXmUpGkMaTqeiOjvv/8mADRy5Mgy+5KTk+nkyZNKP5mZmRrHmpTxWFBQQObm5rRixQph/9dff02NGjUSfi+9eJfSNyWJtbe25/n169cJAA0fPlxVEyqRcl6XrpdYnKXnSG3PcbHzRUrdS8eiyzzFGGPVhXEFvaFfqSIiIhARESE8Oq1OnTrw8vJC//79X0n5UVFRcHBwgKWlJe7du6cylrp16+LAgQMAgAsXLmDLli0AoPRxu5mZGYCXj6RUcHV1BREhNzcXNWrUEI2h9LWhgwcPRnBwMG7fvo2VK1finXfeET1OSkwlpaSk4MyZM9iwYUOZfeHh4UhJSYGLi4vSdm9vb+zZswf37t2Du7u7yjrKZDKl41xdXXH69Gnhd7H7Dnr06AEjIyPExsYKeRoaKl8dVrIcVTSNIUXMH3/8sca8xNpeXbsplOxDKWNaX2NFVcxSaTuGxLi4uMDY2BjR0dFl9pmYmCAlJQUrVqzAzZs3sWTJEtStW1fjWDMyMtKYxtnZGYWFhcjIyBD2GxgYwNbWVmWs2s43Yu2tbd+1aNECABAZGakyrpJ06RMp15dre46LnS9S6l46Fn2MMcYYq6qqzeKdSty4+OjRIwDA9OnT4erq+krjePz4McLDwzFx4kRJsRw/fhyLFy/G0KFDMXnyZISGhmosQ8ris7T//Oc/8PT0xPTp09G6dWts2LABw4YNE02rTUyKGw9TU1PRpEkTpX0JCQkAXl7XXVLdunUBvHxetCpidSy9CBdjamoKY2NjuLm5aUyrjj7HkFjb29nZARBvN33Go8tYURWzqvEiRpdxXZK5uTnc3Nxw7do1pKamol69esI+a2trBAQEIDY2Fjdv3sSECRNw7tw5AOrHmuL55erSWFhYYMKECdi8eTPGjRsHExMT/Prrr1iwYIHKWCtqvlHXd7Vr10bLli1x584dZGZmwsrKSjRdcXExjIyMAJS/T8SU5xxXR8q4rYj6MMZYVVBtbljNzc0V3p1p2rQpAODIkSMVUhYRQS6Xi+6bPXs27OzsMGvWLI2xPH78GL169cKUKVMwZswYmJubV0i8sbGxCA8Px6hRo3D//n24uroiODhYNK22MSm+NOXo0aNl9rVq1QoAcOvWLaXtKSkpMDExKfcCW8z9+/dRu3ZtdOrUCcDLBX9BQQEKCwvVHieTyZQWGvoaQ6raXl27idHnmC5dV6kxS81DyhjSFAMALF26FHl5eVi8eLHofsUnLyYmJpLGmtTxuGTJEjRp0gSzZ89GcHAwtm/frvbG3Iqeb1RZtmwZXrx4obJ9AODrr79GbGxshc01lXGOA69u7mSMsddRtVm8Z2ZmonHjxgCA1q1b4/3338e8efMQGhqK3Nxc3Lp1S+nds+fPnwN4+c2E6raJycrKwsOHD5Uu68jOzsbQoUMRGxuL33//HXXq1NEYi+KdwFu3bkEul+PSpUsAXn4UXvIpIor6KaSlpQEAXrx4oTJGxVNZ0tPTkZ+fj8mTJwMAbG1t0aNHDzg6OooeJyWmklq2bIlOnTph0aJF2LBhA3JycvDw4UNMmDABDRs2xLBhw7B161Y8e/ZMOObYsWOYNm2a8IKrqE9WVlaZ+Etue/bsmdBHCsXFxULawsJCfPvtt/j555+Fd/6aNm0KIsKuXbsAvPyY/7///S9SUlKEP8AsLS0hk8lw7do1yOVyEJHGMaToF0XZqqhqe3XtpvhDo2QfShnTUsaKWF1LlqMuZgWxPErSNIY0Ha/g4+ODuXPn4ocffsCiRYvK7FfUNzc3F02aNNE41qSkKSwshJubG+zt7bFixQosWrQIXl5eSuWmp6cjMzNTGD9S+qb08SX/LVkXbc7zHj164IsvvsDy5cvx008/ldl/6NAh3L59G02aNJF0Xpeul1icpedIKW1asn5i54uUupeORdt5ijHGqpVKutZe79zc3GjixInC73FxcdS+fXsCQAYGBtStWzdKTEwkopdPhmjbti0BoHbt2tHOnTtFt5V29epV+uSTTwgAASBHR0caM2YMjRkzhoYNG0bnz58XjU1VLHK5nPr3708AyMXFhbZv305NmzYlOzs7On36NJ0/f57atWtHAKhDhw4UERFBFy5cIBcXFwJAvXr1opSUlDLlXblyRTjOy8uLLl68SE5OTuTn50eLFi2iTp06qfymQk0xiUlKSqKuXbsK9Wvfvj09fvyYiF5+0U5QUBC9++67tHTpUhoxYgTNmDFD+GKdkydPkru7OwGgjz76iFJSUmj37t3UrFkzAkB9+/al58+f0+rVq8nGxoYA0Pjx44no5Y2PAKhBgwbUq1cvCggIoBs3bijFVlRURB9++CEBoKZNm9K8efMoMDCQatasSYMHD6acnBxKSEigunXrUs2aNenTTz+lZ8+eqe23sLAw8vDwIADk4eFB+/fvF20XopdfpKOq7dW1W+k+DAsLUzumpY6V0nU9cuRImXLUxUxEKttL6hjSdHxpf/75J3Xo0IG6dOlCy5Yto59//pkmTpxI9erVow4dOlBaWpqksSY1zbhx44RzXPHj5ORE586do3Xr1lHDhg0JAA0cOFB4woq6vilJrF91Pc8Vtm3bRq1ataIPP/yQZs2aRatXr6YhQ4ZQ7dq1hXlMU5+Urtfhw4fLxKlqjtTUpurOFyl1P3ToUJlYdJmnGGOsujAg0sO33FSyzMxM2NvbY+/evejZs6fSvtTUVMjlcjRo0KCSotMcy+PHj+Ho6AhjY2Pk5+ejqKgItWrV0mvZRIS4uDgUFxejWbNmGq8p1SWmjIwMFBQUCNdzl1RYWIjHjx+jadOmwg1q5RUSEoIpU6YgNTUVOTk5KvtYLpcjOjoaTZo0gampKVJSUmBjYyNcCwy8fIcvPT1d9Prz8o4hTW2vrt3ElDcedXWVGrOUPNSNISnHl1ZcXIzo6Gg8e/YM9vb2cHBwEL1pWcpYU5fmwYMHmDVrFkaPHo2aNWvi0aNHWLhwIczMzPD333+rjbEy55vExETEx8eDiGBvb49GjRqVuU+kIueaijjHNXkVcydjjL1uqsXifdq0aUhOTsbmzZsrOxT2CikW7/wxOdOXuLg4eHp6Ijw8XLj0CgB2796NxYsX46+//qrE6BhjjLFqcM37kSNH4OzsjE2bNlV2KOwVy8nJQWFhIS/emd6cOHECaWlpyM/PV9r+999/Y9y4cZUUFWOMMfY/1eKdd/bmuXDhAqZMmYIbN25g0qRJ+OKLL4RnXzOmq5SUFHzwwQcoKirC6NGjYW1tjVu3bsHZ2Vm4iZcxxhirTLx4Z1XSgwcPlJ4807hxYzRs2LASI2LVRX5+Pg4cOICYmBg0bdoUnTp1knw/AmOMMVbRePHOGGOMMcZYFVHlr3lnjDHGGGPsTcGLd8YYY4wxxqoIXrwzxhhjjDFWRfDinTHGGGOMsSqCF++MMcYYY4xVEbx4Z4wxxhhjrIrgxTtjjDHGGGNVBC/eGWOMMcYYqyJ48c4YY4wxxlgVwYt3xhhjjDHGqohqs3gnIhQWFkpKm5+frzFNQUFBeUNSSZtYS9JXTLqWr4qU9mTi8vPz9doXbzp9j21WVrHUeYgIcu4LxhjTuyq/eD9w4AB8fX1hY2OD8+fPq0wXHh6OUaNGwdXVFZ988onKdMuXL0fHjh1Rp04dFBcXV0qsFRWTruWLkdqer4Nnz54hMjISRUVFlR2KID8/H5MnT0aDBg1gbW2NQ4cOVXZIVdqhQ4fQt29f2NralntsVyf5qanIjIzUmE6Wm4vU69fVprm9fDmOdOyIzXXqgNTMQzEHDuCUry+22NggkfuCMcb0rsov3r29vWFvb4+MjAy16d566y18/vnniIqKAhGpTNe/f3/k5+dXyLvJUmOtqJh0LV+M1PYE/rdQ/fPPP8td7sOHDzFw4EA0btwYjo6OcHZ2xogRI8qkKygowOLFi9G+fXuMHTsWwcHB8PDwQLt27bBr164y6dPT0+Hv74+mTZvC0dERbm5u6NevHzp16gQfHx+sX78ecrlc6ZiioiLs2bMH06dPx5o1ayS3q1wuR0BAAAIDAxEXF4cvv/ySP70opw4dOqBx48ZIT0+v7FDKRZ/nCgCk3b6NvW5u2O3sjCMdO+Jk797Y26oVdjZujJN9+uB49+7Y37Ytttavj8jNm9Xm1ax/fxTn56NYw1i18/aGpb09CvQwz4i5vWIFCp8/1+oYuUyGpIsX8WjPngqJiTHGXimqBg4ePEgA6OTJkxrTtmjRgnx8fNSmmThxIgEgmUymrxAF2sRaETHpWr4qUtrz+vXrBIDGjx+vlzKJiMaOHUsAaPfu3WX2JScnk7u7O33yySeUmZmptG/Lli1kbm5On3zyCWVlZZU5VtHOBw8eJCIiuVxOs2fPJgA0Y8YMId2zZ8/I09OT3NzcqGXLlgSA6tevTw8fPtQY+8qVK6lr167aVvm1kZmZSdHR0ZUdRhlHjhzR69iuDPo+V6L37qUDXl5UlJMjbDvRuzf9bG6ulC5s6lQ699lnGvP778SJtB4guYZ56PHBg7QeoHg990XEL7/QeoBexMRIPubanDm0xcaG1gN0qm9fvcbDGGOVocq/8w4A5ubmktOamZlpTGNqalqecNTSJtaS9BWTruWrIqU927Zti/Pnz2PBggV6K9fR0REA0KhRozL7RowYgaysLOzbtw+1a9dW2jds2DBs2rQJhw8fRkBAQJlj7ezslPI1MDDA3LlzUb9+fWzYsEFIN2HCBMyfPx937tzBvXv3sHXrVqSkpGDKlCkaY9+2bRscHBykV/Y1kp2djY8//hjXrl2r7FDKMDExqewQyk3f50rh8+doOW4cjC0s1KZrPWkSirKzNeZnKHEeMtbzPAMAWdHR+PObb7Q+rt1332FgRARgYKD3mBhjrDJUi8U7e/117NgRVlZWesvPyMhI6V+Fw4cP4/jx4/j2229VLuYGDRqENm3a4NChQzh9+rTSPkPDsqeEoaEh6tWrh6KiIhAR8vPzMWrUKHTr1k1IExAQABcXF1y9elVj7FFRUahVq5bGdK+je/fuISwsrLLDqNb0ea407dsXbw8erDGdhb09vNet00uZFYGKixE2dSqcR47U6XhzW1uYlvpDnjHGqiqdF++zZ8+Gn58f/Pz8MGjQIDx48ADAy+uAN27cKKRbsGCBkO67774DAOTk5GDOnDn47LPP0KVLFwQFBSEuLk4p/xs3bmDSpEno168fDh8+DODlouff//43hg4dijFjxkiK88KFCxg/fjy6dOkCDw8PxMbGSq7jlStXhEXZgAED8Ndff5VJU1hYiPnz56N///54//33sW3bNsn5lxQdHY2pU6fCxcUFgwcPxrNnz15pTFKP0bY9s7OzsXXrVgQEBGDOnDkAXl6PHhoaCn9/f8ycORNJSUkIDAxEixYt0K9fvzJjQRurV68GAHz44Ycq0xgYGGDkP4uA7du3a8zzyZMnePjwIfz9/WFgYABzc3N06dKlTDo7OzvUqFFDZT7379+Hn58fXrx4gRMnTsDPzw9jx44V9ms6L/Ly8rBjxw6h3WJiYuDj44M+ffpAJpMhPz8fO3bswNChQ/Hdd9/h6dOnGD16tHBfQGZmJgBg06ZNcHd3R7t27bBH5BpgVWPxxIkTmDFjBgBg5cqV8PPzQ0hIiNq20zSuZTIZFi9ejKFDh8LHx0foFzFS0xIRdu7cie7du6NVq1aYO3dumRu9NbW1rvNbecZ2RZwr5ra2MJLw6RgAWNjZISs6GmFTp2KPiwt+GzwY+SrmoeQrV3A+IAB7XFxwZsAAPBOZh8TICwvx1/z5ON2/Pw6+/z6iJM6Xf3//PZyGDYO5jY2k9KL4nXfGWHWh6/U2RUVF1LdvXwJAx44dE7YfOHCAatasSdnZ2UREVFxcTL6+vjRw4EAqKCig9PR0at68OS1evJiIiGQyGQUFBZGVlRWFhYUJ+eTm5tL06dMJAG3atEko8/Lly2RhYUHt2rUT0p48eVL0WtcJEybQ0KFDKTc3l4heXhNrYWGh8RrtKVOmEAAKDg6ms2fP0tq1a6l+/fpkYmJCJ06cENJlZ2eTt7c3nT9/noiIDh8+TABo27ZtKvMWi3XevHnk7u5O8fHxFBYWRpaWluTv718hMYmVL7UeurRnSkoKBQUFEQAaO3YsERE9f/6cxowZQwDI3d2dAgMDaefOnRQcHExmZmbUsWNHlfkpBAcHEwClMUNEVK9ePTIzM6Pi4mK1xx89epQAUKtWrUTz3bVrF/3xxx+0ZcsWat++Pc2cOZMKCgpU5ieXy6lBgwY0btw4lWmys7MpISGBANCoUaMoISGBUlNTiYgknRcZGRnCNfmff/45+fj4kKenJ1lbW9Pz588pIyNDuBfA09OTRo4cSTt27KD58+eTkZER9e7dmwIDA2nFihW0e/duatOmDRkbGytdp69uLGZkZAhjIyQkhBISEkTvG5CSl8Ls2bOpW7duRESUk5NDbm5uFKPiemZNaRVju1OnTrR06VI6fvw4DRs2jADQjz/+KKST0ta6zm/lGdsVda6UJnbNOxHRjXnz6Fd3d8qOj6fksDD6xdKSfivVX1enTKH1AP0dHEwJZ8/S3bVraWv9+rTBxITiSsxD8SdPlrnmvSg7mw55e9OTf+aZmMOHaT1AkWrmSyKi5LAwOj9sGBER3Vq2TOtr3hU21anD17wzxqqFct2wGhYWRgBozZo1wjbFC97mzZuFbR07dqQHDx4QEdGgQYOoWbNmSour/Px8qlu3LrVs2VLphszLly8TANqxY4dSuZ6enhoX7+vWrSNbW9syiws3NzfJi/eSsURFRZGZmRk5OjpSUVERERFNnTqVPv/8cyGNXC4nBwcH8vDwUJl36Vizs7PJysqKtm7dKqQZMmQIOTg4VEhMYm0lpR7lac+cnBylBYmi3gBoyJAhSmlHjBhBBgYGlJeXpzZPscV7amoqAaDatWurPZaI6P79+wSA7O3tRfMdP348zZo1iwICAsjJyYn8/f3p77//Vpnf/v37qUGDBpSQkKCxbAA0adIkpW1SzwtFW1pZWVFsbCwRERUWFgrHKPYPGjRIKf8+ffqQgYEBPX/+XNimOL82bNhARNLGouKc37Vrl9o6Sh3Xbdq0URp7Fy9epDt37ojmqSmtYmzv379f2CaTyahRo0bCop9IelvrMr8p6q7r2K6Ic6U0scV7UXY2bbKyosgS/fXbkCG0vVR/KRbvJW9YzYyKop/NzGiHoyMV/zMPiS3ew6ZOpfMl+o/kctru4ED71cyXRdnZdKh9e8p79oyIePHOGGNE5bxh1dPTE40aNcLBgwcBAGlpaZDL5bC2tsbmfx47lpmZiYKCAjg5OaGoqAgHDhyAh4eH0rXFZmZm6NGjB8LDwxEeHi5sNzY2BlD2umYpN2/OmTMHnp6eeru2uHnz5hg0aBDi4+MRHh4OmUyGNWvW4OrVq+jcuTN69uwJPz8/NGzYEK1atZKcr6WlJRITE4WbJ9PT05GVlYW0tLRXEpPUY8rTnhYWFkJflqy3sbFxmWt7nZ2dQUSS6l+a4uZZKe0nk8kAADYqPoYfPnw45s+fj61bt+L69euIiopCu3bt8Ntvv5VJm5GRgX//+9/Yu3evTjeianNeKNqyX79+aNy4MQDlGzUV+62trZXKcHJyAhEp3bDs7OwMAEhOTgZQvrFYmtS8XF1dsXXrVowfPx5paWno0KED3NzcRPOUmtaixM2ZRkZGcHV1FS4v0aattZ3fStZd17H9qs6V0owtLfFZYiJa/NNfBenpKMzKQr6EvGs3b463Bw1Cdnw8npeYv0uSy2S4u2YNkq9exdHOnXGiZ0+c8fODRcOGsFYzX16ZNAmtv/5a7eUyJJeDiouVfhhjrDoz1pxENQMDA/Tr1w/r1q1Deno6QkNDMWrUKDRu3BghISF49OgRrl+/jgEDBgAA7t69i8LCQtSsWbNMXk2bNgUAREZGonXr1uUJC9HR0UhNTRV9Ekl5KBYKqampiIiIEJ7JHBgYKHqjo1QWFha4desW1q5di5ycHBhocW1meWOSckxFtaeY0gsXbdSqVQtNmzZFTEwMIiIi0L59e5VpHz58CADw8PCQlO+iRYvQpUsXLF26tMz17oGBgZg8eTI6dOigU9y6nBfaPjVI7OZdsW3lGYu65PXDDz/g2bNnCAkJQWhoKBYsWIBx48aJ5qdN2pLMzMyEP9a0aWtt5zdNyjO2X0l+FhZIu3UL99auhSwnR6trxK3/mYfyUlNF9z+PiEBxfj7aTJ4Ml8BAGEiYm2IOHULcsWOo3bw5bi5eDAB4evEiACB83TqYWlvjnSlTcKJHDyScOSMcV69dO/R7DZ+GxBhj+lLup830798fMpkMR48exalTp9CzZ08EBgaCiLBlyxYcO3YMAwcOBPDyHSTg5Q2ApSluKGvevHmZfaThS4BKU3yTZnlufBSTm5sLAHj33XeFxUBMTEy5Fu4A8NVXX8HX1xdBQUHYuXMnXFxcXllMUo6pqPasCMOHDwcArF+/Xm266/98m+RgCU/iAIBmzZoBABITE5W2z58/H23btlW68VRbup4XFaE8Y1GXvOzs7HD27Fns3bsXpqam+OKLL7Bp0ybR/LRJq4q2ba3N/FbVXfnqK5zy9YVrUBA679yJOlr0veyfecjm3XdF99M/88yLmBhJC3cAMDI1hdtXX2lM12X3bgx79kz46X3unMSoGWOsair34r1Dhw6wtbXFsmXL4OLiAmNjY7zzzjto164dNm/ejKysLOEd2+bNm6Nhw4a4evUqcnJylPKJjY1FnTp10LJlS2Gb4skdpRdMgPKCXvF/xb9OTk6oWbMmLl68iPj4+DLHlv6mTFVKp7t+/To6deoEGxsbODs7o0aNGti4cSOysrKU0pV+soVY3Ip/Y2NjsXr1agwdOlTpXWBVMZY3ptLlSzlGH+1JL++vkLSt5L+qKMosXfb06dPRsmVL7Ny5U+kSrJIyMjIQEhKCjz/+GF27dhXNt3Qf3r59G8DLx/gp/PDDD8jNzcU3JZ49nZiYiJUrV6qNHVCun7bnhVi7lc5bVbuKbdNlLObl5amrnqS8EhISsHDhQgDAgAEDcPXqVRgaGuLy5ctl8pOSVtXYKdke2ra1NvObqjI1xSf1WF3zK0MuB5Xq0+zYWNxdvRrNhw5FvRL9VTqdqu2p16/DvlMn4fKW0rFZOTvDuEYNPNi4EYWl5hlVl7k49uiBd6dNU/qx79QJAOA6dizenTYNBkZGMLO2hrmNjfBjourSPqKXPypo3Y6MMVZJyr14NzIygq+vL+7cuSO86wlA+Or3kosjQ0ND/PDDD8jKysLifz4GBV5eD3vkyBGEhIQofZT/9ttvw8zMDOvXr0dkZCQSExOxZMkShIeHIyYmBikpKQAgLCgTEhKEcmbNmoXc3Fz4+vri+vXrSE9Px969e5GQkICoqCg8fvxY42R98Z+PaBX/v3LlivCYuBo1amDy5MlITk5G586dcebMGdy9exfLly/H3LlzVeZZOlYzMzMYGhri9OnTSEhIwMOHD3Hp0iUUFhbi1KlTSEpK0mtMpcuXckx52/Pp06coLi5W+iMsNTUVxcXFQh8qKOIqvb00xXXaqaU+pjczM8OOHTvQqFEjdO7cWXiHXSEzMxP+/v5o3bo1duzYUSZfRX5RUVHCtpiYGEydOhU9evTAokWLAAAbNmzAypUrYWNjg+XLlwvt1bNnT7VfFqR4x7fkH0ranBcpKSkoLi4WfecYAJKSktS269OnT5XqVXKblLGouEfgzJkzkMlkon9YS82rfv36CA4OFvKws7NDrVq14OXlVSY/KWkVbVK67k+ePEFycjKISOs5SJv5TaE8Y7sizpXSchITIS8sREF6urDN0MwMBoaGSDh9GjkJCch6+BBPL12CvLAQCadOIbfUPJRUYh5KungRyVeu4KMSj9DM+WeeyfknRuMaNdBm8mTkJSfjaOfOSDhzBul37+L28uW4oWa+LE2x8JfyhVIlFefnQ5aTo/Ia/mnTpsHOzg7R0dFa5csYY5VCH3e9Hjt2jDw9PZW2ZWZmUu3atSk5OblM+l9//ZXs7e3Jz8+P5s+fTx9++KHSUylKWr58ORkaGhIAcnNzo99//528vb2pdu3a1L17d5owYQI5ODgQAHJwcKCVK1cS0cunTMycOZOMjY2FRwKGhoZSq1atqEGDBuTn50ePHz8WLTM0NJQcHBzI0tKShgwZQgEBATRw4ECKi4tTSldUVERTp04lExMTAkAWFhY0a9YslY8pXLVqlWisCxcuJAMDAzI2Nqbhw4fT0aNHycTEhJycnOjKlSt6i0lV+VLqoWt7Xrt2jTw9PQkAmZub05AhQ+jixYvCNktLS+HJK/PmzSMrKyvhsXjXrl0rk19UVBQNGjSIzM3NhafFjBw5sky6zMxMCgoKogYNGlC3bt3ou+++oy+++ILef/99CgkJIblcrpQ+PDycBg0aRDVq1BDi+vTTT8nf3598fX1py5YtwhN9zp07J4xJsZ/w8HDR/r98+TJ5eHgIbdG3b1+KiooS9ms6L/766y/y8vISju/Xrx/Fx8cL+0+fPk1t27YV4l+yZAkREY0ePZosLS0JAHl4eNC9e/fo7Nmz1Lp1awJA1tbW9P333xORtLHo4+NDAKhBgwa0dOlS0bpKzatXr17UpEkTmjt3rnA+l+4bBXVpf/nlF2rcuDEBoCZNmtDu3bupuLiY/GDePHUAACAASURBVPz8yMjIiABQjx49KCUlRVJbl6TN/Faesa3vc6W08PXr6fCHH9J6gNYDtKtFC7owciTJ/znP/164kNYbGNAGY2M6P3w4xR49ShtMTGiXkxM9/ae/HoaG0nYHh5ePkRwyhM4FBNCZgQPpRYl56M6qVbTdwYHWA7TdwYFu/zPPFBcVUdjUqbTBxITWA/SLhQVdmzVLKF+dzIcP6WSfPrSxZk1aD1DoW2/RtTlzNB5HRPTH9Om0q0WLl/U2MKADnp5KT9UhIurXrx8ZGBjQH3/8ISlPxhirTAZE5f+ssKioCImJiWjSpInS9ujoaLz99tsqj4uPj0dubi5atGih9hrtpKQk5ObmCnnFxsaiUaNGZZ5CIyY7OxtPnjwRnqyRkJAg6cZLuVyOmJgYZGVlwcXFRe0NggUFBYiMjISTk5PwxBNtJSUlgYhgb28P4OU7y9bW1kpP1qnomKQco2t7VhYiwqNHj/DkyRO0bNkStra2lR2SRlLPi4qiaSzKZDLcv38fzZs3V/ulVFLyUmx78uQJmjVrVuYpOaVpk1YKKW2t6/xWFeUmJQFEsPinv/KSk2FmbQ3DEv1FcjlexMSgKCsLdVxcYKTlzdPFBQXIjIyElZOT5C+QqmhFRUVISkoSnuDEGGOvM70s3hljjDHGGGMV79W/rccYY4wxxhjTCS/eGWOMMcYYqyJ48c4YY4wxxlgVwYt3xhhjjDHGqghevDPGGGOMMVZF8OKdMcYYY4yxKoIX74wxxhhjjFURvHhnjDHGGGOsiuDFO2OMMcYYY1UEL94ZY4wxxhirInjxzhhjjDHGWBXBi3fGGGOMMcaqCF68M8YYY4wxVkXw4p0xxhhjjLEqghfvjDHGGGOMVRG8eGeMMcYYY6yK4MU7Y4wxxhhjVQQv3hljjDHGGKsiePHOGGOMMcZYFcGLd8YYY4wxxqoIXrwzxhhjjDFWRfDinTHGGGOMsSqCF++MMcYYY4xVEbx4Z4wxxhhjrIrgxTtjjDHGGGNVBC/eGWOMMcYYqyJ48c4YY4wxxlgVwYt3xhhjjDHGqghevDPGGGOMMVZF8OKdMcYYY4yxKuK1WrxHR0dj3759atM8efIEJ0+efEURsdfFq+z3goICHD9+HBcvXnwl5TFW0qNHj3DixIlKK//Jkyc4c+ZMpZX/qlV2ezPGmLYMiIjKk8GWLVtgamoKe3t7lWnu378PZ2dndOrUSWWasWPHYuvWrWjRogVu3bpVZv/z588xYcIE7Nq1Cx07dqx2Ly73798HALi6ulZyJK+XV93vDx48wNq1a5GSkoKzZ8/i6dOnMDExqdAyGQOA2NhYTJs2DXv37kX37t1x7NgxveZfXFwMIyMjlftzcnIwevRo7NmzB71798bBgwf1Wv7rpqLbWxua+kbbdIyx6q3c77xv2bIFP/30E8LCwvDgwQN8++236NGjBx4+fIi7d+/i6NGjmDhxIoyNjdXm85///AcODg5o37696P46depg27ZtaNSoEby8vMobtiA/Px99+vTB+fPnJaUvKCjA2bNnMXXqVLz33nuQy+XljoGIMHz4cJw6darceVU3FdXvYjIzM9GrVy8EBwdj9+7diIyM5IX7G6i4uLhSjm3SpAl27doFMzMzeHp66pyPmIkTJ+KDDz4os71kvJaWlti5cydq1apV4efa66Ai21sVsfEh1jdS0zHG3kzlWrzn5eUhJSUFp0+fxrRp0xAUFARDQ0O0bt0ao0aNwpdffomlS5fCy8sLzZo1U5tXdnY2Hj16pHZyys7ORlxcnN4m2uLiYgwZMgRHjx5FixYtJB3zxx9/4Pjx41i9ejWMjIxgaFj+K4927tyJa9euCe++M2X67ndV5s2bh+bNm8PS0hIAYGNjU6HlsdfP3bt3MW7cuFd+rEJMTAzy8vL0PtYtLS3h6+urtE0s3qdPn+L58+dvxOIdqLj2FqNqfJTuG6npGGNvrnKtPBMSErB8+XKldydv3ryJd999Vymdv7+/2stqAOD69euQy+Uq33kvmcbDw6M8YQN4+W73V199hdq1a8PW1haNGjWSdNyHH36IFStWwNLSEv/617/KHUdeXh527doFHx+fN3bxfuvWLRw/flzlfn32uypyuRxbt27FRx99VGFlsNffgAED4Ojo+MqPVbh+/ToA6H2sL1q0CN98843SNrF4//zzTxgYGKBdu3Z6Lf91VVHtLUbV+CjdN1LTMcbeXOVavLdo0QIff/yx8HtMTAwyMjLKLN7Hjh0LQ0NDFBYW4urVqwgJCUFoaCgSExOFNH/++Sfs7OyEd+ivXLmCn376CQUFBUppHB0d0bBhwzKx3L9/Hz/99BMuXbokKfZ///vf6NSpE2QyGdzd3bWqd1paGjIyMvSyeF++fDm+/PJLtGrVCvfu3RNNU1hYiF9//RWFhYXCths3buDAgQOSyxFrn4KCAhw5cgQlb3u4d+8e9uzZIxqDqr4rLCzE3r17IZPJALz8w+jcuXO4cOGCkEYmk+HEiRMICwtTyjcxMREffPABbt68iXXr1mHjxo2IjY1VSqOq37Xt8+TkZGzduhX79u0TYgWA1NRUHD16FM+e/X979x0W1ZX/D/w9M/QqoghSYheViDEWIobEhsZIlsQYwR41sURj1p64q65GY6yJxlgT5avZxB7dtSV2QbBjVFQUBRGw0TsM8/n9wY+7zDDlDkwB/byeZx4f7tx7zueUe+Z4594zz/HKK68gISFBqd/pUxea3L9/H5s3b1bbxrrKoVAocOrUKaxevRo7duzAgwcPhPfkcjkOHDiA3NxcpWPOnTuntJ+2vPTtX6mpqYiIiFD7QK++baKrX4mJS9/41fWDnJwcXLhwAXfu3IGPjw8SEhKQn58vKlZdx+qqk+LiYpw4cQLr1q3Dnj170KxZMzRo0EBjnaWkpCA6Olpp29OnT5XO41OnTiE+Pl74+/jx43j69KnOeM+fP482bdrAyclJ2Pe3335TSksdfdvAWOMJYPj61paumHLr6h8VbSN2P33Kq23cYYzVYWRA+/btIwB07ty5Ku/t3buXRo4cSatWraIpU6YQANq3b5/w/sCBA2ngwIGUmZlJH374IfXu3ZsA0IoVK5T2+eCDD5TSzc/Pp08++YQWL15MEydOJKlUSvfu3dMa53fffUdff/01ERG1aNGCZs6cqVc5//jjDwJAsbGxeh2nKi0tjUJCQoiIaMOGDQSA0tLSlPZJSkoif39/AkDp6emUm5tLo0ePJjc3N3J1ddWZh6b6ycvLo6CgIAJAv/32GxERnTlzhry9vcnR0ZFKSkqENLS1nWp8T58+pYEDB5KLiwt16tSJiIgSEhLo3XffJTs7O3r//feFdC9dukR9+/Yla2tr+vHHH2nDhg302muvka2tLV29elXYT7Xd9W3z9PR0GjZsGC1fvpz+7//+jxo2bEh/+9vfiIhILpfT5MmTyd/fn6RSKY0dO5bmz59PxcXFatPS1Y/VWb16Nc2cOZP69+9P9erVE+pWTDkOHjxIQ4cOpWXLltHcuXPJ1taWPv/8c6Huu3TpQgDo1q1bwjFHjhwhAJSUlKSzzvTpX0VFRbRw4UKaPXs2DR48mCQSiZBHdc5DffqVprj0iV9bP1izZg298cYbZGFhQZMmTaKZM2dSTk6OqFg1HSumTnbs2EHDhw+n1atX05gxY8jGxobCwsI01tmJEyfI3t6e2rdvL2yTy+Xk5+dHz58/F7a1bduWhgwZQk+ePKEePXoQALpw4YLOsvbu3ZtGjRpFROXjeY8ePUgqldK0adM0xqTvGGWs8cQY9a0tXbHl1lTfqm0jdj+x5dU07jDG6j6DTt7nzp1LEomEcnNzlbYvXryYPvroI1IoFEREdPLkSQJAKSkpwj7e3t701VdfUVhYmDAANWjQgD766CNhHy8vL1qyZInwd1lZGfXs2ZN27NhBRESPHj0iAHT27FmNMR46dIiGDx9ORETPnz8nAPTrr7/qVc5vvvmGrK2tazwYjhkzRhiMT58+TQDozz//VNpn9erVtGrVKnJxcaGcnBwKCwuju3fv0rRp06ht27Za09dWPz///DMlJydTcHAw9e/fn1JSUmjUqFFUUlJCWVlZQhq62m7ZsmW0evVqcnZ2pufPn9OQIUPo8ePHNHbsWOrduzfFx8fTqFGjKDc3lwICAujTTz8lovIJR0REBH322WfUtWtXIb8HDx4QAKXJQuV217fNi4uLqWvXrrR27Vph27fffksAlD7oRo8eTW3atNFan2L6sarz58+Tn5+f8HdMTIzocixdupRCQ0NJLpcTEVF2djZJpVL65ZdfiIjo+++/p5UrV5K1tTUVFRUJx82dO5c8PDyEv7XlJbZ/lZWVUWhoKG3fvl3YVtF3q3Me6qpLsXGJ3U9MP5g2bRq99tpreseq7lgxdTJ//nz68MMPhXTLysrIwcGBVq5cqbbOSktLaf78+TR37lyqX7++sH3NmjUEgG7cuCFsCw4OpkWLFtEPP/xAS5cuJUtLS8rLy9MYLxGRQqEgZ2dnWrduHa1du1aoK0dHR6VxV5U+Y5SxxhNj1LeudPUpt7r6Vtc2YvfTVV5N4w5j7MVg0Ml7SEgItWzZUmnbuXPnyM7OTumK8tdff02NGzcW/k5NTSUA1L59e6UPRDc3N5owYYLSPidOnBDeX79+Pfn7+xMRUU5ODg0ePJi+/PJLjfHduHGDgoODqbCwkIiIDh8+TADo9u3bepVz0KBBwlWg6oqNjaXOnTvTqVOn6NSpU7Rr1y4CQKtWraqy76RJk6hXr140cuRIoR6Dg4MpPDxcax5i6mfr1q1kaWlJQ4cOVZq0E4lrOyKiyZMnU1BQEI0aNUpIo0ePHhQeHk5jxoyhkpISKisrI0dHR1qzZo3SsYGBgfTZZ58pbbOysqIpU6YQUdV217fNV6xYQQ0aNKDS0lJh2+7du6t8sHft2lVrfYqtC1VbtmwhiURChw8fVtquqxwV+VU+H44dO1blPx0TJkyg7t27K6Xdp08f+vDDD0XnJaZ/RUREkI+PD5WVlVUpo75tIrYuxfZ7MfuJ6Qfdu3en8ePHVytW1WN11UlkZCRZW1tTcnKysO3atWsEgCIjIzXWHRHRjz/+SA4ODkRUfgGie/fuBICOHTtGRER5eXnUokULyszMJCKi8ePHU2BgoNZ4iYhu3bpFAOjzzz+njRs3EhFRYmKi2osKqsS0gTHHE2PVtyHOHSL19U1UtW3E7qcrLk3jDmPsxWDQybuXlxcNGjRIaVvfvn2VJhIlJSXk7++v9HXn77//XuWr/5ycHAJAERERwj5SqZSys7OFfdq3b09/+9vfaNGiRTR79my1t+tUePr0Kfn5+dHhw4cpNjaWYmNjadKkSWRpaUmXL1+mBw8eEBHRRx99RAEBAcJr8+bNVdJq3ry5cMWnuvr06UNffPEFTZ8+XXjZ29vTmDFjquzbvn17cnJyEspXVlZGTk5O9OOPP2rNQ0z9ZGRkkKWlpdq0xLQdEZG/vz85ODjQ5cuXiaj8CqG9vT01btyYUlNTiYjo6tWrBEDpdpjS0lKytbWlrVu3CtuSkpIIAG3bto2Iqra7Pm1ORNS6dWsaOnSo0raKW5QyMjKEbY6OjvTtt99qTEdsXajKzs6m1q1bk6WlpXDFXEw5evfuTcHBwUrb/vnPf1KDBg2Utr366qs0e/Zs4e+YmBiytLRUupqoKy8x/SsoKEjtpEJM+qrE1qXYfi9mP139QC6Xk52dHf388896x6ruWF110rdvXwoKClLa9u2335KFhQUVFBRoqLlyW7ZsIVtbWyIqn+heuXKFLCwshG9F/vWvf9GBAweE/du0aUNz5szRGi9R+X/QANC4ceOEbb/88gvJZLIq36aqEtMGxhxPjFXfhjh3NNU3kXLbiN1PTFyaxh3G2IvBYJP3Z8+eEQBatGiRsC0rK4ssLCxo9erVwravvvqKZDIZffPNN0rbfH19ldL797//TfXq1aP8/HwiIvryyy+VvorMyMggADRr1izhSro2+/bto1GjRim93N3dycvLi0aNGkVbt24lhUJBx44dU3o9efJEKZ2srCySSCS0fv16/Sqokv379wv3lVYWEBCgdAsJEVFmZiZJpVKlK/KxsbEEgP766y+NeYitn8OHD5OLiwuFhoYqbRfbdhkZGSSVSpUmvjExMQSA/vvf/wrb1q5dS87OzkpXbi9fvkwA6ObNm8K2n376iRo0aEDp6elEpNzu+rZ5UVERSSSSKleBP//8c2revLnwd8V/GI4cOaI2HbF1ocmzZ8+oU6dOJJFIKCoqSmc50tPTSSaT0VdffSVsi4mJITs7O+rbt6+wLSMjgyQSiVDPGRkZ1KlTJwIgfE2uKy8x/Usul5O9vT0tXbq0yvH6tonYuhTb78XsJ6YfVEwGK996IjZW1WN11Ulubi5ZWlrSF198IWy7ePEi2draqr1tR9Wvv/5KlpaW9Ndff9GMGTOIiMjDw4OWLVtGt27dor///e/Cvk+ePKly5VxdWYmIJk6cSM2aNVN63mPixIn0+uuva41HTBsYczwxVn0b4twh0lzfqm0jdj+x55zquMMYe3Fo/+UkPVy5cgUA4O/vL2y7d+8e5HK5sEzkwYMHYWtri7KyMnTp0gVFRUWwsbFBXFwcWrRoIRxHRPjuu++wYsUK2NnZAShfcaRLly6Qy+VQKBRIT08HUL4Wt42NjXDsw4cP4ePjUyW+0NBQhIaGKm1r2rQpBgwYgDVr1gjbevXqpbOcRFRlRR2xiouL8eWXX+LAgQNV3mvXrh127NgBIoJEIgEAREZGQqFQYMiQIcJ+kZGRqFevHtq1a6cxHzH18+jRI+zduxfz5s3D7NmzkZ2dDWdnZxQVFYluu4r4wsLChDzOnj0LBwcH9OvXT9gWFRWFbt26Ka2Lf/78eTg4OMDX1xdA+QoSS5YswfLly1G/fn0Ayu3++PFjnWWqLCsrC0Sk9IMncrkc+/btw+TJk4VtcXFxAJT7bmVi60KTBg0a4NixY/Dz80NkZCTc3Ny0luPu3bsoKyvDq6++CqD8lyAjIiLQpk0bpX537tw5EBG6deuGkpISTJ8+HWFhYbhx4wZee+01yOVynf1ATP96+PAh8vPzUVRUpFSuilWXtKVf3boU2+/F7CemH1y8eBH29vZo06aNEIPYWFWP1VXnSUlJKC0tFeJLS0vD6tWr4evriy5duuj8FU1bW1vI5XIsW7YMP/74IwCgUaNGSE5OxqJFi7BhwwZh39OnT8PS0hJvvPGGMK6oKytQfq4FBQXByspKOD4qKgpvv/22xljEtoExxxNj1bchzh1Afd9S1zZi9xP72ac67vAPPDH24qj5Lwz9f3v27AEApcGj4kMgISEBERERuHTpkvDjH3/++afwwZOVlYW0tDThuPnz56Nbt24YPXq0sC0hIQEKhQLh4eF4+vQpvLy8IJPJcODAAZSWluLJkyeYNWsW9u7dKyrev/76C4mJiTp/PErViRMnAKDKcQUFBQgMDMQPP/yg9fg5c+agXbt2aN68eZX3PD09kZeXh3Pnzgnbzpw5g5YtWwoTPqD8PxDe3t749NNPkZCQoDYfbfXz66+/YteuXRg+fDiWLFmCgQMHorS0FMuXL8fChQsRExMjuu1Onz4NHx8fpXY/c+YMAgIClD4QL1++DDs7O4SHh6O0tBRA+eTd19cXUqkURIRPPvkEI0aMwMiRI4XjKre7lZWVXm3u5uYGNzc3pSXmVq5cCV9fX0yZMkXYduPGDbRu3Rru7u5q0xFbF6qmTp2KCRMmgIjg5OSExo0bIzQ0VGfftba2FuI6dOgQVqxYgRUrVuDmzZtK/8G4fv06rKyscPfuXYwcORKfffYZsrOz4eHhgTlz5uDMmTM68xLTv9zc3GBhYYFDhw6hrKwM8fHxmD59Om7fvq33eSi2LsX2e7Hx6+oHycnJaNiwIfbt24d58+bpFavqsbrqxMXFBQBw+/ZtnDx5EjNmzMCaNWtw69YtFBUVYcSIEUpLD6qysbEBESE0NBQODg4AyifvERERmDJlinDBAyg/x7y9vTFv3jxcvHhRY1mLiopw7do1pfXdi4uLcf36dWRmZmLcuHEa4xHTBsYcTxo1amSU+jbEuaOpvtW1jdj9dMWladxhjL1Aanrp/uLFizRgwACytrYmANS1a1fhIaKysjJq3Lgx2dnZCSsX/PLLL2Rvb0/ff/+9kMamTZsIAAUFBVFYWJiwdGFlzs7O9Pbbbwv3PBIRzZ49mwCQnZ0d+fn5KX2tqolcLqcJEyZQs2bNCAB5e3vTsmXLdB538uRJeu+998jW1pYAUK9evWjTpk3C+3fu3CEASl/NVhYfH0/BwcEkkUiocePGSrcXEZU/uOXh4SHEtG7dOiIqf5By4sSJSvv269ePmjVrpnT/uDqa6sfLy4tcXFwoOjpa2HfIkCFkY2Mj3A4ktu06depEo0ePFv5WKBRUv359WrhwoVIsTk5O1KNHD6XbkHx9fQkA9ezZk8LDw9W2n2q769vmv/32G1lZWdGAAQPok08+oblz5yqtzEJE9OGHH2psN33qQtWPP/5Itra25OXlRcHBwUoPyGorh1wuJ3d3d7KwsKAZM2ZQaWkpXblyhQBQXFycsN/SpUtJIpFQjx49hGc2xo0bR15eXkq3SWjLS2z/mjFjBgEgFxcX6tu3LyUmJopKv7p1KTYusfvp6gdTp04lCwsLmj17tnBrl9hY1R2rq07atGlDEomEJk+eTMXFxVRQUEASiYT69+8vPGiqyenTp6l///5K20aMGEGLFy+usm94eDj5+voqPZSpLt7o6GiSyWR06dIlYb/k5GSSSCQUGhqqtGymKjFtYOzxxFj1bYhzR119E1VtG7H76YpL27jDGHsxGPSBVXUyMjKUHjItKiqqsqoJEVFKSorShEDd++rcu3evyn3p5pKcnKx2NY6aePz4cZVtqampovNRVz9Pnz6t0gZyuVxpnWgicW336NEjpb/LysqU/oOlab+KZwe2bt1K8fHxGuNX1+76tnlubi7FxcUJSy6q8vT0pKNHj2pNQ2w/VpWXl0d3794VlqerTFs5njx5ovRA7YYNG8jGxkapDMXFxfTw4cMqx1VeUUVXXvr0r3v37mmcxOnTJmLqUmxc+sSvrR9kZGRU6f9iY9V0rLY6SU9PrxK72PrLzc0VngmpkJiYqLbM6enpVfqeunizsrLUtm3l1Vk0EdsGxhxPiIxX3zU9dzT1D9W2EbufrriItI87jLG6T0JU6Wf5GDORY8eOoU+fPnjw4AGaNGlitjiSk5Ph7++P1NRUrfetm9snn3yCa9eu4cKFC+YOhTHGGGNmZLB73hnTR3R0NOrVq2fWiTtQ/uDcypUra/XEHSi/71XbA8qMMcYYeznw5J2ZXHFxMbZv3w5ra2th5QRTOnDgAD7++GNs2rQJN27cwKhRo0wegz5iY2Nx/fp15OXlobi42NzhMMYYY8yMePLOTColJQWjR4+Gv78/3nnnHSxYsABZWVkmjUGhUCA+Ph6PHz/G999/b9K89XX06FF8/fXXGDJkCFxdXbF+/Xpzh8QYY4wxM+J73hljjDHGGKsj+Mo7Y4wxxhhjdQRP3hljjDHGGKsjePLOGGOMMcZYHcGTd8YYY4wxxuoInrwzxhhjjDFWR/DknTHGGGOMsTqCJ++MMcYYY4zVETx5Z4wxxhhjrI7gyTtjjDFWx5SWlpo7BMaYmVhU5yAiwogRI9CiRQtDx1MrFBcXo6SkBI6OjuYORW8JCQlo3ry5ucMQ5eHDh/Dx8TFK2klJSXjllVcMnm5+fj4sLCxgbW1t8LTrkuTkZHh7e5s7DKNLTU1F48aNjZpHWloaGjVqBKn0xbiWYqxzz9R51GYFBQVwc3PDtGnTzB0KY8wcqJrmzZtX3UNrvY0bN1Lnzp3NHUa1/POf/zR3CKL94x//qHNpb9y4kbp06WKUtOsSY7ZdbXHkyBFydnY2ej4rVqyg8PBwo+djKqboGy9D/9OmR48eNH/+fHOHwRgzk2pf6pFIJIb8P0StkpqaiosXL5o7jGqRyWTmDkE0C4tqffFj1rRTU1Nx4cIFo6Rdlxiz7WqLmJgYZGdnGz2f3Nxc/Prrr0bPx1RM0Tdehv6nzcmTJ80dAmPMjF6M72kZY4wxxhh7CfDknTHGGGOMsTqCJ++MMcYYY4zVETx5r6E9e/bg+PHjWvchImzevBnh4eE4ffo00tLS8P7776N169aIjo42UaT/s2PHDixZsgTr16/H9evXTZ6/Ph4/fmzuEJiRGbqNX+Q+c+rUKSxatAirV6/GgwcPDJ5+dnY23nzzTcTFxRk87cpM1UYKhQL79u3DvHnzsH37do37qSt35RiLi4sxefJktGzZEj///LNBYnuR+yljzLh48l5Dmzdvxu+//651n+3bt2PmzJno2rUrPD09MXXqVDx//hwbN25E27ZtTRTp/wwbNgwnT57EwYMH0bVrV8yaNcvkMYiRlJQEDw8PREVFmTuUOq+4uNjcIahlqDauKJ/Y9ExVH4bKp7i4GMOHD0dISAjOnz+P/fv34+7duwZJuzK5XI7IyEjk5uYaPO0Kpjqvc3Jy0K9fP0yYMAHx8fH4448/NO6rWm7VGNevX489e/Zg3bp16NOnT41j47GNMVYTRntkf/v27Xjy5EmV7YGBgQgICFB7zPXr1zFx4kTIZDKcOnXKWKGZ3M6dOzFgwAB88cUXAIBDhw5h+fLleOutt8wW06effoqBAwfi2LFj6Nu3L9566y3079/fbPGo4+XlhY0bN6JDhw7mDqVOGzVqFLy9vbFw4UJzh1KFIdq4cvnEpGeq+jBkPj/88AOOHTuGixcvwtfX1wDRmY+pzuulS5fi3r17iI2Nhbu7u17HqsZ48OBBvPPOO+jdu7dBYuOxjTFWE0a78v79999j+vTpsNzG1QAAHxlJREFUVV7abjHJyclBZGRknb4a8eDBAxw9ehT5+fkAgCtXriA+Ph5SqRRRUVE4efIkcnJykJ2djb/++svM0QK9e/dGjx498NNPPyltVy0HADx79gwHDx7EmTNnoFAoAACFhYWIiopCWVkZzp07Z9C2IyK0bdtWyCsvLw8HDx402K1G6spjKAUFBThx4gSuXbumtP3u3bs4fPiwcIWvov4UCgXOnTuHK1euACj/Gv/w4cNISkpSSjMqKgpyuRwnT57E7du3AQAlJSWIiooS2urRo0dCOteuXUNMTAwePnyIqKgopV9lVG3jivQB4Pz58ygsLKxRHWhqr8p1o9rG6uLS1sdUy1dSUlIlvcpxaKuP6lLXjwyZT2FhIRYtWoRZs2Zpnbir9i1d2wHgxo0bOHfuHLKzsxETE6MxbXXjQXVVbnNjjR+5ubn47rvvMGvWrCoTdzHnfeUYr1y5gsTERCgUCqX4VOtV9fzJyMjQWDbVfm/MsYgx9gKq7gLxun4gYvHixTR+/Hhyc3MjABQQEEDjx4+nQ4cOaTwmMjKSAJCFhUV1wzKI+fPnk9iq6devH02aNImIiLZt20aNGjWi119/ndq1a0c5OTk0ePBgsrOzIy8vLwoICKAuXboQAPL19aUxY8YYJXZdLCwsaPfu3cLfX3/9NXl5eQl/qysHEZGvry+9/fbb5OrqSoMGDSIiovv37xMAev/996ldu3Ykk8lo5cqVBon1+fPnBIBiYmIoIyODmjVrRn5+ftS4cWN69OhRjdLWVB4xMevqGxcuXKAGDRpQs2bN6O233xa2b968mRwdHcnPz49atmxJjx8/Fupv0KBB5OfnR1KplL799ltq06YNtWzZkhwcHOjevXtERHTnzh0CQIMHDyYfHx+SSqW0e/duevToEQGg2NhYIiJasmQJ+fr6EhHRqFGjyN7enjw9PSkgIIDS09OJSH0bx8fHEwCaOnUqAdBax7rqV1N7qdZN5TbWFJe2PqZavooyVKSnGkefPn3U1oemMooZB9T1I031Xp18YmNjCQAlJSVp3Edd39K2nYho3bp1ZGlpSV5eXtS1a1dq2LBhlfYg0jweaCuPNpXzqO74oSuPS5cuEQB6+PBhlffUtZdquSv/XXkMDwwMJCL19ap6/pw9e1Zj2VTz03csAsA/0sTYS8xok/cKAQEBBICWL1+utD0+Pp42b95Mf/75J5WWlhJR1cn79evX6ffff6cTJ04IxyUnJ1NERAT95z//oZKSEiIievLkCf3+++906dIlevz4MUVERNCRI0eU8isoKKBdu3bRli1b6M6dOzrLpu/kvbCwkOrXr0+nTp0iuVxOrVu3ps2bNxMRUYcOHYT6KioqIgBV4jOU6kzeN23aRFZWVkREWsshl8uJiOjQoUMEgBITEyktLY0A0BdffEFERJMmTRImjjWNtfIH3KZNm6hFixai0hWTNpH68ohJV1vfKCsro5YtW9LUqVOVtufk5FC9evXowIEDRETUpUsXmj17tlB/s2bNIiKi8ePHEwA6f/48lZaWkpeXFy1atIiIiJKSkgiA8J/FcePGUdu2bbVO3omIOnXqpPSLlJraODk5mQBQhw4d6MmTJzrrQRt17aWubiq3saa4dPWxyuVTnRSpi0O1PrSVUcw4oKkfGSqfPXv2kEwmE/JRpalvadpecYyzszNt3bqVysrKqE+fPuTp6Vml/rSNB9rKo03lPKo7fujKY+fOnSSVSoXPlsrUtZe2yTuR8hiuqV5Vzx9tZVNNX9+xiCfvjL3czPLA6vbt2+Hn54exY8eiT58+CAkJUfu1clhYGEJDQ4VbDw4dOgRfX1+MHDkSISEh6NevHxQKBa5fv47Q0FCMHDkSHTp0wMiRI9GvXz98++23AMpvx+nYsSMGDRqEjz/+GBMnTjR4mc6ePYuSkhIEBgZCJpMhICAAly5dMng+xkJEALSXQyaTQS6Xw8XFBQCQmJgIS0tLAEBoaCgA4LXXXkNycrLB4/Px8cHjx48RHx9vsDTVlaemoqKicO/evSoPAcfExCArKws9e/YEAPTs2RNHjx4V6u+9994DAHTo0AH169dHly5dYGFhgbZt2wr1aWVlBaD8vACA4OBgxMXF4dmzZ3rFqKmNK2KZOnUq3NzcqlkD5dS1l6a6ERtXdfqYMfqNKmP0o8rS0tLg6OgImUyG7OxsWFpawtLSEkOHDgWguW9p2l5xTHZ2Nvr27QupVIp33nlH7a+WGntcM9b48eTJE9jZ2aktU03bS9e5XHH+6FM2Y/chxtiLxeST96ysLEyePBmlpaVYv349WrZsiSNHjlT5efATJ07g5s2baN26NT777DMUFRVh7NixkMvlOHDgAN544w2cOHEC//3vf2FtbQ0AuHnzJgICAoRBddOmTQCAbdu24fbt2wgKCsL+/fsxc+ZMg5crOTkZ+fn5cHR0hK2tLbZv346MjAyD52MMaWlpqF+/PgDt5fjpp5/g6emJ4cOHAyhfoaGCjY0NAMDe3h5lZWUGj7FXr17o378/unXrZrD7YrWVp7ru3buHBg0aVJn8Pnz4EK6urrC3twcAvPLKK0of5BV92MbGRpikA4CTk5MQl0QiEfYBgNatWwMobz996OqrhnggUl17aaobsXFVp48Zo9+oMkY/qszb2xtZWVkoLi6Gk5MTEhMTMWzYMOHeaE19S1ufe/jwIerVqyfcD25lZSX0r8pMNa4Zevxo1KgR8vLyUFBQUOW9mraXrnNZ9fwRUzZj9yHG2IvF5JP306dPIysrC61atcK4ceMwaNAgAKiy3OK6desAACtXroSlpSWOHz+OtLQ0dO7cGSEhIcKVypiYGKWrK5s3b8b06dMBlA+yAFBUVAQAyM/PR9euXREcHGyw8lRcsZZIJPD29kZhYSEKCwshl8uxY8cOg+VjTHfu3EH79u0BaC5HdHQ0Jk+ejD/++AM3btwweYwymQy//fYbhgwZgl69etV4mTxjlUcqlar9gLawsFBaNrC4uFj4UK+ukpISAICtrS2A//VFXXT1Vam05sOCuvbSVDdi4zJUHIZkivOiWbNmAICEhARIJBJ4enrCwcFBeF9T39LW52QyGWQymfCepr5TV8c1b29vAOV1Vpkh2kvXuazv+WPusZUxVveYfPJeMZh6enoCKF8yC/jfRBsAysrKcODAAVhYWKBz585Kx50/fx4uLi5YsGABgPIfuqh8xcjV1RVOTk4AINyKM2jQIHh5eeHy5cvo1KkTbt68abDyZGZmolGjRmjSpAlSUlKMuj6yMWRmZmLv3r0YMmQIAGgsx59//olXX30V/v7+ZrsqJJFIsHr1anh4eGhds1kMY5WnWbNmyMjIUOrPQPntG3l5ecJVy6SkJDRp0qRaeaSnpwMov5ItkUjQqlUrABCWZi0qKlKajEmlUqUymqqvqraXprqpaVyq5dMVh6799aGtHxkqn9atW6Np06YafxxIU9/S1ueaNGmCjIwMPH36FAA0Xk2vq+Nax44d4eHhgS1btihtN8R5b8hz2VAxMcZeLiafvFfcB1ixDF3Fv/Xq1RP2ISI4OjpCLpdjw4YNACB8Rdy4cWMMGDAAAwcOxLBhw/Dmm2/qzNPHxwfR0dHo2LEjHj16JNyDWBMFBQU4f/48rl69ig4dOiAoKAienp746quvIJfL8ejRI7Vf2dYWBQUFuH79OkJCQtC2bVuMGDECADSWw9HREbdv30ZWVha2bdsGwLRf7SYnJyMlJQWJiYl49uxZjT4sARitPIGBgWjRogX+/ve/IzMzU5gcBQYGwt3dHVu2bEF2djYOHDiA8PDwauWxZs0a5OTk4JdffsG7774LDw8PuLq64vjx40hNTcW+ffuUyuLm5obo6GjhGyhT9FV17aWpbipUNy7V8umKQ9v++tLWjwyVj6WlJRYvXozVq1dj48aNyMjIUJpMa+pb2vrcm2++CQ8PD8yZMwexsbHYuHGj2rzr2rhWwcrKCtOmTcOaNWuwdu1apKamIjY21iDnvSHPZcB4YxFj7MVl8sl78+bNAQD379+HQqHA/fv3AUC4egiUX7Fau3YtAGDt2rUoKSlBixYtAJTfIrBlyxZs27YN27Ztw8cffywqXy8vL0RGRsLa2hr37t3D8+fPa1SOli1bIiAgAB999BHeffddyGQy7N27F0ePHoWdnR06d+5s0Cv8hiSTyTBixAi88847aN++PU6ePCl81aupHKNGjYKXlxfc3d1x8uRJeHh4GGTNZ7H2798PHx8ftGjRAmFhYTX+QSljlUcqlWL37t24efMm6tevL/xH0crKChEREfj666/RsGFDvP766xg7dmy18pDJZHB1dcW1a9ewYsUKSCQSzJkzB8uXL4efnx/eeOMNpa/1P/nkE0RHRwvfcpmir6prL011U7lc1YlLtXy64tC2v7609SND5hMWFoZ169Zh7ty5cHV1xe+//y6MiZr6lrY+J5PJsHPnTpw9exZDhgxBSEiI0q04FerSuKZq2rRpWLhwIRYsWABPT08MHjzYIOe9Ic9lwHhjEWPsBVbdZWqqu1RkSUkJeXt7EwDq168fOTg4kFQqpUuXLiktFVlYWEhOTk4EgCIiIqikpISaN29OAMjHx4fCw8OpS5culJ2dTTExMQRAWG6tIp2Kvzdu3EiBgYE0cOBAAkAeHh6kUCi0lk1X1Tx79oyys7PVvqdrHWRjEtMuCoWCCgsLde6nWg6FQqF1vWp96bvUWV5eHhUUFBgs7eqUR59lRNX1A7lcThkZGXrlWeHx48cEgC5dukSZmZlV+nB2drbapfGIiPLz8yk/P19UjGKIqV9t7aUrX33j0lQ+TXFo27+C2LbW1o8MmU+FzMxMtds19S0xfW7BggXUs2dPrfuIbRNTLGGobx6Vx2pDjWM1OZdV6RsTeKlIxl5qZrltpuKq0ZEjRwCUP5z6+uuvK+1nY2OD999/HwCwatUqWFpa4uDBg+jWrRtSUlKwY8cOpKenIyUlRWeeT58+RXR0NPbs2YNWrVph586daldW0EeDBg2Ee+tVOTo61ihtY5NIJKIellQth0QiEValMQd7e3vh4UxDMHZ51PUDmUwmLAdXE/Xq1avSh52cnNQujQcAdnZ2sLOzExWjoWhrL1356huXpvJpikPb/vrS1o8MmU+FyrcYVqapb+nqcwqFAkePHoW/v7/WfGv7uKZN5bHaUOe9oc5lwPxjK2OsblH/SW9A6n7KvmPHjrh79y6ePXsGFxcXYcIRGBio9KDd1q1bsXXrVuHv1q1bIyoqSnggr/IHcuXjVNOZM2cOpk+fjqKiIjg7OxuyeIwxVicFBQVBoVAgJycHBQUFmDFjhrlDYowxJoLRJ+/aNGzYsFrHVWeJPWtra2EtbcbqIhcXFxw7dkzp+RDGqmv37t04d+4crK2tERQUJKxbzhhjrHYz6+SdMSaelZUVevXqZe4w2AvCzc3NICtvMcYYMy2T3/POGGOMMcYYqx6evDPGGGOMMVZH8OSdMcYYY4yxOoIn74wxpkbFD5eZQk2XrmWMMfbykFDlNRX1MGfOHLRq1QqJiYkGDsn8vL29ce3aNbi6uqKa1WMWDRs2RGJiIlq1aiVq/XtzeuWVV3Dz5k14e3sjMzPToGl7e3vj1q1b8PHxQUZGhsHSlUgk8PHxQWxsLOrXr1+n+oYh+fj44NatW/Dy8jJ429UmXl5e2LZtG0JCQpCXl2eUPCwtLVG/fn1kZ2ejqKjIKHmYkin6ho+PD+Li4gx+ftclxcXFsLa2xrx588wdCmPMHKr7606TJ0+mxo0bC79k+iK9pkyZQn369DF7HPq+nJ2dafz48eTm5mb2WHS9XnnlFRo3bhzZ2toaPG1PT08aN24cOTg4GDztmTNn0ltvvWX2+jPny8fHh8aPH092dnZmj8WYr8DAQOrRowdZWFgYLQ+JRELffPMN+fv7m728hnh5eXnRuHHjjNo3vLy8aPz48WRvb2/28prr1a1bN/rhhx8M8UONjLE6qNrfC7u6uiIlJQVE9MK96tevj+PHj5s9Dn1fWVlZcHd3x5MnT8wei65XYmIiPDw8UFBQYPC0Hz16BA8PD+Tm5ho8bXt7e5w9e9bs9WfOV1JSEtzd3ZGfn2/2WIz5Cg0NxcmTJ1FaWmq0PBQKBYqLi5GQkGD28hrilZycDA8PD6P2jeTkZLi7uyMvL8/s5TXX68KFC3j+/Hl1P74ZY3Uc3/OuBlH5hypjqrhvvDzy8/NNlpexbsthLya5XG7uEBhjZsSTd8YYY4wxxuoInrwzxhhjjDFWR1iYO4C6bNeuXUhMTISVlRUCAgLQtWtXrfs+ePAANjY26N69Ozp27Ci8t3LlShCR8HdwcDBeffVV7Ny5E4mJibCxsUGXLl0QEBBgkLhXrlyJAQMGoFWrVrU+VgCIj4/H7t274eLigrCwMLi4uNT6tI0Zc13ystSDscupz1gjJiYx5+upU6cQFRUFR0dHhISEoGnTpgYtU22rM23jorZYFQoF9u/fj9jYWLRs2RLDhg0zaDkYY0wVX3mvgSFDhuDMmTO4desWgoODMXXqVK37/vHHH4iJiUH37t2xcOFC4b1Zs2Zhx44diIyMRGRkJJ48eQIAGDp0KE6ePImLFy+iZ8+emDFjhkHinjVrFq5fv14nYr169SoCAgIQGRmJJUuWoF+/figsLKzVaRsz5rrkZakHU5RTn7FGTEzaztfi4mIMHz4cISEhOH/+PPbv34+7d+8atDy1sc40jYvaYs3JyUG/fv0wYcIExMfH448//jBoGRhjTC2qpvnz52t9f9u2bbR8+fIqr+jo6OpmaTLz588nMVVjYWFBu3fvJiKi//znPwSAHj9+rHPfXbt2kYWFhbBv5fc0HbN7926SSqX06NEjnbHrE3dtj/Xtt9+mTz/9lIiInj17Ro6OjrRp0yadxxkrbTF9o7ox1yXGbLvaQuw4UNNyislHn7FGTEzaztfly5eTu7s73bp1S3QZVMujiyHqTBd960zT2KYt1jlz5lDTpk0pLS1NdOyGAEBUHTDGXkxGu/L+/fffY/r06VVex48fN1aWZuXr6wsAKCgo0Llv//79IZfLcevWLdHpv/nmm1AoFEhISKh2jNVhzlgfPnyI06dPY8yYMQCABg0aIDQ0FLt27apRusZM25gx1yUvSz2Yo5y6xhp9Y6p8vhYWFmLRokWYNWuWkI+h1cY600RbrLm5ufjuu+8wa9YsuLu7GzxmxhjTxGiT9w8++ADjx4+Hm5sbACAgIADjx49Xun/6RbJr1y74+fmJui+04lcB9bnH8+HDhwDKf/XRlMwZ682bNyGRSODv7y9s8/f3x+3bt2uUrjHTNmbMdcnLUg/mKKeusUbfmCqfr/Hx8cjMzMQHH3xg+MCrGZ8h6DM+V6Yt1vj4eOTn56N///6GDpcxxrQy2gOrX375JQAgNjYWT58+xYcffohp06YBANLS0hAdHY2nT5+iXbt26N69OyQSiXBsdHQ07t69i3fffReRkZGwtrZGv379AACFhYU4ePAg8vLy0K1bN40PXZrKhg0bsGHDBjx//hx//vmnzv2JCN988w2aNm2Ktm3bCtsjIiIQExMDAJgyZYow8SUiJCQk4IsvvkBYWBiaNWtmnILUwlgfP34MBwcHWFtbC9saNmwo3GdfG9M2Zsx1yctSD6Ysp9ixRmxM6s7XvXv3QiaTwdPT0+Dx6xufIeg7PqvSFuv9+/chlUrh4eFhyJAZY0wnkz+wmpeXhyZNmmDgwIGYMGECgoKClJ7OX7FiBbp164aRI0ciMDAQoaGhGDduHIDyh4M6duyIQYMG4eOPP8bEiRNNHX4VTZo0QefOnZGamop//etfSiuxqJozZw6aNGmCo0ePYv/+/bC0tBTeUygUkMvlkMvlSmkMGjQILVq0QGFhIbZs2WLUstS2WPPz82FlZaW0zcrKCqWlpTX+oSRjpW3MmOuSl6UeTFlOsWON2JjUna9paWlwdHSETCZDdnY2LC0tYWlpiaFDhxqsHLWxzjTRFmtaWhrs7OxgYcGLtjHGTMvkk3cHBwf84x//wK5du/Ddd98BAP79738jLi4OGRkZmDt3LgBg7NixwtV4GxsbAMC2bdtw+/ZtBAUFYf/+/Zg5c6apw6+ib9++WLRoEU6dOoXNmzfjwIEDWLp0KRwdHYVXdHQ0ACAkJAR79+7FrVu38Oqrryql8/HHH2PVqlVYtWoVvL29he27du1CXFwcUlNTsWbNGoPGrinO2hJrw4YNq/zyZG5uLtzc3CCV1qzrGittY8Zcl7ws9WDKcooda8TGpO589fb2RlZWFoqLi+Hk5ITExEQMGzbMoJPq2lhn1YnVw8MDeXl5et9HzxhjNWWWT9F//vOfaNmyJWxtbWFvbw8AiIuLw/Hjx1FQUIBGjRph06ZNmDx5MgAIV32LiooAlF8N6dq1K4KDg80Rvlq+vr7w9fVFTEwMJk+ejMTEROHVuXNnAOX3/b/++utKV7F1kUgkaNOmDUaMGIFff/3VoDFrirO2xOru7o6ioiKkpaUJ2+7fv2+Qh8OMlbYxY65LXpZ6MEc5dY01YmNSd75W3OqWkJAAiUQCT09PODg4GDT+2lhn1Ym14sKFqRcRYIwxk0/ey8rKEB4ejg4dOmDcuHHCVYv8/HzhwamK+9grJvYVV+AHDRoELy8vXL58GZ06dcLNmzdNHb5GRIT09HS4ubnB1tYWrq6uwssQX6uGhobi6tWrBr0v1BhxAoaLtUuXLnB0dMSpU6eEbWfPnkWvXr1qGKHx0jZmzHXJy1IP5iinrrFG35gqn6+tW7dG06ZN8fPPPxst/tpYZ9WJtWPHjvDw8DDp7YyMMQaYYfL+008/4bfffkP37t2RlJSk9BR/xSS94mtK1fsTfXx8EB0djY4dO+LRo0cIDQ01XeAaKBQK5ObmYtasWcjJycHAgQOrlU5aWhoSEhKQkJCAZ8+eVXn/tddeg6WlJc6fP1/TkGvMVLHa2toiPDwcCxYsQFxcHDZu3IiYmBhh2bbamLYxY65LXpZ6MGU5xY41+sZU+Xy1tLTE4sWLsXr1amzcuBEZGRnIzc01aDlqY51VSE9PR0pKClJSUpCdna01VisrK0ybNg1r1qzB2rVrkZqaitjYWIOXgTHGVJn8SZuKVUp69eoFHx8fpV/Va9myJQDg1q1byMnJwf3796sc7+XlhcjISLi4uODevXt4/vw5GjRoYJrgVVhYWGDw4MGws7NDx44dcfr0afj4+FQrrYpbhABg/PjxWLdundL7NjY28Pf3R3R0NN57770axV1Tpox11apVGDhwIPz8/ODs7IxffvkFbdq0qVGaxk7bmDHXJS9LPZiinPqONfrEpHq+hoWFIT8/H3PmzMG4cePg7OysdM4bQm2sMwDC4ggAMH36dCxbtkxrrNOmTUNpaSkWLFiASZMmoVWrVrhz545By8EYY6pMPnmvuE9w06ZNSEhIEAa64uJiBAcHo2HDhnj27Blat26N9PR0pWM3bdqEiIgIuLu7o7i4GB4eHnB1dTV1EQSFhYUoKCiAnZ2dzn1LS0v1fk91+8WLF/ULsBqx6Hrf1LHa2dnh8OHDyMrKgpOTk0EfaDNW2saMuS55WerBFOXUZ6wRE5Ou83XMmDEYM2YMsrKyUK9evZoFX434DEHfOtM0tumKdfbs2Zg9ezZycnLg5ORU47gZY0wXk3+afv755+jQoQNSU1Nx6dIlhISEAAAyMzNhbW2N/fv3o2vXrnB2dkZ4eDgAwNHREQDw9OlTREdHY8+ePWjVqhV27typtD68OYj9YGA1U69ePaNN/oyVtjFjrktelnowdjmrM9bUNCZjTNxV069tdaaJrlh54s4YMxWjX3lXXYbL1dUVV69exbNnz9CwYcMq+7/xxhvCrTUTJkwAAOGrzjlz5mD69OkoKiqCs7OzkSNnjDHGGGOsdjHbr0uom7gDwPr165GdnQ0rKyth+bLevXsL71tbWyv92h1jjDHGGGMvi1r303Br1qxBXFyc8PegQYMwevRoM0bEGGOMMcZY7VDrJu/Hjh1DbGwssrOz0a5duyq/7skYY4wxxtjLqtZN3j08PODh4WHuMBhjjDHGGKt1XvwlIBhjjDHGGHtB8OSdMcYYY4yxOoIn72rY2dlpXA2Hvdzs7Ozg5uZm7jCYCTRp0sQk69PLZDK0b9/e6PmwF0fFjx0yxl5O1b7nPTExEVKpFERkyHhqBQ8PDzg5OZn9B6Cqo1+/fnWiXaRSKXr06GGUOpZIJOjdu7dR0m7RogWkUmmd7BuGIpVK0atXrxe+DiwtLREUFGT0cgYFBeH+/fsvRH1KpVL07NnTqGV5WfqfNq6urigrKzN3GIwxM5FQNWd5ZWVlkMlkho6HMcYYYzpkZmbCxcXF3GEwxsyg2pN3xhhjjDHGmGnxPe+MMcYYY4zVETx5Z4wxxhhjrI7gyTtjjDHGGGN1BE/eGWOMMcYYqyN48s4YY4wxxlgdwZN3xhhjjDHG6gievDPGGGOMMVZH8OSdMcYYY4yxOoIn74wxxhhjjNURPHlnjDHGGGOsjuDJO2OMMcYYY3UET94ZY4wxxhirI3jyzhhjjDHGWB3Bk3fGGGOMMcbqCJ68M8YYY4wxVkf8P5XT96DfWAwWAAAAAElFTkSuQmCC)"
      ],
      "metadata": {
        "id": "QljYRgUr_WRI"
      }
    },
    {
      "cell_type": "markdown",
      "source": [
        "So, in order to create Swiss-like corpus we will sample diffenet language corpuses in the same ratio"
      ],
      "metadata": {
        "id": "6ZYoK8NKBJ8H"
      }
    },
    {
      "cell_type": "code",
      "source": [
        "langs = [\"de\", \"fr\", \"it\", \"en\"]\n",
        "fracs = [0.629, 0.229, 0.084, 0.059]\n",
        "\n",
        "# Return a DatasetDict if a key doesn't exist\n",
        "panx_ch = defaultdict(DatasetDict)"
      ],
      "metadata": {
        "id": "dSjoazo1BV90"
      },
      "execution_count": 49,
      "outputs": []
    },
    {
      "cell_type": "code",
      "source": [
        "for lang, frac in zip(langs, fracs):\n",
        "    # Load monolingual corpus\n",
        "    ds = load_dataset(\"xtreme\", name=f\"PAN-X.{lang}\")\n",
        "    # Shuffle and downsample each split according to spoken proportion\n",
        "    for split in ds: #train/validation/test\n",
        "        panx_ch[lang][split] = (ds[split]\n",
        "                                .shuffle(seed=0)\n",
        "                                .select(range(int(frac * ds[split].num_rows))))"
      ],
      "metadata": {
        "id": "YzpuLPKFBbhr",
        "colab": {
          "base_uri": "https://localhost:8080/",
          "height": 443,
          "referenced_widgets": [
            "2d39a0c1614d4fa4bbb7ca9ba7d32126",
            "ff1ff5d730ff4b6590619cdff2c66bca",
            "47d2a6425bfc4507bafb98d05e21c444",
            "1ad1d88cd169481c8038f16657f5f30f",
            "e4e4665c9f7942c4970b24a91de9cd8e",
            "87deb50251064c7e82bac45aef5ed812",
            "92b82989453b4605bacd5cc0060846a8",
            "a1432d52b3b043f9aed0a16e66b2776d",
            "936f8db822a443b3a02a1c2884a2d6d1",
            "0f7712aa13934f64aaeb31327ace2d4b",
            "65de9943ecde4fe486b1474fed007b45",
            "e12c939dc00144faa3c06604e723819a",
            "e25fb39d86a94290ba55a388fa5534cc",
            "9e25aa05faff4a59b0530f38027647ff",
            "2c324ace9e934a85a3d734422e0bd68d",
            "026d95439c8f42c090884f8f91792e1e",
            "4b4e66f9590041d1a40ec5233e5e6b66",
            "d3280646554144b89f49a9926bca9c06",
            "d0f53b17ce524d0aa028e60c85dad5a1",
            "f459c47dead343518ddfc2daa482dbff",
            "d358bb4044eb4b399c86c3f50191c998",
            "e127b5e714e948d98182ba33680642c2",
            "6209e399cbe047c9a48eb37a91e6528c",
            "6e6e84fa785641339b8235574a76f3d7",
            "312cb15fdff849cba834c367d6a08d98",
            "79a231dfe5194861b6d821fdeab33712",
            "bd48068821b245479274c9d8b8ec2a01",
            "db85df747c6f4cbab01d9976524d4ed5",
            "f69697a893494bdb9562aac66427bc3a",
            "b0f80f3091544f419a261b8b9aeab57e",
            "fdcdcb8909c048319228990aa6b2bf44",
            "83052999a17447d5bd5e26a1ae388b66",
            "b3b33b4e8d2e4bf3b84005b022683845",
            "0bc9950af6f94cf482c17b00de4580b7",
            "c2488f39e7d24508a8f0820d77f1c5ef",
            "5324eef8fa484de298602517a49b831c",
            "1666b1fadeb1435a86b58baf45c6dff3",
            "0a814411669e4cac80bbd6ff917cfb39",
            "ca53c1c554a74cf0a2698de9cdadc0d4",
            "20d7e6b40f434c63a13c56f8615e8106",
            "3a8d7fcaec0c46a5b6833c74e2b9be8b",
            "34ffe4bda5ed4d478befbdc28f1a7bfb",
            "32e2a45f1b2a4f9dae82f812d6a46330",
            "7038bc61745e426ca51456eff601a0c3"
          ]
        },
        "outputId": "9a5ab518-9dea-496e-9d13-1dd3f7f2ad42"
      },
      "execution_count": 50,
      "outputs": [
        {
          "output_type": "stream",
          "name": "stderr",
          "text": [
            "Reusing dataset xtreme (/root/.cache/huggingface/datasets/xtreme/PAN-X.de/1.0.0/349258adc25bb45e47de193222f95e68a44f7a7ab53c4283b3f007208a11bf7e)\n"
          ]
        },
        {
          "output_type": "display_data",
          "data": {
            "text/plain": [
              "  0%|          | 0/3 [00:00<?, ?it/s]"
            ],
            "application/vnd.jupyter.widget-view+json": {
              "version_major": 2,
              "version_minor": 0,
              "model_id": "2d39a0c1614d4fa4bbb7ca9ba7d32126"
            }
          },
          "metadata": {}
        },
        {
          "output_type": "stream",
          "name": "stderr",
          "text": [
            "Loading cached shuffled indices for dataset at /root/.cache/huggingface/datasets/xtreme/PAN-X.de/1.0.0/349258adc25bb45e47de193222f95e68a44f7a7ab53c4283b3f007208a11bf7e/cache-895dfb6c4273b2e5.arrow\n",
            "Loading cached shuffled indices for dataset at /root/.cache/huggingface/datasets/xtreme/PAN-X.de/1.0.0/349258adc25bb45e47de193222f95e68a44f7a7ab53c4283b3f007208a11bf7e/cache-441068b3ea7cbef3.arrow\n",
            "Loading cached shuffled indices for dataset at /root/.cache/huggingface/datasets/xtreme/PAN-X.de/1.0.0/349258adc25bb45e47de193222f95e68a44f7a7ab53c4283b3f007208a11bf7e/cache-1ec023bbd4560444.arrow\n",
            "Reusing dataset xtreme (/root/.cache/huggingface/datasets/xtreme/PAN-X.fr/1.0.0/349258adc25bb45e47de193222f95e68a44f7a7ab53c4283b3f007208a11bf7e)\n"
          ]
        },
        {
          "output_type": "display_data",
          "data": {
            "text/plain": [
              "  0%|          | 0/3 [00:00<?, ?it/s]"
            ],
            "application/vnd.jupyter.widget-view+json": {
              "version_major": 2,
              "version_minor": 0,
              "model_id": "e12c939dc00144faa3c06604e723819a"
            }
          },
          "metadata": {}
        },
        {
          "output_type": "stream",
          "name": "stderr",
          "text": [
            "Loading cached shuffled indices for dataset at /root/.cache/huggingface/datasets/xtreme/PAN-X.fr/1.0.0/349258adc25bb45e47de193222f95e68a44f7a7ab53c4283b3f007208a11bf7e/cache-c99e2d963e99c3bc.arrow\n",
            "Loading cached shuffled indices for dataset at /root/.cache/huggingface/datasets/xtreme/PAN-X.fr/1.0.0/349258adc25bb45e47de193222f95e68a44f7a7ab53c4283b3f007208a11bf7e/cache-95d424970390df95.arrow\n",
            "Loading cached shuffled indices for dataset at /root/.cache/huggingface/datasets/xtreme/PAN-X.fr/1.0.0/349258adc25bb45e47de193222f95e68a44f7a7ab53c4283b3f007208a11bf7e/cache-c8f8d90ec625373b.arrow\n",
            "Reusing dataset xtreme (/root/.cache/huggingface/datasets/xtreme/PAN-X.it/1.0.0/349258adc25bb45e47de193222f95e68a44f7a7ab53c4283b3f007208a11bf7e)\n"
          ]
        },
        {
          "output_type": "display_data",
          "data": {
            "text/plain": [
              "  0%|          | 0/3 [00:00<?, ?it/s]"
            ],
            "application/vnd.jupyter.widget-view+json": {
              "version_major": 2,
              "version_minor": 0,
              "model_id": "6209e399cbe047c9a48eb37a91e6528c"
            }
          },
          "metadata": {}
        },
        {
          "output_type": "stream",
          "name": "stderr",
          "text": [
            "Loading cached shuffled indices for dataset at /root/.cache/huggingface/datasets/xtreme/PAN-X.it/1.0.0/349258adc25bb45e47de193222f95e68a44f7a7ab53c4283b3f007208a11bf7e/cache-127e932015d0d753.arrow\n",
            "Loading cached shuffled indices for dataset at /root/.cache/huggingface/datasets/xtreme/PAN-X.it/1.0.0/349258adc25bb45e47de193222f95e68a44f7a7ab53c4283b3f007208a11bf7e/cache-f7bdfc2c46f67b82.arrow\n",
            "Loading cached shuffled indices for dataset at /root/.cache/huggingface/datasets/xtreme/PAN-X.it/1.0.0/349258adc25bb45e47de193222f95e68a44f7a7ab53c4283b3f007208a11bf7e/cache-affab8fcf3f5bef3.arrow\n",
            "Reusing dataset xtreme (/root/.cache/huggingface/datasets/xtreme/PAN-X.en/1.0.0/349258adc25bb45e47de193222f95e68a44f7a7ab53c4283b3f007208a11bf7e)\n"
          ]
        },
        {
          "output_type": "display_data",
          "data": {
            "text/plain": [
              "  0%|          | 0/3 [00:00<?, ?it/s]"
            ],
            "application/vnd.jupyter.widget-view+json": {
              "version_major": 2,
              "version_minor": 0,
              "model_id": "0bc9950af6f94cf482c17b00de4580b7"
            }
          },
          "metadata": {}
        },
        {
          "output_type": "stream",
          "name": "stderr",
          "text": [
            "Loading cached shuffled indices for dataset at /root/.cache/huggingface/datasets/xtreme/PAN-X.en/1.0.0/349258adc25bb45e47de193222f95e68a44f7a7ab53c4283b3f007208a11bf7e/cache-739f170d5471f1cb.arrow\n",
            "Loading cached shuffled indices for dataset at /root/.cache/huggingface/datasets/xtreme/PAN-X.en/1.0.0/349258adc25bb45e47de193222f95e68a44f7a7ab53c4283b3f007208a11bf7e/cache-3e10f730fe826b06.arrow\n",
            "Loading cached shuffled indices for dataset at /root/.cache/huggingface/datasets/xtreme/PAN-X.en/1.0.0/349258adc25bb45e47de193222f95e68a44f7a7ab53c4283b3f007208a11bf7e/cache-5314845d936312dc.arrow\n"
          ]
        }
      ]
    },
    {
      "cell_type": "code",
      "source": [
        "pd.DataFrame({lang: [panx_ch[lang][\"train\"].num_rows] for lang in langs},\n",
        "              index=[\"Number of training examples\"])"
      ],
      "metadata": {
        "colab": {
          "base_uri": "https://localhost:8080/",
          "height": 81
        },
        "id": "pcV2_B07_t9W",
        "outputId": "68898731-c25e-48b1-bbe4-ddfaa66ff26b"
      },
      "execution_count": 51,
      "outputs": [
        {
          "output_type": "execute_result",
          "data": {
            "text/plain": [
              "                                de    fr    it    en\n",
              "Number of training examples  12580  4580  1680  1180"
            ],
            "text/html": [
              "\n",
              "  <div id=\"df-11dd0009-6dba-48d9-87aa-4b7664eefa83\">\n",
              "    <div class=\"colab-df-container\">\n",
              "      <div>\n",
              "<style scoped>\n",
              "    .dataframe tbody tr th:only-of-type {\n",
              "        vertical-align: middle;\n",
              "    }\n",
              "\n",
              "    .dataframe tbody tr th {\n",
              "        vertical-align: top;\n",
              "    }\n",
              "\n",
              "    .dataframe thead th {\n",
              "        text-align: right;\n",
              "    }\n",
              "</style>\n",
              "<table border=\"1\" class=\"dataframe\">\n",
              "  <thead>\n",
              "    <tr style=\"text-align: right;\">\n",
              "      <th></th>\n",
              "      <th>de</th>\n",
              "      <th>fr</th>\n",
              "      <th>it</th>\n",
              "      <th>en</th>\n",
              "    </tr>\n",
              "  </thead>\n",
              "  <tbody>\n",
              "    <tr>\n",
              "      <th>Number of training examples</th>\n",
              "      <td>12580</td>\n",
              "      <td>4580</td>\n",
              "      <td>1680</td>\n",
              "      <td>1180</td>\n",
              "    </tr>\n",
              "  </tbody>\n",
              "</table>\n",
              "</div>\n",
              "      <button class=\"colab-df-convert\" onclick=\"convertToInteractive('df-11dd0009-6dba-48d9-87aa-4b7664eefa83')\"\n",
              "              title=\"Convert this dataframe to an interactive table.\"\n",
              "              style=\"display:none;\">\n",
              "        \n",
              "  <svg xmlns=\"http://www.w3.org/2000/svg\" height=\"24px\"viewBox=\"0 0 24 24\"\n",
              "       width=\"24px\">\n",
              "    <path d=\"M0 0h24v24H0V0z\" fill=\"none\"/>\n",
              "    <path d=\"M18.56 5.44l.94 2.06.94-2.06 2.06-.94-2.06-.94-.94-2.06-.94 2.06-2.06.94zm-11 1L8.5 8.5l.94-2.06 2.06-.94-2.06-.94L8.5 2.5l-.94 2.06-2.06.94zm10 10l.94 2.06.94-2.06 2.06-.94-2.06-.94-.94-2.06-.94 2.06-2.06.94z\"/><path d=\"M17.41 7.96l-1.37-1.37c-.4-.4-.92-.59-1.43-.59-.52 0-1.04.2-1.43.59L10.3 9.45l-7.72 7.72c-.78.78-.78 2.05 0 2.83L4 21.41c.39.39.9.59 1.41.59.51 0 1.02-.2 1.41-.59l7.78-7.78 2.81-2.81c.8-.78.8-2.07 0-2.86zM5.41 20L4 18.59l7.72-7.72 1.47 1.35L5.41 20z\"/>\n",
              "  </svg>\n",
              "      </button>\n",
              "      \n",
              "  <style>\n",
              "    .colab-df-container {\n",
              "      display:flex;\n",
              "      flex-wrap:wrap;\n",
              "      gap: 12px;\n",
              "    }\n",
              "\n",
              "    .colab-df-convert {\n",
              "      background-color: #E8F0FE;\n",
              "      border: none;\n",
              "      border-radius: 50%;\n",
              "      cursor: pointer;\n",
              "      display: none;\n",
              "      fill: #1967D2;\n",
              "      height: 32px;\n",
              "      padding: 0 0 0 0;\n",
              "      width: 32px;\n",
              "    }\n",
              "\n",
              "    .colab-df-convert:hover {\n",
              "      background-color: #E2EBFA;\n",
              "      box-shadow: 0px 1px 2px rgba(60, 64, 67, 0.3), 0px 1px 3px 1px rgba(60, 64, 67, 0.15);\n",
              "      fill: #174EA6;\n",
              "    }\n",
              "\n",
              "    [theme=dark] .colab-df-convert {\n",
              "      background-color: #3B4455;\n",
              "      fill: #D2E3FC;\n",
              "    }\n",
              "\n",
              "    [theme=dark] .colab-df-convert:hover {\n",
              "      background-color: #434B5C;\n",
              "      box-shadow: 0px 1px 3px 1px rgba(0, 0, 0, 0.15);\n",
              "      filter: drop-shadow(0px 1px 2px rgba(0, 0, 0, 0.3));\n",
              "      fill: #FFFFFF;\n",
              "    }\n",
              "  </style>\n",
              "\n",
              "      <script>\n",
              "        const buttonEl =\n",
              "          document.querySelector('#df-11dd0009-6dba-48d9-87aa-4b7664eefa83 button.colab-df-convert');\n",
              "        buttonEl.style.display =\n",
              "          google.colab.kernel.accessAllowed ? 'block' : 'none';\n",
              "\n",
              "        async function convertToInteractive(key) {\n",
              "          const element = document.querySelector('#df-11dd0009-6dba-48d9-87aa-4b7664eefa83');\n",
              "          const dataTable =\n",
              "            await google.colab.kernel.invokeFunction('convertToInteractive',\n",
              "                                                     [key], {});\n",
              "          if (!dataTable) return;\n",
              "\n",
              "          const docLinkHtml = 'Like what you see? Visit the ' +\n",
              "            '<a target=\"_blank\" href=https://colab.research.google.com/notebooks/data_table.ipynb>data table notebook</a>'\n",
              "            + ' to learn more about interactive tables.';\n",
              "          element.innerHTML = '';\n",
              "          dataTable['output_type'] = 'display_data';\n",
              "          await google.colab.output.renderOutput(dataTable, element);\n",
              "          const docLink = document.createElement('div');\n",
              "          docLink.innerHTML = docLinkHtml;\n",
              "          element.appendChild(docLink);\n",
              "        }\n",
              "      </script>\n",
              "    </div>\n",
              "  </div>\n",
              "  "
            ]
          },
          "metadata": {},
          "execution_count": 51
        }
      ]
    },
    {
      "cell_type": "markdown",
      "source": [
        "By design we have more examples on German, so we will use it as starting point for the further zero-short learning for French, Italian and English."
      ],
      "metadata": {
        "id": "q14o8JURAdWO"
      }
    },
    {
      "cell_type": "code",
      "source": [
        "# \"de\" sample example\n",
        "element = panx_ch['de']['train'][0]\n",
        "for key, value in element.items():\n",
        "    print(f'{key}: {value}')"
      ],
      "metadata": {
        "colab": {
          "base_uri": "https://localhost:8080/"
        },
        "id": "InJnffotDOVw",
        "outputId": "959e8268-67cd-4619-ab75-1acf43b69b78"
      },
      "execution_count": 52,
      "outputs": [
        {
          "output_type": "stream",
          "name": "stdout",
          "text": [
            "tokens: ['2.000', 'Einwohnern', 'an', 'der', 'Danziger', 'Bucht', 'in', 'der', 'polnischen', 'Woiwodschaft', 'Pommern', '.']\n",
            "ner_tags: [0, 0, 0, 0, 5, 6, 0, 0, 5, 5, 6, 0]\n",
            "langs: ['de', 'de', 'de', 'de', 'de', 'de', 'de', 'de', 'de', 'de', 'de', 'de']\n"
          ]
        }
      ]
    },
    {
      "cell_type": "code",
      "source": [
        "# And features are\n",
        "for key, values in panx_ch['de']['train'].features.items():\n",
        "    print(f'{key}: {values}')"
      ],
      "metadata": {
        "colab": {
          "base_uri": "https://localhost:8080/"
        },
        "id": "Q6O2IlaPD6Eh",
        "outputId": "1859bb50-e06f-49fd-b58d-60453ad9ff2c"
      },
      "execution_count": 53,
      "outputs": [
        {
          "output_type": "stream",
          "name": "stdout",
          "text": [
            "tokens: Sequence(feature=Value(dtype='string', id=None), length=-1, id=None)\n",
            "ner_tags: Sequence(feature=ClassLabel(num_classes=7, names=['O', 'B-PER', 'I-PER', 'B-ORG', 'I-ORG', 'B-LOC', 'I-LOC'], id=None), length=-1, id=None)\n",
            "langs: Sequence(feature=Value(dtype='string', id=None), length=-1, id=None)\n"
          ]
        }
      ]
    },
    {
      "cell_type": "code",
      "source": [
        "tags = panx_ch[\"de\"][\"train\"].features[\"ner_tags\"].feature\n",
        "print(tags)"
      ],
      "metadata": {
        "colab": {
          "base_uri": "https://localhost:8080/"
        },
        "id": "eVe74sPGD66O",
        "outputId": "aba7674f-222d-4b49-d0c7-dc0804fb240d"
      },
      "execution_count": 54,
      "outputs": [
        {
          "output_type": "stream",
          "name": "stdout",
          "text": [
            "ClassLabel(num_classes=7, names=['O', 'B-PER', 'I-PER', 'B-ORG', 'I-ORG', 'B-LOC', 'I-LOC'], id=None)\n"
          ]
        }
      ]
    },
    {
      "cell_type": "code",
      "source": [
        "def create_tag_names(batch):\n",
        "    return {\"ner_tags_str\": [tags.int2str(idx) for idx in batch[\"ner_tags\"]]}"
      ],
      "metadata": {
        "id": "yJo4O82JFWR4"
      },
      "execution_count": 55,
      "outputs": []
    },
    {
      "cell_type": "code",
      "source": [
        "panx_de = panx_ch['de'].map(create_tag_names)"
      ],
      "metadata": {
        "colab": {
          "base_uri": "https://localhost:8080/"
        },
        "id": "rj2kLnI344YB",
        "outputId": "1ae60b07-e73c-44ce-8283-b10b35cffeca"
      },
      "execution_count": 56,
      "outputs": [
        {
          "output_type": "stream",
          "name": "stderr",
          "text": [
            "Loading cached processed dataset at /root/.cache/huggingface/datasets/xtreme/PAN-X.de/1.0.0/349258adc25bb45e47de193222f95e68a44f7a7ab53c4283b3f007208a11bf7e/cache-f7f450116a22fd8c.arrow\n",
            "Loading cached processed dataset at /root/.cache/huggingface/datasets/xtreme/PAN-X.de/1.0.0/349258adc25bb45e47de193222f95e68a44f7a7ab53c4283b3f007208a11bf7e/cache-6a2bcc4db6072230.arrow\n",
            "Loading cached processed dataset at /root/.cache/huggingface/datasets/xtreme/PAN-X.de/1.0.0/349258adc25bb45e47de193222f95e68a44f7a7ab53c4283b3f007208a11bf7e/cache-6d72fae47d6ca9d0.arrow\n"
          ]
        }
      ]
    },
    {
      "cell_type": "code",
      "source": [
        "panx_de"
      ],
      "metadata": {
        "colab": {
          "base_uri": "https://localhost:8080/"
        },
        "id": "C461rNe95LoV",
        "outputId": "a0810506-ac3f-4b79-c86b-4db24c232ffc"
      },
      "execution_count": 57,
      "outputs": [
        {
          "output_type": "execute_result",
          "data": {
            "text/plain": [
              "DatasetDict({\n",
              "    train: Dataset({\n",
              "        features: ['tokens', 'ner_tags', 'langs', 'ner_tags_str'],\n",
              "        num_rows: 12580\n",
              "    })\n",
              "    validation: Dataset({\n",
              "        features: ['tokens', 'ner_tags', 'langs', 'ner_tags_str'],\n",
              "        num_rows: 6290\n",
              "    })\n",
              "    test: Dataset({\n",
              "        features: ['tokens', 'ner_tags', 'langs', 'ner_tags_str'],\n",
              "        num_rows: 6290\n",
              "    })\n",
              "})"
            ]
          },
          "metadata": {},
          "execution_count": 57
        }
      ]
    },
    {
      "cell_type": "code",
      "source": [
        "# check sample\n",
        "de_example = panx_de[\"train\"][0]\n",
        "pd.DataFrame([de_example[\"tokens\"], de_example[\"ner_tags_str\"]], ['Tokens', 'Tags'])"
      ],
      "metadata": {
        "colab": {
          "base_uri": "https://localhost:8080/",
          "height": 112
        },
        "id": "73NUoCDp5N49",
        "outputId": "0617ef61-05cc-4b79-8ffc-79b5ac0c18ab"
      },
      "execution_count": 58,
      "outputs": [
        {
          "output_type": "execute_result",
          "data": {
            "text/plain": [
              "           0           1   2    3         4      5   6    7           8   \\\n",
              "Tokens  2.000  Einwohnern  an  der  Danziger  Bucht  in  der  polnischen   \n",
              "Tags        O           O   O    O     B-LOC  I-LOC   O    O       B-LOC   \n",
              "\n",
              "                  9        10 11  \n",
              "Tokens  Woiwodschaft  Pommern  .  \n",
              "Tags           B-LOC    I-LOC  O  "
            ],
            "text/html": [
              "\n",
              "  <div id=\"df-86f05688-6795-4a18-bfe9-379c19962d22\">\n",
              "    <div class=\"colab-df-container\">\n",
              "      <div>\n",
              "<style scoped>\n",
              "    .dataframe tbody tr th:only-of-type {\n",
              "        vertical-align: middle;\n",
              "    }\n",
              "\n",
              "    .dataframe tbody tr th {\n",
              "        vertical-align: top;\n",
              "    }\n",
              "\n",
              "    .dataframe thead th {\n",
              "        text-align: right;\n",
              "    }\n",
              "</style>\n",
              "<table border=\"1\" class=\"dataframe\">\n",
              "  <thead>\n",
              "    <tr style=\"text-align: right;\">\n",
              "      <th></th>\n",
              "      <th>0</th>\n",
              "      <th>1</th>\n",
              "      <th>2</th>\n",
              "      <th>3</th>\n",
              "      <th>4</th>\n",
              "      <th>5</th>\n",
              "      <th>6</th>\n",
              "      <th>7</th>\n",
              "      <th>8</th>\n",
              "      <th>9</th>\n",
              "      <th>10</th>\n",
              "      <th>11</th>\n",
              "    </tr>\n",
              "  </thead>\n",
              "  <tbody>\n",
              "    <tr>\n",
              "      <th>Tokens</th>\n",
              "      <td>2.000</td>\n",
              "      <td>Einwohnern</td>\n",
              "      <td>an</td>\n",
              "      <td>der</td>\n",
              "      <td>Danziger</td>\n",
              "      <td>Bucht</td>\n",
              "      <td>in</td>\n",
              "      <td>der</td>\n",
              "      <td>polnischen</td>\n",
              "      <td>Woiwodschaft</td>\n",
              "      <td>Pommern</td>\n",
              "      <td>.</td>\n",
              "    </tr>\n",
              "    <tr>\n",
              "      <th>Tags</th>\n",
              "      <td>O</td>\n",
              "      <td>O</td>\n",
              "      <td>O</td>\n",
              "      <td>O</td>\n",
              "      <td>B-LOC</td>\n",
              "      <td>I-LOC</td>\n",
              "      <td>O</td>\n",
              "      <td>O</td>\n",
              "      <td>B-LOC</td>\n",
              "      <td>B-LOC</td>\n",
              "      <td>I-LOC</td>\n",
              "      <td>O</td>\n",
              "    </tr>\n",
              "  </tbody>\n",
              "</table>\n",
              "</div>\n",
              "      <button class=\"colab-df-convert\" onclick=\"convertToInteractive('df-86f05688-6795-4a18-bfe9-379c19962d22')\"\n",
              "              title=\"Convert this dataframe to an interactive table.\"\n",
              "              style=\"display:none;\">\n",
              "        \n",
              "  <svg xmlns=\"http://www.w3.org/2000/svg\" height=\"24px\"viewBox=\"0 0 24 24\"\n",
              "       width=\"24px\">\n",
              "    <path d=\"M0 0h24v24H0V0z\" fill=\"none\"/>\n",
              "    <path d=\"M18.56 5.44l.94 2.06.94-2.06 2.06-.94-2.06-.94-.94-2.06-.94 2.06-2.06.94zm-11 1L8.5 8.5l.94-2.06 2.06-.94-2.06-.94L8.5 2.5l-.94 2.06-2.06.94zm10 10l.94 2.06.94-2.06 2.06-.94-2.06-.94-.94-2.06-.94 2.06-2.06.94z\"/><path d=\"M17.41 7.96l-1.37-1.37c-.4-.4-.92-.59-1.43-.59-.52 0-1.04.2-1.43.59L10.3 9.45l-7.72 7.72c-.78.78-.78 2.05 0 2.83L4 21.41c.39.39.9.59 1.41.59.51 0 1.02-.2 1.41-.59l7.78-7.78 2.81-2.81c.8-.78.8-2.07 0-2.86zM5.41 20L4 18.59l7.72-7.72 1.47 1.35L5.41 20z\"/>\n",
              "  </svg>\n",
              "      </button>\n",
              "      \n",
              "  <style>\n",
              "    .colab-df-container {\n",
              "      display:flex;\n",
              "      flex-wrap:wrap;\n",
              "      gap: 12px;\n",
              "    }\n",
              "\n",
              "    .colab-df-convert {\n",
              "      background-color: #E8F0FE;\n",
              "      border: none;\n",
              "      border-radius: 50%;\n",
              "      cursor: pointer;\n",
              "      display: none;\n",
              "      fill: #1967D2;\n",
              "      height: 32px;\n",
              "      padding: 0 0 0 0;\n",
              "      width: 32px;\n",
              "    }\n",
              "\n",
              "    .colab-df-convert:hover {\n",
              "      background-color: #E2EBFA;\n",
              "      box-shadow: 0px 1px 2px rgba(60, 64, 67, 0.3), 0px 1px 3px 1px rgba(60, 64, 67, 0.15);\n",
              "      fill: #174EA6;\n",
              "    }\n",
              "\n",
              "    [theme=dark] .colab-df-convert {\n",
              "      background-color: #3B4455;\n",
              "      fill: #D2E3FC;\n",
              "    }\n",
              "\n",
              "    [theme=dark] .colab-df-convert:hover {\n",
              "      background-color: #434B5C;\n",
              "      box-shadow: 0px 1px 3px 1px rgba(0, 0, 0, 0.15);\n",
              "      filter: drop-shadow(0px 1px 2px rgba(0, 0, 0, 0.3));\n",
              "      fill: #FFFFFF;\n",
              "    }\n",
              "  </style>\n",
              "\n",
              "      <script>\n",
              "        const buttonEl =\n",
              "          document.querySelector('#df-86f05688-6795-4a18-bfe9-379c19962d22 button.colab-df-convert');\n",
              "        buttonEl.style.display =\n",
              "          google.colab.kernel.accessAllowed ? 'block' : 'none';\n",
              "\n",
              "        async function convertToInteractive(key) {\n",
              "          const element = document.querySelector('#df-86f05688-6795-4a18-bfe9-379c19962d22');\n",
              "          const dataTable =\n",
              "            await google.colab.kernel.invokeFunction('convertToInteractive',\n",
              "                                                     [key], {});\n",
              "          if (!dataTable) return;\n",
              "\n",
              "          const docLinkHtml = 'Like what you see? Visit the ' +\n",
              "            '<a target=\"_blank\" href=https://colab.research.google.com/notebooks/data_table.ipynb>data table notebook</a>'\n",
              "            + ' to learn more about interactive tables.';\n",
              "          element.innerHTML = '';\n",
              "          dataTable['output_type'] = 'display_data';\n",
              "          await google.colab.output.renderOutput(dataTable, element);\n",
              "          const docLink = document.createElement('div');\n",
              "          docLink.innerHTML = docLinkHtml;\n",
              "          element.appendChild(docLink);\n",
              "        }\n",
              "      </script>\n",
              "    </div>\n",
              "  </div>\n",
              "  "
            ]
          },
          "metadata": {},
          "execution_count": 58
        }
      ]
    },
    {
      "cell_type": "markdown",
      "source": [
        "As a quick check that we don’t have any unusual imbalance in the tags, let’s calculate\n",
        "the frequencies of each entity across each split:"
      ],
      "metadata": {
        "id": "DicTiFwF5hyB"
      }
    },
    {
      "cell_type": "code",
      "source": [
        "split2freqs = defaultdict(Counter)\n",
        "for split, dataset in panx_de.items():\n",
        "    for row in dataset[\"ner_tags_str\"]:\n",
        "        for tag in row:\n",
        "            if tag.startswith(\"B\"):\n",
        "                tag_type = tag.split(\"-\")[1]\n",
        "                split2freqs[split][tag_type] += 1\n",
        "pd.DataFrame.from_dict(split2freqs, orient=\"index\")"
      ],
      "metadata": {
        "colab": {
          "base_uri": "https://localhost:8080/",
          "height": 143
        },
        "id": "nRQlTatR6Frs",
        "outputId": "4d2deec2-2169-4807-ed8c-2269a803d2ab"
      },
      "execution_count": 59,
      "outputs": [
        {
          "output_type": "execute_result",
          "data": {
            "text/plain": [
              "             LOC   ORG   PER\n",
              "train       6186  5366  5810\n",
              "validation  3172  2683  2893\n",
              "test        3180  2573  3071"
            ],
            "text/html": [
              "\n",
              "  <div id=\"df-b6cb925f-66bd-49c2-9c23-c5eaf6ff77ce\">\n",
              "    <div class=\"colab-df-container\">\n",
              "      <div>\n",
              "<style scoped>\n",
              "    .dataframe tbody tr th:only-of-type {\n",
              "        vertical-align: middle;\n",
              "    }\n",
              "\n",
              "    .dataframe tbody tr th {\n",
              "        vertical-align: top;\n",
              "    }\n",
              "\n",
              "    .dataframe thead th {\n",
              "        text-align: right;\n",
              "    }\n",
              "</style>\n",
              "<table border=\"1\" class=\"dataframe\">\n",
              "  <thead>\n",
              "    <tr style=\"text-align: right;\">\n",
              "      <th></th>\n",
              "      <th>LOC</th>\n",
              "      <th>ORG</th>\n",
              "      <th>PER</th>\n",
              "    </tr>\n",
              "  </thead>\n",
              "  <tbody>\n",
              "    <tr>\n",
              "      <th>train</th>\n",
              "      <td>6186</td>\n",
              "      <td>5366</td>\n",
              "      <td>5810</td>\n",
              "    </tr>\n",
              "    <tr>\n",
              "      <th>validation</th>\n",
              "      <td>3172</td>\n",
              "      <td>2683</td>\n",
              "      <td>2893</td>\n",
              "    </tr>\n",
              "    <tr>\n",
              "      <th>test</th>\n",
              "      <td>3180</td>\n",
              "      <td>2573</td>\n",
              "      <td>3071</td>\n",
              "    </tr>\n",
              "  </tbody>\n",
              "</table>\n",
              "</div>\n",
              "      <button class=\"colab-df-convert\" onclick=\"convertToInteractive('df-b6cb925f-66bd-49c2-9c23-c5eaf6ff77ce')\"\n",
              "              title=\"Convert this dataframe to an interactive table.\"\n",
              "              style=\"display:none;\">\n",
              "        \n",
              "  <svg xmlns=\"http://www.w3.org/2000/svg\" height=\"24px\"viewBox=\"0 0 24 24\"\n",
              "       width=\"24px\">\n",
              "    <path d=\"M0 0h24v24H0V0z\" fill=\"none\"/>\n",
              "    <path d=\"M18.56 5.44l.94 2.06.94-2.06 2.06-.94-2.06-.94-.94-2.06-.94 2.06-2.06.94zm-11 1L8.5 8.5l.94-2.06 2.06-.94-2.06-.94L8.5 2.5l-.94 2.06-2.06.94zm10 10l.94 2.06.94-2.06 2.06-.94-2.06-.94-.94-2.06-.94 2.06-2.06.94z\"/><path d=\"M17.41 7.96l-1.37-1.37c-.4-.4-.92-.59-1.43-.59-.52 0-1.04.2-1.43.59L10.3 9.45l-7.72 7.72c-.78.78-.78 2.05 0 2.83L4 21.41c.39.39.9.59 1.41.59.51 0 1.02-.2 1.41-.59l7.78-7.78 2.81-2.81c.8-.78.8-2.07 0-2.86zM5.41 20L4 18.59l7.72-7.72 1.47 1.35L5.41 20z\"/>\n",
              "  </svg>\n",
              "      </button>\n",
              "      \n",
              "  <style>\n",
              "    .colab-df-container {\n",
              "      display:flex;\n",
              "      flex-wrap:wrap;\n",
              "      gap: 12px;\n",
              "    }\n",
              "\n",
              "    .colab-df-convert {\n",
              "      background-color: #E8F0FE;\n",
              "      border: none;\n",
              "      border-radius: 50%;\n",
              "      cursor: pointer;\n",
              "      display: none;\n",
              "      fill: #1967D2;\n",
              "      height: 32px;\n",
              "      padding: 0 0 0 0;\n",
              "      width: 32px;\n",
              "    }\n",
              "\n",
              "    .colab-df-convert:hover {\n",
              "      background-color: #E2EBFA;\n",
              "      box-shadow: 0px 1px 2px rgba(60, 64, 67, 0.3), 0px 1px 3px 1px rgba(60, 64, 67, 0.15);\n",
              "      fill: #174EA6;\n",
              "    }\n",
              "\n",
              "    [theme=dark] .colab-df-convert {\n",
              "      background-color: #3B4455;\n",
              "      fill: #D2E3FC;\n",
              "    }\n",
              "\n",
              "    [theme=dark] .colab-df-convert:hover {\n",
              "      background-color: #434B5C;\n",
              "      box-shadow: 0px 1px 3px 1px rgba(0, 0, 0, 0.15);\n",
              "      filter: drop-shadow(0px 1px 2px rgba(0, 0, 0, 0.3));\n",
              "      fill: #FFFFFF;\n",
              "    }\n",
              "  </style>\n",
              "\n",
              "      <script>\n",
              "        const buttonEl =\n",
              "          document.querySelector('#df-b6cb925f-66bd-49c2-9c23-c5eaf6ff77ce button.colab-df-convert');\n",
              "        buttonEl.style.display =\n",
              "          google.colab.kernel.accessAllowed ? 'block' : 'none';\n",
              "\n",
              "        async function convertToInteractive(key) {\n",
              "          const element = document.querySelector('#df-b6cb925f-66bd-49c2-9c23-c5eaf6ff77ce');\n",
              "          const dataTable =\n",
              "            await google.colab.kernel.invokeFunction('convertToInteractive',\n",
              "                                                     [key], {});\n",
              "          if (!dataTable) return;\n",
              "\n",
              "          const docLinkHtml = 'Like what you see? Visit the ' +\n",
              "            '<a target=\"_blank\" href=https://colab.research.google.com/notebooks/data_table.ipynb>data table notebook</a>'\n",
              "            + ' to learn more about interactive tables.';\n",
              "          element.innerHTML = '';\n",
              "          dataTable['output_type'] = 'display_data';\n",
              "          await google.colab.output.renderOutput(dataTable, element);\n",
              "          const docLink = document.createElement('div');\n",
              "          docLink.innerHTML = docLinkHtml;\n",
              "          element.appendChild(docLink);\n",
              "        }\n",
              "      </script>\n",
              "    </div>\n",
              "  </div>\n",
              "  "
            ]
          },
          "metadata": {},
          "execution_count": 59
        }
      ]
    },
    {
      "cell_type": "markdown",
      "source": [
        "Seems Ok."
      ],
      "metadata": {
        "id": "zpcylRGH6Sr6"
      }
    },
    {
      "cell_type": "markdown",
      "source": [
        "## Multilingual Transformers"
      ],
      "metadata": {
        "id": "A9uVbt3w6fXt"
      }
    },
    {
      "cell_type": "markdown",
      "source": [
        "Our choice is XLM-RoBERTa"
      ],
      "metadata": {
        "id": "gq0vbqVi6k6v"
      }
    },
    {
      "cell_type": "markdown",
      "source": [
        "### Tokenization across different languages"
      ],
      "metadata": {
        "id": "IOMKTneX87H1"
      }
    },
    {
      "cell_type": "markdown",
      "source": [
        "![Screenshot from 2022-06-08 00-08-45.png](data:image/png;base64,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)"
      ],
      "metadata": {
        "id": "f4qrEaHE_9cW"
      }
    },
    {
      "cell_type": "markdown",
      "source": [
        "Instead of using a WordPiece tokenizer, XLM-R uses a tokenizer called SentencePiece that is trained on the raw text of all one hundred languages. To get a feel for how SentencePiece compares to WordPiece, let’s load the BERT and XLM-R tokenizers in the\n",
        "usual way with Transformers:"
      ],
      "metadata": {
        "id": "Fc_HvQyg9igj"
      }
    },
    {
      "cell_type": "code",
      "source": [
        "bert_model_name = \"bert-base-cased\"\n",
        "xlmr_model_name = \"xlm-roberta-base\""
      ],
      "metadata": {
        "id": "0Kn3w3Xy9PiQ"
      },
      "execution_count": 60,
      "outputs": []
    },
    {
      "cell_type": "code",
      "source": [
        "bert_tokenizer = AutoTokenizer.from_pretrained(bert_model_name)\n",
        "xlmr_tokenizer = AutoTokenizer.from_pretrained(xlmr_model_name)"
      ],
      "metadata": {
        "id": "SbrUDDdv9cCj"
      },
      "execution_count": 61,
      "outputs": []
    },
    {
      "cell_type": "code",
      "source": [
        "text = \"Jack Sparrow loves New York!\"\n",
        "bert_tokens = bert_tokenizer(text).tokens()\n",
        "xlmr_tokens = xlmr_tokenizer(text).tokens()\n",
        "\n",
        "print(bert_tokens)\n",
        "print(xlmr_tokens)"
      ],
      "metadata": {
        "colab": {
          "base_uri": "https://localhost:8080/"
        },
        "id": "ap3Mjus9-Hvi",
        "outputId": "eb7eafbe-4042-4182-b302-cbfa1fd4bc42"
      },
      "execution_count": 62,
      "outputs": [
        {
          "output_type": "stream",
          "name": "stdout",
          "text": [
            "['[CLS]', 'Jack', 'Spa', '##rrow', 'loves', 'New', 'York', '!', '[SEP]']\n",
            "['<s>', '▁Jack', '▁Spar', 'row', '▁love', 's', '▁New', '▁York', '!', '</s>']\n"
          ]
        }
      ]
    },
    {
      "cell_type": "markdown",
      "source": [
        "Here we see that instead of the `[CLS]` and `[SEP]` tokens that BERT uses for sentence classification tasks, XLM-R uses `<s>` and `<\\s>` to denote the start and end of a sequence. These tokens are added in the final stage of tokenization, as we’ll see next."
      ],
      "metadata": {
        "id": "u6kmhEEt-PDF"
      }
    },
    {
      "cell_type": "markdown",
      "source": [
        "![Screenshot from 2022-06-11 21-16-43.png](data:image/png;base64,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)"
      ],
      "metadata": {
        "id": "yvDylzzgAXlN"
      }
    },
    {
      "cell_type": "markdown",
      "source": [
        "### The Anatomy of the Transformers Model Class"
      ],
      "metadata": {
        "id": "gAWTKw3Y_Pa9"
      }
    },
    {
      "cell_type": "markdown",
      "source": [
        "![Screenshot from 2022-06-11 21-21-48.png](data:image/png;base64,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)"
      ],
      "metadata": {
        "id": "4CslnPbK_vUZ"
      }
    },
    {
      "cell_type": "markdown",
      "source": [
        "![Screenshot from 2022-06-11 21-22-01.png](data:image/png;base64,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)"
      ],
      "metadata": {
        "id": "R9nZCE8I_wWq"
      }
    },
    {
      "cell_type": "markdown",
      "source": [
        "Creating a Custom Model for Token Classification"
      ],
      "metadata": {
        "id": "shUjz9Zw_wZH"
      }
    },
    {
      "cell_type": "markdown",
      "source": [
        "Let’s go through the exercise of building a custom token classification head for XLM-R. Since XLM-R uses the same model architecture as RoBERTa, we will use RoBERTa as the base model, but augmented with settings specific to XLM-R. \n",
        "\n",
        "**Note that this is\n",
        "an educational exercise to show you how to build a custom model for your own task. For token classification, an XLMRobertaForTokenClassification class already exists that you can import from Transformers.** \n",
        "If you want, you can skip to the next section and simply use that one.\n",
        "\n",
        "To get started, we need a data structure that will represent our XLM-R NER tagger. As\n",
        "a first guess, we’ll need a configuration object to initialize the model and a `forward()` function to generate the outputs. Let’s go ahead and build our XLM-R class for token\n",
        "classification:"
      ],
      "metadata": {
        "id": "bYsnluURASO_"
      }
    },
    {
      "cell_type": "code",
      "source": [
        "import torch.nn as nn\n",
        "from transformers import XLMRobertaConfig\n",
        "from transformers.modeling_outputs import TokenClassifierOutput\n",
        "from transformers.models.roberta.modeling_roberta import RobertaModel\n",
        "from transformers.models.roberta.modeling_roberta import RobertaPreTrainedModel"
      ],
      "metadata": {
        "id": "mJcp_7tXBB7N"
      },
      "execution_count": 63,
      "outputs": []
    },
    {
      "cell_type": "code",
      "source": [
        "class XLMRobertaForTokenClassification(RobertaPreTrainedModel):\n",
        "    config_class = XLMRobertaConfig\n",
        "\n",
        "    def __init__(self, config):\n",
        "        super().__init__(config)\n",
        "        self.num_labels = config.num_labels\n",
        "        # Load model body\n",
        "        self.roberta = RobertaModel(config, add_pooling_layer=False)\n",
        "        # Set up token classification head\n",
        "        self.dropout = nn.Dropout(config.hidden_dropout_prob)\n",
        "        self.classifier = nn.Linear(config.hidden_size, config.num_labels)\n",
        "        # Load and initialize weights\n",
        "        self.init_weights()\n",
        "\n",
        "    def forward(self, input_ids=None, attention_mask=None, token_type_ids=None, \n",
        "                labels=None, **kwargs):\n",
        "        # Use model body to get encoder representations\n",
        "        outputs = self.roberta(input_ids, attention_mask=attention_mask,\n",
        "                               token_type_ids=token_type_ids, **kwargs)\n",
        "        # Apply classifier to encoder representation\n",
        "        sequence_output = self.dropout(outputs[0])\n",
        "        logits = self.classifier(sequence_output)\n",
        "        # Calculate losses\n",
        "        loss = None\n",
        "        if labels is not None:\n",
        "            loss_fct = nn.CrossEntropyLoss()\n",
        "            loss = loss_fct(logits.view(-1, self.num_labels), labels.view(-1))\n",
        "        # Return model output object\n",
        "        return TokenClassifierOutput(loss=loss, logits=logits, \n",
        "                                     hidden_states=outputs.hidden_states, \n",
        "                                     attentions=outputs.attentions)\n"
      ],
      "metadata": {
        "id": "Br22Q44KBFjj"
      },
      "execution_count": 64,
      "outputs": []
    },
    {
      "cell_type": "markdown",
      "source": [
        "### Loading a Custom Model"
      ],
      "metadata": {
        "id": "sFupqjO4EhR6"
      }
    },
    {
      "cell_type": "code",
      "source": [
        "from transformers import AutoConfig\n",
        "from transformers import TrainingArguments\n",
        "import torch"
      ],
      "metadata": {
        "id": "eU5EF4LsFXki"
      },
      "execution_count": 65,
      "outputs": []
    },
    {
      "cell_type": "code",
      "source": [
        "index2tag = {idx: tag for idx, tag in enumerate(tags.names)}\n",
        "tag2index = {tag: idx for idx, tag in enumerate(tags.names)}"
      ],
      "metadata": {
        "id": "BQIg_mnXE8Qy"
      },
      "execution_count": 66,
      "outputs": []
    },
    {
      "cell_type": "code",
      "source": [
        "print(xlmr_model_name)"
      ],
      "metadata": {
        "colab": {
          "base_uri": "https://localhost:8080/"
        },
        "id": "uBW4OxQhGDno",
        "outputId": "f14ae65e-ab87-4f62-9fb1-7823c4a319d5"
      },
      "execution_count": 67,
      "outputs": [
        {
          "output_type": "stream",
          "name": "stdout",
          "text": [
            "xlm-roberta-base\n"
          ]
        }
      ]
    },
    {
      "cell_type": "code",
      "source": [
        "xlmr_config = AutoConfig.from_pretrained(xlmr_model_name, \n",
        "                                         num_labels=tags.num_classes,\n",
        "                                         id2label=index2tag, label2id=tag2index)"
      ],
      "metadata": {
        "id": "fzzem4fVFEef"
      },
      "execution_count": 68,
      "outputs": []
    },
    {
      "cell_type": "code",
      "source": [
        "device = torch.device(\"cuda\" if torch.cuda.is_available() else \"cpu\")\n",
        "xlmr_model = (XLMRobertaForTokenClassification\n",
        "              .from_pretrained(xlmr_model_name, config=xlmr_config)\n",
        "              .to(device))"
      ],
      "metadata": {
        "colab": {
          "base_uri": "https://localhost:8080/"
        },
        "id": "m1-QG2svFMqD",
        "outputId": "5dbd222b-811f-4bc8-b360-a529a8eab0f3"
      },
      "execution_count": 69,
      "outputs": [
        {
          "output_type": "stream",
          "name": "stderr",
          "text": [
            "Some weights of the model checkpoint at xlm-roberta-base were not used when initializing XLMRobertaForTokenClassification: ['roberta.pooler.dense.weight', 'lm_head.bias', 'lm_head.layer_norm.weight', 'lm_head.dense.weight', 'lm_head.decoder.weight', 'lm_head.dense.bias', 'roberta.pooler.dense.bias', 'lm_head.layer_norm.bias']\n",
            "- This IS expected if you are initializing XLMRobertaForTokenClassification from the checkpoint of a model trained on another task or with another architecture (e.g. initializing a BertForSequenceClassification model from a BertForPreTraining model).\n",
            "- This IS NOT expected if you are initializing XLMRobertaForTokenClassification from the checkpoint of a model that you expect to be exactly identical (initializing a BertForSequenceClassification model from a BertForSequenceClassification model).\n",
            "Some weights of XLMRobertaForTokenClassification were not initialized from the model checkpoint at xlm-roberta-base and are newly initialized: ['roberta.embeddings.position_ids', 'classifier.bias', 'classifier.weight']\n",
            "You should probably TRAIN this model on a down-stream task to be able to use it for predictions and inference.\n"
          ]
        }
      ]
    },
    {
      "cell_type": "code",
      "source": [
        "# Check tokenizer\n",
        "input_ids = xlmr_tokenizer.encode(text, return_tensors=\"pt\")\n",
        "pd.DataFrame([xlmr_tokens, input_ids[0].numpy()], index=[\"Tokens\", \"Input IDs\"])"
      ],
      "metadata": {
        "colab": {
          "base_uri": "https://localhost:8080/",
          "height": 112
        },
        "id": "9J7LM--5GGfn",
        "outputId": "549d563c-2764-4614-bb8d-2de3bfb63bf4"
      },
      "execution_count": 70,
      "outputs": [
        {
          "output_type": "execute_result",
          "data": {
            "text/plain": [
              "             0      1      2      3      4  5     6      7   8     9\n",
              "Tokens     <s>  ▁Jack  ▁Spar    row  ▁love  s  ▁New  ▁York   !  </s>\n",
              "Input IDs    0  21763  37456  15555   5161  7  2356   5753  38     2"
            ],
            "text/html": [
              "\n",
              "  <div id=\"df-842071e2-5a57-4043-963d-3a2ce2480e68\">\n",
              "    <div class=\"colab-df-container\">\n",
              "      <div>\n",
              "<style scoped>\n",
              "    .dataframe tbody tr th:only-of-type {\n",
              "        vertical-align: middle;\n",
              "    }\n",
              "\n",
              "    .dataframe tbody tr th {\n",
              "        vertical-align: top;\n",
              "    }\n",
              "\n",
              "    .dataframe thead th {\n",
              "        text-align: right;\n",
              "    }\n",
              "</style>\n",
              "<table border=\"1\" class=\"dataframe\">\n",
              "  <thead>\n",
              "    <tr style=\"text-align: right;\">\n",
              "      <th></th>\n",
              "      <th>0</th>\n",
              "      <th>1</th>\n",
              "      <th>2</th>\n",
              "      <th>3</th>\n",
              "      <th>4</th>\n",
              "      <th>5</th>\n",
              "      <th>6</th>\n",
              "      <th>7</th>\n",
              "      <th>8</th>\n",
              "      <th>9</th>\n",
              "    </tr>\n",
              "  </thead>\n",
              "  <tbody>\n",
              "    <tr>\n",
              "      <th>Tokens</th>\n",
              "      <td>&lt;s&gt;</td>\n",
              "      <td>▁Jack</td>\n",
              "      <td>▁Spar</td>\n",
              "      <td>row</td>\n",
              "      <td>▁love</td>\n",
              "      <td>s</td>\n",
              "      <td>▁New</td>\n",
              "      <td>▁York</td>\n",
              "      <td>!</td>\n",
              "      <td>&lt;/s&gt;</td>\n",
              "    </tr>\n",
              "    <tr>\n",
              "      <th>Input IDs</th>\n",
              "      <td>0</td>\n",
              "      <td>21763</td>\n",
              "      <td>37456</td>\n",
              "      <td>15555</td>\n",
              "      <td>5161</td>\n",
              "      <td>7</td>\n",
              "      <td>2356</td>\n",
              "      <td>5753</td>\n",
              "      <td>38</td>\n",
              "      <td>2</td>\n",
              "    </tr>\n",
              "  </tbody>\n",
              "</table>\n",
              "</div>\n",
              "      <button class=\"colab-df-convert\" onclick=\"convertToInteractive('df-842071e2-5a57-4043-963d-3a2ce2480e68')\"\n",
              "              title=\"Convert this dataframe to an interactive table.\"\n",
              "              style=\"display:none;\">\n",
              "        \n",
              "  <svg xmlns=\"http://www.w3.org/2000/svg\" height=\"24px\"viewBox=\"0 0 24 24\"\n",
              "       width=\"24px\">\n",
              "    <path d=\"M0 0h24v24H0V0z\" fill=\"none\"/>\n",
              "    <path d=\"M18.56 5.44l.94 2.06.94-2.06 2.06-.94-2.06-.94-.94-2.06-.94 2.06-2.06.94zm-11 1L8.5 8.5l.94-2.06 2.06-.94-2.06-.94L8.5 2.5l-.94 2.06-2.06.94zm10 10l.94 2.06.94-2.06 2.06-.94-2.06-.94-.94-2.06-.94 2.06-2.06.94z\"/><path d=\"M17.41 7.96l-1.37-1.37c-.4-.4-.92-.59-1.43-.59-.52 0-1.04.2-1.43.59L10.3 9.45l-7.72 7.72c-.78.78-.78 2.05 0 2.83L4 21.41c.39.39.9.59 1.41.59.51 0 1.02-.2 1.41-.59l7.78-7.78 2.81-2.81c.8-.78.8-2.07 0-2.86zM5.41 20L4 18.59l7.72-7.72 1.47 1.35L5.41 20z\"/>\n",
              "  </svg>\n",
              "      </button>\n",
              "      \n",
              "  <style>\n",
              "    .colab-df-container {\n",
              "      display:flex;\n",
              "      flex-wrap:wrap;\n",
              "      gap: 12px;\n",
              "    }\n",
              "\n",
              "    .colab-df-convert {\n",
              "      background-color: #E8F0FE;\n",
              "      border: none;\n",
              "      border-radius: 50%;\n",
              "      cursor: pointer;\n",
              "      display: none;\n",
              "      fill: #1967D2;\n",
              "      height: 32px;\n",
              "      padding: 0 0 0 0;\n",
              "      width: 32px;\n",
              "    }\n",
              "\n",
              "    .colab-df-convert:hover {\n",
              "      background-color: #E2EBFA;\n",
              "      box-shadow: 0px 1px 2px rgba(60, 64, 67, 0.3), 0px 1px 3px 1px rgba(60, 64, 67, 0.15);\n",
              "      fill: #174EA6;\n",
              "    }\n",
              "\n",
              "    [theme=dark] .colab-df-convert {\n",
              "      background-color: #3B4455;\n",
              "      fill: #D2E3FC;\n",
              "    }\n",
              "\n",
              "    [theme=dark] .colab-df-convert:hover {\n",
              "      background-color: #434B5C;\n",
              "      box-shadow: 0px 1px 3px 1px rgba(0, 0, 0, 0.15);\n",
              "      filter: drop-shadow(0px 1px 2px rgba(0, 0, 0, 0.3));\n",
              "      fill: #FFFFFF;\n",
              "    }\n",
              "  </style>\n",
              "\n",
              "      <script>\n",
              "        const buttonEl =\n",
              "          document.querySelector('#df-842071e2-5a57-4043-963d-3a2ce2480e68 button.colab-df-convert');\n",
              "        buttonEl.style.display =\n",
              "          google.colab.kernel.accessAllowed ? 'block' : 'none';\n",
              "\n",
              "        async function convertToInteractive(key) {\n",
              "          const element = document.querySelector('#df-842071e2-5a57-4043-963d-3a2ce2480e68');\n",
              "          const dataTable =\n",
              "            await google.colab.kernel.invokeFunction('convertToInteractive',\n",
              "                                                     [key], {});\n",
              "          if (!dataTable) return;\n",
              "\n",
              "          const docLinkHtml = 'Like what you see? Visit the ' +\n",
              "            '<a target=\"_blank\" href=https://colab.research.google.com/notebooks/data_table.ipynb>data table notebook</a>'\n",
              "            + ' to learn more about interactive tables.';\n",
              "          element.innerHTML = '';\n",
              "          dataTable['output_type'] = 'display_data';\n",
              "          await google.colab.output.renderOutput(dataTable, element);\n",
              "          const docLink = document.createElement('div');\n",
              "          docLink.innerHTML = docLinkHtml;\n",
              "          element.appendChild(docLink);\n",
              "        }\n",
              "      </script>\n",
              "    </div>\n",
              "  </div>\n",
              "  "
            ]
          },
          "metadata": {},
          "execution_count": 70
        }
      ]
    },
    {
      "cell_type": "code",
      "source": [
        "input_ids"
      ],
      "metadata": {
        "colab": {
          "base_uri": "https://localhost:8080/"
        },
        "id": "y81S1ADNNIg-",
        "outputId": "99580870-ff67-4473-e60d-9337b8b961b3"
      },
      "execution_count": 71,
      "outputs": [
        {
          "output_type": "execute_result",
          "data": {
            "text/plain": [
              "tensor([[    0, 21763, 37456, 15555,  5161,     7,  2356,  5753,    38,     2]])"
            ]
          },
          "metadata": {},
          "execution_count": 71
        }
      ]
    },
    {
      "cell_type": "code",
      "source": [
        "# Extract prediction samples\n",
        "outputs = xlmr_model(input_ids.to(device)).logits\n",
        "predictions = torch.argmax(outputs, dim=-1)\n",
        "print(f\"Number of tokens in sequence: {len(xlmr_tokens)}\")\n",
        "print(f\"Shape of outputs: {outputs.shape}\")"
      ],
      "metadata": {
        "colab": {
          "base_uri": "https://localhost:8080/"
        },
        "id": "HEZcFSJ6GfFr",
        "outputId": "13851cf0-d060-4498-96d6-c09be56fb090"
      },
      "execution_count": 72,
      "outputs": [
        {
          "output_type": "stream",
          "name": "stdout",
          "text": [
            "Number of tokens in sequence: 10\n",
            "Shape of outputs: torch.Size([1, 10, 7])\n"
          ]
        }
      ]
    },
    {
      "cell_type": "code",
      "source": [
        "preds = [tags.names[p] for p in predictions[0].cpu().numpy()]\n",
        "pd.DataFrame([xlmr_tokens, preds], index=[\"Tokens\", \"Tags\"])"
      ],
      "metadata": {
        "colab": {
          "base_uri": "https://localhost:8080/",
          "height": 112
        },
        "id": "LTSRmEdbHPVG",
        "outputId": "b8d7c7b3-05bc-457d-ec29-4534211b800b"
      },
      "execution_count": 73,
      "outputs": [
        {
          "output_type": "execute_result",
          "data": {
            "text/plain": [
              "          0      1      2      3      4      5      6      7      8     9\n",
              "Tokens  <s>  ▁Jack  ▁Spar    row  ▁love      s   ▁New  ▁York      !  </s>\n",
              "Tags      O  B-LOC      O  B-LOC  B-LOC  B-LOC  B-LOC  B-LOC  B-LOC     O"
            ],
            "text/html": [
              "\n",
              "  <div id=\"df-78adf5ca-1562-4218-8621-e24867b208db\">\n",
              "    <div class=\"colab-df-container\">\n",
              "      <div>\n",
              "<style scoped>\n",
              "    .dataframe tbody tr th:only-of-type {\n",
              "        vertical-align: middle;\n",
              "    }\n",
              "\n",
              "    .dataframe tbody tr th {\n",
              "        vertical-align: top;\n",
              "    }\n",
              "\n",
              "    .dataframe thead th {\n",
              "        text-align: right;\n",
              "    }\n",
              "</style>\n",
              "<table border=\"1\" class=\"dataframe\">\n",
              "  <thead>\n",
              "    <tr style=\"text-align: right;\">\n",
              "      <th></th>\n",
              "      <th>0</th>\n",
              "      <th>1</th>\n",
              "      <th>2</th>\n",
              "      <th>3</th>\n",
              "      <th>4</th>\n",
              "      <th>5</th>\n",
              "      <th>6</th>\n",
              "      <th>7</th>\n",
              "      <th>8</th>\n",
              "      <th>9</th>\n",
              "    </tr>\n",
              "  </thead>\n",
              "  <tbody>\n",
              "    <tr>\n",
              "      <th>Tokens</th>\n",
              "      <td>&lt;s&gt;</td>\n",
              "      <td>▁Jack</td>\n",
              "      <td>▁Spar</td>\n",
              "      <td>row</td>\n",
              "      <td>▁love</td>\n",
              "      <td>s</td>\n",
              "      <td>▁New</td>\n",
              "      <td>▁York</td>\n",
              "      <td>!</td>\n",
              "      <td>&lt;/s&gt;</td>\n",
              "    </tr>\n",
              "    <tr>\n",
              "      <th>Tags</th>\n",
              "      <td>O</td>\n",
              "      <td>B-LOC</td>\n",
              "      <td>O</td>\n",
              "      <td>B-LOC</td>\n",
              "      <td>B-LOC</td>\n",
              "      <td>B-LOC</td>\n",
              "      <td>B-LOC</td>\n",
              "      <td>B-LOC</td>\n",
              "      <td>B-LOC</td>\n",
              "      <td>O</td>\n",
              "    </tr>\n",
              "  </tbody>\n",
              "</table>\n",
              "</div>\n",
              "      <button class=\"colab-df-convert\" onclick=\"convertToInteractive('df-78adf5ca-1562-4218-8621-e24867b208db')\"\n",
              "              title=\"Convert this dataframe to an interactive table.\"\n",
              "              style=\"display:none;\">\n",
              "        \n",
              "  <svg xmlns=\"http://www.w3.org/2000/svg\" height=\"24px\"viewBox=\"0 0 24 24\"\n",
              "       width=\"24px\">\n",
              "    <path d=\"M0 0h24v24H0V0z\" fill=\"none\"/>\n",
              "    <path d=\"M18.56 5.44l.94 2.06.94-2.06 2.06-.94-2.06-.94-.94-2.06-.94 2.06-2.06.94zm-11 1L8.5 8.5l.94-2.06 2.06-.94-2.06-.94L8.5 2.5l-.94 2.06-2.06.94zm10 10l.94 2.06.94-2.06 2.06-.94-2.06-.94-.94-2.06-.94 2.06-2.06.94z\"/><path d=\"M17.41 7.96l-1.37-1.37c-.4-.4-.92-.59-1.43-.59-.52 0-1.04.2-1.43.59L10.3 9.45l-7.72 7.72c-.78.78-.78 2.05 0 2.83L4 21.41c.39.39.9.59 1.41.59.51 0 1.02-.2 1.41-.59l7.78-7.78 2.81-2.81c.8-.78.8-2.07 0-2.86zM5.41 20L4 18.59l7.72-7.72 1.47 1.35L5.41 20z\"/>\n",
              "  </svg>\n",
              "      </button>\n",
              "      \n",
              "  <style>\n",
              "    .colab-df-container {\n",
              "      display:flex;\n",
              "      flex-wrap:wrap;\n",
              "      gap: 12px;\n",
              "    }\n",
              "\n",
              "    .colab-df-convert {\n",
              "      background-color: #E8F0FE;\n",
              "      border: none;\n",
              "      border-radius: 50%;\n",
              "      cursor: pointer;\n",
              "      display: none;\n",
              "      fill: #1967D2;\n",
              "      height: 32px;\n",
              "      padding: 0 0 0 0;\n",
              "      width: 32px;\n",
              "    }\n",
              "\n",
              "    .colab-df-convert:hover {\n",
              "      background-color: #E2EBFA;\n",
              "      box-shadow: 0px 1px 2px rgba(60, 64, 67, 0.3), 0px 1px 3px 1px rgba(60, 64, 67, 0.15);\n",
              "      fill: #174EA6;\n",
              "    }\n",
              "\n",
              "    [theme=dark] .colab-df-convert {\n",
              "      background-color: #3B4455;\n",
              "      fill: #D2E3FC;\n",
              "    }\n",
              "\n",
              "    [theme=dark] .colab-df-convert:hover {\n",
              "      background-color: #434B5C;\n",
              "      box-shadow: 0px 1px 3px 1px rgba(0, 0, 0, 0.15);\n",
              "      filter: drop-shadow(0px 1px 2px rgba(0, 0, 0, 0.3));\n",
              "      fill: #FFFFFF;\n",
              "    }\n",
              "  </style>\n",
              "\n",
              "      <script>\n",
              "        const buttonEl =\n",
              "          document.querySelector('#df-78adf5ca-1562-4218-8621-e24867b208db button.colab-df-convert');\n",
              "        buttonEl.style.display =\n",
              "          google.colab.kernel.accessAllowed ? 'block' : 'none';\n",
              "\n",
              "        async function convertToInteractive(key) {\n",
              "          const element = document.querySelector('#df-78adf5ca-1562-4218-8621-e24867b208db');\n",
              "          const dataTable =\n",
              "            await google.colab.kernel.invokeFunction('convertToInteractive',\n",
              "                                                     [key], {});\n",
              "          if (!dataTable) return;\n",
              "\n",
              "          const docLinkHtml = 'Like what you see? Visit the ' +\n",
              "            '<a target=\"_blank\" href=https://colab.research.google.com/notebooks/data_table.ipynb>data table notebook</a>'\n",
              "            + ' to learn more about interactive tables.';\n",
              "          element.innerHTML = '';\n",
              "          dataTable['output_type'] = 'display_data';\n",
              "          await google.colab.output.renderOutput(dataTable, element);\n",
              "          const docLink = document.createElement('div');\n",
              "          docLink.innerHTML = docLinkHtml;\n",
              "          element.appendChild(docLink);\n",
              "        }\n",
              "      </script>\n",
              "    </div>\n",
              "  </div>\n",
              "  "
            ]
          },
          "metadata": {},
          "execution_count": 73
        }
      ]
    },
    {
      "cell_type": "markdown",
      "source": [
        "Unsurprisingly, our token classification layer with random weights leaves a lot to be\n",
        "desired. Let’s fine-tune on some labeled data to make it better."
      ],
      "metadata": {
        "id": "LfS99FTAOceK"
      }
    },
    {
      "cell_type": "code",
      "source": [
        "# Wrap previous steps for prediction generating\n",
        "def tag_text(text, tags, model, tokenizer):\n",
        "    # Get tokens with special characters\n",
        "    tokens = tokenizer(text).tokens()\n",
        "    # Encode the sequence into IDs\n",
        "    input_ids = xlmr_tokenizer(text, return_tensors=\"pt\").input_ids.to(device)\n",
        "    # Get predictions as distribution over 7 possible classes\n",
        "    outputs = model(input_ids)[0]\n",
        "    # Take argmax to get most likely class per token\n",
        "    predictions = torch.argmax(outputs, dim=2)\n",
        "    # Convert to DataFrame\n",
        "    preds = [tags.names[p] for p in predictions[0].cpu().numpy()]\n",
        "    return pd.DataFrame([tokens, preds], index=[\"Tokens\", \"Tags\"])"
      ],
      "metadata": {
        "id": "RmxAqJh2OpTE"
      },
      "execution_count": 74,
      "outputs": []
    },
    {
      "cell_type": "code",
      "source": [
        "# Test run\n",
        "tag_text(text, tags, xlmr_model, xlmr_tokenizer)"
      ],
      "metadata": {
        "colab": {
          "base_uri": "https://localhost:8080/",
          "height": 112
        },
        "id": "-cFH2m0s6RGw",
        "outputId": "b1765ed6-f60f-4789-ed5f-fda01ce75873"
      },
      "execution_count": 75,
      "outputs": [
        {
          "output_type": "execute_result",
          "data": {
            "text/plain": [
              "          0      1      2      3      4      5      6      7      8     9\n",
              "Tokens  <s>  ▁Jack  ▁Spar    row  ▁love      s   ▁New  ▁York      !  </s>\n",
              "Tags      O  B-LOC      O  B-LOC  B-LOC  B-LOC  B-LOC  B-LOC  B-LOC     O"
            ],
            "text/html": [
              "\n",
              "  <div id=\"df-e40199e0-23dc-41e1-85e5-3b502f2040fe\">\n",
              "    <div class=\"colab-df-container\">\n",
              "      <div>\n",
              "<style scoped>\n",
              "    .dataframe tbody tr th:only-of-type {\n",
              "        vertical-align: middle;\n",
              "    }\n",
              "\n",
              "    .dataframe tbody tr th {\n",
              "        vertical-align: top;\n",
              "    }\n",
              "\n",
              "    .dataframe thead th {\n",
              "        text-align: right;\n",
              "    }\n",
              "</style>\n",
              "<table border=\"1\" class=\"dataframe\">\n",
              "  <thead>\n",
              "    <tr style=\"text-align: right;\">\n",
              "      <th></th>\n",
              "      <th>0</th>\n",
              "      <th>1</th>\n",
              "      <th>2</th>\n",
              "      <th>3</th>\n",
              "      <th>4</th>\n",
              "      <th>5</th>\n",
              "      <th>6</th>\n",
              "      <th>7</th>\n",
              "      <th>8</th>\n",
              "      <th>9</th>\n",
              "    </tr>\n",
              "  </thead>\n",
              "  <tbody>\n",
              "    <tr>\n",
              "      <th>Tokens</th>\n",
              "      <td>&lt;s&gt;</td>\n",
              "      <td>▁Jack</td>\n",
              "      <td>▁Spar</td>\n",
              "      <td>row</td>\n",
              "      <td>▁love</td>\n",
              "      <td>s</td>\n",
              "      <td>▁New</td>\n",
              "      <td>▁York</td>\n",
              "      <td>!</td>\n",
              "      <td>&lt;/s&gt;</td>\n",
              "    </tr>\n",
              "    <tr>\n",
              "      <th>Tags</th>\n",
              "      <td>O</td>\n",
              "      <td>B-LOC</td>\n",
              "      <td>O</td>\n",
              "      <td>B-LOC</td>\n",
              "      <td>B-LOC</td>\n",
              "      <td>B-LOC</td>\n",
              "      <td>B-LOC</td>\n",
              "      <td>B-LOC</td>\n",
              "      <td>B-LOC</td>\n",
              "      <td>O</td>\n",
              "    </tr>\n",
              "  </tbody>\n",
              "</table>\n",
              "</div>\n",
              "      <button class=\"colab-df-convert\" onclick=\"convertToInteractive('df-e40199e0-23dc-41e1-85e5-3b502f2040fe')\"\n",
              "              title=\"Convert this dataframe to an interactive table.\"\n",
              "              style=\"display:none;\">\n",
              "        \n",
              "  <svg xmlns=\"http://www.w3.org/2000/svg\" height=\"24px\"viewBox=\"0 0 24 24\"\n",
              "       width=\"24px\">\n",
              "    <path d=\"M0 0h24v24H0V0z\" fill=\"none\"/>\n",
              "    <path d=\"M18.56 5.44l.94 2.06.94-2.06 2.06-.94-2.06-.94-.94-2.06-.94 2.06-2.06.94zm-11 1L8.5 8.5l.94-2.06 2.06-.94-2.06-.94L8.5 2.5l-.94 2.06-2.06.94zm10 10l.94 2.06.94-2.06 2.06-.94-2.06-.94-.94-2.06-.94 2.06-2.06.94z\"/><path d=\"M17.41 7.96l-1.37-1.37c-.4-.4-.92-.59-1.43-.59-.52 0-1.04.2-1.43.59L10.3 9.45l-7.72 7.72c-.78.78-.78 2.05 0 2.83L4 21.41c.39.39.9.59 1.41.59.51 0 1.02-.2 1.41-.59l7.78-7.78 2.81-2.81c.8-.78.8-2.07 0-2.86zM5.41 20L4 18.59l7.72-7.72 1.47 1.35L5.41 20z\"/>\n",
              "  </svg>\n",
              "      </button>\n",
              "      \n",
              "  <style>\n",
              "    .colab-df-container {\n",
              "      display:flex;\n",
              "      flex-wrap:wrap;\n",
              "      gap: 12px;\n",
              "    }\n",
              "\n",
              "    .colab-df-convert {\n",
              "      background-color: #E8F0FE;\n",
              "      border: none;\n",
              "      border-radius: 50%;\n",
              "      cursor: pointer;\n",
              "      display: none;\n",
              "      fill: #1967D2;\n",
              "      height: 32px;\n",
              "      padding: 0 0 0 0;\n",
              "      width: 32px;\n",
              "    }\n",
              "\n",
              "    .colab-df-convert:hover {\n",
              "      background-color: #E2EBFA;\n",
              "      box-shadow: 0px 1px 2px rgba(60, 64, 67, 0.3), 0px 1px 3px 1px rgba(60, 64, 67, 0.15);\n",
              "      fill: #174EA6;\n",
              "    }\n",
              "\n",
              "    [theme=dark] .colab-df-convert {\n",
              "      background-color: #3B4455;\n",
              "      fill: #D2E3FC;\n",
              "    }\n",
              "\n",
              "    [theme=dark] .colab-df-convert:hover {\n",
              "      background-color: #434B5C;\n",
              "      box-shadow: 0px 1px 3px 1px rgba(0, 0, 0, 0.15);\n",
              "      filter: drop-shadow(0px 1px 2px rgba(0, 0, 0, 0.3));\n",
              "      fill: #FFFFFF;\n",
              "    }\n",
              "  </style>\n",
              "\n",
              "      <script>\n",
              "        const buttonEl =\n",
              "          document.querySelector('#df-e40199e0-23dc-41e1-85e5-3b502f2040fe button.colab-df-convert');\n",
              "        buttonEl.style.display =\n",
              "          google.colab.kernel.accessAllowed ? 'block' : 'none';\n",
              "\n",
              "        async function convertToInteractive(key) {\n",
              "          const element = document.querySelector('#df-e40199e0-23dc-41e1-85e5-3b502f2040fe');\n",
              "          const dataTable =\n",
              "            await google.colab.kernel.invokeFunction('convertToInteractive',\n",
              "                                                     [key], {});\n",
              "          if (!dataTable) return;\n",
              "\n",
              "          const docLinkHtml = 'Like what you see? Visit the ' +\n",
              "            '<a target=\"_blank\" href=https://colab.research.google.com/notebooks/data_table.ipynb>data table notebook</a>'\n",
              "            + ' to learn more about interactive tables.';\n",
              "          element.innerHTML = '';\n",
              "          dataTable['output_type'] = 'display_data';\n",
              "          await google.colab.output.renderOutput(dataTable, element);\n",
              "          const docLink = document.createElement('div');\n",
              "          docLink.innerHTML = docLinkHtml;\n",
              "          element.appendChild(docLink);\n",
              "        }\n",
              "      </script>\n",
              "    </div>\n",
              "  </div>\n",
              "  "
            ]
          },
          "metadata": {},
          "execution_count": 75
        }
      ]
    },
    {
      "cell_type": "markdown",
      "source": [
        "### Tokenizing Texts for NER"
      ],
      "metadata": {
        "id": "uNaW_EpP7T0u"
      }
    },
    {
      "cell_type": "markdown",
      "source": [
        "Now that we’ve established that the tokenizer and model can encode a single example,\n",
        "our next step is to tokenize the whole dataset so that we can pass it to the XLM-R\n",
        "model for fine-tuning."
      ],
      "metadata": {
        "id": "YLvEeOxK7nCP"
      }
    },
    {
      "cell_type": "markdown",
      "source": [
        "Let's start from the code sample and them wrap it in the function."
      ],
      "metadata": {
        "id": "cPDGOdWJ8Xtr"
      }
    },
    {
      "cell_type": "code",
      "source": [
        "words, labels = de_example['tokens'], de_example['ner_tags']"
      ],
      "metadata": {
        "id": "_F_ue-mo8D3q"
      },
      "execution_count": 76,
      "outputs": []
    },
    {
      "cell_type": "code",
      "source": [
        "tokenized_input = xlmr_tokenizer(words, is_split_into_words=True)\n",
        "\n",
        "tokens = xlmr_tokenizer.convert_ids_to_tokens(tokenized_input['input_ids'])\n",
        "pd.DataFrame([tokens], index=[\"Tokens\"])"
      ],
      "metadata": {
        "colab": {
          "base_uri": "https://localhost:8080/",
          "height": 110
        },
        "id": "2VkCSgYM8VGn",
        "outputId": "904475fa-dcb8-450f-fc13-51a63945819f"
      },
      "execution_count": 77,
      "outputs": [
        {
          "output_type": "execute_result",
          "data": {
            "text/plain": [
              "         0       1           2  3    4     5     6   7    8      9   ...   15  \\\n",
              "Tokens  <s>  ▁2.000  ▁Einwohner  n  ▁an  ▁der  ▁Dan  zi  ger  ▁Buch  ...  ▁Wo   \n",
              "\n",
              "       16   17      18   19    20 21 22 23    24  \n",
              "Tokens  i  wod  schaft  ▁Po  mmer  n  ▁  .  </s>  \n",
              "\n",
              "[1 rows x 25 columns]"
            ],
            "text/html": [
              "\n",
              "  <div id=\"df-beb057d0-fbc9-464d-aa33-5f287b02ab1e\">\n",
              "    <div class=\"colab-df-container\">\n",
              "      <div>\n",
              "<style scoped>\n",
              "    .dataframe tbody tr th:only-of-type {\n",
              "        vertical-align: middle;\n",
              "    }\n",
              "\n",
              "    .dataframe tbody tr th {\n",
              "        vertical-align: top;\n",
              "    }\n",
              "\n",
              "    .dataframe thead th {\n",
              "        text-align: right;\n",
              "    }\n",
              "</style>\n",
              "<table border=\"1\" class=\"dataframe\">\n",
              "  <thead>\n",
              "    <tr style=\"text-align: right;\">\n",
              "      <th></th>\n",
              "      <th>0</th>\n",
              "      <th>1</th>\n",
              "      <th>2</th>\n",
              "      <th>3</th>\n",
              "      <th>4</th>\n",
              "      <th>5</th>\n",
              "      <th>6</th>\n",
              "      <th>7</th>\n",
              "      <th>8</th>\n",
              "      <th>9</th>\n",
              "      <th>...</th>\n",
              "      <th>15</th>\n",
              "      <th>16</th>\n",
              "      <th>17</th>\n",
              "      <th>18</th>\n",
              "      <th>19</th>\n",
              "      <th>20</th>\n",
              "      <th>21</th>\n",
              "      <th>22</th>\n",
              "      <th>23</th>\n",
              "      <th>24</th>\n",
              "    </tr>\n",
              "  </thead>\n",
              "  <tbody>\n",
              "    <tr>\n",
              "      <th>Tokens</th>\n",
              "      <td>&lt;s&gt;</td>\n",
              "      <td>▁2.000</td>\n",
              "      <td>▁Einwohner</td>\n",
              "      <td>n</td>\n",
              "      <td>▁an</td>\n",
              "      <td>▁der</td>\n",
              "      <td>▁Dan</td>\n",
              "      <td>zi</td>\n",
              "      <td>ger</td>\n",
              "      <td>▁Buch</td>\n",
              "      <td>...</td>\n",
              "      <td>▁Wo</td>\n",
              "      <td>i</td>\n",
              "      <td>wod</td>\n",
              "      <td>schaft</td>\n",
              "      <td>▁Po</td>\n",
              "      <td>mmer</td>\n",
              "      <td>n</td>\n",
              "      <td>▁</td>\n",
              "      <td>.</td>\n",
              "      <td>&lt;/s&gt;</td>\n",
              "    </tr>\n",
              "  </tbody>\n",
              "</table>\n",
              "<p>1 rows × 25 columns</p>\n",
              "</div>\n",
              "      <button class=\"colab-df-convert\" onclick=\"convertToInteractive('df-beb057d0-fbc9-464d-aa33-5f287b02ab1e')\"\n",
              "              title=\"Convert this dataframe to an interactive table.\"\n",
              "              style=\"display:none;\">\n",
              "        \n",
              "  <svg xmlns=\"http://www.w3.org/2000/svg\" height=\"24px\"viewBox=\"0 0 24 24\"\n",
              "       width=\"24px\">\n",
              "    <path d=\"M0 0h24v24H0V0z\" fill=\"none\"/>\n",
              "    <path d=\"M18.56 5.44l.94 2.06.94-2.06 2.06-.94-2.06-.94-.94-2.06-.94 2.06-2.06.94zm-11 1L8.5 8.5l.94-2.06 2.06-.94-2.06-.94L8.5 2.5l-.94 2.06-2.06.94zm10 10l.94 2.06.94-2.06 2.06-.94-2.06-.94-.94-2.06-.94 2.06-2.06.94z\"/><path d=\"M17.41 7.96l-1.37-1.37c-.4-.4-.92-.59-1.43-.59-.52 0-1.04.2-1.43.59L10.3 9.45l-7.72 7.72c-.78.78-.78 2.05 0 2.83L4 21.41c.39.39.9.59 1.41.59.51 0 1.02-.2 1.41-.59l7.78-7.78 2.81-2.81c.8-.78.8-2.07 0-2.86zM5.41 20L4 18.59l7.72-7.72 1.47 1.35L5.41 20z\"/>\n",
              "  </svg>\n",
              "      </button>\n",
              "      \n",
              "  <style>\n",
              "    .colab-df-container {\n",
              "      display:flex;\n",
              "      flex-wrap:wrap;\n",
              "      gap: 12px;\n",
              "    }\n",
              "\n",
              "    .colab-df-convert {\n",
              "      background-color: #E8F0FE;\n",
              "      border: none;\n",
              "      border-radius: 50%;\n",
              "      cursor: pointer;\n",
              "      display: none;\n",
              "      fill: #1967D2;\n",
              "      height: 32px;\n",
              "      padding: 0 0 0 0;\n",
              "      width: 32px;\n",
              "    }\n",
              "\n",
              "    .colab-df-convert:hover {\n",
              "      background-color: #E2EBFA;\n",
              "      box-shadow: 0px 1px 2px rgba(60, 64, 67, 0.3), 0px 1px 3px 1px rgba(60, 64, 67, 0.15);\n",
              "      fill: #174EA6;\n",
              "    }\n",
              "\n",
              "    [theme=dark] .colab-df-convert {\n",
              "      background-color: #3B4455;\n",
              "      fill: #D2E3FC;\n",
              "    }\n",
              "\n",
              "    [theme=dark] .colab-df-convert:hover {\n",
              "      background-color: #434B5C;\n",
              "      box-shadow: 0px 1px 3px 1px rgba(0, 0, 0, 0.15);\n",
              "      filter: drop-shadow(0px 1px 2px rgba(0, 0, 0, 0.3));\n",
              "      fill: #FFFFFF;\n",
              "    }\n",
              "  </style>\n",
              "\n",
              "      <script>\n",
              "        const buttonEl =\n",
              "          document.querySelector('#df-beb057d0-fbc9-464d-aa33-5f287b02ab1e button.colab-df-convert');\n",
              "        buttonEl.style.display =\n",
              "          google.colab.kernel.accessAllowed ? 'block' : 'none';\n",
              "\n",
              "        async function convertToInteractive(key) {\n",
              "          const element = document.querySelector('#df-beb057d0-fbc9-464d-aa33-5f287b02ab1e');\n",
              "          const dataTable =\n",
              "            await google.colab.kernel.invokeFunction('convertToInteractive',\n",
              "                                                     [key], {});\n",
              "          if (!dataTable) return;\n",
              "\n",
              "          const docLinkHtml = 'Like what you see? Visit the ' +\n",
              "            '<a target=\"_blank\" href=https://colab.research.google.com/notebooks/data_table.ipynb>data table notebook</a>'\n",
              "            + ' to learn more about interactive tables.';\n",
              "          element.innerHTML = '';\n",
              "          dataTable['output_type'] = 'display_data';\n",
              "          await google.colab.output.renderOutput(dataTable, element);\n",
              "          const docLink = document.createElement('div');\n",
              "          docLink.innerHTML = docLinkHtml;\n",
              "          element.appendChild(docLink);\n",
              "        }\n",
              "      </script>\n",
              "    </div>\n",
              "  </div>\n",
              "  "
            ]
          },
          "metadata": {},
          "execution_count": 77
        }
      ]
    },
    {
      "cell_type": "markdown",
      "source": [
        "In this example we can see that the tokenizer has split “Einwohnern” into two sub‐\n",
        "words, “▁Einwohner” and “n”. Since we’re following the convention that only\n",
        "“▁Einwohner” should be associated with the B-LOC label, we need a way to mask the\n",
        "subword representations after the first subword. Fortunately, tokenized_input is a\n",
        "class that contains a word_ids() function that can help us achieve this:"
      ],
      "metadata": {
        "id": "9gbkDLlC9LV4"
      }
    },
    {
      "cell_type": "code",
      "source": [
        "word_ids = tokenized_input.word_ids() # one word could be prolonged by several tokens"
      ],
      "metadata": {
        "id": "mlhmcjmZ_H6m"
      },
      "execution_count": 78,
      "outputs": []
    },
    {
      "cell_type": "code",
      "source": [
        "pd.DataFrame([tokens, word_ids], index=[\"Tokens\", \"Word IDs\"])"
      ],
      "metadata": {
        "colab": {
          "base_uri": "https://localhost:8080/",
          "height": 141
        },
        "id": "v-jrKuHF_VFF",
        "outputId": "617ab04b-56b8-4f6f-ae93-aec03deea21a"
      },
      "execution_count": 79,
      "outputs": [
        {
          "output_type": "execute_result",
          "data": {
            "text/plain": [
              "            0       1           2  3    4     5     6   7    8      9   ...  \\\n",
              "Tokens     <s>  ▁2.000  ▁Einwohner  n  ▁an  ▁der  ▁Dan  zi  ger  ▁Buch  ...   \n",
              "Word IDs  None       0           1  1    2     3     4   4    4      5  ...   \n",
              "\n",
              "           15 16   17      18   19    20  21  22  23    24  \n",
              "Tokens    ▁Wo  i  wod  schaft  ▁Po  mmer   n   ▁   .  </s>  \n",
              "Word IDs    9  9    9       9   10    10  10  11  11  None  \n",
              "\n",
              "[2 rows x 25 columns]"
            ],
            "text/html": [
              "\n",
              "  <div id=\"df-5a56713f-d0f6-430a-be0d-5bb0df84b70b\">\n",
              "    <div class=\"colab-df-container\">\n",
              "      <div>\n",
              "<style scoped>\n",
              "    .dataframe tbody tr th:only-of-type {\n",
              "        vertical-align: middle;\n",
              "    }\n",
              "\n",
              "    .dataframe tbody tr th {\n",
              "        vertical-align: top;\n",
              "    }\n",
              "\n",
              "    .dataframe thead th {\n",
              "        text-align: right;\n",
              "    }\n",
              "</style>\n",
              "<table border=\"1\" class=\"dataframe\">\n",
              "  <thead>\n",
              "    <tr style=\"text-align: right;\">\n",
              "      <th></th>\n",
              "      <th>0</th>\n",
              "      <th>1</th>\n",
              "      <th>2</th>\n",
              "      <th>3</th>\n",
              "      <th>4</th>\n",
              "      <th>5</th>\n",
              "      <th>6</th>\n",
              "      <th>7</th>\n",
              "      <th>8</th>\n",
              "      <th>9</th>\n",
              "      <th>...</th>\n",
              "      <th>15</th>\n",
              "      <th>16</th>\n",
              "      <th>17</th>\n",
              "      <th>18</th>\n",
              "      <th>19</th>\n",
              "      <th>20</th>\n",
              "      <th>21</th>\n",
              "      <th>22</th>\n",
              "      <th>23</th>\n",
              "      <th>24</th>\n",
              "    </tr>\n",
              "  </thead>\n",
              "  <tbody>\n",
              "    <tr>\n",
              "      <th>Tokens</th>\n",
              "      <td>&lt;s&gt;</td>\n",
              "      <td>▁2.000</td>\n",
              "      <td>▁Einwohner</td>\n",
              "      <td>n</td>\n",
              "      <td>▁an</td>\n",
              "      <td>▁der</td>\n",
              "      <td>▁Dan</td>\n",
              "      <td>zi</td>\n",
              "      <td>ger</td>\n",
              "      <td>▁Buch</td>\n",
              "      <td>...</td>\n",
              "      <td>▁Wo</td>\n",
              "      <td>i</td>\n",
              "      <td>wod</td>\n",
              "      <td>schaft</td>\n",
              "      <td>▁Po</td>\n",
              "      <td>mmer</td>\n",
              "      <td>n</td>\n",
              "      <td>▁</td>\n",
              "      <td>.</td>\n",
              "      <td>&lt;/s&gt;</td>\n",
              "    </tr>\n",
              "    <tr>\n",
              "      <th>Word IDs</th>\n",
              "      <td>None</td>\n",
              "      <td>0</td>\n",
              "      <td>1</td>\n",
              "      <td>1</td>\n",
              "      <td>2</td>\n",
              "      <td>3</td>\n",
              "      <td>4</td>\n",
              "      <td>4</td>\n",
              "      <td>4</td>\n",
              "      <td>5</td>\n",
              "      <td>...</td>\n",
              "      <td>9</td>\n",
              "      <td>9</td>\n",
              "      <td>9</td>\n",
              "      <td>9</td>\n",
              "      <td>10</td>\n",
              "      <td>10</td>\n",
              "      <td>10</td>\n",
              "      <td>11</td>\n",
              "      <td>11</td>\n",
              "      <td>None</td>\n",
              "    </tr>\n",
              "  </tbody>\n",
              "</table>\n",
              "<p>2 rows × 25 columns</p>\n",
              "</div>\n",
              "      <button class=\"colab-df-convert\" onclick=\"convertToInteractive('df-5a56713f-d0f6-430a-be0d-5bb0df84b70b')\"\n",
              "              title=\"Convert this dataframe to an interactive table.\"\n",
              "              style=\"display:none;\">\n",
              "        \n",
              "  <svg xmlns=\"http://www.w3.org/2000/svg\" height=\"24px\"viewBox=\"0 0 24 24\"\n",
              "       width=\"24px\">\n",
              "    <path d=\"M0 0h24v24H0V0z\" fill=\"none\"/>\n",
              "    <path d=\"M18.56 5.44l.94 2.06.94-2.06 2.06-.94-2.06-.94-.94-2.06-.94 2.06-2.06.94zm-11 1L8.5 8.5l.94-2.06 2.06-.94-2.06-.94L8.5 2.5l-.94 2.06-2.06.94zm10 10l.94 2.06.94-2.06 2.06-.94-2.06-.94-.94-2.06-.94 2.06-2.06.94z\"/><path d=\"M17.41 7.96l-1.37-1.37c-.4-.4-.92-.59-1.43-.59-.52 0-1.04.2-1.43.59L10.3 9.45l-7.72 7.72c-.78.78-.78 2.05 0 2.83L4 21.41c.39.39.9.59 1.41.59.51 0 1.02-.2 1.41-.59l7.78-7.78 2.81-2.81c.8-.78.8-2.07 0-2.86zM5.41 20L4 18.59l7.72-7.72 1.47 1.35L5.41 20z\"/>\n",
              "  </svg>\n",
              "      </button>\n",
              "      \n",
              "  <style>\n",
              "    .colab-df-container {\n",
              "      display:flex;\n",
              "      flex-wrap:wrap;\n",
              "      gap: 12px;\n",
              "    }\n",
              "\n",
              "    .colab-df-convert {\n",
              "      background-color: #E8F0FE;\n",
              "      border: none;\n",
              "      border-radius: 50%;\n",
              "      cursor: pointer;\n",
              "      display: none;\n",
              "      fill: #1967D2;\n",
              "      height: 32px;\n",
              "      padding: 0 0 0 0;\n",
              "      width: 32px;\n",
              "    }\n",
              "\n",
              "    .colab-df-convert:hover {\n",
              "      background-color: #E2EBFA;\n",
              "      box-shadow: 0px 1px 2px rgba(60, 64, 67, 0.3), 0px 1px 3px 1px rgba(60, 64, 67, 0.15);\n",
              "      fill: #174EA6;\n",
              "    }\n",
              "\n",
              "    [theme=dark] .colab-df-convert {\n",
              "      background-color: #3B4455;\n",
              "      fill: #D2E3FC;\n",
              "    }\n",
              "\n",
              "    [theme=dark] .colab-df-convert:hover {\n",
              "      background-color: #434B5C;\n",
              "      box-shadow: 0px 1px 3px 1px rgba(0, 0, 0, 0.15);\n",
              "      filter: drop-shadow(0px 1px 2px rgba(0, 0, 0, 0.3));\n",
              "      fill: #FFFFFF;\n",
              "    }\n",
              "  </style>\n",
              "\n",
              "      <script>\n",
              "        const buttonEl =\n",
              "          document.querySelector('#df-5a56713f-d0f6-430a-be0d-5bb0df84b70b button.colab-df-convert');\n",
              "        buttonEl.style.display =\n",
              "          google.colab.kernel.accessAllowed ? 'block' : 'none';\n",
              "\n",
              "        async function convertToInteractive(key) {\n",
              "          const element = document.querySelector('#df-5a56713f-d0f6-430a-be0d-5bb0df84b70b');\n",
              "          const dataTable =\n",
              "            await google.colab.kernel.invokeFunction('convertToInteractive',\n",
              "                                                     [key], {});\n",
              "          if (!dataTable) return;\n",
              "\n",
              "          const docLinkHtml = 'Like what you see? Visit the ' +\n",
              "            '<a target=\"_blank\" href=https://colab.research.google.com/notebooks/data_table.ipynb>data table notebook</a>'\n",
              "            + ' to learn more about interactive tables.';\n",
              "          element.innerHTML = '';\n",
              "          dataTable['output_type'] = 'display_data';\n",
              "          await google.colab.output.renderOutput(dataTable, element);\n",
              "          const docLink = document.createElement('div');\n",
              "          docLink.innerHTML = docLinkHtml;\n",
              "          element.appendChild(docLink);\n",
              "        }\n",
              "      </script>\n",
              "    </div>\n",
              "  </div>\n",
              "  "
            ]
          },
          "metadata": {},
          "execution_count": 79
        }
      ]
    },
    {
      "cell_type": "markdown",
      "source": [
        "Let’s set –100 as the label for the special tokens and the subwords we wish to mask during training:"
      ],
      "metadata": {
        "id": "fbT6mK7b_2iC"
      }
    },
    {
      "cell_type": "code",
      "source": [
        "previous_word_idx = None\n",
        "label_ids = []\n",
        "\n",
        "for word_idx in word_ids:\n",
        "    if word_idx is None or word_idx == previous_word_idx:\n",
        "        label_ids.append(-100)\n",
        "    elif word_idx != previous_word_idx:\n",
        "        label_ids.append(labels[word_idx])\n",
        "    previous_word_idx = word_idx\n",
        "\n",
        "labels = [index2tag[l] if l != -100 else \"IGN\" for l in label_ids]\n",
        "index = [\"Tokens\", \"Word IDs\", \"Label IDs\", \"Labels\"]"
      ],
      "metadata": {
        "id": "IzVqIb9OADja"
      },
      "execution_count": 80,
      "outputs": []
    },
    {
      "cell_type": "code",
      "source": [
        "pd.DataFrame([tokens, word_ids, label_ids, labels], index=index)"
      ],
      "metadata": {
        "colab": {
          "base_uri": "https://localhost:8080/",
          "height": 204
        },
        "id": "vljtY5BaAHEZ",
        "outputId": "5f254dbe-8eea-4a4e-cdb5-1e24f08366ce"
      },
      "execution_count": 81,
      "outputs": [
        {
          "output_type": "execute_result",
          "data": {
            "text/plain": [
              "             0       1           2     3    4     5      6     7     8   \\\n",
              "Tokens      <s>  ▁2.000  ▁Einwohner     n  ▁an  ▁der   ▁Dan    zi   ger   \n",
              "Word IDs   None       0           1     1    2     3      4     4     4   \n",
              "Label IDs  -100       0           0  -100    0     0      5  -100  -100   \n",
              "Labels      IGN       O           O   IGN    O     O  B-LOC   IGN   IGN   \n",
              "\n",
              "              9   ...     15    16    17      18     19    20    21  22    23  \\\n",
              "Tokens     ▁Buch  ...    ▁Wo     i   wod  schaft    ▁Po  mmer     n   ▁     .   \n",
              "Word IDs       5  ...      9     9     9       9     10    10    10  11    11   \n",
              "Label IDs      6  ...      5  -100  -100    -100      6  -100  -100   0  -100   \n",
              "Labels     I-LOC  ...  B-LOC   IGN   IGN     IGN  I-LOC   IGN   IGN   O   IGN   \n",
              "\n",
              "             24  \n",
              "Tokens     </s>  \n",
              "Word IDs   None  \n",
              "Label IDs  -100  \n",
              "Labels      IGN  \n",
              "\n",
              "[4 rows x 25 columns]"
            ],
            "text/html": [
              "\n",
              "  <div id=\"df-50db192c-c090-4250-8e5b-ed273c343c27\">\n",
              "    <div class=\"colab-df-container\">\n",
              "      <div>\n",
              "<style scoped>\n",
              "    .dataframe tbody tr th:only-of-type {\n",
              "        vertical-align: middle;\n",
              "    }\n",
              "\n",
              "    .dataframe tbody tr th {\n",
              "        vertical-align: top;\n",
              "    }\n",
              "\n",
              "    .dataframe thead th {\n",
              "        text-align: right;\n",
              "    }\n",
              "</style>\n",
              "<table border=\"1\" class=\"dataframe\">\n",
              "  <thead>\n",
              "    <tr style=\"text-align: right;\">\n",
              "      <th></th>\n",
              "      <th>0</th>\n",
              "      <th>1</th>\n",
              "      <th>2</th>\n",
              "      <th>3</th>\n",
              "      <th>4</th>\n",
              "      <th>5</th>\n",
              "      <th>6</th>\n",
              "      <th>7</th>\n",
              "      <th>8</th>\n",
              "      <th>9</th>\n",
              "      <th>...</th>\n",
              "      <th>15</th>\n",
              "      <th>16</th>\n",
              "      <th>17</th>\n",
              "      <th>18</th>\n",
              "      <th>19</th>\n",
              "      <th>20</th>\n",
              "      <th>21</th>\n",
              "      <th>22</th>\n",
              "      <th>23</th>\n",
              "      <th>24</th>\n",
              "    </tr>\n",
              "  </thead>\n",
              "  <tbody>\n",
              "    <tr>\n",
              "      <th>Tokens</th>\n",
              "      <td>&lt;s&gt;</td>\n",
              "      <td>▁2.000</td>\n",
              "      <td>▁Einwohner</td>\n",
              "      <td>n</td>\n",
              "      <td>▁an</td>\n",
              "      <td>▁der</td>\n",
              "      <td>▁Dan</td>\n",
              "      <td>zi</td>\n",
              "      <td>ger</td>\n",
              "      <td>▁Buch</td>\n",
              "      <td>...</td>\n",
              "      <td>▁Wo</td>\n",
              "      <td>i</td>\n",
              "      <td>wod</td>\n",
              "      <td>schaft</td>\n",
              "      <td>▁Po</td>\n",
              "      <td>mmer</td>\n",
              "      <td>n</td>\n",
              "      <td>▁</td>\n",
              "      <td>.</td>\n",
              "      <td>&lt;/s&gt;</td>\n",
              "    </tr>\n",
              "    <tr>\n",
              "      <th>Word IDs</th>\n",
              "      <td>None</td>\n",
              "      <td>0</td>\n",
              "      <td>1</td>\n",
              "      <td>1</td>\n",
              "      <td>2</td>\n",
              "      <td>3</td>\n",
              "      <td>4</td>\n",
              "      <td>4</td>\n",
              "      <td>4</td>\n",
              "      <td>5</td>\n",
              "      <td>...</td>\n",
              "      <td>9</td>\n",
              "      <td>9</td>\n",
              "      <td>9</td>\n",
              "      <td>9</td>\n",
              "      <td>10</td>\n",
              "      <td>10</td>\n",
              "      <td>10</td>\n",
              "      <td>11</td>\n",
              "      <td>11</td>\n",
              "      <td>None</td>\n",
              "    </tr>\n",
              "    <tr>\n",
              "      <th>Label IDs</th>\n",
              "      <td>-100</td>\n",
              "      <td>0</td>\n",
              "      <td>0</td>\n",
              "      <td>-100</td>\n",
              "      <td>0</td>\n",
              "      <td>0</td>\n",
              "      <td>5</td>\n",
              "      <td>-100</td>\n",
              "      <td>-100</td>\n",
              "      <td>6</td>\n",
              "      <td>...</td>\n",
              "      <td>5</td>\n",
              "      <td>-100</td>\n",
              "      <td>-100</td>\n",
              "      <td>-100</td>\n",
              "      <td>6</td>\n",
              "      <td>-100</td>\n",
              "      <td>-100</td>\n",
              "      <td>0</td>\n",
              "      <td>-100</td>\n",
              "      <td>-100</td>\n",
              "    </tr>\n",
              "    <tr>\n",
              "      <th>Labels</th>\n",
              "      <td>IGN</td>\n",
              "      <td>O</td>\n",
              "      <td>O</td>\n",
              "      <td>IGN</td>\n",
              "      <td>O</td>\n",
              "      <td>O</td>\n",
              "      <td>B-LOC</td>\n",
              "      <td>IGN</td>\n",
              "      <td>IGN</td>\n",
              "      <td>I-LOC</td>\n",
              "      <td>...</td>\n",
              "      <td>B-LOC</td>\n",
              "      <td>IGN</td>\n",
              "      <td>IGN</td>\n",
              "      <td>IGN</td>\n",
              "      <td>I-LOC</td>\n",
              "      <td>IGN</td>\n",
              "      <td>IGN</td>\n",
              "      <td>O</td>\n",
              "      <td>IGN</td>\n",
              "      <td>IGN</td>\n",
              "    </tr>\n",
              "  </tbody>\n",
              "</table>\n",
              "<p>4 rows × 25 columns</p>\n",
              "</div>\n",
              "      <button class=\"colab-df-convert\" onclick=\"convertToInteractive('df-50db192c-c090-4250-8e5b-ed273c343c27')\"\n",
              "              title=\"Convert this dataframe to an interactive table.\"\n",
              "              style=\"display:none;\">\n",
              "        \n",
              "  <svg xmlns=\"http://www.w3.org/2000/svg\" height=\"24px\"viewBox=\"0 0 24 24\"\n",
              "       width=\"24px\">\n",
              "    <path d=\"M0 0h24v24H0V0z\" fill=\"none\"/>\n",
              "    <path d=\"M18.56 5.44l.94 2.06.94-2.06 2.06-.94-2.06-.94-.94-2.06-.94 2.06-2.06.94zm-11 1L8.5 8.5l.94-2.06 2.06-.94-2.06-.94L8.5 2.5l-.94 2.06-2.06.94zm10 10l.94 2.06.94-2.06 2.06-.94-2.06-.94-.94-2.06-.94 2.06-2.06.94z\"/><path d=\"M17.41 7.96l-1.37-1.37c-.4-.4-.92-.59-1.43-.59-.52 0-1.04.2-1.43.59L10.3 9.45l-7.72 7.72c-.78.78-.78 2.05 0 2.83L4 21.41c.39.39.9.59 1.41.59.51 0 1.02-.2 1.41-.59l7.78-7.78 2.81-2.81c.8-.78.8-2.07 0-2.86zM5.41 20L4 18.59l7.72-7.72 1.47 1.35L5.41 20z\"/>\n",
              "  </svg>\n",
              "      </button>\n",
              "      \n",
              "  <style>\n",
              "    .colab-df-container {\n",
              "      display:flex;\n",
              "      flex-wrap:wrap;\n",
              "      gap: 12px;\n",
              "    }\n",
              "\n",
              "    .colab-df-convert {\n",
              "      background-color: #E8F0FE;\n",
              "      border: none;\n",
              "      border-radius: 50%;\n",
              "      cursor: pointer;\n",
              "      display: none;\n",
              "      fill: #1967D2;\n",
              "      height: 32px;\n",
              "      padding: 0 0 0 0;\n",
              "      width: 32px;\n",
              "    }\n",
              "\n",
              "    .colab-df-convert:hover {\n",
              "      background-color: #E2EBFA;\n",
              "      box-shadow: 0px 1px 2px rgba(60, 64, 67, 0.3), 0px 1px 3px 1px rgba(60, 64, 67, 0.15);\n",
              "      fill: #174EA6;\n",
              "    }\n",
              "\n",
              "    [theme=dark] .colab-df-convert {\n",
              "      background-color: #3B4455;\n",
              "      fill: #D2E3FC;\n",
              "    }\n",
              "\n",
              "    [theme=dark] .colab-df-convert:hover {\n",
              "      background-color: #434B5C;\n",
              "      box-shadow: 0px 1px 3px 1px rgba(0, 0, 0, 0.15);\n",
              "      filter: drop-shadow(0px 1px 2px rgba(0, 0, 0, 0.3));\n",
              "      fill: #FFFFFF;\n",
              "    }\n",
              "  </style>\n",
              "\n",
              "      <script>\n",
              "        const buttonEl =\n",
              "          document.querySelector('#df-50db192c-c090-4250-8e5b-ed273c343c27 button.colab-df-convert');\n",
              "        buttonEl.style.display =\n",
              "          google.colab.kernel.accessAllowed ? 'block' : 'none';\n",
              "\n",
              "        async function convertToInteractive(key) {\n",
              "          const element = document.querySelector('#df-50db192c-c090-4250-8e5b-ed273c343c27');\n",
              "          const dataTable =\n",
              "            await google.colab.kernel.invokeFunction('convertToInteractive',\n",
              "                                                     [key], {});\n",
              "          if (!dataTable) return;\n",
              "\n",
              "          const docLinkHtml = 'Like what you see? Visit the ' +\n",
              "            '<a target=\"_blank\" href=https://colab.research.google.com/notebooks/data_table.ipynb>data table notebook</a>'\n",
              "            + ' to learn more about interactive tables.';\n",
              "          element.innerHTML = '';\n",
              "          dataTable['output_type'] = 'display_data';\n",
              "          await google.colab.output.renderOutput(dataTable, element);\n",
              "          const docLink = document.createElement('div');\n",
              "          docLink.innerHTML = docLinkHtml;\n",
              "          element.appendChild(docLink);\n",
              "        }\n",
              "      </script>\n",
              "    </div>\n",
              "  </div>\n",
              "  "
            ]
          },
          "metadata": {},
          "execution_count": 81
        }
      ]
    },
    {
      "cell_type": "code",
      "source": [
        "# Wrap up all previous steps\n",
        "\n",
        "def tokenize_and_align_labels(examples):\n",
        "    tokenized_inputs = xlmr_tokenizer(examples[\"tokens\"], truncation=True, \n",
        "                                      is_split_into_words=True)\n",
        "    labels = []\n",
        "    for idx, label in enumerate(examples[\"ner_tags\"]):\n",
        "        word_ids = tokenized_inputs.word_ids(batch_index=idx)\n",
        "        previous_word_idx = None\n",
        "        label_ids = []\n",
        "        for word_idx in word_ids:\n",
        "            if word_idx is None or word_idx == previous_word_idx:\n",
        "                label_ids.append(-100)\n",
        "            else:\n",
        "                label_ids.append(label[word_idx])\n",
        "            previous_word_idx = word_idx\n",
        "        labels.append(label_ids)\n",
        "    tokenized_inputs[\"labels\"] = labels\n",
        "    return tokenized_inputs"
      ],
      "metadata": {
        "id": "vnjfEHBYArjn"
      },
      "execution_count": 82,
      "outputs": []
    },
    {
      "cell_type": "markdown",
      "source": [
        "Tokenize our dataset"
      ],
      "metadata": {
        "id": "UBWFPg3kXo7g"
      }
    },
    {
      "cell_type": "code",
      "source": [
        "def encode_panx_dataset(corpus):\n",
        "    return corpus.map(tokenize_and_align_labels, batched=True,\n",
        "                      remove_columns=['langs', 'ner_tags', 'tokens'])"
      ],
      "metadata": {
        "id": "ncUk0u3zBDGD"
      },
      "execution_count": 83,
      "outputs": []
    },
    {
      "cell_type": "code",
      "source": [
        "panx_de_encoded = encode_panx_dataset(panx_ch[\"de\"])"
      ],
      "metadata": {
        "colab": {
          "base_uri": "https://localhost:8080/",
          "height": 104,
          "referenced_widgets": [
            "148b21f0bbc642088dee58a38bee88b8",
            "e5ed7f4dcb674d4bb2a3489a97caadb5",
            "3ada9281a09b41b9ae2526dd7c85028e",
            "aa5dfb70e61f49b6a6e93cb974c9b15d",
            "620fd7ccd979416b97f588408c7b558b",
            "e4a6da93334c45e5bb73f811664f7523",
            "de86fa04ad6846c98275fa50d0cf1329",
            "ec1771587c48412faa4cda431a61c6fa",
            "a5ccd8f432a74c0c93d94e86eec8e030",
            "be51459dc42a4114a3f3f7a6642e5078",
            "48fd4287fdd84df0955bae54fa7a4342"
          ]
        },
        "id": "ubZgs3v2BJ61",
        "outputId": "31b406e0-c62c-4b4a-ba2c-b6c1ab2968f8"
      },
      "execution_count": 84,
      "outputs": [
        {
          "output_type": "stream",
          "name": "stderr",
          "text": [
            "Loading cached processed dataset at /root/.cache/huggingface/datasets/xtreme/PAN-X.de/1.0.0/349258adc25bb45e47de193222f95e68a44f7a7ab53c4283b3f007208a11bf7e/cache-0ae2a69cc1ea9b3d.arrow\n"
          ]
        },
        {
          "output_type": "display_data",
          "data": {
            "text/plain": [
              "  0%|          | 0/7 [00:00<?, ?ba/s]"
            ],
            "application/vnd.jupyter.widget-view+json": {
              "version_major": 2,
              "version_minor": 0,
              "model_id": "148b21f0bbc642088dee58a38bee88b8"
            }
          },
          "metadata": {}
        },
        {
          "output_type": "stream",
          "name": "stderr",
          "text": [
            "Loading cached processed dataset at /root/.cache/huggingface/datasets/xtreme/PAN-X.de/1.0.0/349258adc25bb45e47de193222f95e68a44f7a7ab53c4283b3f007208a11bf7e/cache-b9faf06560e2497d.arrow\n"
          ]
        }
      ]
    },
    {
      "cell_type": "markdown",
      "source": [
        "### Performance Measures"
      ],
      "metadata": {
        "id": "woAioyojBNFm"
      }
    },
    {
      "cell_type": "code",
      "source": [
        "from seqeval.metrics import classification_report\n",
        "from seqeval.metrics import f1_score\n",
        "import numpy as np\n",
        "\n",
        "from transformers import DataCollatorForTokenClassification\n",
        "from transformers import Trainer"
      ],
      "metadata": {
        "id": "dax3W9JwCpI8"
      },
      "execution_count": 85,
      "outputs": []
    },
    {
      "cell_type": "code",
      "source": [
        "# Just minimal example\n",
        "y_true = [[\"O\", \"O\", \"O\", \"B-MISC\", \"I-MISC\", \"I-MISC\", \"O\"],\n",
        "          [\"B-PER\", \"I-PER\", \"O\"]]\n",
        "y_pred = [[\"O\", \"O\", \"B-MISC\", \"I-MISC\", \"I-MISC\", \"I-MISC\", \"O\"],\n",
        "          [\"B-PER\", \"I-PER\", \"O\"]]\n",
        "print(classification_report(y_true, y_pred))"
      ],
      "metadata": {
        "colab": {
          "base_uri": "https://localhost:8080/"
        },
        "id": "W8CN0WBiCp7o",
        "outputId": "887c7970-2355-4930-a889-f0750b8ef4ba"
      },
      "execution_count": 86,
      "outputs": [
        {
          "output_type": "stream",
          "name": "stdout",
          "text": [
            "              precision    recall  f1-score   support\n",
            "\n",
            "        MISC       0.00      0.00      0.00         1\n",
            "         PER       1.00      1.00      1.00         1\n",
            "\n",
            "   micro avg       0.50      0.50      0.50         2\n",
            "   macro avg       0.50      0.50      0.50         2\n",
            "weighted avg       0.50      0.50      0.50         2\n",
            "\n"
          ]
        }
      ]
    },
    {
      "cell_type": "markdown",
      "source": [
        "Ok, we need a function that can take the outputs of the model\n",
        "and convert them into the lists that seqeval expects."
      ],
      "metadata": {
        "id": "BPD9m4kxYcrY"
      }
    },
    {
      "cell_type": "code",
      "source": [
        "def align_predictions(predictions, label_ids):\n",
        "    preds = np.argmax(predictions, axis=2)\n",
        "    batch_size, seq_len = preds.shape\n",
        "    labels_list, preds_list = [], []\n",
        "\n",
        "    for batch_idx in range(batch_size):\n",
        "        example_labels, example_preds = [], []\n",
        "        for seq_idx in range(seq_len):\n",
        "            # Ignore label IDs = -100\n",
        "            if label_ids[batch_idx, seq_idx] != -100:\n",
        "                example_labels.append(index2tag[label_ids[batch_idx][seq_idx]])\n",
        "                example_preds.append(index2tag[preds[batch_idx][seq_idx]])\n",
        "\n",
        "        labels_list.append(example_labels)\n",
        "        preds_list.append(example_preds)\n",
        "\n",
        "    return preds_list, labels_list"
      ],
      "metadata": {
        "id": "wo2J69QxCp-D"
      },
      "execution_count": 87,
      "outputs": []
    },
    {
      "cell_type": "markdown",
      "source": [
        "### Fine-Tuning XLM-RoBERTa"
      ],
      "metadata": {
        "id": "vThCJYAEYayK"
      }
    },
    {
      "cell_type": "code",
      "source": [
        "num_epochs = 3\n",
        "batch_size = 24\n",
        "logging_steps = len(panx_de_encoded[\"train\"]) // batch_size\n",
        "model_name = f\"{xlmr_model_name}-finetuned-panx-de\"\n",
        "\n",
        "training_args = TrainingArguments(output_dir=model_name, \n",
        "                                  log_level=\"error\", \n",
        "                                  num_train_epochs=num_epochs,\n",
        "                                  per_device_train_batch_size=batch_size,\n",
        "                                  per_device_eval_batch_size=batch_size, \n",
        "                                  evaluation_strategy=\"epoch\",\n",
        "                                  save_steps=1e6, \n",
        "                                  weight_decay=0.01, \n",
        "                                  disable_tqdm=False,\n",
        "                                  logging_steps=logging_steps, \n",
        "                                  push_to_hub=False)"
      ],
      "metadata": {
        "id": "L4DwthfbY41v"
      },
      "execution_count": 88,
      "outputs": []
    },
    {
      "cell_type": "markdown",
      "source": [
        "F1 scorer"
      ],
      "metadata": {
        "id": "xIu_8f1gZ0Vj"
      }
    },
    {
      "cell_type": "code",
      "source": [
        "def compute_metrics(eval_pred):\n",
        "    y_pred, y_true = align_predictions(eval_pred.predictions, \n",
        "                                       eval_pred.label_ids)\n",
        "    return {\"f1\": f1_score(y_true, y_pred)}"
      ],
      "metadata": {
        "id": "GZSbhhCXZaO7"
      },
      "execution_count": 89,
      "outputs": []
    },
    {
      "cell_type": "markdown",
      "source": [
        "The final step is to define a data collator so we can pad each input sequence to the\n",
        "largest sequence length in a batch. Transformers provides a dedicated data collator\n",
        "for token classification that will pad the labels along with the inputs:"
      ],
      "metadata": {
        "id": "6j1N4DneZqBC"
      }
    },
    {
      "cell_type": "code",
      "source": [
        "data_collator = DataCollatorForTokenClassification(xlmr_tokenizer)"
      ],
      "metadata": {
        "id": "3ZsaVyrSZy5c"
      },
      "execution_count": 90,
      "outputs": []
    },
    {
      "cell_type": "markdown",
      "source": [
        "Padding the labels is necessary because, unlike in a text classification task, the labels\n",
        "are also sequences. One important detail here is that the label sequences are padded\n",
        "with the value –100, which, as we’ve seen, is ignored by PyTorch loss functions."
      ],
      "metadata": {
        "id": "PnUZJeoyZ7KY"
      }
    },
    {
      "cell_type": "markdown",
      "source": [
        "We will train several models, so let's simplify model initializing step"
      ],
      "metadata": {
        "id": "MjwERzN6aDNt"
      }
    },
    {
      "cell_type": "code",
      "source": [
        "def model_init():\n",
        "    return (XLMRobertaForTokenClassification\n",
        "            .from_pretrained(xlmr_model_name, config=xlmr_config)\n",
        "            .to(device))"
      ],
      "metadata": {
        "id": "FV-G0LsuZ-Kp"
      },
      "execution_count": 91,
      "outputs": []
    },
    {
      "cell_type": "code",
      "source": [
        "trainer = Trainer(model_init=model_init, \n",
        "                  args=training_args,\n",
        "                  data_collator=data_collator, \n",
        "                  compute_metrics=compute_metrics,\n",
        "                  train_dataset=panx_de_encoded[\"train\"],\n",
        "                  eval_dataset=panx_de_encoded[\"validation\"],\n",
        "                  tokenizer=xlmr_tokenizer)"
      ],
      "metadata": {
        "id": "VmjYjSqSaWzL"
      },
      "execution_count": 92,
      "outputs": []
    },
    {
      "cell_type": "code",
      "source": [
        "trainer.train()"
      ],
      "metadata": {
        "colab": {
          "base_uri": "https://localhost:8080/",
          "height": 130
        },
        "id": "B8nRxzYIatrx",
        "outputId": "1dcaf122-3f59-4840-ee67-1c1fc178023a"
      },
      "execution_count": null,
      "outputs": [
        {
          "output_type": "stream",
          "name": "stderr",
          "text": [
            "/usr/local/lib/python3.7/dist-packages/transformers/optimization.py:309: FutureWarning: This implementation of AdamW is deprecated and will be removed in a future version. Use the PyTorch implementation torch.optim.AdamW instead, or set `no_deprecation_warning=True` to disable this warning\n",
            "  FutureWarning,\n"
          ]
        },
        {
          "output_type": "display_data",
          "data": {
            "text/plain": [
              "<IPython.core.display.HTML object>"
            ],
            "text/html": [
              "\n",
              "    <div>\n",
              "      \n",
              "      <progress value='77' max='1575' style='width:300px; height:20px; vertical-align: middle;'></progress>\n",
              "      [  77/1575 00:23 < 07:57, 3.14 it/s, Epoch 0.14/3]\n",
              "    </div>\n",
              "    <table border=\"1\" class=\"dataframe\">\n",
              "  <thead>\n",
              " <tr style=\"text-align: left;\">\n",
              "      <th>Epoch</th>\n",
              "      <th>Training Loss</th>\n",
              "      <th>Validation Loss</th>\n",
              "    </tr>\n",
              "  </thead>\n",
              "  <tbody>\n",
              "  </tbody>\n",
              "</table><p>"
            ]
          },
          "metadata": {}
        }
      ]
    },
    {
      "cell_type": "code",
      "source": [
        ""
      ],
      "metadata": {
        "id": "CO7iBE3pa9wM"
      },
      "execution_count": null,
      "outputs": []
    }
  ]
}
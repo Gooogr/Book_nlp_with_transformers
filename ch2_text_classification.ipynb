{
  "nbformat": 4,
  "nbformat_minor": 0,
  "metadata": {
    "colab": {
      "name": "ch2_text_classification.ipynb",
      "provenance": [],
      "collapsed_sections": [],
      "authorship_tag": "ABX9TyNkaiOe6Ez4hsN0vX/IiIhn",
      "include_colab_link": true
    },
    "kernelspec": {
      "name": "python3",
      "display_name": "Python 3"
    },
    "language_info": {
      "name": "python"
    },
    "accelerator": "GPU",
    "widgets": {
      "application/vnd.jupyter.widget-state+json": {
        "2d12138d12d147009fd2c6fdc22b0289": {
          "model_module": "@jupyter-widgets/controls",
          "model_name": "HBoxModel",
          "model_module_version": "1.5.0",
          "state": {
            "_dom_classes": [],
            "_model_module": "@jupyter-widgets/controls",
            "_model_module_version": "1.5.0",
            "_model_name": "HBoxModel",
            "_view_count": null,
            "_view_module": "@jupyter-widgets/controls",
            "_view_module_version": "1.5.0",
            "_view_name": "HBoxView",
            "box_style": "",
            "children": [
              "IPY_MODEL_26b908201a7e424f8dbf1664462edbe3",
              "IPY_MODEL_2f15eec828ec467fab5391f9dcef78f1",
              "IPY_MODEL_fbbade9d660446dc895780151b030c28"
            ],
            "layout": "IPY_MODEL_e427e58a33c143d8ad4c9a01ebe8c710"
          }
        },
        "26b908201a7e424f8dbf1664462edbe3": {
          "model_module": "@jupyter-widgets/controls",
          "model_name": "HTMLModel",
          "model_module_version": "1.5.0",
          "state": {
            "_dom_classes": [],
            "_model_module": "@jupyter-widgets/controls",
            "_model_module_version": "1.5.0",
            "_model_name": "HTMLModel",
            "_view_count": null,
            "_view_module": "@jupyter-widgets/controls",
            "_view_module_version": "1.5.0",
            "_view_name": "HTMLView",
            "description": "",
            "description_tooltip": null,
            "layout": "IPY_MODEL_d9f3f888bb8047f8951c172cd0896ffb",
            "placeholder": "​",
            "style": "IPY_MODEL_f205a140fd5544a8beb4b69b7a90050b",
            "value": "Downloading builder script: "
          }
        },
        "2f15eec828ec467fab5391f9dcef78f1": {
          "model_module": "@jupyter-widgets/controls",
          "model_name": "FloatProgressModel",
          "model_module_version": "1.5.0",
          "state": {
            "_dom_classes": [],
            "_model_module": "@jupyter-widgets/controls",
            "_model_module_version": "1.5.0",
            "_model_name": "FloatProgressModel",
            "_view_count": null,
            "_view_module": "@jupyter-widgets/controls",
            "_view_module_version": "1.5.0",
            "_view_name": "ProgressView",
            "bar_style": "success",
            "description": "",
            "description_tooltip": null,
            "layout": "IPY_MODEL_1586b0b2c8c44d429d292b115db81cab",
            "max": 1655,
            "min": 0,
            "orientation": "horizontal",
            "style": "IPY_MODEL_026b08d756d647ed8d2b11b48c6240a5",
            "value": 1655
          }
        },
        "fbbade9d660446dc895780151b030c28": {
          "model_module": "@jupyter-widgets/controls",
          "model_name": "HTMLModel",
          "model_module_version": "1.5.0",
          "state": {
            "_dom_classes": [],
            "_model_module": "@jupyter-widgets/controls",
            "_model_module_version": "1.5.0",
            "_model_name": "HTMLModel",
            "_view_count": null,
            "_view_module": "@jupyter-widgets/controls",
            "_view_module_version": "1.5.0",
            "_view_name": "HTMLView",
            "description": "",
            "description_tooltip": null,
            "layout": "IPY_MODEL_46831df4ed904c0a9c4cd387a24ba045",
            "placeholder": "​",
            "style": "IPY_MODEL_4017c6fcc66c4234b658655f9b26f00c",
            "value": " 3.62k/? [00:00&lt;00:00, 71.6kB/s]"
          }
        },
        "e427e58a33c143d8ad4c9a01ebe8c710": {
          "model_module": "@jupyter-widgets/base",
          "model_name": "LayoutModel",
          "model_module_version": "1.2.0",
          "state": {
            "_model_module": "@jupyter-widgets/base",
            "_model_module_version": "1.2.0",
            "_model_name": "LayoutModel",
            "_view_count": null,
            "_view_module": "@jupyter-widgets/base",
            "_view_module_version": "1.2.0",
            "_view_name": "LayoutView",
            "align_content": null,
            "align_items": null,
            "align_self": null,
            "border": null,
            "bottom": null,
            "display": null,
            "flex": null,
            "flex_flow": null,
            "grid_area": null,
            "grid_auto_columns": null,
            "grid_auto_flow": null,
            "grid_auto_rows": null,
            "grid_column": null,
            "grid_gap": null,
            "grid_row": null,
            "grid_template_areas": null,
            "grid_template_columns": null,
            "grid_template_rows": null,
            "height": null,
            "justify_content": null,
            "justify_items": null,
            "left": null,
            "margin": null,
            "max_height": null,
            "max_width": null,
            "min_height": null,
            "min_width": null,
            "object_fit": null,
            "object_position": null,
            "order": null,
            "overflow": null,
            "overflow_x": null,
            "overflow_y": null,
            "padding": null,
            "right": null,
            "top": null,
            "visibility": null,
            "width": null
          }
        },
        "d9f3f888bb8047f8951c172cd0896ffb": {
          "model_module": "@jupyter-widgets/base",
          "model_name": "LayoutModel",
          "model_module_version": "1.2.0",
          "state": {
            "_model_module": "@jupyter-widgets/base",
            "_model_module_version": "1.2.0",
            "_model_name": "LayoutModel",
            "_view_count": null,
            "_view_module": "@jupyter-widgets/base",
            "_view_module_version": "1.2.0",
            "_view_name": "LayoutView",
            "align_content": null,
            "align_items": null,
            "align_self": null,
            "border": null,
            "bottom": null,
            "display": null,
            "flex": null,
            "flex_flow": null,
            "grid_area": null,
            "grid_auto_columns": null,
            "grid_auto_flow": null,
            "grid_auto_rows": null,
            "grid_column": null,
            "grid_gap": null,
            "grid_row": null,
            "grid_template_areas": null,
            "grid_template_columns": null,
            "grid_template_rows": null,
            "height": null,
            "justify_content": null,
            "justify_items": null,
            "left": null,
            "margin": null,
            "max_height": null,
            "max_width": null,
            "min_height": null,
            "min_width": null,
            "object_fit": null,
            "object_position": null,
            "order": null,
            "overflow": null,
            "overflow_x": null,
            "overflow_y": null,
            "padding": null,
            "right": null,
            "top": null,
            "visibility": null,
            "width": null
          }
        },
        "f205a140fd5544a8beb4b69b7a90050b": {
          "model_module": "@jupyter-widgets/controls",
          "model_name": "DescriptionStyleModel",
          "model_module_version": "1.5.0",
          "state": {
            "_model_module": "@jupyter-widgets/controls",
            "_model_module_version": "1.5.0",
            "_model_name": "DescriptionStyleModel",
            "_view_count": null,
            "_view_module": "@jupyter-widgets/base",
            "_view_module_version": "1.2.0",
            "_view_name": "StyleView",
            "description_width": ""
          }
        },
        "1586b0b2c8c44d429d292b115db81cab": {
          "model_module": "@jupyter-widgets/base",
          "model_name": "LayoutModel",
          "model_module_version": "1.2.0",
          "state": {
            "_model_module": "@jupyter-widgets/base",
            "_model_module_version": "1.2.0",
            "_model_name": "LayoutModel",
            "_view_count": null,
            "_view_module": "@jupyter-widgets/base",
            "_view_module_version": "1.2.0",
            "_view_name": "LayoutView",
            "align_content": null,
            "align_items": null,
            "align_self": null,
            "border": null,
            "bottom": null,
            "display": null,
            "flex": null,
            "flex_flow": null,
            "grid_area": null,
            "grid_auto_columns": null,
            "grid_auto_flow": null,
            "grid_auto_rows": null,
            "grid_column": null,
            "grid_gap": null,
            "grid_row": null,
            "grid_template_areas": null,
            "grid_template_columns": null,
            "grid_template_rows": null,
            "height": null,
            "justify_content": null,
            "justify_items": null,
            "left": null,
            "margin": null,
            "max_height": null,
            "max_width": null,
            "min_height": null,
            "min_width": null,
            "object_fit": null,
            "object_position": null,
            "order": null,
            "overflow": null,
            "overflow_x": null,
            "overflow_y": null,
            "padding": null,
            "right": null,
            "top": null,
            "visibility": null,
            "width": null
          }
        },
        "026b08d756d647ed8d2b11b48c6240a5": {
          "model_module": "@jupyter-widgets/controls",
          "model_name": "ProgressStyleModel",
          "model_module_version": "1.5.0",
          "state": {
            "_model_module": "@jupyter-widgets/controls",
            "_model_module_version": "1.5.0",
            "_model_name": "ProgressStyleModel",
            "_view_count": null,
            "_view_module": "@jupyter-widgets/base",
            "_view_module_version": "1.2.0",
            "_view_name": "StyleView",
            "bar_color": null,
            "description_width": ""
          }
        },
        "46831df4ed904c0a9c4cd387a24ba045": {
          "model_module": "@jupyter-widgets/base",
          "model_name": "LayoutModel",
          "model_module_version": "1.2.0",
          "state": {
            "_model_module": "@jupyter-widgets/base",
            "_model_module_version": "1.2.0",
            "_model_name": "LayoutModel",
            "_view_count": null,
            "_view_module": "@jupyter-widgets/base",
            "_view_module_version": "1.2.0",
            "_view_name": "LayoutView",
            "align_content": null,
            "align_items": null,
            "align_self": null,
            "border": null,
            "bottom": null,
            "display": null,
            "flex": null,
            "flex_flow": null,
            "grid_area": null,
            "grid_auto_columns": null,
            "grid_auto_flow": null,
            "grid_auto_rows": null,
            "grid_column": null,
            "grid_gap": null,
            "grid_row": null,
            "grid_template_areas": null,
            "grid_template_columns": null,
            "grid_template_rows": null,
            "height": null,
            "justify_content": null,
            "justify_items": null,
            "left": null,
            "margin": null,
            "max_height": null,
            "max_width": null,
            "min_height": null,
            "min_width": null,
            "object_fit": null,
            "object_position": null,
            "order": null,
            "overflow": null,
            "overflow_x": null,
            "overflow_y": null,
            "padding": null,
            "right": null,
            "top": null,
            "visibility": null,
            "width": null
          }
        },
        "4017c6fcc66c4234b658655f9b26f00c": {
          "model_module": "@jupyter-widgets/controls",
          "model_name": "DescriptionStyleModel",
          "model_module_version": "1.5.0",
          "state": {
            "_model_module": "@jupyter-widgets/controls",
            "_model_module_version": "1.5.0",
            "_model_name": "DescriptionStyleModel",
            "_view_count": null,
            "_view_module": "@jupyter-widgets/base",
            "_view_module_version": "1.2.0",
            "_view_name": "StyleView",
            "description_width": ""
          }
        },
        "22ba53e2ef844bbf8d03f9c21e7f0f82": {
          "model_module": "@jupyter-widgets/controls",
          "model_name": "HBoxModel",
          "model_module_version": "1.5.0",
          "state": {
            "_dom_classes": [],
            "_model_module": "@jupyter-widgets/controls",
            "_model_module_version": "1.5.0",
            "_model_name": "HBoxModel",
            "_view_count": null,
            "_view_module": "@jupyter-widgets/controls",
            "_view_module_version": "1.5.0",
            "_view_name": "HBoxView",
            "box_style": "",
            "children": [
              "IPY_MODEL_25105ec816e742f4b70914ae4df4dff1",
              "IPY_MODEL_20d397ce88244828b2c28b578fea3936",
              "IPY_MODEL_9f2dcf30a23b45f5b56b2d01205be087"
            ],
            "layout": "IPY_MODEL_99cb19dcbade40bd9149110847b4b0b6"
          }
        },
        "25105ec816e742f4b70914ae4df4dff1": {
          "model_module": "@jupyter-widgets/controls",
          "model_name": "HTMLModel",
          "model_module_version": "1.5.0",
          "state": {
            "_dom_classes": [],
            "_model_module": "@jupyter-widgets/controls",
            "_model_module_version": "1.5.0",
            "_model_name": "HTMLModel",
            "_view_count": null,
            "_view_module": "@jupyter-widgets/controls",
            "_view_module_version": "1.5.0",
            "_view_name": "HTMLView",
            "description": "",
            "description_tooltip": null,
            "layout": "IPY_MODEL_1d71f25a45534c33ab57bdbaad7a604c",
            "placeholder": "​",
            "style": "IPY_MODEL_48901e945457418f800be10bdbd5b0ac",
            "value": "Downloading metadata: "
          }
        },
        "20d397ce88244828b2c28b578fea3936": {
          "model_module": "@jupyter-widgets/controls",
          "model_name": "FloatProgressModel",
          "model_module_version": "1.5.0",
          "state": {
            "_dom_classes": [],
            "_model_module": "@jupyter-widgets/controls",
            "_model_module_version": "1.5.0",
            "_model_name": "FloatProgressModel",
            "_view_count": null,
            "_view_module": "@jupyter-widgets/controls",
            "_view_module_version": "1.5.0",
            "_view_name": "ProgressView",
            "bar_style": "success",
            "description": "",
            "description_tooltip": null,
            "layout": "IPY_MODEL_eb779a94b23b442ebcc6071ff743ae91",
            "max": 1611,
            "min": 0,
            "orientation": "horizontal",
            "style": "IPY_MODEL_844ac5f7e59c4692b4e90cfe08cda2c8",
            "value": 1611
          }
        },
        "9f2dcf30a23b45f5b56b2d01205be087": {
          "model_module": "@jupyter-widgets/controls",
          "model_name": "HTMLModel",
          "model_module_version": "1.5.0",
          "state": {
            "_dom_classes": [],
            "_model_module": "@jupyter-widgets/controls",
            "_model_module_version": "1.5.0",
            "_model_name": "HTMLModel",
            "_view_count": null,
            "_view_module": "@jupyter-widgets/controls",
            "_view_module_version": "1.5.0",
            "_view_name": "HTMLView",
            "description": "",
            "description_tooltip": null,
            "layout": "IPY_MODEL_866cc90575244e89a2c98bc8ef5ef465",
            "placeholder": "​",
            "style": "IPY_MODEL_bcd98ab8fecb4e18a150bb19241d2fed",
            "value": " 3.28k/? [00:00&lt;00:00, 108kB/s]"
          }
        },
        "99cb19dcbade40bd9149110847b4b0b6": {
          "model_module": "@jupyter-widgets/base",
          "model_name": "LayoutModel",
          "model_module_version": "1.2.0",
          "state": {
            "_model_module": "@jupyter-widgets/base",
            "_model_module_version": "1.2.0",
            "_model_name": "LayoutModel",
            "_view_count": null,
            "_view_module": "@jupyter-widgets/base",
            "_view_module_version": "1.2.0",
            "_view_name": "LayoutView",
            "align_content": null,
            "align_items": null,
            "align_self": null,
            "border": null,
            "bottom": null,
            "display": null,
            "flex": null,
            "flex_flow": null,
            "grid_area": null,
            "grid_auto_columns": null,
            "grid_auto_flow": null,
            "grid_auto_rows": null,
            "grid_column": null,
            "grid_gap": null,
            "grid_row": null,
            "grid_template_areas": null,
            "grid_template_columns": null,
            "grid_template_rows": null,
            "height": null,
            "justify_content": null,
            "justify_items": null,
            "left": null,
            "margin": null,
            "max_height": null,
            "max_width": null,
            "min_height": null,
            "min_width": null,
            "object_fit": null,
            "object_position": null,
            "order": null,
            "overflow": null,
            "overflow_x": null,
            "overflow_y": null,
            "padding": null,
            "right": null,
            "top": null,
            "visibility": null,
            "width": null
          }
        },
        "1d71f25a45534c33ab57bdbaad7a604c": {
          "model_module": "@jupyter-widgets/base",
          "model_name": "LayoutModel",
          "model_module_version": "1.2.0",
          "state": {
            "_model_module": "@jupyter-widgets/base",
            "_model_module_version": "1.2.0",
            "_model_name": "LayoutModel",
            "_view_count": null,
            "_view_module": "@jupyter-widgets/base",
            "_view_module_version": "1.2.0",
            "_view_name": "LayoutView",
            "align_content": null,
            "align_items": null,
            "align_self": null,
            "border": null,
            "bottom": null,
            "display": null,
            "flex": null,
            "flex_flow": null,
            "grid_area": null,
            "grid_auto_columns": null,
            "grid_auto_flow": null,
            "grid_auto_rows": null,
            "grid_column": null,
            "grid_gap": null,
            "grid_row": null,
            "grid_template_areas": null,
            "grid_template_columns": null,
            "grid_template_rows": null,
            "height": null,
            "justify_content": null,
            "justify_items": null,
            "left": null,
            "margin": null,
            "max_height": null,
            "max_width": null,
            "min_height": null,
            "min_width": null,
            "object_fit": null,
            "object_position": null,
            "order": null,
            "overflow": null,
            "overflow_x": null,
            "overflow_y": null,
            "padding": null,
            "right": null,
            "top": null,
            "visibility": null,
            "width": null
          }
        },
        "48901e945457418f800be10bdbd5b0ac": {
          "model_module": "@jupyter-widgets/controls",
          "model_name": "DescriptionStyleModel",
          "model_module_version": "1.5.0",
          "state": {
            "_model_module": "@jupyter-widgets/controls",
            "_model_module_version": "1.5.0",
            "_model_name": "DescriptionStyleModel",
            "_view_count": null,
            "_view_module": "@jupyter-widgets/base",
            "_view_module_version": "1.2.0",
            "_view_name": "StyleView",
            "description_width": ""
          }
        },
        "eb779a94b23b442ebcc6071ff743ae91": {
          "model_module": "@jupyter-widgets/base",
          "model_name": "LayoutModel",
          "model_module_version": "1.2.0",
          "state": {
            "_model_module": "@jupyter-widgets/base",
            "_model_module_version": "1.2.0",
            "_model_name": "LayoutModel",
            "_view_count": null,
            "_view_module": "@jupyter-widgets/base",
            "_view_module_version": "1.2.0",
            "_view_name": "LayoutView",
            "align_content": null,
            "align_items": null,
            "align_self": null,
            "border": null,
            "bottom": null,
            "display": null,
            "flex": null,
            "flex_flow": null,
            "grid_area": null,
            "grid_auto_columns": null,
            "grid_auto_flow": null,
            "grid_auto_rows": null,
            "grid_column": null,
            "grid_gap": null,
            "grid_row": null,
            "grid_template_areas": null,
            "grid_template_columns": null,
            "grid_template_rows": null,
            "height": null,
            "justify_content": null,
            "justify_items": null,
            "left": null,
            "margin": null,
            "max_height": null,
            "max_width": null,
            "min_height": null,
            "min_width": null,
            "object_fit": null,
            "object_position": null,
            "order": null,
            "overflow": null,
            "overflow_x": null,
            "overflow_y": null,
            "padding": null,
            "right": null,
            "top": null,
            "visibility": null,
            "width": null
          }
        },
        "844ac5f7e59c4692b4e90cfe08cda2c8": {
          "model_module": "@jupyter-widgets/controls",
          "model_name": "ProgressStyleModel",
          "model_module_version": "1.5.0",
          "state": {
            "_model_module": "@jupyter-widgets/controls",
            "_model_module_version": "1.5.0",
            "_model_name": "ProgressStyleModel",
            "_view_count": null,
            "_view_module": "@jupyter-widgets/base",
            "_view_module_version": "1.2.0",
            "_view_name": "StyleView",
            "bar_color": null,
            "description_width": ""
          }
        },
        "866cc90575244e89a2c98bc8ef5ef465": {
          "model_module": "@jupyter-widgets/base",
          "model_name": "LayoutModel",
          "model_module_version": "1.2.0",
          "state": {
            "_model_module": "@jupyter-widgets/base",
            "_model_module_version": "1.2.0",
            "_model_name": "LayoutModel",
            "_view_count": null,
            "_view_module": "@jupyter-widgets/base",
            "_view_module_version": "1.2.0",
            "_view_name": "LayoutView",
            "align_content": null,
            "align_items": null,
            "align_self": null,
            "border": null,
            "bottom": null,
            "display": null,
            "flex": null,
            "flex_flow": null,
            "grid_area": null,
            "grid_auto_columns": null,
            "grid_auto_flow": null,
            "grid_auto_rows": null,
            "grid_column": null,
            "grid_gap": null,
            "grid_row": null,
            "grid_template_areas": null,
            "grid_template_columns": null,
            "grid_template_rows": null,
            "height": null,
            "justify_content": null,
            "justify_items": null,
            "left": null,
            "margin": null,
            "max_height": null,
            "max_width": null,
            "min_height": null,
            "min_width": null,
            "object_fit": null,
            "object_position": null,
            "order": null,
            "overflow": null,
            "overflow_x": null,
            "overflow_y": null,
            "padding": null,
            "right": null,
            "top": null,
            "visibility": null,
            "width": null
          }
        },
        "bcd98ab8fecb4e18a150bb19241d2fed": {
          "model_module": "@jupyter-widgets/controls",
          "model_name": "DescriptionStyleModel",
          "model_module_version": "1.5.0",
          "state": {
            "_model_module": "@jupyter-widgets/controls",
            "_model_module_version": "1.5.0",
            "_model_name": "DescriptionStyleModel",
            "_view_count": null,
            "_view_module": "@jupyter-widgets/base",
            "_view_module_version": "1.2.0",
            "_view_name": "StyleView",
            "description_width": ""
          }
        },
        "7785752e8826459ca34cb399b6a60432": {
          "model_module": "@jupyter-widgets/controls",
          "model_name": "HBoxModel",
          "model_module_version": "1.5.0",
          "state": {
            "_dom_classes": [],
            "_model_module": "@jupyter-widgets/controls",
            "_model_module_version": "1.5.0",
            "_model_name": "HBoxModel",
            "_view_count": null,
            "_view_module": "@jupyter-widgets/controls",
            "_view_module_version": "1.5.0",
            "_view_name": "HBoxView",
            "box_style": "",
            "children": [
              "IPY_MODEL_2c6e2b8d3edc4343983e43b3a4940a37",
              "IPY_MODEL_7d37c2fce4fe430eae2500c94760cf76",
              "IPY_MODEL_0b019b3cda29439094da22286b62aa11"
            ],
            "layout": "IPY_MODEL_67dc90a32c6c4359934a668a23960e4c"
          }
        },
        "2c6e2b8d3edc4343983e43b3a4940a37": {
          "model_module": "@jupyter-widgets/controls",
          "model_name": "HTMLModel",
          "model_module_version": "1.5.0",
          "state": {
            "_dom_classes": [],
            "_model_module": "@jupyter-widgets/controls",
            "_model_module_version": "1.5.0",
            "_model_name": "HTMLModel",
            "_view_count": null,
            "_view_module": "@jupyter-widgets/controls",
            "_view_module_version": "1.5.0",
            "_view_name": "HTMLView",
            "description": "",
            "description_tooltip": null,
            "layout": "IPY_MODEL_d33e6fdedb3843049639f297e589bed9",
            "placeholder": "​",
            "style": "IPY_MODEL_2969cc84d067437aae5bfccddef8b968",
            "value": "Downloading data: 100%"
          }
        },
        "7d37c2fce4fe430eae2500c94760cf76": {
          "model_module": "@jupyter-widgets/controls",
          "model_name": "FloatProgressModel",
          "model_module_version": "1.5.0",
          "state": {
            "_dom_classes": [],
            "_model_module": "@jupyter-widgets/controls",
            "_model_module_version": "1.5.0",
            "_model_name": "FloatProgressModel",
            "_view_count": null,
            "_view_module": "@jupyter-widgets/controls",
            "_view_module_version": "1.5.0",
            "_view_name": "ProgressView",
            "bar_style": "success",
            "description": "",
            "description_tooltip": null,
            "layout": "IPY_MODEL_c1e666efc49b43c3b0a56f7dbf29ebb9",
            "max": 1658616,
            "min": 0,
            "orientation": "horizontal",
            "style": "IPY_MODEL_4cad71c2fed04a7ab351d4440663cb32",
            "value": 1658616
          }
        },
        "0b019b3cda29439094da22286b62aa11": {
          "model_module": "@jupyter-widgets/controls",
          "model_name": "HTMLModel",
          "model_module_version": "1.5.0",
          "state": {
            "_dom_classes": [],
            "_model_module": "@jupyter-widgets/controls",
            "_model_module_version": "1.5.0",
            "_model_name": "HTMLModel",
            "_view_count": null,
            "_view_module": "@jupyter-widgets/controls",
            "_view_module_version": "1.5.0",
            "_view_name": "HTMLView",
            "description": "",
            "description_tooltip": null,
            "layout": "IPY_MODEL_318fbb79500c4193bb8ff35e65f50269",
            "placeholder": "​",
            "style": "IPY_MODEL_b3d50a154ce04d43a16ab9af970ffc0d",
            "value": " 1.66M/1.66M [00:00&lt;00:00, 7.10MB/s]"
          }
        },
        "67dc90a32c6c4359934a668a23960e4c": {
          "model_module": "@jupyter-widgets/base",
          "model_name": "LayoutModel",
          "model_module_version": "1.2.0",
          "state": {
            "_model_module": "@jupyter-widgets/base",
            "_model_module_version": "1.2.0",
            "_model_name": "LayoutModel",
            "_view_count": null,
            "_view_module": "@jupyter-widgets/base",
            "_view_module_version": "1.2.0",
            "_view_name": "LayoutView",
            "align_content": null,
            "align_items": null,
            "align_self": null,
            "border": null,
            "bottom": null,
            "display": null,
            "flex": null,
            "flex_flow": null,
            "grid_area": null,
            "grid_auto_columns": null,
            "grid_auto_flow": null,
            "grid_auto_rows": null,
            "grid_column": null,
            "grid_gap": null,
            "grid_row": null,
            "grid_template_areas": null,
            "grid_template_columns": null,
            "grid_template_rows": null,
            "height": null,
            "justify_content": null,
            "justify_items": null,
            "left": null,
            "margin": null,
            "max_height": null,
            "max_width": null,
            "min_height": null,
            "min_width": null,
            "object_fit": null,
            "object_position": null,
            "order": null,
            "overflow": null,
            "overflow_x": null,
            "overflow_y": null,
            "padding": null,
            "right": null,
            "top": null,
            "visibility": null,
            "width": null
          }
        },
        "d33e6fdedb3843049639f297e589bed9": {
          "model_module": "@jupyter-widgets/base",
          "model_name": "LayoutModel",
          "model_module_version": "1.2.0",
          "state": {
            "_model_module": "@jupyter-widgets/base",
            "_model_module_version": "1.2.0",
            "_model_name": "LayoutModel",
            "_view_count": null,
            "_view_module": "@jupyter-widgets/base",
            "_view_module_version": "1.2.0",
            "_view_name": "LayoutView",
            "align_content": null,
            "align_items": null,
            "align_self": null,
            "border": null,
            "bottom": null,
            "display": null,
            "flex": null,
            "flex_flow": null,
            "grid_area": null,
            "grid_auto_columns": null,
            "grid_auto_flow": null,
            "grid_auto_rows": null,
            "grid_column": null,
            "grid_gap": null,
            "grid_row": null,
            "grid_template_areas": null,
            "grid_template_columns": null,
            "grid_template_rows": null,
            "height": null,
            "justify_content": null,
            "justify_items": null,
            "left": null,
            "margin": null,
            "max_height": null,
            "max_width": null,
            "min_height": null,
            "min_width": null,
            "object_fit": null,
            "object_position": null,
            "order": null,
            "overflow": null,
            "overflow_x": null,
            "overflow_y": null,
            "padding": null,
            "right": null,
            "top": null,
            "visibility": null,
            "width": null
          }
        },
        "2969cc84d067437aae5bfccddef8b968": {
          "model_module": "@jupyter-widgets/controls",
          "model_name": "DescriptionStyleModel",
          "model_module_version": "1.5.0",
          "state": {
            "_model_module": "@jupyter-widgets/controls",
            "_model_module_version": "1.5.0",
            "_model_name": "DescriptionStyleModel",
            "_view_count": null,
            "_view_module": "@jupyter-widgets/base",
            "_view_module_version": "1.2.0",
            "_view_name": "StyleView",
            "description_width": ""
          }
        },
        "c1e666efc49b43c3b0a56f7dbf29ebb9": {
          "model_module": "@jupyter-widgets/base",
          "model_name": "LayoutModel",
          "model_module_version": "1.2.0",
          "state": {
            "_model_module": "@jupyter-widgets/base",
            "_model_module_version": "1.2.0",
            "_model_name": "LayoutModel",
            "_view_count": null,
            "_view_module": "@jupyter-widgets/base",
            "_view_module_version": "1.2.0",
            "_view_name": "LayoutView",
            "align_content": null,
            "align_items": null,
            "align_self": null,
            "border": null,
            "bottom": null,
            "display": null,
            "flex": null,
            "flex_flow": null,
            "grid_area": null,
            "grid_auto_columns": null,
            "grid_auto_flow": null,
            "grid_auto_rows": null,
            "grid_column": null,
            "grid_gap": null,
            "grid_row": null,
            "grid_template_areas": null,
            "grid_template_columns": null,
            "grid_template_rows": null,
            "height": null,
            "justify_content": null,
            "justify_items": null,
            "left": null,
            "margin": null,
            "max_height": null,
            "max_width": null,
            "min_height": null,
            "min_width": null,
            "object_fit": null,
            "object_position": null,
            "order": null,
            "overflow": null,
            "overflow_x": null,
            "overflow_y": null,
            "padding": null,
            "right": null,
            "top": null,
            "visibility": null,
            "width": null
          }
        },
        "4cad71c2fed04a7ab351d4440663cb32": {
          "model_module": "@jupyter-widgets/controls",
          "model_name": "ProgressStyleModel",
          "model_module_version": "1.5.0",
          "state": {
            "_model_module": "@jupyter-widgets/controls",
            "_model_module_version": "1.5.0",
            "_model_name": "ProgressStyleModel",
            "_view_count": null,
            "_view_module": "@jupyter-widgets/base",
            "_view_module_version": "1.2.0",
            "_view_name": "StyleView",
            "bar_color": null,
            "description_width": ""
          }
        },
        "318fbb79500c4193bb8ff35e65f50269": {
          "model_module": "@jupyter-widgets/base",
          "model_name": "LayoutModel",
          "model_module_version": "1.2.0",
          "state": {
            "_model_module": "@jupyter-widgets/base",
            "_model_module_version": "1.2.0",
            "_model_name": "LayoutModel",
            "_view_count": null,
            "_view_module": "@jupyter-widgets/base",
            "_view_module_version": "1.2.0",
            "_view_name": "LayoutView",
            "align_content": null,
            "align_items": null,
            "align_self": null,
            "border": null,
            "bottom": null,
            "display": null,
            "flex": null,
            "flex_flow": null,
            "grid_area": null,
            "grid_auto_columns": null,
            "grid_auto_flow": null,
            "grid_auto_rows": null,
            "grid_column": null,
            "grid_gap": null,
            "grid_row": null,
            "grid_template_areas": null,
            "grid_template_columns": null,
            "grid_template_rows": null,
            "height": null,
            "justify_content": null,
            "justify_items": null,
            "left": null,
            "margin": null,
            "max_height": null,
            "max_width": null,
            "min_height": null,
            "min_width": null,
            "object_fit": null,
            "object_position": null,
            "order": null,
            "overflow": null,
            "overflow_x": null,
            "overflow_y": null,
            "padding": null,
            "right": null,
            "top": null,
            "visibility": null,
            "width": null
          }
        },
        "b3d50a154ce04d43a16ab9af970ffc0d": {
          "model_module": "@jupyter-widgets/controls",
          "model_name": "DescriptionStyleModel",
          "model_module_version": "1.5.0",
          "state": {
            "_model_module": "@jupyter-widgets/controls",
            "_model_module_version": "1.5.0",
            "_model_name": "DescriptionStyleModel",
            "_view_count": null,
            "_view_module": "@jupyter-widgets/base",
            "_view_module_version": "1.2.0",
            "_view_name": "StyleView",
            "description_width": ""
          }
        },
        "4557967f7af04e2f87f19213396251fa": {
          "model_module": "@jupyter-widgets/controls",
          "model_name": "HBoxModel",
          "model_module_version": "1.5.0",
          "state": {
            "_dom_classes": [],
            "_model_module": "@jupyter-widgets/controls",
            "_model_module_version": "1.5.0",
            "_model_name": "HBoxModel",
            "_view_count": null,
            "_view_module": "@jupyter-widgets/controls",
            "_view_module_version": "1.5.0",
            "_view_name": "HBoxView",
            "box_style": "",
            "children": [
              "IPY_MODEL_b0c2f92c49314e2c89436627f122aca7",
              "IPY_MODEL_a6f0decb90504a8a8059d6e218a4ff19",
              "IPY_MODEL_83934d09c3ae47b7b83ec6b72447be80"
            ],
            "layout": "IPY_MODEL_6835c14b94744770bc15fa1cc8fd9042"
          }
        },
        "b0c2f92c49314e2c89436627f122aca7": {
          "model_module": "@jupyter-widgets/controls",
          "model_name": "HTMLModel",
          "model_module_version": "1.5.0",
          "state": {
            "_dom_classes": [],
            "_model_module": "@jupyter-widgets/controls",
            "_model_module_version": "1.5.0",
            "_model_name": "HTMLModel",
            "_view_count": null,
            "_view_module": "@jupyter-widgets/controls",
            "_view_module_version": "1.5.0",
            "_view_name": "HTMLView",
            "description": "",
            "description_tooltip": null,
            "layout": "IPY_MODEL_2f01cd8e549a44359a8f584a35b378bf",
            "placeholder": "​",
            "style": "IPY_MODEL_343394f90d674623837c5c961fef0100",
            "value": "Downloading data: 100%"
          }
        },
        "a6f0decb90504a8a8059d6e218a4ff19": {
          "model_module": "@jupyter-widgets/controls",
          "model_name": "FloatProgressModel",
          "model_module_version": "1.5.0",
          "state": {
            "_dom_classes": [],
            "_model_module": "@jupyter-widgets/controls",
            "_model_module_version": "1.5.0",
            "_model_name": "FloatProgressModel",
            "_view_count": null,
            "_view_module": "@jupyter-widgets/controls",
            "_view_module_version": "1.5.0",
            "_view_name": "ProgressView",
            "bar_style": "success",
            "description": "",
            "description_tooltip": null,
            "layout": "IPY_MODEL_20d84957725346d98e2f07c4f8202b83",
            "max": 204240,
            "min": 0,
            "orientation": "horizontal",
            "style": "IPY_MODEL_b73e4f045c7f40128096ea0923d22a07",
            "value": 204240
          }
        },
        "83934d09c3ae47b7b83ec6b72447be80": {
          "model_module": "@jupyter-widgets/controls",
          "model_name": "HTMLModel",
          "model_module_version": "1.5.0",
          "state": {
            "_dom_classes": [],
            "_model_module": "@jupyter-widgets/controls",
            "_model_module_version": "1.5.0",
            "_model_name": "HTMLModel",
            "_view_count": null,
            "_view_module": "@jupyter-widgets/controls",
            "_view_module_version": "1.5.0",
            "_view_name": "HTMLView",
            "description": "",
            "description_tooltip": null,
            "layout": "IPY_MODEL_9331641c137242cb9b5e9a31095a38af",
            "placeholder": "​",
            "style": "IPY_MODEL_fb97eb9999fa4c43b230f2f8af029e0e",
            "value": " 204k/204k [00:00&lt;00:00, 2.60MB/s]"
          }
        },
        "6835c14b94744770bc15fa1cc8fd9042": {
          "model_module": "@jupyter-widgets/base",
          "model_name": "LayoutModel",
          "model_module_version": "1.2.0",
          "state": {
            "_model_module": "@jupyter-widgets/base",
            "_model_module_version": "1.2.0",
            "_model_name": "LayoutModel",
            "_view_count": null,
            "_view_module": "@jupyter-widgets/base",
            "_view_module_version": "1.2.0",
            "_view_name": "LayoutView",
            "align_content": null,
            "align_items": null,
            "align_self": null,
            "border": null,
            "bottom": null,
            "display": null,
            "flex": null,
            "flex_flow": null,
            "grid_area": null,
            "grid_auto_columns": null,
            "grid_auto_flow": null,
            "grid_auto_rows": null,
            "grid_column": null,
            "grid_gap": null,
            "grid_row": null,
            "grid_template_areas": null,
            "grid_template_columns": null,
            "grid_template_rows": null,
            "height": null,
            "justify_content": null,
            "justify_items": null,
            "left": null,
            "margin": null,
            "max_height": null,
            "max_width": null,
            "min_height": null,
            "min_width": null,
            "object_fit": null,
            "object_position": null,
            "order": null,
            "overflow": null,
            "overflow_x": null,
            "overflow_y": null,
            "padding": null,
            "right": null,
            "top": null,
            "visibility": null,
            "width": null
          }
        },
        "2f01cd8e549a44359a8f584a35b378bf": {
          "model_module": "@jupyter-widgets/base",
          "model_name": "LayoutModel",
          "model_module_version": "1.2.0",
          "state": {
            "_model_module": "@jupyter-widgets/base",
            "_model_module_version": "1.2.0",
            "_model_name": "LayoutModel",
            "_view_count": null,
            "_view_module": "@jupyter-widgets/base",
            "_view_module_version": "1.2.0",
            "_view_name": "LayoutView",
            "align_content": null,
            "align_items": null,
            "align_self": null,
            "border": null,
            "bottom": null,
            "display": null,
            "flex": null,
            "flex_flow": null,
            "grid_area": null,
            "grid_auto_columns": null,
            "grid_auto_flow": null,
            "grid_auto_rows": null,
            "grid_column": null,
            "grid_gap": null,
            "grid_row": null,
            "grid_template_areas": null,
            "grid_template_columns": null,
            "grid_template_rows": null,
            "height": null,
            "justify_content": null,
            "justify_items": null,
            "left": null,
            "margin": null,
            "max_height": null,
            "max_width": null,
            "min_height": null,
            "min_width": null,
            "object_fit": null,
            "object_position": null,
            "order": null,
            "overflow": null,
            "overflow_x": null,
            "overflow_y": null,
            "padding": null,
            "right": null,
            "top": null,
            "visibility": null,
            "width": null
          }
        },
        "343394f90d674623837c5c961fef0100": {
          "model_module": "@jupyter-widgets/controls",
          "model_name": "DescriptionStyleModel",
          "model_module_version": "1.5.0",
          "state": {
            "_model_module": "@jupyter-widgets/controls",
            "_model_module_version": "1.5.0",
            "_model_name": "DescriptionStyleModel",
            "_view_count": null,
            "_view_module": "@jupyter-widgets/base",
            "_view_module_version": "1.2.0",
            "_view_name": "StyleView",
            "description_width": ""
          }
        },
        "20d84957725346d98e2f07c4f8202b83": {
          "model_module": "@jupyter-widgets/base",
          "model_name": "LayoutModel",
          "model_module_version": "1.2.0",
          "state": {
            "_model_module": "@jupyter-widgets/base",
            "_model_module_version": "1.2.0",
            "_model_name": "LayoutModel",
            "_view_count": null,
            "_view_module": "@jupyter-widgets/base",
            "_view_module_version": "1.2.0",
            "_view_name": "LayoutView",
            "align_content": null,
            "align_items": null,
            "align_self": null,
            "border": null,
            "bottom": null,
            "display": null,
            "flex": null,
            "flex_flow": null,
            "grid_area": null,
            "grid_auto_columns": null,
            "grid_auto_flow": null,
            "grid_auto_rows": null,
            "grid_column": null,
            "grid_gap": null,
            "grid_row": null,
            "grid_template_areas": null,
            "grid_template_columns": null,
            "grid_template_rows": null,
            "height": null,
            "justify_content": null,
            "justify_items": null,
            "left": null,
            "margin": null,
            "max_height": null,
            "max_width": null,
            "min_height": null,
            "min_width": null,
            "object_fit": null,
            "object_position": null,
            "order": null,
            "overflow": null,
            "overflow_x": null,
            "overflow_y": null,
            "padding": null,
            "right": null,
            "top": null,
            "visibility": null,
            "width": null
          }
        },
        "b73e4f045c7f40128096ea0923d22a07": {
          "model_module": "@jupyter-widgets/controls",
          "model_name": "ProgressStyleModel",
          "model_module_version": "1.5.0",
          "state": {
            "_model_module": "@jupyter-widgets/controls",
            "_model_module_version": "1.5.0",
            "_model_name": "ProgressStyleModel",
            "_view_count": null,
            "_view_module": "@jupyter-widgets/base",
            "_view_module_version": "1.2.0",
            "_view_name": "StyleView",
            "bar_color": null,
            "description_width": ""
          }
        },
        "9331641c137242cb9b5e9a31095a38af": {
          "model_module": "@jupyter-widgets/base",
          "model_name": "LayoutModel",
          "model_module_version": "1.2.0",
          "state": {
            "_model_module": "@jupyter-widgets/base",
            "_model_module_version": "1.2.0",
            "_model_name": "LayoutModel",
            "_view_count": null,
            "_view_module": "@jupyter-widgets/base",
            "_view_module_version": "1.2.0",
            "_view_name": "LayoutView",
            "align_content": null,
            "align_items": null,
            "align_self": null,
            "border": null,
            "bottom": null,
            "display": null,
            "flex": null,
            "flex_flow": null,
            "grid_area": null,
            "grid_auto_columns": null,
            "grid_auto_flow": null,
            "grid_auto_rows": null,
            "grid_column": null,
            "grid_gap": null,
            "grid_row": null,
            "grid_template_areas": null,
            "grid_template_columns": null,
            "grid_template_rows": null,
            "height": null,
            "justify_content": null,
            "justify_items": null,
            "left": null,
            "margin": null,
            "max_height": null,
            "max_width": null,
            "min_height": null,
            "min_width": null,
            "object_fit": null,
            "object_position": null,
            "order": null,
            "overflow": null,
            "overflow_x": null,
            "overflow_y": null,
            "padding": null,
            "right": null,
            "top": null,
            "visibility": null,
            "width": null
          }
        },
        "fb97eb9999fa4c43b230f2f8af029e0e": {
          "model_module": "@jupyter-widgets/controls",
          "model_name": "DescriptionStyleModel",
          "model_module_version": "1.5.0",
          "state": {
            "_model_module": "@jupyter-widgets/controls",
            "_model_module_version": "1.5.0",
            "_model_name": "DescriptionStyleModel",
            "_view_count": null,
            "_view_module": "@jupyter-widgets/base",
            "_view_module_version": "1.2.0",
            "_view_name": "StyleView",
            "description_width": ""
          }
        },
        "316c4ce10ec941d98e3b7c9fa0dd8aa5": {
          "model_module": "@jupyter-widgets/controls",
          "model_name": "HBoxModel",
          "model_module_version": "1.5.0",
          "state": {
            "_dom_classes": [],
            "_model_module": "@jupyter-widgets/controls",
            "_model_module_version": "1.5.0",
            "_model_name": "HBoxModel",
            "_view_count": null,
            "_view_module": "@jupyter-widgets/controls",
            "_view_module_version": "1.5.0",
            "_view_name": "HBoxView",
            "box_style": "",
            "children": [
              "IPY_MODEL_02ca9142d35a4647bc01fa138ff7cac9",
              "IPY_MODEL_4d230f4a4b1a4ae48626c110f22e6d6d",
              "IPY_MODEL_b1f62aa90c2d49ec8287d12efefdd65e"
            ],
            "layout": "IPY_MODEL_e81ddc4a8e8941c6b6fdd06e3d12c653"
          }
        },
        "02ca9142d35a4647bc01fa138ff7cac9": {
          "model_module": "@jupyter-widgets/controls",
          "model_name": "HTMLModel",
          "model_module_version": "1.5.0",
          "state": {
            "_dom_classes": [],
            "_model_module": "@jupyter-widgets/controls",
            "_model_module_version": "1.5.0",
            "_model_name": "HTMLModel",
            "_view_count": null,
            "_view_module": "@jupyter-widgets/controls",
            "_view_module_version": "1.5.0",
            "_view_name": "HTMLView",
            "description": "",
            "description_tooltip": null,
            "layout": "IPY_MODEL_0535a600257a45168105aab8edc39dcc",
            "placeholder": "​",
            "style": "IPY_MODEL_5256061ea2c646c6a9f17230dd39002a",
            "value": "Downloading data: 100%"
          }
        },
        "4d230f4a4b1a4ae48626c110f22e6d6d": {
          "model_module": "@jupyter-widgets/controls",
          "model_name": "FloatProgressModel",
          "model_module_version": "1.5.0",
          "state": {
            "_dom_classes": [],
            "_model_module": "@jupyter-widgets/controls",
            "_model_module_version": "1.5.0",
            "_model_name": "FloatProgressModel",
            "_view_count": null,
            "_view_module": "@jupyter-widgets/controls",
            "_view_module_version": "1.5.0",
            "_view_name": "ProgressView",
            "bar_style": "success",
            "description": "",
            "description_tooltip": null,
            "layout": "IPY_MODEL_1a99c12805b24ccfb4d21aeaf67a9117",
            "max": 206760,
            "min": 0,
            "orientation": "horizontal",
            "style": "IPY_MODEL_67b7b33cb81f4e22a2812b300f2c5536",
            "value": 206760
          }
        },
        "b1f62aa90c2d49ec8287d12efefdd65e": {
          "model_module": "@jupyter-widgets/controls",
          "model_name": "HTMLModel",
          "model_module_version": "1.5.0",
          "state": {
            "_dom_classes": [],
            "_model_module": "@jupyter-widgets/controls",
            "_model_module_version": "1.5.0",
            "_model_name": "HTMLModel",
            "_view_count": null,
            "_view_module": "@jupyter-widgets/controls",
            "_view_module_version": "1.5.0",
            "_view_name": "HTMLView",
            "description": "",
            "description_tooltip": null,
            "layout": "IPY_MODEL_8d55e566ab8a462c90ae9fb372ebbdc5",
            "placeholder": "​",
            "style": "IPY_MODEL_3b0a508202234182bea19af09150e58d",
            "value": " 207k/207k [00:00&lt;00:00, 1.25MB/s]"
          }
        },
        "e81ddc4a8e8941c6b6fdd06e3d12c653": {
          "model_module": "@jupyter-widgets/base",
          "model_name": "LayoutModel",
          "model_module_version": "1.2.0",
          "state": {
            "_model_module": "@jupyter-widgets/base",
            "_model_module_version": "1.2.0",
            "_model_name": "LayoutModel",
            "_view_count": null,
            "_view_module": "@jupyter-widgets/base",
            "_view_module_version": "1.2.0",
            "_view_name": "LayoutView",
            "align_content": null,
            "align_items": null,
            "align_self": null,
            "border": null,
            "bottom": null,
            "display": null,
            "flex": null,
            "flex_flow": null,
            "grid_area": null,
            "grid_auto_columns": null,
            "grid_auto_flow": null,
            "grid_auto_rows": null,
            "grid_column": null,
            "grid_gap": null,
            "grid_row": null,
            "grid_template_areas": null,
            "grid_template_columns": null,
            "grid_template_rows": null,
            "height": null,
            "justify_content": null,
            "justify_items": null,
            "left": null,
            "margin": null,
            "max_height": null,
            "max_width": null,
            "min_height": null,
            "min_width": null,
            "object_fit": null,
            "object_position": null,
            "order": null,
            "overflow": null,
            "overflow_x": null,
            "overflow_y": null,
            "padding": null,
            "right": null,
            "top": null,
            "visibility": null,
            "width": null
          }
        },
        "0535a600257a45168105aab8edc39dcc": {
          "model_module": "@jupyter-widgets/base",
          "model_name": "LayoutModel",
          "model_module_version": "1.2.0",
          "state": {
            "_model_module": "@jupyter-widgets/base",
            "_model_module_version": "1.2.0",
            "_model_name": "LayoutModel",
            "_view_count": null,
            "_view_module": "@jupyter-widgets/base",
            "_view_module_version": "1.2.0",
            "_view_name": "LayoutView",
            "align_content": null,
            "align_items": null,
            "align_self": null,
            "border": null,
            "bottom": null,
            "display": null,
            "flex": null,
            "flex_flow": null,
            "grid_area": null,
            "grid_auto_columns": null,
            "grid_auto_flow": null,
            "grid_auto_rows": null,
            "grid_column": null,
            "grid_gap": null,
            "grid_row": null,
            "grid_template_areas": null,
            "grid_template_columns": null,
            "grid_template_rows": null,
            "height": null,
            "justify_content": null,
            "justify_items": null,
            "left": null,
            "margin": null,
            "max_height": null,
            "max_width": null,
            "min_height": null,
            "min_width": null,
            "object_fit": null,
            "object_position": null,
            "order": null,
            "overflow": null,
            "overflow_x": null,
            "overflow_y": null,
            "padding": null,
            "right": null,
            "top": null,
            "visibility": null,
            "width": null
          }
        },
        "5256061ea2c646c6a9f17230dd39002a": {
          "model_module": "@jupyter-widgets/controls",
          "model_name": "DescriptionStyleModel",
          "model_module_version": "1.5.0",
          "state": {
            "_model_module": "@jupyter-widgets/controls",
            "_model_module_version": "1.5.0",
            "_model_name": "DescriptionStyleModel",
            "_view_count": null,
            "_view_module": "@jupyter-widgets/base",
            "_view_module_version": "1.2.0",
            "_view_name": "StyleView",
            "description_width": ""
          }
        },
        "1a99c12805b24ccfb4d21aeaf67a9117": {
          "model_module": "@jupyter-widgets/base",
          "model_name": "LayoutModel",
          "model_module_version": "1.2.0",
          "state": {
            "_model_module": "@jupyter-widgets/base",
            "_model_module_version": "1.2.0",
            "_model_name": "LayoutModel",
            "_view_count": null,
            "_view_module": "@jupyter-widgets/base",
            "_view_module_version": "1.2.0",
            "_view_name": "LayoutView",
            "align_content": null,
            "align_items": null,
            "align_self": null,
            "border": null,
            "bottom": null,
            "display": null,
            "flex": null,
            "flex_flow": null,
            "grid_area": null,
            "grid_auto_columns": null,
            "grid_auto_flow": null,
            "grid_auto_rows": null,
            "grid_column": null,
            "grid_gap": null,
            "grid_row": null,
            "grid_template_areas": null,
            "grid_template_columns": null,
            "grid_template_rows": null,
            "height": null,
            "justify_content": null,
            "justify_items": null,
            "left": null,
            "margin": null,
            "max_height": null,
            "max_width": null,
            "min_height": null,
            "min_width": null,
            "object_fit": null,
            "object_position": null,
            "order": null,
            "overflow": null,
            "overflow_x": null,
            "overflow_y": null,
            "padding": null,
            "right": null,
            "top": null,
            "visibility": null,
            "width": null
          }
        },
        "67b7b33cb81f4e22a2812b300f2c5536": {
          "model_module": "@jupyter-widgets/controls",
          "model_name": "ProgressStyleModel",
          "model_module_version": "1.5.0",
          "state": {
            "_model_module": "@jupyter-widgets/controls",
            "_model_module_version": "1.5.0",
            "_model_name": "ProgressStyleModel",
            "_view_count": null,
            "_view_module": "@jupyter-widgets/base",
            "_view_module_version": "1.2.0",
            "_view_name": "StyleView",
            "bar_color": null,
            "description_width": ""
          }
        },
        "8d55e566ab8a462c90ae9fb372ebbdc5": {
          "model_module": "@jupyter-widgets/base",
          "model_name": "LayoutModel",
          "model_module_version": "1.2.0",
          "state": {
            "_model_module": "@jupyter-widgets/base",
            "_model_module_version": "1.2.0",
            "_model_name": "LayoutModel",
            "_view_count": null,
            "_view_module": "@jupyter-widgets/base",
            "_view_module_version": "1.2.0",
            "_view_name": "LayoutView",
            "align_content": null,
            "align_items": null,
            "align_self": null,
            "border": null,
            "bottom": null,
            "display": null,
            "flex": null,
            "flex_flow": null,
            "grid_area": null,
            "grid_auto_columns": null,
            "grid_auto_flow": null,
            "grid_auto_rows": null,
            "grid_column": null,
            "grid_gap": null,
            "grid_row": null,
            "grid_template_areas": null,
            "grid_template_columns": null,
            "grid_template_rows": null,
            "height": null,
            "justify_content": null,
            "justify_items": null,
            "left": null,
            "margin": null,
            "max_height": null,
            "max_width": null,
            "min_height": null,
            "min_width": null,
            "object_fit": null,
            "object_position": null,
            "order": null,
            "overflow": null,
            "overflow_x": null,
            "overflow_y": null,
            "padding": null,
            "right": null,
            "top": null,
            "visibility": null,
            "width": null
          }
        },
        "3b0a508202234182bea19af09150e58d": {
          "model_module": "@jupyter-widgets/controls",
          "model_name": "DescriptionStyleModel",
          "model_module_version": "1.5.0",
          "state": {
            "_model_module": "@jupyter-widgets/controls",
            "_model_module_version": "1.5.0",
            "_model_name": "DescriptionStyleModel",
            "_view_count": null,
            "_view_module": "@jupyter-widgets/base",
            "_view_module_version": "1.2.0",
            "_view_name": "StyleView",
            "description_width": ""
          }
        },
        "7c2ae1c159ac4be0ae723d320cd9742b": {
          "model_module": "@jupyter-widgets/controls",
          "model_name": "HBoxModel",
          "model_module_version": "1.5.0",
          "state": {
            "_dom_classes": [],
            "_model_module": "@jupyter-widgets/controls",
            "_model_module_version": "1.5.0",
            "_model_name": "HBoxModel",
            "_view_count": null,
            "_view_module": "@jupyter-widgets/controls",
            "_view_module_version": "1.5.0",
            "_view_name": "HBoxView",
            "box_style": "",
            "children": [
              "IPY_MODEL_e51801ecfb1445c9abb8bd4ba2750689",
              "IPY_MODEL_7a6cf5d9162a4c47a89cd949727bf4a0",
              "IPY_MODEL_ff380b48002c4aab969f480a51ff908a"
            ],
            "layout": "IPY_MODEL_d4eb06ca99cf4e039082ff9cbb9a59c2"
          }
        },
        "e51801ecfb1445c9abb8bd4ba2750689": {
          "model_module": "@jupyter-widgets/controls",
          "model_name": "HTMLModel",
          "model_module_version": "1.5.0",
          "state": {
            "_dom_classes": [],
            "_model_module": "@jupyter-widgets/controls",
            "_model_module_version": "1.5.0",
            "_model_name": "HTMLModel",
            "_view_count": null,
            "_view_module": "@jupyter-widgets/controls",
            "_view_module_version": "1.5.0",
            "_view_name": "HTMLView",
            "description": "",
            "description_tooltip": null,
            "layout": "IPY_MODEL_ce77114570ee43feb13d4e2b31359e73",
            "placeholder": "​",
            "style": "IPY_MODEL_1d90981ee1c24b27a5f79b99bc6a4cf7",
            "value": "Generating train split:  94%"
          }
        },
        "7a6cf5d9162a4c47a89cd949727bf4a0": {
          "model_module": "@jupyter-widgets/controls",
          "model_name": "FloatProgressModel",
          "model_module_version": "1.5.0",
          "state": {
            "_dom_classes": [],
            "_model_module": "@jupyter-widgets/controls",
            "_model_module_version": "1.5.0",
            "_model_name": "FloatProgressModel",
            "_view_count": null,
            "_view_module": "@jupyter-widgets/controls",
            "_view_module_version": "1.5.0",
            "_view_name": "ProgressView",
            "bar_style": "",
            "description": "",
            "description_tooltip": null,
            "layout": "IPY_MODEL_772e0e45be1343cc85b851135f07612c",
            "max": 16000,
            "min": 0,
            "orientation": "horizontal",
            "style": "IPY_MODEL_335492367be546089c295b86b43155b7",
            "value": 16000
          }
        },
        "ff380b48002c4aab969f480a51ff908a": {
          "model_module": "@jupyter-widgets/controls",
          "model_name": "HTMLModel",
          "model_module_version": "1.5.0",
          "state": {
            "_dom_classes": [],
            "_model_module": "@jupyter-widgets/controls",
            "_model_module_version": "1.5.0",
            "_model_name": "HTMLModel",
            "_view_count": null,
            "_view_module": "@jupyter-widgets/controls",
            "_view_module_version": "1.5.0",
            "_view_name": "HTMLView",
            "description": "",
            "description_tooltip": null,
            "layout": "IPY_MODEL_5ca2bdb1253841c1b87da0b37f095828",
            "placeholder": "​",
            "style": "IPY_MODEL_5e1eba3495664ece8481a312cca4607e",
            "value": " 15013/16000 [00:00&lt;00:00, 15918.56 examples/s]"
          }
        },
        "d4eb06ca99cf4e039082ff9cbb9a59c2": {
          "model_module": "@jupyter-widgets/base",
          "model_name": "LayoutModel",
          "model_module_version": "1.2.0",
          "state": {
            "_model_module": "@jupyter-widgets/base",
            "_model_module_version": "1.2.0",
            "_model_name": "LayoutModel",
            "_view_count": null,
            "_view_module": "@jupyter-widgets/base",
            "_view_module_version": "1.2.0",
            "_view_name": "LayoutView",
            "align_content": null,
            "align_items": null,
            "align_self": null,
            "border": null,
            "bottom": null,
            "display": null,
            "flex": null,
            "flex_flow": null,
            "grid_area": null,
            "grid_auto_columns": null,
            "grid_auto_flow": null,
            "grid_auto_rows": null,
            "grid_column": null,
            "grid_gap": null,
            "grid_row": null,
            "grid_template_areas": null,
            "grid_template_columns": null,
            "grid_template_rows": null,
            "height": null,
            "justify_content": null,
            "justify_items": null,
            "left": null,
            "margin": null,
            "max_height": null,
            "max_width": null,
            "min_height": null,
            "min_width": null,
            "object_fit": null,
            "object_position": null,
            "order": null,
            "overflow": null,
            "overflow_x": null,
            "overflow_y": null,
            "padding": null,
            "right": null,
            "top": null,
            "visibility": null,
            "width": null
          }
        },
        "ce77114570ee43feb13d4e2b31359e73": {
          "model_module": "@jupyter-widgets/base",
          "model_name": "LayoutModel",
          "model_module_version": "1.2.0",
          "state": {
            "_model_module": "@jupyter-widgets/base",
            "_model_module_version": "1.2.0",
            "_model_name": "LayoutModel",
            "_view_count": null,
            "_view_module": "@jupyter-widgets/base",
            "_view_module_version": "1.2.0",
            "_view_name": "LayoutView",
            "align_content": null,
            "align_items": null,
            "align_self": null,
            "border": null,
            "bottom": null,
            "display": null,
            "flex": null,
            "flex_flow": null,
            "grid_area": null,
            "grid_auto_columns": null,
            "grid_auto_flow": null,
            "grid_auto_rows": null,
            "grid_column": null,
            "grid_gap": null,
            "grid_row": null,
            "grid_template_areas": null,
            "grid_template_columns": null,
            "grid_template_rows": null,
            "height": null,
            "justify_content": null,
            "justify_items": null,
            "left": null,
            "margin": null,
            "max_height": null,
            "max_width": null,
            "min_height": null,
            "min_width": null,
            "object_fit": null,
            "object_position": null,
            "order": null,
            "overflow": null,
            "overflow_x": null,
            "overflow_y": null,
            "padding": null,
            "right": null,
            "top": null,
            "visibility": null,
            "width": null
          }
        },
        "1d90981ee1c24b27a5f79b99bc6a4cf7": {
          "model_module": "@jupyter-widgets/controls",
          "model_name": "DescriptionStyleModel",
          "model_module_version": "1.5.0",
          "state": {
            "_model_module": "@jupyter-widgets/controls",
            "_model_module_version": "1.5.0",
            "_model_name": "DescriptionStyleModel",
            "_view_count": null,
            "_view_module": "@jupyter-widgets/base",
            "_view_module_version": "1.2.0",
            "_view_name": "StyleView",
            "description_width": ""
          }
        },
        "772e0e45be1343cc85b851135f07612c": {
          "model_module": "@jupyter-widgets/base",
          "model_name": "LayoutModel",
          "model_module_version": "1.2.0",
          "state": {
            "_model_module": "@jupyter-widgets/base",
            "_model_module_version": "1.2.0",
            "_model_name": "LayoutModel",
            "_view_count": null,
            "_view_module": "@jupyter-widgets/base",
            "_view_module_version": "1.2.0",
            "_view_name": "LayoutView",
            "align_content": null,
            "align_items": null,
            "align_self": null,
            "border": null,
            "bottom": null,
            "display": null,
            "flex": null,
            "flex_flow": null,
            "grid_area": null,
            "grid_auto_columns": null,
            "grid_auto_flow": null,
            "grid_auto_rows": null,
            "grid_column": null,
            "grid_gap": null,
            "grid_row": null,
            "grid_template_areas": null,
            "grid_template_columns": null,
            "grid_template_rows": null,
            "height": null,
            "justify_content": null,
            "justify_items": null,
            "left": null,
            "margin": null,
            "max_height": null,
            "max_width": null,
            "min_height": null,
            "min_width": null,
            "object_fit": null,
            "object_position": null,
            "order": null,
            "overflow": null,
            "overflow_x": null,
            "overflow_y": null,
            "padding": null,
            "right": null,
            "top": null,
            "visibility": null,
            "width": null
          }
        },
        "335492367be546089c295b86b43155b7": {
          "model_module": "@jupyter-widgets/controls",
          "model_name": "ProgressStyleModel",
          "model_module_version": "1.5.0",
          "state": {
            "_model_module": "@jupyter-widgets/controls",
            "_model_module_version": "1.5.0",
            "_model_name": "ProgressStyleModel",
            "_view_count": null,
            "_view_module": "@jupyter-widgets/base",
            "_view_module_version": "1.2.0",
            "_view_name": "StyleView",
            "bar_color": null,
            "description_width": ""
          }
        },
        "5ca2bdb1253841c1b87da0b37f095828": {
          "model_module": "@jupyter-widgets/base",
          "model_name": "LayoutModel",
          "model_module_version": "1.2.0",
          "state": {
            "_model_module": "@jupyter-widgets/base",
            "_model_module_version": "1.2.0",
            "_model_name": "LayoutModel",
            "_view_count": null,
            "_view_module": "@jupyter-widgets/base",
            "_view_module_version": "1.2.0",
            "_view_name": "LayoutView",
            "align_content": null,
            "align_items": null,
            "align_self": null,
            "border": null,
            "bottom": null,
            "display": null,
            "flex": null,
            "flex_flow": null,
            "grid_area": null,
            "grid_auto_columns": null,
            "grid_auto_flow": null,
            "grid_auto_rows": null,
            "grid_column": null,
            "grid_gap": null,
            "grid_row": null,
            "grid_template_areas": null,
            "grid_template_columns": null,
            "grid_template_rows": null,
            "height": null,
            "justify_content": null,
            "justify_items": null,
            "left": null,
            "margin": null,
            "max_height": null,
            "max_width": null,
            "min_height": null,
            "min_width": null,
            "object_fit": null,
            "object_position": null,
            "order": null,
            "overflow": null,
            "overflow_x": null,
            "overflow_y": null,
            "padding": null,
            "right": null,
            "top": null,
            "visibility": null,
            "width": null
          }
        },
        "5e1eba3495664ece8481a312cca4607e": {
          "model_module": "@jupyter-widgets/controls",
          "model_name": "DescriptionStyleModel",
          "model_module_version": "1.5.0",
          "state": {
            "_model_module": "@jupyter-widgets/controls",
            "_model_module_version": "1.5.0",
            "_model_name": "DescriptionStyleModel",
            "_view_count": null,
            "_view_module": "@jupyter-widgets/base",
            "_view_module_version": "1.2.0",
            "_view_name": "StyleView",
            "description_width": ""
          }
        },
        "74eaf83f27d34963a3bd686adf48de2f": {
          "model_module": "@jupyter-widgets/controls",
          "model_name": "HBoxModel",
          "model_module_version": "1.5.0",
          "state": {
            "_dom_classes": [],
            "_model_module": "@jupyter-widgets/controls",
            "_model_module_version": "1.5.0",
            "_model_name": "HBoxModel",
            "_view_count": null,
            "_view_module": "@jupyter-widgets/controls",
            "_view_module_version": "1.5.0",
            "_view_name": "HBoxView",
            "box_style": "",
            "children": [
              "IPY_MODEL_7da9c11a5f134998a40d37401a69f3cd",
              "IPY_MODEL_4647c32dbed2409397886570cc41b83e",
              "IPY_MODEL_99bfa500f6214c4aa2b955c2edbad0a2"
            ],
            "layout": "IPY_MODEL_e15c7e6988524c00b03c5e2cd43972c6"
          }
        },
        "7da9c11a5f134998a40d37401a69f3cd": {
          "model_module": "@jupyter-widgets/controls",
          "model_name": "HTMLModel",
          "model_module_version": "1.5.0",
          "state": {
            "_dom_classes": [],
            "_model_module": "@jupyter-widgets/controls",
            "_model_module_version": "1.5.0",
            "_model_name": "HTMLModel",
            "_view_count": null,
            "_view_module": "@jupyter-widgets/controls",
            "_view_module_version": "1.5.0",
            "_view_name": "HTMLView",
            "description": "",
            "description_tooltip": null,
            "layout": "IPY_MODEL_ceff8e3884134cdba375ca9429a9b504",
            "placeholder": "​",
            "style": "IPY_MODEL_e3ad0ae4f311417ca102d78d18cbbb38",
            "value": "Generating validation split:  98%"
          }
        },
        "4647c32dbed2409397886570cc41b83e": {
          "model_module": "@jupyter-widgets/controls",
          "model_name": "FloatProgressModel",
          "model_module_version": "1.5.0",
          "state": {
            "_dom_classes": [],
            "_model_module": "@jupyter-widgets/controls",
            "_model_module_version": "1.5.0",
            "_model_name": "FloatProgressModel",
            "_view_count": null,
            "_view_module": "@jupyter-widgets/controls",
            "_view_module_version": "1.5.0",
            "_view_name": "ProgressView",
            "bar_style": "",
            "description": "",
            "description_tooltip": null,
            "layout": "IPY_MODEL_c85e7d552aa34cea9680af558bc67dd0",
            "max": 2000,
            "min": 0,
            "orientation": "horizontal",
            "style": "IPY_MODEL_7db30022f6d9459d88d68dd5314b1c05",
            "value": 2000
          }
        },
        "99bfa500f6214c4aa2b955c2edbad0a2": {
          "model_module": "@jupyter-widgets/controls",
          "model_name": "HTMLModel",
          "model_module_version": "1.5.0",
          "state": {
            "_dom_classes": [],
            "_model_module": "@jupyter-widgets/controls",
            "_model_module_version": "1.5.0",
            "_model_name": "HTMLModel",
            "_view_count": null,
            "_view_module": "@jupyter-widgets/controls",
            "_view_module_version": "1.5.0",
            "_view_name": "HTMLView",
            "description": "",
            "description_tooltip": null,
            "layout": "IPY_MODEL_c4da6f8ee0dc4c60bd4deea6f3a6bc83",
            "placeholder": "​",
            "style": "IPY_MODEL_b3b066626b0b478ba160630caa53c6f3",
            "value": " 1966/2000 [00:00&lt;00:00, 10751.78 examples/s]"
          }
        },
        "e15c7e6988524c00b03c5e2cd43972c6": {
          "model_module": "@jupyter-widgets/base",
          "model_name": "LayoutModel",
          "model_module_version": "1.2.0",
          "state": {
            "_model_module": "@jupyter-widgets/base",
            "_model_module_version": "1.2.0",
            "_model_name": "LayoutModel",
            "_view_count": null,
            "_view_module": "@jupyter-widgets/base",
            "_view_module_version": "1.2.0",
            "_view_name": "LayoutView",
            "align_content": null,
            "align_items": null,
            "align_self": null,
            "border": null,
            "bottom": null,
            "display": null,
            "flex": null,
            "flex_flow": null,
            "grid_area": null,
            "grid_auto_columns": null,
            "grid_auto_flow": null,
            "grid_auto_rows": null,
            "grid_column": null,
            "grid_gap": null,
            "grid_row": null,
            "grid_template_areas": null,
            "grid_template_columns": null,
            "grid_template_rows": null,
            "height": null,
            "justify_content": null,
            "justify_items": null,
            "left": null,
            "margin": null,
            "max_height": null,
            "max_width": null,
            "min_height": null,
            "min_width": null,
            "object_fit": null,
            "object_position": null,
            "order": null,
            "overflow": null,
            "overflow_x": null,
            "overflow_y": null,
            "padding": null,
            "right": null,
            "top": null,
            "visibility": null,
            "width": null
          }
        },
        "ceff8e3884134cdba375ca9429a9b504": {
          "model_module": "@jupyter-widgets/base",
          "model_name": "LayoutModel",
          "model_module_version": "1.2.0",
          "state": {
            "_model_module": "@jupyter-widgets/base",
            "_model_module_version": "1.2.0",
            "_model_name": "LayoutModel",
            "_view_count": null,
            "_view_module": "@jupyter-widgets/base",
            "_view_module_version": "1.2.0",
            "_view_name": "LayoutView",
            "align_content": null,
            "align_items": null,
            "align_self": null,
            "border": null,
            "bottom": null,
            "display": null,
            "flex": null,
            "flex_flow": null,
            "grid_area": null,
            "grid_auto_columns": null,
            "grid_auto_flow": null,
            "grid_auto_rows": null,
            "grid_column": null,
            "grid_gap": null,
            "grid_row": null,
            "grid_template_areas": null,
            "grid_template_columns": null,
            "grid_template_rows": null,
            "height": null,
            "justify_content": null,
            "justify_items": null,
            "left": null,
            "margin": null,
            "max_height": null,
            "max_width": null,
            "min_height": null,
            "min_width": null,
            "object_fit": null,
            "object_position": null,
            "order": null,
            "overflow": null,
            "overflow_x": null,
            "overflow_y": null,
            "padding": null,
            "right": null,
            "top": null,
            "visibility": null,
            "width": null
          }
        },
        "e3ad0ae4f311417ca102d78d18cbbb38": {
          "model_module": "@jupyter-widgets/controls",
          "model_name": "DescriptionStyleModel",
          "model_module_version": "1.5.0",
          "state": {
            "_model_module": "@jupyter-widgets/controls",
            "_model_module_version": "1.5.0",
            "_model_name": "DescriptionStyleModel",
            "_view_count": null,
            "_view_module": "@jupyter-widgets/base",
            "_view_module_version": "1.2.0",
            "_view_name": "StyleView",
            "description_width": ""
          }
        },
        "c85e7d552aa34cea9680af558bc67dd0": {
          "model_module": "@jupyter-widgets/base",
          "model_name": "LayoutModel",
          "model_module_version": "1.2.0",
          "state": {
            "_model_module": "@jupyter-widgets/base",
            "_model_module_version": "1.2.0",
            "_model_name": "LayoutModel",
            "_view_count": null,
            "_view_module": "@jupyter-widgets/base",
            "_view_module_version": "1.2.0",
            "_view_name": "LayoutView",
            "align_content": null,
            "align_items": null,
            "align_self": null,
            "border": null,
            "bottom": null,
            "display": null,
            "flex": null,
            "flex_flow": null,
            "grid_area": null,
            "grid_auto_columns": null,
            "grid_auto_flow": null,
            "grid_auto_rows": null,
            "grid_column": null,
            "grid_gap": null,
            "grid_row": null,
            "grid_template_areas": null,
            "grid_template_columns": null,
            "grid_template_rows": null,
            "height": null,
            "justify_content": null,
            "justify_items": null,
            "left": null,
            "margin": null,
            "max_height": null,
            "max_width": null,
            "min_height": null,
            "min_width": null,
            "object_fit": null,
            "object_position": null,
            "order": null,
            "overflow": null,
            "overflow_x": null,
            "overflow_y": null,
            "padding": null,
            "right": null,
            "top": null,
            "visibility": null,
            "width": null
          }
        },
        "7db30022f6d9459d88d68dd5314b1c05": {
          "model_module": "@jupyter-widgets/controls",
          "model_name": "ProgressStyleModel",
          "model_module_version": "1.5.0",
          "state": {
            "_model_module": "@jupyter-widgets/controls",
            "_model_module_version": "1.5.0",
            "_model_name": "ProgressStyleModel",
            "_view_count": null,
            "_view_module": "@jupyter-widgets/base",
            "_view_module_version": "1.2.0",
            "_view_name": "StyleView",
            "bar_color": null,
            "description_width": ""
          }
        },
        "c4da6f8ee0dc4c60bd4deea6f3a6bc83": {
          "model_module": "@jupyter-widgets/base",
          "model_name": "LayoutModel",
          "model_module_version": "1.2.0",
          "state": {
            "_model_module": "@jupyter-widgets/base",
            "_model_module_version": "1.2.0",
            "_model_name": "LayoutModel",
            "_view_count": null,
            "_view_module": "@jupyter-widgets/base",
            "_view_module_version": "1.2.0",
            "_view_name": "LayoutView",
            "align_content": null,
            "align_items": null,
            "align_self": null,
            "border": null,
            "bottom": null,
            "display": null,
            "flex": null,
            "flex_flow": null,
            "grid_area": null,
            "grid_auto_columns": null,
            "grid_auto_flow": null,
            "grid_auto_rows": null,
            "grid_column": null,
            "grid_gap": null,
            "grid_row": null,
            "grid_template_areas": null,
            "grid_template_columns": null,
            "grid_template_rows": null,
            "height": null,
            "justify_content": null,
            "justify_items": null,
            "left": null,
            "margin": null,
            "max_height": null,
            "max_width": null,
            "min_height": null,
            "min_width": null,
            "object_fit": null,
            "object_position": null,
            "order": null,
            "overflow": null,
            "overflow_x": null,
            "overflow_y": null,
            "padding": null,
            "right": null,
            "top": null,
            "visibility": null,
            "width": null
          }
        },
        "b3b066626b0b478ba160630caa53c6f3": {
          "model_module": "@jupyter-widgets/controls",
          "model_name": "DescriptionStyleModel",
          "model_module_version": "1.5.0",
          "state": {
            "_model_module": "@jupyter-widgets/controls",
            "_model_module_version": "1.5.0",
            "_model_name": "DescriptionStyleModel",
            "_view_count": null,
            "_view_module": "@jupyter-widgets/base",
            "_view_module_version": "1.2.0",
            "_view_name": "StyleView",
            "description_width": ""
          }
        },
        "f3a5800ef407498584ec35541c47ee5a": {
          "model_module": "@jupyter-widgets/controls",
          "model_name": "HBoxModel",
          "model_module_version": "1.5.0",
          "state": {
            "_dom_classes": [],
            "_model_module": "@jupyter-widgets/controls",
            "_model_module_version": "1.5.0",
            "_model_name": "HBoxModel",
            "_view_count": null,
            "_view_module": "@jupyter-widgets/controls",
            "_view_module_version": "1.5.0",
            "_view_name": "HBoxView",
            "box_style": "",
            "children": [
              "IPY_MODEL_390c2bc6ace844bf86fb349b0aa4ca30",
              "IPY_MODEL_fa178fa93ac14c1ea93d5be4a77bdd57",
              "IPY_MODEL_d81719a59a4d4b7eae8b0045ad0823ef"
            ],
            "layout": "IPY_MODEL_52cbba81cb93457e9e4742b6695c5d33"
          }
        },
        "390c2bc6ace844bf86fb349b0aa4ca30": {
          "model_module": "@jupyter-widgets/controls",
          "model_name": "HTMLModel",
          "model_module_version": "1.5.0",
          "state": {
            "_dom_classes": [],
            "_model_module": "@jupyter-widgets/controls",
            "_model_module_version": "1.5.0",
            "_model_name": "HTMLModel",
            "_view_count": null,
            "_view_module": "@jupyter-widgets/controls",
            "_view_module_version": "1.5.0",
            "_view_name": "HTMLView",
            "description": "",
            "description_tooltip": null,
            "layout": "IPY_MODEL_191c334659434d379747325b779675e2",
            "placeholder": "​",
            "style": "IPY_MODEL_90ec9dd02734460da71f42d187f8c775",
            "value": "Generating test split:  95%"
          }
        },
        "fa178fa93ac14c1ea93d5be4a77bdd57": {
          "model_module": "@jupyter-widgets/controls",
          "model_name": "FloatProgressModel",
          "model_module_version": "1.5.0",
          "state": {
            "_dom_classes": [],
            "_model_module": "@jupyter-widgets/controls",
            "_model_module_version": "1.5.0",
            "_model_name": "FloatProgressModel",
            "_view_count": null,
            "_view_module": "@jupyter-widgets/controls",
            "_view_module_version": "1.5.0",
            "_view_name": "ProgressView",
            "bar_style": "",
            "description": "",
            "description_tooltip": null,
            "layout": "IPY_MODEL_4fa3f1b0152842ee94731df065121b54",
            "max": 2000,
            "min": 0,
            "orientation": "horizontal",
            "style": "IPY_MODEL_66484aa729eb4b11807de4225a28da0c",
            "value": 2000
          }
        },
        "d81719a59a4d4b7eae8b0045ad0823ef": {
          "model_module": "@jupyter-widgets/controls",
          "model_name": "HTMLModel",
          "model_module_version": "1.5.0",
          "state": {
            "_dom_classes": [],
            "_model_module": "@jupyter-widgets/controls",
            "_model_module_version": "1.5.0",
            "_model_name": "HTMLModel",
            "_view_count": null,
            "_view_module": "@jupyter-widgets/controls",
            "_view_module_version": "1.5.0",
            "_view_name": "HTMLView",
            "description": "",
            "description_tooltip": null,
            "layout": "IPY_MODEL_10dd7ac2d02a4164a2afafdd3c21485d",
            "placeholder": "​",
            "style": "IPY_MODEL_cde26747731143e181bdbfb1c4633906",
            "value": " 1893/2000 [00:00&lt;00:00, 10530.39 examples/s]"
          }
        },
        "52cbba81cb93457e9e4742b6695c5d33": {
          "model_module": "@jupyter-widgets/base",
          "model_name": "LayoutModel",
          "model_module_version": "1.2.0",
          "state": {
            "_model_module": "@jupyter-widgets/base",
            "_model_module_version": "1.2.0",
            "_model_name": "LayoutModel",
            "_view_count": null,
            "_view_module": "@jupyter-widgets/base",
            "_view_module_version": "1.2.0",
            "_view_name": "LayoutView",
            "align_content": null,
            "align_items": null,
            "align_self": null,
            "border": null,
            "bottom": null,
            "display": null,
            "flex": null,
            "flex_flow": null,
            "grid_area": null,
            "grid_auto_columns": null,
            "grid_auto_flow": null,
            "grid_auto_rows": null,
            "grid_column": null,
            "grid_gap": null,
            "grid_row": null,
            "grid_template_areas": null,
            "grid_template_columns": null,
            "grid_template_rows": null,
            "height": null,
            "justify_content": null,
            "justify_items": null,
            "left": null,
            "margin": null,
            "max_height": null,
            "max_width": null,
            "min_height": null,
            "min_width": null,
            "object_fit": null,
            "object_position": null,
            "order": null,
            "overflow": null,
            "overflow_x": null,
            "overflow_y": null,
            "padding": null,
            "right": null,
            "top": null,
            "visibility": null,
            "width": null
          }
        },
        "191c334659434d379747325b779675e2": {
          "model_module": "@jupyter-widgets/base",
          "model_name": "LayoutModel",
          "model_module_version": "1.2.0",
          "state": {
            "_model_module": "@jupyter-widgets/base",
            "_model_module_version": "1.2.0",
            "_model_name": "LayoutModel",
            "_view_count": null,
            "_view_module": "@jupyter-widgets/base",
            "_view_module_version": "1.2.0",
            "_view_name": "LayoutView",
            "align_content": null,
            "align_items": null,
            "align_self": null,
            "border": null,
            "bottom": null,
            "display": null,
            "flex": null,
            "flex_flow": null,
            "grid_area": null,
            "grid_auto_columns": null,
            "grid_auto_flow": null,
            "grid_auto_rows": null,
            "grid_column": null,
            "grid_gap": null,
            "grid_row": null,
            "grid_template_areas": null,
            "grid_template_columns": null,
            "grid_template_rows": null,
            "height": null,
            "justify_content": null,
            "justify_items": null,
            "left": null,
            "margin": null,
            "max_height": null,
            "max_width": null,
            "min_height": null,
            "min_width": null,
            "object_fit": null,
            "object_position": null,
            "order": null,
            "overflow": null,
            "overflow_x": null,
            "overflow_y": null,
            "padding": null,
            "right": null,
            "top": null,
            "visibility": null,
            "width": null
          }
        },
        "90ec9dd02734460da71f42d187f8c775": {
          "model_module": "@jupyter-widgets/controls",
          "model_name": "DescriptionStyleModel",
          "model_module_version": "1.5.0",
          "state": {
            "_model_module": "@jupyter-widgets/controls",
            "_model_module_version": "1.5.0",
            "_model_name": "DescriptionStyleModel",
            "_view_count": null,
            "_view_module": "@jupyter-widgets/base",
            "_view_module_version": "1.2.0",
            "_view_name": "StyleView",
            "description_width": ""
          }
        },
        "4fa3f1b0152842ee94731df065121b54": {
          "model_module": "@jupyter-widgets/base",
          "model_name": "LayoutModel",
          "model_module_version": "1.2.0",
          "state": {
            "_model_module": "@jupyter-widgets/base",
            "_model_module_version": "1.2.0",
            "_model_name": "LayoutModel",
            "_view_count": null,
            "_view_module": "@jupyter-widgets/base",
            "_view_module_version": "1.2.0",
            "_view_name": "LayoutView",
            "align_content": null,
            "align_items": null,
            "align_self": null,
            "border": null,
            "bottom": null,
            "display": null,
            "flex": null,
            "flex_flow": null,
            "grid_area": null,
            "grid_auto_columns": null,
            "grid_auto_flow": null,
            "grid_auto_rows": null,
            "grid_column": null,
            "grid_gap": null,
            "grid_row": null,
            "grid_template_areas": null,
            "grid_template_columns": null,
            "grid_template_rows": null,
            "height": null,
            "justify_content": null,
            "justify_items": null,
            "left": null,
            "margin": null,
            "max_height": null,
            "max_width": null,
            "min_height": null,
            "min_width": null,
            "object_fit": null,
            "object_position": null,
            "order": null,
            "overflow": null,
            "overflow_x": null,
            "overflow_y": null,
            "padding": null,
            "right": null,
            "top": null,
            "visibility": null,
            "width": null
          }
        },
        "66484aa729eb4b11807de4225a28da0c": {
          "model_module": "@jupyter-widgets/controls",
          "model_name": "ProgressStyleModel",
          "model_module_version": "1.5.0",
          "state": {
            "_model_module": "@jupyter-widgets/controls",
            "_model_module_version": "1.5.0",
            "_model_name": "ProgressStyleModel",
            "_view_count": null,
            "_view_module": "@jupyter-widgets/base",
            "_view_module_version": "1.2.0",
            "_view_name": "StyleView",
            "bar_color": null,
            "description_width": ""
          }
        },
        "10dd7ac2d02a4164a2afafdd3c21485d": {
          "model_module": "@jupyter-widgets/base",
          "model_name": "LayoutModel",
          "model_module_version": "1.2.0",
          "state": {
            "_model_module": "@jupyter-widgets/base",
            "_model_module_version": "1.2.0",
            "_model_name": "LayoutModel",
            "_view_count": null,
            "_view_module": "@jupyter-widgets/base",
            "_view_module_version": "1.2.0",
            "_view_name": "LayoutView",
            "align_content": null,
            "align_items": null,
            "align_self": null,
            "border": null,
            "bottom": null,
            "display": null,
            "flex": null,
            "flex_flow": null,
            "grid_area": null,
            "grid_auto_columns": null,
            "grid_auto_flow": null,
            "grid_auto_rows": null,
            "grid_column": null,
            "grid_gap": null,
            "grid_row": null,
            "grid_template_areas": null,
            "grid_template_columns": null,
            "grid_template_rows": null,
            "height": null,
            "justify_content": null,
            "justify_items": null,
            "left": null,
            "margin": null,
            "max_height": null,
            "max_width": null,
            "min_height": null,
            "min_width": null,
            "object_fit": null,
            "object_position": null,
            "order": null,
            "overflow": null,
            "overflow_x": null,
            "overflow_y": null,
            "padding": null,
            "right": null,
            "top": null,
            "visibility": null,
            "width": null
          }
        },
        "cde26747731143e181bdbfb1c4633906": {
          "model_module": "@jupyter-widgets/controls",
          "model_name": "DescriptionStyleModel",
          "model_module_version": "1.5.0",
          "state": {
            "_model_module": "@jupyter-widgets/controls",
            "_model_module_version": "1.5.0",
            "_model_name": "DescriptionStyleModel",
            "_view_count": null,
            "_view_module": "@jupyter-widgets/base",
            "_view_module_version": "1.2.0",
            "_view_name": "StyleView",
            "description_width": ""
          }
        },
        "907634901a1e4c96929460cb103f2732": {
          "model_module": "@jupyter-widgets/controls",
          "model_name": "HBoxModel",
          "model_module_version": "1.5.0",
          "state": {
            "_dom_classes": [],
            "_model_module": "@jupyter-widgets/controls",
            "_model_module_version": "1.5.0",
            "_model_name": "HBoxModel",
            "_view_count": null,
            "_view_module": "@jupyter-widgets/controls",
            "_view_module_version": "1.5.0",
            "_view_name": "HBoxView",
            "box_style": "",
            "children": [
              "IPY_MODEL_30d477abfc084e6fa67ddda486192101",
              "IPY_MODEL_ecea73bfeb55479da4801b7870f3e15f",
              "IPY_MODEL_ace30726e39043449f0603510f1f27a6"
            ],
            "layout": "IPY_MODEL_751ee76567b74bc1b87725bca7ec1550"
          }
        },
        "30d477abfc084e6fa67ddda486192101": {
          "model_module": "@jupyter-widgets/controls",
          "model_name": "HTMLModel",
          "model_module_version": "1.5.0",
          "state": {
            "_dom_classes": [],
            "_model_module": "@jupyter-widgets/controls",
            "_model_module_version": "1.5.0",
            "_model_name": "HTMLModel",
            "_view_count": null,
            "_view_module": "@jupyter-widgets/controls",
            "_view_module_version": "1.5.0",
            "_view_name": "HTMLView",
            "description": "",
            "description_tooltip": null,
            "layout": "IPY_MODEL_1fbe2a809b18461a9ed102f2e00ab120",
            "placeholder": "​",
            "style": "IPY_MODEL_46d696abbc9f4092be0658cdb240d27f",
            "value": "100%"
          }
        },
        "ecea73bfeb55479da4801b7870f3e15f": {
          "model_module": "@jupyter-widgets/controls",
          "model_name": "FloatProgressModel",
          "model_module_version": "1.5.0",
          "state": {
            "_dom_classes": [],
            "_model_module": "@jupyter-widgets/controls",
            "_model_module_version": "1.5.0",
            "_model_name": "FloatProgressModel",
            "_view_count": null,
            "_view_module": "@jupyter-widgets/controls",
            "_view_module_version": "1.5.0",
            "_view_name": "ProgressView",
            "bar_style": "success",
            "description": "",
            "description_tooltip": null,
            "layout": "IPY_MODEL_33e83310d1d846ecabb403b592624687",
            "max": 3,
            "min": 0,
            "orientation": "horizontal",
            "style": "IPY_MODEL_11f3d5438dd7415dafb04ff9362d819d",
            "value": 3
          }
        },
        "ace30726e39043449f0603510f1f27a6": {
          "model_module": "@jupyter-widgets/controls",
          "model_name": "HTMLModel",
          "model_module_version": "1.5.0",
          "state": {
            "_dom_classes": [],
            "_model_module": "@jupyter-widgets/controls",
            "_model_module_version": "1.5.0",
            "_model_name": "HTMLModel",
            "_view_count": null,
            "_view_module": "@jupyter-widgets/controls",
            "_view_module_version": "1.5.0",
            "_view_name": "HTMLView",
            "description": "",
            "description_tooltip": null,
            "layout": "IPY_MODEL_f3794fcb0c694c1eb5786810f2399302",
            "placeholder": "​",
            "style": "IPY_MODEL_480ce25769884b49a0c2afc82f3d8815",
            "value": " 3/3 [00:00&lt;00:00, 33.62it/s]"
          }
        },
        "751ee76567b74bc1b87725bca7ec1550": {
          "model_module": "@jupyter-widgets/base",
          "model_name": "LayoutModel",
          "model_module_version": "1.2.0",
          "state": {
            "_model_module": "@jupyter-widgets/base",
            "_model_module_version": "1.2.0",
            "_model_name": "LayoutModel",
            "_view_count": null,
            "_view_module": "@jupyter-widgets/base",
            "_view_module_version": "1.2.0",
            "_view_name": "LayoutView",
            "align_content": null,
            "align_items": null,
            "align_self": null,
            "border": null,
            "bottom": null,
            "display": null,
            "flex": null,
            "flex_flow": null,
            "grid_area": null,
            "grid_auto_columns": null,
            "grid_auto_flow": null,
            "grid_auto_rows": null,
            "grid_column": null,
            "grid_gap": null,
            "grid_row": null,
            "grid_template_areas": null,
            "grid_template_columns": null,
            "grid_template_rows": null,
            "height": null,
            "justify_content": null,
            "justify_items": null,
            "left": null,
            "margin": null,
            "max_height": null,
            "max_width": null,
            "min_height": null,
            "min_width": null,
            "object_fit": null,
            "object_position": null,
            "order": null,
            "overflow": null,
            "overflow_x": null,
            "overflow_y": null,
            "padding": null,
            "right": null,
            "top": null,
            "visibility": null,
            "width": null
          }
        },
        "1fbe2a809b18461a9ed102f2e00ab120": {
          "model_module": "@jupyter-widgets/base",
          "model_name": "LayoutModel",
          "model_module_version": "1.2.0",
          "state": {
            "_model_module": "@jupyter-widgets/base",
            "_model_module_version": "1.2.0",
            "_model_name": "LayoutModel",
            "_view_count": null,
            "_view_module": "@jupyter-widgets/base",
            "_view_module_version": "1.2.0",
            "_view_name": "LayoutView",
            "align_content": null,
            "align_items": null,
            "align_self": null,
            "border": null,
            "bottom": null,
            "display": null,
            "flex": null,
            "flex_flow": null,
            "grid_area": null,
            "grid_auto_columns": null,
            "grid_auto_flow": null,
            "grid_auto_rows": null,
            "grid_column": null,
            "grid_gap": null,
            "grid_row": null,
            "grid_template_areas": null,
            "grid_template_columns": null,
            "grid_template_rows": null,
            "height": null,
            "justify_content": null,
            "justify_items": null,
            "left": null,
            "margin": null,
            "max_height": null,
            "max_width": null,
            "min_height": null,
            "min_width": null,
            "object_fit": null,
            "object_position": null,
            "order": null,
            "overflow": null,
            "overflow_x": null,
            "overflow_y": null,
            "padding": null,
            "right": null,
            "top": null,
            "visibility": null,
            "width": null
          }
        },
        "46d696abbc9f4092be0658cdb240d27f": {
          "model_module": "@jupyter-widgets/controls",
          "model_name": "DescriptionStyleModel",
          "model_module_version": "1.5.0",
          "state": {
            "_model_module": "@jupyter-widgets/controls",
            "_model_module_version": "1.5.0",
            "_model_name": "DescriptionStyleModel",
            "_view_count": null,
            "_view_module": "@jupyter-widgets/base",
            "_view_module_version": "1.2.0",
            "_view_name": "StyleView",
            "description_width": ""
          }
        },
        "33e83310d1d846ecabb403b592624687": {
          "model_module": "@jupyter-widgets/base",
          "model_name": "LayoutModel",
          "model_module_version": "1.2.0",
          "state": {
            "_model_module": "@jupyter-widgets/base",
            "_model_module_version": "1.2.0",
            "_model_name": "LayoutModel",
            "_view_count": null,
            "_view_module": "@jupyter-widgets/base",
            "_view_module_version": "1.2.0",
            "_view_name": "LayoutView",
            "align_content": null,
            "align_items": null,
            "align_self": null,
            "border": null,
            "bottom": null,
            "display": null,
            "flex": null,
            "flex_flow": null,
            "grid_area": null,
            "grid_auto_columns": null,
            "grid_auto_flow": null,
            "grid_auto_rows": null,
            "grid_column": null,
            "grid_gap": null,
            "grid_row": null,
            "grid_template_areas": null,
            "grid_template_columns": null,
            "grid_template_rows": null,
            "height": null,
            "justify_content": null,
            "justify_items": null,
            "left": null,
            "margin": null,
            "max_height": null,
            "max_width": null,
            "min_height": null,
            "min_width": null,
            "object_fit": null,
            "object_position": null,
            "order": null,
            "overflow": null,
            "overflow_x": null,
            "overflow_y": null,
            "padding": null,
            "right": null,
            "top": null,
            "visibility": null,
            "width": null
          }
        },
        "11f3d5438dd7415dafb04ff9362d819d": {
          "model_module": "@jupyter-widgets/controls",
          "model_name": "ProgressStyleModel",
          "model_module_version": "1.5.0",
          "state": {
            "_model_module": "@jupyter-widgets/controls",
            "_model_module_version": "1.5.0",
            "_model_name": "ProgressStyleModel",
            "_view_count": null,
            "_view_module": "@jupyter-widgets/base",
            "_view_module_version": "1.2.0",
            "_view_name": "StyleView",
            "bar_color": null,
            "description_width": ""
          }
        },
        "f3794fcb0c694c1eb5786810f2399302": {
          "model_module": "@jupyter-widgets/base",
          "model_name": "LayoutModel",
          "model_module_version": "1.2.0",
          "state": {
            "_model_module": "@jupyter-widgets/base",
            "_model_module_version": "1.2.0",
            "_model_name": "LayoutModel",
            "_view_count": null,
            "_view_module": "@jupyter-widgets/base",
            "_view_module_version": "1.2.0",
            "_view_name": "LayoutView",
            "align_content": null,
            "align_items": null,
            "align_self": null,
            "border": null,
            "bottom": null,
            "display": null,
            "flex": null,
            "flex_flow": null,
            "grid_area": null,
            "grid_auto_columns": null,
            "grid_auto_flow": null,
            "grid_auto_rows": null,
            "grid_column": null,
            "grid_gap": null,
            "grid_row": null,
            "grid_template_areas": null,
            "grid_template_columns": null,
            "grid_template_rows": null,
            "height": null,
            "justify_content": null,
            "justify_items": null,
            "left": null,
            "margin": null,
            "max_height": null,
            "max_width": null,
            "min_height": null,
            "min_width": null,
            "object_fit": null,
            "object_position": null,
            "order": null,
            "overflow": null,
            "overflow_x": null,
            "overflow_y": null,
            "padding": null,
            "right": null,
            "top": null,
            "visibility": null,
            "width": null
          }
        },
        "480ce25769884b49a0c2afc82f3d8815": {
          "model_module": "@jupyter-widgets/controls",
          "model_name": "DescriptionStyleModel",
          "model_module_version": "1.5.0",
          "state": {
            "_model_module": "@jupyter-widgets/controls",
            "_model_module_version": "1.5.0",
            "_model_name": "DescriptionStyleModel",
            "_view_count": null,
            "_view_module": "@jupyter-widgets/base",
            "_view_module_version": "1.2.0",
            "_view_name": "StyleView",
            "description_width": ""
          }
        },
        "b355e6986d774b6cbce5eb6247382599": {
          "model_module": "@jupyter-widgets/controls",
          "model_name": "HBoxModel",
          "model_module_version": "1.5.0",
          "state": {
            "_dom_classes": [],
            "_model_module": "@jupyter-widgets/controls",
            "_model_module_version": "1.5.0",
            "_model_name": "HBoxModel",
            "_view_count": null,
            "_view_module": "@jupyter-widgets/controls",
            "_view_module_version": "1.5.0",
            "_view_name": "HBoxView",
            "box_style": "",
            "children": [
              "IPY_MODEL_3488e4a5734e4d0bbd24248913cff75c",
              "IPY_MODEL_3bbe9f1bece24a789f9de9315972b56c",
              "IPY_MODEL_52e5ceac677a467ab6631c3d21063278"
            ],
            "layout": "IPY_MODEL_5522feb0276a4f5a8743d32612b80a52"
          }
        },
        "3488e4a5734e4d0bbd24248913cff75c": {
          "model_module": "@jupyter-widgets/controls",
          "model_name": "HTMLModel",
          "model_module_version": "1.5.0",
          "state": {
            "_dom_classes": [],
            "_model_module": "@jupyter-widgets/controls",
            "_model_module_version": "1.5.0",
            "_model_name": "HTMLModel",
            "_view_count": null,
            "_view_module": "@jupyter-widgets/controls",
            "_view_module_version": "1.5.0",
            "_view_name": "HTMLView",
            "description": "",
            "description_tooltip": null,
            "layout": "IPY_MODEL_97138d47c4734e09b7ef12d4bacce678",
            "placeholder": "​",
            "style": "IPY_MODEL_97ed9b11a1f841d9bad772f03237a7c7",
            "value": "Downloading: 100%"
          }
        },
        "3bbe9f1bece24a789f9de9315972b56c": {
          "model_module": "@jupyter-widgets/controls",
          "model_name": "FloatProgressModel",
          "model_module_version": "1.5.0",
          "state": {
            "_dom_classes": [],
            "_model_module": "@jupyter-widgets/controls",
            "_model_module_version": "1.5.0",
            "_model_name": "FloatProgressModel",
            "_view_count": null,
            "_view_module": "@jupyter-widgets/controls",
            "_view_module_version": "1.5.0",
            "_view_name": "ProgressView",
            "bar_style": "success",
            "description": "",
            "description_tooltip": null,
            "layout": "IPY_MODEL_1677b4514e794fb086686c1d93e7d151",
            "max": 28,
            "min": 0,
            "orientation": "horizontal",
            "style": "IPY_MODEL_32833a2205a942b08d711215c756a445",
            "value": 28
          }
        },
        "52e5ceac677a467ab6631c3d21063278": {
          "model_module": "@jupyter-widgets/controls",
          "model_name": "HTMLModel",
          "model_module_version": "1.5.0",
          "state": {
            "_dom_classes": [],
            "_model_module": "@jupyter-widgets/controls",
            "_model_module_version": "1.5.0",
            "_model_name": "HTMLModel",
            "_view_count": null,
            "_view_module": "@jupyter-widgets/controls",
            "_view_module_version": "1.5.0",
            "_view_name": "HTMLView",
            "description": "",
            "description_tooltip": null,
            "layout": "IPY_MODEL_fc883a59446346f6b8298c91c86be8ab",
            "placeholder": "​",
            "style": "IPY_MODEL_1a3bb5f633b54ce5a3bbed09714d5519",
            "value": " 28.0/28.0 [00:00&lt;00:00, 348B/s]"
          }
        },
        "5522feb0276a4f5a8743d32612b80a52": {
          "model_module": "@jupyter-widgets/base",
          "model_name": "LayoutModel",
          "model_module_version": "1.2.0",
          "state": {
            "_model_module": "@jupyter-widgets/base",
            "_model_module_version": "1.2.0",
            "_model_name": "LayoutModel",
            "_view_count": null,
            "_view_module": "@jupyter-widgets/base",
            "_view_module_version": "1.2.0",
            "_view_name": "LayoutView",
            "align_content": null,
            "align_items": null,
            "align_self": null,
            "border": null,
            "bottom": null,
            "display": null,
            "flex": null,
            "flex_flow": null,
            "grid_area": null,
            "grid_auto_columns": null,
            "grid_auto_flow": null,
            "grid_auto_rows": null,
            "grid_column": null,
            "grid_gap": null,
            "grid_row": null,
            "grid_template_areas": null,
            "grid_template_columns": null,
            "grid_template_rows": null,
            "height": null,
            "justify_content": null,
            "justify_items": null,
            "left": null,
            "margin": null,
            "max_height": null,
            "max_width": null,
            "min_height": null,
            "min_width": null,
            "object_fit": null,
            "object_position": null,
            "order": null,
            "overflow": null,
            "overflow_x": null,
            "overflow_y": null,
            "padding": null,
            "right": null,
            "top": null,
            "visibility": null,
            "width": null
          }
        },
        "97138d47c4734e09b7ef12d4bacce678": {
          "model_module": "@jupyter-widgets/base",
          "model_name": "LayoutModel",
          "model_module_version": "1.2.0",
          "state": {
            "_model_module": "@jupyter-widgets/base",
            "_model_module_version": "1.2.0",
            "_model_name": "LayoutModel",
            "_view_count": null,
            "_view_module": "@jupyter-widgets/base",
            "_view_module_version": "1.2.0",
            "_view_name": "LayoutView",
            "align_content": null,
            "align_items": null,
            "align_self": null,
            "border": null,
            "bottom": null,
            "display": null,
            "flex": null,
            "flex_flow": null,
            "grid_area": null,
            "grid_auto_columns": null,
            "grid_auto_flow": null,
            "grid_auto_rows": null,
            "grid_column": null,
            "grid_gap": null,
            "grid_row": null,
            "grid_template_areas": null,
            "grid_template_columns": null,
            "grid_template_rows": null,
            "height": null,
            "justify_content": null,
            "justify_items": null,
            "left": null,
            "margin": null,
            "max_height": null,
            "max_width": null,
            "min_height": null,
            "min_width": null,
            "object_fit": null,
            "object_position": null,
            "order": null,
            "overflow": null,
            "overflow_x": null,
            "overflow_y": null,
            "padding": null,
            "right": null,
            "top": null,
            "visibility": null,
            "width": null
          }
        },
        "97ed9b11a1f841d9bad772f03237a7c7": {
          "model_module": "@jupyter-widgets/controls",
          "model_name": "DescriptionStyleModel",
          "model_module_version": "1.5.0",
          "state": {
            "_model_module": "@jupyter-widgets/controls",
            "_model_module_version": "1.5.0",
            "_model_name": "DescriptionStyleModel",
            "_view_count": null,
            "_view_module": "@jupyter-widgets/base",
            "_view_module_version": "1.2.0",
            "_view_name": "StyleView",
            "description_width": ""
          }
        },
        "1677b4514e794fb086686c1d93e7d151": {
          "model_module": "@jupyter-widgets/base",
          "model_name": "LayoutModel",
          "model_module_version": "1.2.0",
          "state": {
            "_model_module": "@jupyter-widgets/base",
            "_model_module_version": "1.2.0",
            "_model_name": "LayoutModel",
            "_view_count": null,
            "_view_module": "@jupyter-widgets/base",
            "_view_module_version": "1.2.0",
            "_view_name": "LayoutView",
            "align_content": null,
            "align_items": null,
            "align_self": null,
            "border": null,
            "bottom": null,
            "display": null,
            "flex": null,
            "flex_flow": null,
            "grid_area": null,
            "grid_auto_columns": null,
            "grid_auto_flow": null,
            "grid_auto_rows": null,
            "grid_column": null,
            "grid_gap": null,
            "grid_row": null,
            "grid_template_areas": null,
            "grid_template_columns": null,
            "grid_template_rows": null,
            "height": null,
            "justify_content": null,
            "justify_items": null,
            "left": null,
            "margin": null,
            "max_height": null,
            "max_width": null,
            "min_height": null,
            "min_width": null,
            "object_fit": null,
            "object_position": null,
            "order": null,
            "overflow": null,
            "overflow_x": null,
            "overflow_y": null,
            "padding": null,
            "right": null,
            "top": null,
            "visibility": null,
            "width": null
          }
        },
        "32833a2205a942b08d711215c756a445": {
          "model_module": "@jupyter-widgets/controls",
          "model_name": "ProgressStyleModel",
          "model_module_version": "1.5.0",
          "state": {
            "_model_module": "@jupyter-widgets/controls",
            "_model_module_version": "1.5.0",
            "_model_name": "ProgressStyleModel",
            "_view_count": null,
            "_view_module": "@jupyter-widgets/base",
            "_view_module_version": "1.2.0",
            "_view_name": "StyleView",
            "bar_color": null,
            "description_width": ""
          }
        },
        "fc883a59446346f6b8298c91c86be8ab": {
          "model_module": "@jupyter-widgets/base",
          "model_name": "LayoutModel",
          "model_module_version": "1.2.0",
          "state": {
            "_model_module": "@jupyter-widgets/base",
            "_model_module_version": "1.2.0",
            "_model_name": "LayoutModel",
            "_view_count": null,
            "_view_module": "@jupyter-widgets/base",
            "_view_module_version": "1.2.0",
            "_view_name": "LayoutView",
            "align_content": null,
            "align_items": null,
            "align_self": null,
            "border": null,
            "bottom": null,
            "display": null,
            "flex": null,
            "flex_flow": null,
            "grid_area": null,
            "grid_auto_columns": null,
            "grid_auto_flow": null,
            "grid_auto_rows": null,
            "grid_column": null,
            "grid_gap": null,
            "grid_row": null,
            "grid_template_areas": null,
            "grid_template_columns": null,
            "grid_template_rows": null,
            "height": null,
            "justify_content": null,
            "justify_items": null,
            "left": null,
            "margin": null,
            "max_height": null,
            "max_width": null,
            "min_height": null,
            "min_width": null,
            "object_fit": null,
            "object_position": null,
            "order": null,
            "overflow": null,
            "overflow_x": null,
            "overflow_y": null,
            "padding": null,
            "right": null,
            "top": null,
            "visibility": null,
            "width": null
          }
        },
        "1a3bb5f633b54ce5a3bbed09714d5519": {
          "model_module": "@jupyter-widgets/controls",
          "model_name": "DescriptionStyleModel",
          "model_module_version": "1.5.0",
          "state": {
            "_model_module": "@jupyter-widgets/controls",
            "_model_module_version": "1.5.0",
            "_model_name": "DescriptionStyleModel",
            "_view_count": null,
            "_view_module": "@jupyter-widgets/base",
            "_view_module_version": "1.2.0",
            "_view_name": "StyleView",
            "description_width": ""
          }
        },
        "f250703c278843ce9f8c9117d53cc138": {
          "model_module": "@jupyter-widgets/controls",
          "model_name": "HBoxModel",
          "model_module_version": "1.5.0",
          "state": {
            "_dom_classes": [],
            "_model_module": "@jupyter-widgets/controls",
            "_model_module_version": "1.5.0",
            "_model_name": "HBoxModel",
            "_view_count": null,
            "_view_module": "@jupyter-widgets/controls",
            "_view_module_version": "1.5.0",
            "_view_name": "HBoxView",
            "box_style": "",
            "children": [
              "IPY_MODEL_afc128b2b6484a6b91307b1413bb726c",
              "IPY_MODEL_54fcf914e41346a7b41e52da30885e5d",
              "IPY_MODEL_16f12801449c47309840e3f3fa9e5ba0"
            ],
            "layout": "IPY_MODEL_dd9530a4495645339415abdc960a0161"
          }
        },
        "afc128b2b6484a6b91307b1413bb726c": {
          "model_module": "@jupyter-widgets/controls",
          "model_name": "HTMLModel",
          "model_module_version": "1.5.0",
          "state": {
            "_dom_classes": [],
            "_model_module": "@jupyter-widgets/controls",
            "_model_module_version": "1.5.0",
            "_model_name": "HTMLModel",
            "_view_count": null,
            "_view_module": "@jupyter-widgets/controls",
            "_view_module_version": "1.5.0",
            "_view_name": "HTMLView",
            "description": "",
            "description_tooltip": null,
            "layout": "IPY_MODEL_0c44f007ccd74a398b7406f12b83ed77",
            "placeholder": "​",
            "style": "IPY_MODEL_dd13ecae2c1f4cd7add39b8055d510b1",
            "value": "Downloading: 100%"
          }
        },
        "54fcf914e41346a7b41e52da30885e5d": {
          "model_module": "@jupyter-widgets/controls",
          "model_name": "FloatProgressModel",
          "model_module_version": "1.5.0",
          "state": {
            "_dom_classes": [],
            "_model_module": "@jupyter-widgets/controls",
            "_model_module_version": "1.5.0",
            "_model_name": "FloatProgressModel",
            "_view_count": null,
            "_view_module": "@jupyter-widgets/controls",
            "_view_module_version": "1.5.0",
            "_view_name": "ProgressView",
            "bar_style": "success",
            "description": "",
            "description_tooltip": null,
            "layout": "IPY_MODEL_2b35bb4004634e629ecb974eadf2065f",
            "max": 483,
            "min": 0,
            "orientation": "horizontal",
            "style": "IPY_MODEL_6b833bc233a14b9b8da870c6cb52b65c",
            "value": 483
          }
        },
        "16f12801449c47309840e3f3fa9e5ba0": {
          "model_module": "@jupyter-widgets/controls",
          "model_name": "HTMLModel",
          "model_module_version": "1.5.0",
          "state": {
            "_dom_classes": [],
            "_model_module": "@jupyter-widgets/controls",
            "_model_module_version": "1.5.0",
            "_model_name": "HTMLModel",
            "_view_count": null,
            "_view_module": "@jupyter-widgets/controls",
            "_view_module_version": "1.5.0",
            "_view_name": "HTMLView",
            "description": "",
            "description_tooltip": null,
            "layout": "IPY_MODEL_132c89b163384d2dbe9c80d224809ac4",
            "placeholder": "​",
            "style": "IPY_MODEL_2c036fa74d614909a239d85c4e2aea7d",
            "value": " 483/483 [00:00&lt;00:00, 3.80kB/s]"
          }
        },
        "dd9530a4495645339415abdc960a0161": {
          "model_module": "@jupyter-widgets/base",
          "model_name": "LayoutModel",
          "model_module_version": "1.2.0",
          "state": {
            "_model_module": "@jupyter-widgets/base",
            "_model_module_version": "1.2.0",
            "_model_name": "LayoutModel",
            "_view_count": null,
            "_view_module": "@jupyter-widgets/base",
            "_view_module_version": "1.2.0",
            "_view_name": "LayoutView",
            "align_content": null,
            "align_items": null,
            "align_self": null,
            "border": null,
            "bottom": null,
            "display": null,
            "flex": null,
            "flex_flow": null,
            "grid_area": null,
            "grid_auto_columns": null,
            "grid_auto_flow": null,
            "grid_auto_rows": null,
            "grid_column": null,
            "grid_gap": null,
            "grid_row": null,
            "grid_template_areas": null,
            "grid_template_columns": null,
            "grid_template_rows": null,
            "height": null,
            "justify_content": null,
            "justify_items": null,
            "left": null,
            "margin": null,
            "max_height": null,
            "max_width": null,
            "min_height": null,
            "min_width": null,
            "object_fit": null,
            "object_position": null,
            "order": null,
            "overflow": null,
            "overflow_x": null,
            "overflow_y": null,
            "padding": null,
            "right": null,
            "top": null,
            "visibility": null,
            "width": null
          }
        },
        "0c44f007ccd74a398b7406f12b83ed77": {
          "model_module": "@jupyter-widgets/base",
          "model_name": "LayoutModel",
          "model_module_version": "1.2.0",
          "state": {
            "_model_module": "@jupyter-widgets/base",
            "_model_module_version": "1.2.0",
            "_model_name": "LayoutModel",
            "_view_count": null,
            "_view_module": "@jupyter-widgets/base",
            "_view_module_version": "1.2.0",
            "_view_name": "LayoutView",
            "align_content": null,
            "align_items": null,
            "align_self": null,
            "border": null,
            "bottom": null,
            "display": null,
            "flex": null,
            "flex_flow": null,
            "grid_area": null,
            "grid_auto_columns": null,
            "grid_auto_flow": null,
            "grid_auto_rows": null,
            "grid_column": null,
            "grid_gap": null,
            "grid_row": null,
            "grid_template_areas": null,
            "grid_template_columns": null,
            "grid_template_rows": null,
            "height": null,
            "justify_content": null,
            "justify_items": null,
            "left": null,
            "margin": null,
            "max_height": null,
            "max_width": null,
            "min_height": null,
            "min_width": null,
            "object_fit": null,
            "object_position": null,
            "order": null,
            "overflow": null,
            "overflow_x": null,
            "overflow_y": null,
            "padding": null,
            "right": null,
            "top": null,
            "visibility": null,
            "width": null
          }
        },
        "dd13ecae2c1f4cd7add39b8055d510b1": {
          "model_module": "@jupyter-widgets/controls",
          "model_name": "DescriptionStyleModel",
          "model_module_version": "1.5.0",
          "state": {
            "_model_module": "@jupyter-widgets/controls",
            "_model_module_version": "1.5.0",
            "_model_name": "DescriptionStyleModel",
            "_view_count": null,
            "_view_module": "@jupyter-widgets/base",
            "_view_module_version": "1.2.0",
            "_view_name": "StyleView",
            "description_width": ""
          }
        },
        "2b35bb4004634e629ecb974eadf2065f": {
          "model_module": "@jupyter-widgets/base",
          "model_name": "LayoutModel",
          "model_module_version": "1.2.0",
          "state": {
            "_model_module": "@jupyter-widgets/base",
            "_model_module_version": "1.2.0",
            "_model_name": "LayoutModel",
            "_view_count": null,
            "_view_module": "@jupyter-widgets/base",
            "_view_module_version": "1.2.0",
            "_view_name": "LayoutView",
            "align_content": null,
            "align_items": null,
            "align_self": null,
            "border": null,
            "bottom": null,
            "display": null,
            "flex": null,
            "flex_flow": null,
            "grid_area": null,
            "grid_auto_columns": null,
            "grid_auto_flow": null,
            "grid_auto_rows": null,
            "grid_column": null,
            "grid_gap": null,
            "grid_row": null,
            "grid_template_areas": null,
            "grid_template_columns": null,
            "grid_template_rows": null,
            "height": null,
            "justify_content": null,
            "justify_items": null,
            "left": null,
            "margin": null,
            "max_height": null,
            "max_width": null,
            "min_height": null,
            "min_width": null,
            "object_fit": null,
            "object_position": null,
            "order": null,
            "overflow": null,
            "overflow_x": null,
            "overflow_y": null,
            "padding": null,
            "right": null,
            "top": null,
            "visibility": null,
            "width": null
          }
        },
        "6b833bc233a14b9b8da870c6cb52b65c": {
          "model_module": "@jupyter-widgets/controls",
          "model_name": "ProgressStyleModel",
          "model_module_version": "1.5.0",
          "state": {
            "_model_module": "@jupyter-widgets/controls",
            "_model_module_version": "1.5.0",
            "_model_name": "ProgressStyleModel",
            "_view_count": null,
            "_view_module": "@jupyter-widgets/base",
            "_view_module_version": "1.2.0",
            "_view_name": "StyleView",
            "bar_color": null,
            "description_width": ""
          }
        },
        "132c89b163384d2dbe9c80d224809ac4": {
          "model_module": "@jupyter-widgets/base",
          "model_name": "LayoutModel",
          "model_module_version": "1.2.0",
          "state": {
            "_model_module": "@jupyter-widgets/base",
            "_model_module_version": "1.2.0",
            "_model_name": "LayoutModel",
            "_view_count": null,
            "_view_module": "@jupyter-widgets/base",
            "_view_module_version": "1.2.0",
            "_view_name": "LayoutView",
            "align_content": null,
            "align_items": null,
            "align_self": null,
            "border": null,
            "bottom": null,
            "display": null,
            "flex": null,
            "flex_flow": null,
            "grid_area": null,
            "grid_auto_columns": null,
            "grid_auto_flow": null,
            "grid_auto_rows": null,
            "grid_column": null,
            "grid_gap": null,
            "grid_row": null,
            "grid_template_areas": null,
            "grid_template_columns": null,
            "grid_template_rows": null,
            "height": null,
            "justify_content": null,
            "justify_items": null,
            "left": null,
            "margin": null,
            "max_height": null,
            "max_width": null,
            "min_height": null,
            "min_width": null,
            "object_fit": null,
            "object_position": null,
            "order": null,
            "overflow": null,
            "overflow_x": null,
            "overflow_y": null,
            "padding": null,
            "right": null,
            "top": null,
            "visibility": null,
            "width": null
          }
        },
        "2c036fa74d614909a239d85c4e2aea7d": {
          "model_module": "@jupyter-widgets/controls",
          "model_name": "DescriptionStyleModel",
          "model_module_version": "1.5.0",
          "state": {
            "_model_module": "@jupyter-widgets/controls",
            "_model_module_version": "1.5.0",
            "_model_name": "DescriptionStyleModel",
            "_view_count": null,
            "_view_module": "@jupyter-widgets/base",
            "_view_module_version": "1.2.0",
            "_view_name": "StyleView",
            "description_width": ""
          }
        },
        "bf6493a1062c447d9ddb3d00e47d00ef": {
          "model_module": "@jupyter-widgets/controls",
          "model_name": "HBoxModel",
          "model_module_version": "1.5.0",
          "state": {
            "_dom_classes": [],
            "_model_module": "@jupyter-widgets/controls",
            "_model_module_version": "1.5.0",
            "_model_name": "HBoxModel",
            "_view_count": null,
            "_view_module": "@jupyter-widgets/controls",
            "_view_module_version": "1.5.0",
            "_view_name": "HBoxView",
            "box_style": "",
            "children": [
              "IPY_MODEL_a8bd95ad342f4635b3a8a6d212bcce80",
              "IPY_MODEL_b18f896801b945769ca8df0811530baf",
              "IPY_MODEL_783413e60ebf40f283dbe435bb03ee52"
            ],
            "layout": "IPY_MODEL_fd76748d6b874072af20c7ee0a96581e"
          }
        },
        "a8bd95ad342f4635b3a8a6d212bcce80": {
          "model_module": "@jupyter-widgets/controls",
          "model_name": "HTMLModel",
          "model_module_version": "1.5.0",
          "state": {
            "_dom_classes": [],
            "_model_module": "@jupyter-widgets/controls",
            "_model_module_version": "1.5.0",
            "_model_name": "HTMLModel",
            "_view_count": null,
            "_view_module": "@jupyter-widgets/controls",
            "_view_module_version": "1.5.0",
            "_view_name": "HTMLView",
            "description": "",
            "description_tooltip": null,
            "layout": "IPY_MODEL_8c9a0d37970b46cd973f71844d4d5686",
            "placeholder": "​",
            "style": "IPY_MODEL_81019d3956cf4a14ab415543de5d7f89",
            "value": "Downloading: 100%"
          }
        },
        "b18f896801b945769ca8df0811530baf": {
          "model_module": "@jupyter-widgets/controls",
          "model_name": "FloatProgressModel",
          "model_module_version": "1.5.0",
          "state": {
            "_dom_classes": [],
            "_model_module": "@jupyter-widgets/controls",
            "_model_module_version": "1.5.0",
            "_model_name": "FloatProgressModel",
            "_view_count": null,
            "_view_module": "@jupyter-widgets/controls",
            "_view_module_version": "1.5.0",
            "_view_name": "ProgressView",
            "bar_style": "success",
            "description": "",
            "description_tooltip": null,
            "layout": "IPY_MODEL_c057594ac5cd4280b8cdfe9e1909e776",
            "max": 231508,
            "min": 0,
            "orientation": "horizontal",
            "style": "IPY_MODEL_930a424f9c52417eadd4dbf20528d536",
            "value": 231508
          }
        },
        "783413e60ebf40f283dbe435bb03ee52": {
          "model_module": "@jupyter-widgets/controls",
          "model_name": "HTMLModel",
          "model_module_version": "1.5.0",
          "state": {
            "_dom_classes": [],
            "_model_module": "@jupyter-widgets/controls",
            "_model_module_version": "1.5.0",
            "_model_name": "HTMLModel",
            "_view_count": null,
            "_view_module": "@jupyter-widgets/controls",
            "_view_module_version": "1.5.0",
            "_view_name": "HTMLView",
            "description": "",
            "description_tooltip": null,
            "layout": "IPY_MODEL_10de5585fa594ee9bb1745252c6f9969",
            "placeholder": "​",
            "style": "IPY_MODEL_baa689dbad2741a2abe56c4b60b2de55",
            "value": " 226k/226k [00:00&lt;00:00, 6.78kB/s]"
          }
        },
        "fd76748d6b874072af20c7ee0a96581e": {
          "model_module": "@jupyter-widgets/base",
          "model_name": "LayoutModel",
          "model_module_version": "1.2.0",
          "state": {
            "_model_module": "@jupyter-widgets/base",
            "_model_module_version": "1.2.0",
            "_model_name": "LayoutModel",
            "_view_count": null,
            "_view_module": "@jupyter-widgets/base",
            "_view_module_version": "1.2.0",
            "_view_name": "LayoutView",
            "align_content": null,
            "align_items": null,
            "align_self": null,
            "border": null,
            "bottom": null,
            "display": null,
            "flex": null,
            "flex_flow": null,
            "grid_area": null,
            "grid_auto_columns": null,
            "grid_auto_flow": null,
            "grid_auto_rows": null,
            "grid_column": null,
            "grid_gap": null,
            "grid_row": null,
            "grid_template_areas": null,
            "grid_template_columns": null,
            "grid_template_rows": null,
            "height": null,
            "justify_content": null,
            "justify_items": null,
            "left": null,
            "margin": null,
            "max_height": null,
            "max_width": null,
            "min_height": null,
            "min_width": null,
            "object_fit": null,
            "object_position": null,
            "order": null,
            "overflow": null,
            "overflow_x": null,
            "overflow_y": null,
            "padding": null,
            "right": null,
            "top": null,
            "visibility": null,
            "width": null
          }
        },
        "8c9a0d37970b46cd973f71844d4d5686": {
          "model_module": "@jupyter-widgets/base",
          "model_name": "LayoutModel",
          "model_module_version": "1.2.0",
          "state": {
            "_model_module": "@jupyter-widgets/base",
            "_model_module_version": "1.2.0",
            "_model_name": "LayoutModel",
            "_view_count": null,
            "_view_module": "@jupyter-widgets/base",
            "_view_module_version": "1.2.0",
            "_view_name": "LayoutView",
            "align_content": null,
            "align_items": null,
            "align_self": null,
            "border": null,
            "bottom": null,
            "display": null,
            "flex": null,
            "flex_flow": null,
            "grid_area": null,
            "grid_auto_columns": null,
            "grid_auto_flow": null,
            "grid_auto_rows": null,
            "grid_column": null,
            "grid_gap": null,
            "grid_row": null,
            "grid_template_areas": null,
            "grid_template_columns": null,
            "grid_template_rows": null,
            "height": null,
            "justify_content": null,
            "justify_items": null,
            "left": null,
            "margin": null,
            "max_height": null,
            "max_width": null,
            "min_height": null,
            "min_width": null,
            "object_fit": null,
            "object_position": null,
            "order": null,
            "overflow": null,
            "overflow_x": null,
            "overflow_y": null,
            "padding": null,
            "right": null,
            "top": null,
            "visibility": null,
            "width": null
          }
        },
        "81019d3956cf4a14ab415543de5d7f89": {
          "model_module": "@jupyter-widgets/controls",
          "model_name": "DescriptionStyleModel",
          "model_module_version": "1.5.0",
          "state": {
            "_model_module": "@jupyter-widgets/controls",
            "_model_module_version": "1.5.0",
            "_model_name": "DescriptionStyleModel",
            "_view_count": null,
            "_view_module": "@jupyter-widgets/base",
            "_view_module_version": "1.2.0",
            "_view_name": "StyleView",
            "description_width": ""
          }
        },
        "c057594ac5cd4280b8cdfe9e1909e776": {
          "model_module": "@jupyter-widgets/base",
          "model_name": "LayoutModel",
          "model_module_version": "1.2.0",
          "state": {
            "_model_module": "@jupyter-widgets/base",
            "_model_module_version": "1.2.0",
            "_model_name": "LayoutModel",
            "_view_count": null,
            "_view_module": "@jupyter-widgets/base",
            "_view_module_version": "1.2.0",
            "_view_name": "LayoutView",
            "align_content": null,
            "align_items": null,
            "align_self": null,
            "border": null,
            "bottom": null,
            "display": null,
            "flex": null,
            "flex_flow": null,
            "grid_area": null,
            "grid_auto_columns": null,
            "grid_auto_flow": null,
            "grid_auto_rows": null,
            "grid_column": null,
            "grid_gap": null,
            "grid_row": null,
            "grid_template_areas": null,
            "grid_template_columns": null,
            "grid_template_rows": null,
            "height": null,
            "justify_content": null,
            "justify_items": null,
            "left": null,
            "margin": null,
            "max_height": null,
            "max_width": null,
            "min_height": null,
            "min_width": null,
            "object_fit": null,
            "object_position": null,
            "order": null,
            "overflow": null,
            "overflow_x": null,
            "overflow_y": null,
            "padding": null,
            "right": null,
            "top": null,
            "visibility": null,
            "width": null
          }
        },
        "930a424f9c52417eadd4dbf20528d536": {
          "model_module": "@jupyter-widgets/controls",
          "model_name": "ProgressStyleModel",
          "model_module_version": "1.5.0",
          "state": {
            "_model_module": "@jupyter-widgets/controls",
            "_model_module_version": "1.5.0",
            "_model_name": "ProgressStyleModel",
            "_view_count": null,
            "_view_module": "@jupyter-widgets/base",
            "_view_module_version": "1.2.0",
            "_view_name": "StyleView",
            "bar_color": null,
            "description_width": ""
          }
        },
        "10de5585fa594ee9bb1745252c6f9969": {
          "model_module": "@jupyter-widgets/base",
          "model_name": "LayoutModel",
          "model_module_version": "1.2.0",
          "state": {
            "_model_module": "@jupyter-widgets/base",
            "_model_module_version": "1.2.0",
            "_model_name": "LayoutModel",
            "_view_count": null,
            "_view_module": "@jupyter-widgets/base",
            "_view_module_version": "1.2.0",
            "_view_name": "LayoutView",
            "align_content": null,
            "align_items": null,
            "align_self": null,
            "border": null,
            "bottom": null,
            "display": null,
            "flex": null,
            "flex_flow": null,
            "grid_area": null,
            "grid_auto_columns": null,
            "grid_auto_flow": null,
            "grid_auto_rows": null,
            "grid_column": null,
            "grid_gap": null,
            "grid_row": null,
            "grid_template_areas": null,
            "grid_template_columns": null,
            "grid_template_rows": null,
            "height": null,
            "justify_content": null,
            "justify_items": null,
            "left": null,
            "margin": null,
            "max_height": null,
            "max_width": null,
            "min_height": null,
            "min_width": null,
            "object_fit": null,
            "object_position": null,
            "order": null,
            "overflow": null,
            "overflow_x": null,
            "overflow_y": null,
            "padding": null,
            "right": null,
            "top": null,
            "visibility": null,
            "width": null
          }
        },
        "baa689dbad2741a2abe56c4b60b2de55": {
          "model_module": "@jupyter-widgets/controls",
          "model_name": "DescriptionStyleModel",
          "model_module_version": "1.5.0",
          "state": {
            "_model_module": "@jupyter-widgets/controls",
            "_model_module_version": "1.5.0",
            "_model_name": "DescriptionStyleModel",
            "_view_count": null,
            "_view_module": "@jupyter-widgets/base",
            "_view_module_version": "1.2.0",
            "_view_name": "StyleView",
            "description_width": ""
          }
        },
        "5ab89be0f76a4b279d9da849fd36d7f1": {
          "model_module": "@jupyter-widgets/controls",
          "model_name": "HBoxModel",
          "model_module_version": "1.5.0",
          "state": {
            "_dom_classes": [],
            "_model_module": "@jupyter-widgets/controls",
            "_model_module_version": "1.5.0",
            "_model_name": "HBoxModel",
            "_view_count": null,
            "_view_module": "@jupyter-widgets/controls",
            "_view_module_version": "1.5.0",
            "_view_name": "HBoxView",
            "box_style": "",
            "children": [
              "IPY_MODEL_fdb195e4847e498abeb85059f7b9cca3",
              "IPY_MODEL_994cbbfabbd34f8e965225e2a5c10cf6",
              "IPY_MODEL_308af14d65f4405688b1932c66444bfc"
            ],
            "layout": "IPY_MODEL_fb8c1868cb44473f8e0c6218692a5485"
          }
        },
        "fdb195e4847e498abeb85059f7b9cca3": {
          "model_module": "@jupyter-widgets/controls",
          "model_name": "HTMLModel",
          "model_module_version": "1.5.0",
          "state": {
            "_dom_classes": [],
            "_model_module": "@jupyter-widgets/controls",
            "_model_module_version": "1.5.0",
            "_model_name": "HTMLModel",
            "_view_count": null,
            "_view_module": "@jupyter-widgets/controls",
            "_view_module_version": "1.5.0",
            "_view_name": "HTMLView",
            "description": "",
            "description_tooltip": null,
            "layout": "IPY_MODEL_88f8669043d44705a3c3d4c4c1d3053e",
            "placeholder": "​",
            "style": "IPY_MODEL_0597db5849554523900be34ada310fec",
            "value": "Downloading: 100%"
          }
        },
        "994cbbfabbd34f8e965225e2a5c10cf6": {
          "model_module": "@jupyter-widgets/controls",
          "model_name": "FloatProgressModel",
          "model_module_version": "1.5.0",
          "state": {
            "_dom_classes": [],
            "_model_module": "@jupyter-widgets/controls",
            "_model_module_version": "1.5.0",
            "_model_name": "FloatProgressModel",
            "_view_count": null,
            "_view_module": "@jupyter-widgets/controls",
            "_view_module_version": "1.5.0",
            "_view_name": "ProgressView",
            "bar_style": "success",
            "description": "",
            "description_tooltip": null,
            "layout": "IPY_MODEL_0044ca9ef1d64b0987964f678d8b88f2",
            "max": 466062,
            "min": 0,
            "orientation": "horizontal",
            "style": "IPY_MODEL_231dbf88d9f0459dbf439f4e7affd6a0",
            "value": 466062
          }
        },
        "308af14d65f4405688b1932c66444bfc": {
          "model_module": "@jupyter-widgets/controls",
          "model_name": "HTMLModel",
          "model_module_version": "1.5.0",
          "state": {
            "_dom_classes": [],
            "_model_module": "@jupyter-widgets/controls",
            "_model_module_version": "1.5.0",
            "_model_name": "HTMLModel",
            "_view_count": null,
            "_view_module": "@jupyter-widgets/controls",
            "_view_module_version": "1.5.0",
            "_view_name": "HTMLView",
            "description": "",
            "description_tooltip": null,
            "layout": "IPY_MODEL_5f5d55a4936544e0ad49ed2f42b9a443",
            "placeholder": "​",
            "style": "IPY_MODEL_e18d01000cc8491185648a97469a2575",
            "value": " 455k/455k [00:00&lt;00:00, 1.17MB/s]"
          }
        },
        "fb8c1868cb44473f8e0c6218692a5485": {
          "model_module": "@jupyter-widgets/base",
          "model_name": "LayoutModel",
          "model_module_version": "1.2.0",
          "state": {
            "_model_module": "@jupyter-widgets/base",
            "_model_module_version": "1.2.0",
            "_model_name": "LayoutModel",
            "_view_count": null,
            "_view_module": "@jupyter-widgets/base",
            "_view_module_version": "1.2.0",
            "_view_name": "LayoutView",
            "align_content": null,
            "align_items": null,
            "align_self": null,
            "border": null,
            "bottom": null,
            "display": null,
            "flex": null,
            "flex_flow": null,
            "grid_area": null,
            "grid_auto_columns": null,
            "grid_auto_flow": null,
            "grid_auto_rows": null,
            "grid_column": null,
            "grid_gap": null,
            "grid_row": null,
            "grid_template_areas": null,
            "grid_template_columns": null,
            "grid_template_rows": null,
            "height": null,
            "justify_content": null,
            "justify_items": null,
            "left": null,
            "margin": null,
            "max_height": null,
            "max_width": null,
            "min_height": null,
            "min_width": null,
            "object_fit": null,
            "object_position": null,
            "order": null,
            "overflow": null,
            "overflow_x": null,
            "overflow_y": null,
            "padding": null,
            "right": null,
            "top": null,
            "visibility": null,
            "width": null
          }
        },
        "88f8669043d44705a3c3d4c4c1d3053e": {
          "model_module": "@jupyter-widgets/base",
          "model_name": "LayoutModel",
          "model_module_version": "1.2.0",
          "state": {
            "_model_module": "@jupyter-widgets/base",
            "_model_module_version": "1.2.0",
            "_model_name": "LayoutModel",
            "_view_count": null,
            "_view_module": "@jupyter-widgets/base",
            "_view_module_version": "1.2.0",
            "_view_name": "LayoutView",
            "align_content": null,
            "align_items": null,
            "align_self": null,
            "border": null,
            "bottom": null,
            "display": null,
            "flex": null,
            "flex_flow": null,
            "grid_area": null,
            "grid_auto_columns": null,
            "grid_auto_flow": null,
            "grid_auto_rows": null,
            "grid_column": null,
            "grid_gap": null,
            "grid_row": null,
            "grid_template_areas": null,
            "grid_template_columns": null,
            "grid_template_rows": null,
            "height": null,
            "justify_content": null,
            "justify_items": null,
            "left": null,
            "margin": null,
            "max_height": null,
            "max_width": null,
            "min_height": null,
            "min_width": null,
            "object_fit": null,
            "object_position": null,
            "order": null,
            "overflow": null,
            "overflow_x": null,
            "overflow_y": null,
            "padding": null,
            "right": null,
            "top": null,
            "visibility": null,
            "width": null
          }
        },
        "0597db5849554523900be34ada310fec": {
          "model_module": "@jupyter-widgets/controls",
          "model_name": "DescriptionStyleModel",
          "model_module_version": "1.5.0",
          "state": {
            "_model_module": "@jupyter-widgets/controls",
            "_model_module_version": "1.5.0",
            "_model_name": "DescriptionStyleModel",
            "_view_count": null,
            "_view_module": "@jupyter-widgets/base",
            "_view_module_version": "1.2.0",
            "_view_name": "StyleView",
            "description_width": ""
          }
        },
        "0044ca9ef1d64b0987964f678d8b88f2": {
          "model_module": "@jupyter-widgets/base",
          "model_name": "LayoutModel",
          "model_module_version": "1.2.0",
          "state": {
            "_model_module": "@jupyter-widgets/base",
            "_model_module_version": "1.2.0",
            "_model_name": "LayoutModel",
            "_view_count": null,
            "_view_module": "@jupyter-widgets/base",
            "_view_module_version": "1.2.0",
            "_view_name": "LayoutView",
            "align_content": null,
            "align_items": null,
            "align_self": null,
            "border": null,
            "bottom": null,
            "display": null,
            "flex": null,
            "flex_flow": null,
            "grid_area": null,
            "grid_auto_columns": null,
            "grid_auto_flow": null,
            "grid_auto_rows": null,
            "grid_column": null,
            "grid_gap": null,
            "grid_row": null,
            "grid_template_areas": null,
            "grid_template_columns": null,
            "grid_template_rows": null,
            "height": null,
            "justify_content": null,
            "justify_items": null,
            "left": null,
            "margin": null,
            "max_height": null,
            "max_width": null,
            "min_height": null,
            "min_width": null,
            "object_fit": null,
            "object_position": null,
            "order": null,
            "overflow": null,
            "overflow_x": null,
            "overflow_y": null,
            "padding": null,
            "right": null,
            "top": null,
            "visibility": null,
            "width": null
          }
        },
        "231dbf88d9f0459dbf439f4e7affd6a0": {
          "model_module": "@jupyter-widgets/controls",
          "model_name": "ProgressStyleModel",
          "model_module_version": "1.5.0",
          "state": {
            "_model_module": "@jupyter-widgets/controls",
            "_model_module_version": "1.5.0",
            "_model_name": "ProgressStyleModel",
            "_view_count": null,
            "_view_module": "@jupyter-widgets/base",
            "_view_module_version": "1.2.0",
            "_view_name": "StyleView",
            "bar_color": null,
            "description_width": ""
          }
        },
        "5f5d55a4936544e0ad49ed2f42b9a443": {
          "model_module": "@jupyter-widgets/base",
          "model_name": "LayoutModel",
          "model_module_version": "1.2.0",
          "state": {
            "_model_module": "@jupyter-widgets/base",
            "_model_module_version": "1.2.0",
            "_model_name": "LayoutModel",
            "_view_count": null,
            "_view_module": "@jupyter-widgets/base",
            "_view_module_version": "1.2.0",
            "_view_name": "LayoutView",
            "align_content": null,
            "align_items": null,
            "align_self": null,
            "border": null,
            "bottom": null,
            "display": null,
            "flex": null,
            "flex_flow": null,
            "grid_area": null,
            "grid_auto_columns": null,
            "grid_auto_flow": null,
            "grid_auto_rows": null,
            "grid_column": null,
            "grid_gap": null,
            "grid_row": null,
            "grid_template_areas": null,
            "grid_template_columns": null,
            "grid_template_rows": null,
            "height": null,
            "justify_content": null,
            "justify_items": null,
            "left": null,
            "margin": null,
            "max_height": null,
            "max_width": null,
            "min_height": null,
            "min_width": null,
            "object_fit": null,
            "object_position": null,
            "order": null,
            "overflow": null,
            "overflow_x": null,
            "overflow_y": null,
            "padding": null,
            "right": null,
            "top": null,
            "visibility": null,
            "width": null
          }
        },
        "e18d01000cc8491185648a97469a2575": {
          "model_module": "@jupyter-widgets/controls",
          "model_name": "DescriptionStyleModel",
          "model_module_version": "1.5.0",
          "state": {
            "_model_module": "@jupyter-widgets/controls",
            "_model_module_version": "1.5.0",
            "_model_name": "DescriptionStyleModel",
            "_view_count": null,
            "_view_module": "@jupyter-widgets/base",
            "_view_module_version": "1.2.0",
            "_view_name": "StyleView",
            "description_width": ""
          }
        },
        "df2fe959c8fa4d109a042a6ecae65a19": {
          "model_module": "@jupyter-widgets/controls",
          "model_name": "HBoxModel",
          "model_module_version": "1.5.0",
          "state": {
            "_dom_classes": [],
            "_model_module": "@jupyter-widgets/controls",
            "_model_module_version": "1.5.0",
            "_model_name": "HBoxModel",
            "_view_count": null,
            "_view_module": "@jupyter-widgets/controls",
            "_view_module_version": "1.5.0",
            "_view_name": "HBoxView",
            "box_style": "",
            "children": [
              "IPY_MODEL_9cb6b9d0d9954f08a21e5553d6c17bc3",
              "IPY_MODEL_95dd3b063f0c414e85e20c02846ec343",
              "IPY_MODEL_8282b4a6c1f545f9947e60c2eb283b1b"
            ],
            "layout": "IPY_MODEL_45dc5d914d3c4a78870c7ceca292bee0"
          }
        },
        "9cb6b9d0d9954f08a21e5553d6c17bc3": {
          "model_module": "@jupyter-widgets/controls",
          "model_name": "HTMLModel",
          "model_module_version": "1.5.0",
          "state": {
            "_dom_classes": [],
            "_model_module": "@jupyter-widgets/controls",
            "_model_module_version": "1.5.0",
            "_model_name": "HTMLModel",
            "_view_count": null,
            "_view_module": "@jupyter-widgets/controls",
            "_view_module_version": "1.5.0",
            "_view_name": "HTMLView",
            "description": "",
            "description_tooltip": null,
            "layout": "IPY_MODEL_97b88d2cb0974ba89b6a1a2c0d0263a2",
            "placeholder": "​",
            "style": "IPY_MODEL_3dac3b8ce16747a1a456f32e9de9ab7b",
            "value": "100%"
          }
        },
        "95dd3b063f0c414e85e20c02846ec343": {
          "model_module": "@jupyter-widgets/controls",
          "model_name": "FloatProgressModel",
          "model_module_version": "1.5.0",
          "state": {
            "_dom_classes": [],
            "_model_module": "@jupyter-widgets/controls",
            "_model_module_version": "1.5.0",
            "_model_name": "FloatProgressModel",
            "_view_count": null,
            "_view_module": "@jupyter-widgets/controls",
            "_view_module_version": "1.5.0",
            "_view_name": "ProgressView",
            "bar_style": "success",
            "description": "",
            "description_tooltip": null,
            "layout": "IPY_MODEL_49675045876544d8a80d344786c51417",
            "max": 1,
            "min": 0,
            "orientation": "horizontal",
            "style": "IPY_MODEL_6f6558f7db4249b2bab1d1549e232a1e",
            "value": 1
          }
        },
        "8282b4a6c1f545f9947e60c2eb283b1b": {
          "model_module": "@jupyter-widgets/controls",
          "model_name": "HTMLModel",
          "model_module_version": "1.5.0",
          "state": {
            "_dom_classes": [],
            "_model_module": "@jupyter-widgets/controls",
            "_model_module_version": "1.5.0",
            "_model_name": "HTMLModel",
            "_view_count": null,
            "_view_module": "@jupyter-widgets/controls",
            "_view_module_version": "1.5.0",
            "_view_name": "HTMLView",
            "description": "",
            "description_tooltip": null,
            "layout": "IPY_MODEL_68644e7d4c604af0bbc34cc5ac9df4c4",
            "placeholder": "​",
            "style": "IPY_MODEL_892cca1c117e4bae9d9487123a182347",
            "value": " 1/1 [00:02&lt;00:00,  2.88s/ba]"
          }
        },
        "45dc5d914d3c4a78870c7ceca292bee0": {
          "model_module": "@jupyter-widgets/base",
          "model_name": "LayoutModel",
          "model_module_version": "1.2.0",
          "state": {
            "_model_module": "@jupyter-widgets/base",
            "_model_module_version": "1.2.0",
            "_model_name": "LayoutModel",
            "_view_count": null,
            "_view_module": "@jupyter-widgets/base",
            "_view_module_version": "1.2.0",
            "_view_name": "LayoutView",
            "align_content": null,
            "align_items": null,
            "align_self": null,
            "border": null,
            "bottom": null,
            "display": null,
            "flex": null,
            "flex_flow": null,
            "grid_area": null,
            "grid_auto_columns": null,
            "grid_auto_flow": null,
            "grid_auto_rows": null,
            "grid_column": null,
            "grid_gap": null,
            "grid_row": null,
            "grid_template_areas": null,
            "grid_template_columns": null,
            "grid_template_rows": null,
            "height": null,
            "justify_content": null,
            "justify_items": null,
            "left": null,
            "margin": null,
            "max_height": null,
            "max_width": null,
            "min_height": null,
            "min_width": null,
            "object_fit": null,
            "object_position": null,
            "order": null,
            "overflow": null,
            "overflow_x": null,
            "overflow_y": null,
            "padding": null,
            "right": null,
            "top": null,
            "visibility": null,
            "width": null
          }
        },
        "97b88d2cb0974ba89b6a1a2c0d0263a2": {
          "model_module": "@jupyter-widgets/base",
          "model_name": "LayoutModel",
          "model_module_version": "1.2.0",
          "state": {
            "_model_module": "@jupyter-widgets/base",
            "_model_module_version": "1.2.0",
            "_model_name": "LayoutModel",
            "_view_count": null,
            "_view_module": "@jupyter-widgets/base",
            "_view_module_version": "1.2.0",
            "_view_name": "LayoutView",
            "align_content": null,
            "align_items": null,
            "align_self": null,
            "border": null,
            "bottom": null,
            "display": null,
            "flex": null,
            "flex_flow": null,
            "grid_area": null,
            "grid_auto_columns": null,
            "grid_auto_flow": null,
            "grid_auto_rows": null,
            "grid_column": null,
            "grid_gap": null,
            "grid_row": null,
            "grid_template_areas": null,
            "grid_template_columns": null,
            "grid_template_rows": null,
            "height": null,
            "justify_content": null,
            "justify_items": null,
            "left": null,
            "margin": null,
            "max_height": null,
            "max_width": null,
            "min_height": null,
            "min_width": null,
            "object_fit": null,
            "object_position": null,
            "order": null,
            "overflow": null,
            "overflow_x": null,
            "overflow_y": null,
            "padding": null,
            "right": null,
            "top": null,
            "visibility": null,
            "width": null
          }
        },
        "3dac3b8ce16747a1a456f32e9de9ab7b": {
          "model_module": "@jupyter-widgets/controls",
          "model_name": "DescriptionStyleModel",
          "model_module_version": "1.5.0",
          "state": {
            "_model_module": "@jupyter-widgets/controls",
            "_model_module_version": "1.5.0",
            "_model_name": "DescriptionStyleModel",
            "_view_count": null,
            "_view_module": "@jupyter-widgets/base",
            "_view_module_version": "1.2.0",
            "_view_name": "StyleView",
            "description_width": ""
          }
        },
        "49675045876544d8a80d344786c51417": {
          "model_module": "@jupyter-widgets/base",
          "model_name": "LayoutModel",
          "model_module_version": "1.2.0",
          "state": {
            "_model_module": "@jupyter-widgets/base",
            "_model_module_version": "1.2.0",
            "_model_name": "LayoutModel",
            "_view_count": null,
            "_view_module": "@jupyter-widgets/base",
            "_view_module_version": "1.2.0",
            "_view_name": "LayoutView",
            "align_content": null,
            "align_items": null,
            "align_self": null,
            "border": null,
            "bottom": null,
            "display": null,
            "flex": null,
            "flex_flow": null,
            "grid_area": null,
            "grid_auto_columns": null,
            "grid_auto_flow": null,
            "grid_auto_rows": null,
            "grid_column": null,
            "grid_gap": null,
            "grid_row": null,
            "grid_template_areas": null,
            "grid_template_columns": null,
            "grid_template_rows": null,
            "height": null,
            "justify_content": null,
            "justify_items": null,
            "left": null,
            "margin": null,
            "max_height": null,
            "max_width": null,
            "min_height": null,
            "min_width": null,
            "object_fit": null,
            "object_position": null,
            "order": null,
            "overflow": null,
            "overflow_x": null,
            "overflow_y": null,
            "padding": null,
            "right": null,
            "top": null,
            "visibility": null,
            "width": null
          }
        },
        "6f6558f7db4249b2bab1d1549e232a1e": {
          "model_module": "@jupyter-widgets/controls",
          "model_name": "ProgressStyleModel",
          "model_module_version": "1.5.0",
          "state": {
            "_model_module": "@jupyter-widgets/controls",
            "_model_module_version": "1.5.0",
            "_model_name": "ProgressStyleModel",
            "_view_count": null,
            "_view_module": "@jupyter-widgets/base",
            "_view_module_version": "1.2.0",
            "_view_name": "StyleView",
            "bar_color": null,
            "description_width": ""
          }
        },
        "68644e7d4c604af0bbc34cc5ac9df4c4": {
          "model_module": "@jupyter-widgets/base",
          "model_name": "LayoutModel",
          "model_module_version": "1.2.0",
          "state": {
            "_model_module": "@jupyter-widgets/base",
            "_model_module_version": "1.2.0",
            "_model_name": "LayoutModel",
            "_view_count": null,
            "_view_module": "@jupyter-widgets/base",
            "_view_module_version": "1.2.0",
            "_view_name": "LayoutView",
            "align_content": null,
            "align_items": null,
            "align_self": null,
            "border": null,
            "bottom": null,
            "display": null,
            "flex": null,
            "flex_flow": null,
            "grid_area": null,
            "grid_auto_columns": null,
            "grid_auto_flow": null,
            "grid_auto_rows": null,
            "grid_column": null,
            "grid_gap": null,
            "grid_row": null,
            "grid_template_areas": null,
            "grid_template_columns": null,
            "grid_template_rows": null,
            "height": null,
            "justify_content": null,
            "justify_items": null,
            "left": null,
            "margin": null,
            "max_height": null,
            "max_width": null,
            "min_height": null,
            "min_width": null,
            "object_fit": null,
            "object_position": null,
            "order": null,
            "overflow": null,
            "overflow_x": null,
            "overflow_y": null,
            "padding": null,
            "right": null,
            "top": null,
            "visibility": null,
            "width": null
          }
        },
        "892cca1c117e4bae9d9487123a182347": {
          "model_module": "@jupyter-widgets/controls",
          "model_name": "DescriptionStyleModel",
          "model_module_version": "1.5.0",
          "state": {
            "_model_module": "@jupyter-widgets/controls",
            "_model_module_version": "1.5.0",
            "_model_name": "DescriptionStyleModel",
            "_view_count": null,
            "_view_module": "@jupyter-widgets/base",
            "_view_module_version": "1.2.0",
            "_view_name": "StyleView",
            "description_width": ""
          }
        },
        "395a353e77f442b79f200e35ae0fbecc": {
          "model_module": "@jupyter-widgets/controls",
          "model_name": "HBoxModel",
          "model_module_version": "1.5.0",
          "state": {
            "_dom_classes": [],
            "_model_module": "@jupyter-widgets/controls",
            "_model_module_version": "1.5.0",
            "_model_name": "HBoxModel",
            "_view_count": null,
            "_view_module": "@jupyter-widgets/controls",
            "_view_module_version": "1.5.0",
            "_view_name": "HBoxView",
            "box_style": "",
            "children": [
              "IPY_MODEL_f8778dfb393d4f47adb6bbe4bdec0842",
              "IPY_MODEL_b64e5e6611eb40d6aa01cfc240e1a5a2",
              "IPY_MODEL_098e3fd22dc84a908ab58fd1a0a391b3"
            ],
            "layout": "IPY_MODEL_6d5b6382abc1434c81c40c0e94377f75"
          }
        },
        "f8778dfb393d4f47adb6bbe4bdec0842": {
          "model_module": "@jupyter-widgets/controls",
          "model_name": "HTMLModel",
          "model_module_version": "1.5.0",
          "state": {
            "_dom_classes": [],
            "_model_module": "@jupyter-widgets/controls",
            "_model_module_version": "1.5.0",
            "_model_name": "HTMLModel",
            "_view_count": null,
            "_view_module": "@jupyter-widgets/controls",
            "_view_module_version": "1.5.0",
            "_view_name": "HTMLView",
            "description": "",
            "description_tooltip": null,
            "layout": "IPY_MODEL_0d8a714e6d5341bca4158154b2e022fa",
            "placeholder": "​",
            "style": "IPY_MODEL_1bb98ce6364a4a309730e100302eea91",
            "value": "100%"
          }
        },
        "b64e5e6611eb40d6aa01cfc240e1a5a2": {
          "model_module": "@jupyter-widgets/controls",
          "model_name": "FloatProgressModel",
          "model_module_version": "1.5.0",
          "state": {
            "_dom_classes": [],
            "_model_module": "@jupyter-widgets/controls",
            "_model_module_version": "1.5.0",
            "_model_name": "FloatProgressModel",
            "_view_count": null,
            "_view_module": "@jupyter-widgets/controls",
            "_view_module_version": "1.5.0",
            "_view_name": "ProgressView",
            "bar_style": "success",
            "description": "",
            "description_tooltip": null,
            "layout": "IPY_MODEL_c2305f77c3774661b25619d4dcce8c37",
            "max": 1,
            "min": 0,
            "orientation": "horizontal",
            "style": "IPY_MODEL_52781a65f62641ab9812f62829229f53",
            "value": 1
          }
        },
        "098e3fd22dc84a908ab58fd1a0a391b3": {
          "model_module": "@jupyter-widgets/controls",
          "model_name": "HTMLModel",
          "model_module_version": "1.5.0",
          "state": {
            "_dom_classes": [],
            "_model_module": "@jupyter-widgets/controls",
            "_model_module_version": "1.5.0",
            "_model_name": "HTMLModel",
            "_view_count": null,
            "_view_module": "@jupyter-widgets/controls",
            "_view_module_version": "1.5.0",
            "_view_name": "HTMLView",
            "description": "",
            "description_tooltip": null,
            "layout": "IPY_MODEL_8267c42999dc4b1bb68103e8a358dd3f",
            "placeholder": "​",
            "style": "IPY_MODEL_34e50805c7664064993d2244fa56a49e",
            "value": " 1/1 [00:00&lt;00:00,  2.89ba/s]"
          }
        },
        "6d5b6382abc1434c81c40c0e94377f75": {
          "model_module": "@jupyter-widgets/base",
          "model_name": "LayoutModel",
          "model_module_version": "1.2.0",
          "state": {
            "_model_module": "@jupyter-widgets/base",
            "_model_module_version": "1.2.0",
            "_model_name": "LayoutModel",
            "_view_count": null,
            "_view_module": "@jupyter-widgets/base",
            "_view_module_version": "1.2.0",
            "_view_name": "LayoutView",
            "align_content": null,
            "align_items": null,
            "align_self": null,
            "border": null,
            "bottom": null,
            "display": null,
            "flex": null,
            "flex_flow": null,
            "grid_area": null,
            "grid_auto_columns": null,
            "grid_auto_flow": null,
            "grid_auto_rows": null,
            "grid_column": null,
            "grid_gap": null,
            "grid_row": null,
            "grid_template_areas": null,
            "grid_template_columns": null,
            "grid_template_rows": null,
            "height": null,
            "justify_content": null,
            "justify_items": null,
            "left": null,
            "margin": null,
            "max_height": null,
            "max_width": null,
            "min_height": null,
            "min_width": null,
            "object_fit": null,
            "object_position": null,
            "order": null,
            "overflow": null,
            "overflow_x": null,
            "overflow_y": null,
            "padding": null,
            "right": null,
            "top": null,
            "visibility": null,
            "width": null
          }
        },
        "0d8a714e6d5341bca4158154b2e022fa": {
          "model_module": "@jupyter-widgets/base",
          "model_name": "LayoutModel",
          "model_module_version": "1.2.0",
          "state": {
            "_model_module": "@jupyter-widgets/base",
            "_model_module_version": "1.2.0",
            "_model_name": "LayoutModel",
            "_view_count": null,
            "_view_module": "@jupyter-widgets/base",
            "_view_module_version": "1.2.0",
            "_view_name": "LayoutView",
            "align_content": null,
            "align_items": null,
            "align_self": null,
            "border": null,
            "bottom": null,
            "display": null,
            "flex": null,
            "flex_flow": null,
            "grid_area": null,
            "grid_auto_columns": null,
            "grid_auto_flow": null,
            "grid_auto_rows": null,
            "grid_column": null,
            "grid_gap": null,
            "grid_row": null,
            "grid_template_areas": null,
            "grid_template_columns": null,
            "grid_template_rows": null,
            "height": null,
            "justify_content": null,
            "justify_items": null,
            "left": null,
            "margin": null,
            "max_height": null,
            "max_width": null,
            "min_height": null,
            "min_width": null,
            "object_fit": null,
            "object_position": null,
            "order": null,
            "overflow": null,
            "overflow_x": null,
            "overflow_y": null,
            "padding": null,
            "right": null,
            "top": null,
            "visibility": null,
            "width": null
          }
        },
        "1bb98ce6364a4a309730e100302eea91": {
          "model_module": "@jupyter-widgets/controls",
          "model_name": "DescriptionStyleModel",
          "model_module_version": "1.5.0",
          "state": {
            "_model_module": "@jupyter-widgets/controls",
            "_model_module_version": "1.5.0",
            "_model_name": "DescriptionStyleModel",
            "_view_count": null,
            "_view_module": "@jupyter-widgets/base",
            "_view_module_version": "1.2.0",
            "_view_name": "StyleView",
            "description_width": ""
          }
        },
        "c2305f77c3774661b25619d4dcce8c37": {
          "model_module": "@jupyter-widgets/base",
          "model_name": "LayoutModel",
          "model_module_version": "1.2.0",
          "state": {
            "_model_module": "@jupyter-widgets/base",
            "_model_module_version": "1.2.0",
            "_model_name": "LayoutModel",
            "_view_count": null,
            "_view_module": "@jupyter-widgets/base",
            "_view_module_version": "1.2.0",
            "_view_name": "LayoutView",
            "align_content": null,
            "align_items": null,
            "align_self": null,
            "border": null,
            "bottom": null,
            "display": null,
            "flex": null,
            "flex_flow": null,
            "grid_area": null,
            "grid_auto_columns": null,
            "grid_auto_flow": null,
            "grid_auto_rows": null,
            "grid_column": null,
            "grid_gap": null,
            "grid_row": null,
            "grid_template_areas": null,
            "grid_template_columns": null,
            "grid_template_rows": null,
            "height": null,
            "justify_content": null,
            "justify_items": null,
            "left": null,
            "margin": null,
            "max_height": null,
            "max_width": null,
            "min_height": null,
            "min_width": null,
            "object_fit": null,
            "object_position": null,
            "order": null,
            "overflow": null,
            "overflow_x": null,
            "overflow_y": null,
            "padding": null,
            "right": null,
            "top": null,
            "visibility": null,
            "width": null
          }
        },
        "52781a65f62641ab9812f62829229f53": {
          "model_module": "@jupyter-widgets/controls",
          "model_name": "ProgressStyleModel",
          "model_module_version": "1.5.0",
          "state": {
            "_model_module": "@jupyter-widgets/controls",
            "_model_module_version": "1.5.0",
            "_model_name": "ProgressStyleModel",
            "_view_count": null,
            "_view_module": "@jupyter-widgets/base",
            "_view_module_version": "1.2.0",
            "_view_name": "StyleView",
            "bar_color": null,
            "description_width": ""
          }
        },
        "8267c42999dc4b1bb68103e8a358dd3f": {
          "model_module": "@jupyter-widgets/base",
          "model_name": "LayoutModel",
          "model_module_version": "1.2.0",
          "state": {
            "_model_module": "@jupyter-widgets/base",
            "_model_module_version": "1.2.0",
            "_model_name": "LayoutModel",
            "_view_count": null,
            "_view_module": "@jupyter-widgets/base",
            "_view_module_version": "1.2.0",
            "_view_name": "LayoutView",
            "align_content": null,
            "align_items": null,
            "align_self": null,
            "border": null,
            "bottom": null,
            "display": null,
            "flex": null,
            "flex_flow": null,
            "grid_area": null,
            "grid_auto_columns": null,
            "grid_auto_flow": null,
            "grid_auto_rows": null,
            "grid_column": null,
            "grid_gap": null,
            "grid_row": null,
            "grid_template_areas": null,
            "grid_template_columns": null,
            "grid_template_rows": null,
            "height": null,
            "justify_content": null,
            "justify_items": null,
            "left": null,
            "margin": null,
            "max_height": null,
            "max_width": null,
            "min_height": null,
            "min_width": null,
            "object_fit": null,
            "object_position": null,
            "order": null,
            "overflow": null,
            "overflow_x": null,
            "overflow_y": null,
            "padding": null,
            "right": null,
            "top": null,
            "visibility": null,
            "width": null
          }
        },
        "34e50805c7664064993d2244fa56a49e": {
          "model_module": "@jupyter-widgets/controls",
          "model_name": "DescriptionStyleModel",
          "model_module_version": "1.5.0",
          "state": {
            "_model_module": "@jupyter-widgets/controls",
            "_model_module_version": "1.5.0",
            "_model_name": "DescriptionStyleModel",
            "_view_count": null,
            "_view_module": "@jupyter-widgets/base",
            "_view_module_version": "1.2.0",
            "_view_name": "StyleView",
            "description_width": ""
          }
        },
        "cd16f7d6bb4b43059581c10fc5ca8bf9": {
          "model_module": "@jupyter-widgets/controls",
          "model_name": "HBoxModel",
          "model_module_version": "1.5.0",
          "state": {
            "_dom_classes": [],
            "_model_module": "@jupyter-widgets/controls",
            "_model_module_version": "1.5.0",
            "_model_name": "HBoxModel",
            "_view_count": null,
            "_view_module": "@jupyter-widgets/controls",
            "_view_module_version": "1.5.0",
            "_view_name": "HBoxView",
            "box_style": "",
            "children": [
              "IPY_MODEL_bb6b1c95279641efbe92782588862b8f",
              "IPY_MODEL_5ba6128ecfa14361be917659e1966824",
              "IPY_MODEL_3c94358bc7be423b91472e79fbc8d6d9"
            ],
            "layout": "IPY_MODEL_af74799180e34b769ae06df8dc8c28e7"
          }
        },
        "bb6b1c95279641efbe92782588862b8f": {
          "model_module": "@jupyter-widgets/controls",
          "model_name": "HTMLModel",
          "model_module_version": "1.5.0",
          "state": {
            "_dom_classes": [],
            "_model_module": "@jupyter-widgets/controls",
            "_model_module_version": "1.5.0",
            "_model_name": "HTMLModel",
            "_view_count": null,
            "_view_module": "@jupyter-widgets/controls",
            "_view_module_version": "1.5.0",
            "_view_name": "HTMLView",
            "description": "",
            "description_tooltip": null,
            "layout": "IPY_MODEL_fdc39b43f0474a2a8c91f3186d8ad754",
            "placeholder": "​",
            "style": "IPY_MODEL_af838a92a7674ede9791d9c7bd2983fa",
            "value": "100%"
          }
        },
        "5ba6128ecfa14361be917659e1966824": {
          "model_module": "@jupyter-widgets/controls",
          "model_name": "FloatProgressModel",
          "model_module_version": "1.5.0",
          "state": {
            "_dom_classes": [],
            "_model_module": "@jupyter-widgets/controls",
            "_model_module_version": "1.5.0",
            "_model_name": "FloatProgressModel",
            "_view_count": null,
            "_view_module": "@jupyter-widgets/controls",
            "_view_module_version": "1.5.0",
            "_view_name": "ProgressView",
            "bar_style": "success",
            "description": "",
            "description_tooltip": null,
            "layout": "IPY_MODEL_18567a5b74b747ae8f0ff6a3a0c8bd21",
            "max": 1,
            "min": 0,
            "orientation": "horizontal",
            "style": "IPY_MODEL_a394d3880a83463595f88436698dd653",
            "value": 1
          }
        },
        "3c94358bc7be423b91472e79fbc8d6d9": {
          "model_module": "@jupyter-widgets/controls",
          "model_name": "HTMLModel",
          "model_module_version": "1.5.0",
          "state": {
            "_dom_classes": [],
            "_model_module": "@jupyter-widgets/controls",
            "_model_module_version": "1.5.0",
            "_model_name": "HTMLModel",
            "_view_count": null,
            "_view_module": "@jupyter-widgets/controls",
            "_view_module_version": "1.5.0",
            "_view_name": "HTMLView",
            "description": "",
            "description_tooltip": null,
            "layout": "IPY_MODEL_0b06205c7d10452f956e383b29917534",
            "placeholder": "​",
            "style": "IPY_MODEL_93869a17422d46708ee9a44df6b8a6d7",
            "value": " 1/1 [00:00&lt;00:00,  2.98ba/s]"
          }
        },
        "af74799180e34b769ae06df8dc8c28e7": {
          "model_module": "@jupyter-widgets/base",
          "model_name": "LayoutModel",
          "model_module_version": "1.2.0",
          "state": {
            "_model_module": "@jupyter-widgets/base",
            "_model_module_version": "1.2.0",
            "_model_name": "LayoutModel",
            "_view_count": null,
            "_view_module": "@jupyter-widgets/base",
            "_view_module_version": "1.2.0",
            "_view_name": "LayoutView",
            "align_content": null,
            "align_items": null,
            "align_self": null,
            "border": null,
            "bottom": null,
            "display": null,
            "flex": null,
            "flex_flow": null,
            "grid_area": null,
            "grid_auto_columns": null,
            "grid_auto_flow": null,
            "grid_auto_rows": null,
            "grid_column": null,
            "grid_gap": null,
            "grid_row": null,
            "grid_template_areas": null,
            "grid_template_columns": null,
            "grid_template_rows": null,
            "height": null,
            "justify_content": null,
            "justify_items": null,
            "left": null,
            "margin": null,
            "max_height": null,
            "max_width": null,
            "min_height": null,
            "min_width": null,
            "object_fit": null,
            "object_position": null,
            "order": null,
            "overflow": null,
            "overflow_x": null,
            "overflow_y": null,
            "padding": null,
            "right": null,
            "top": null,
            "visibility": null,
            "width": null
          }
        },
        "fdc39b43f0474a2a8c91f3186d8ad754": {
          "model_module": "@jupyter-widgets/base",
          "model_name": "LayoutModel",
          "model_module_version": "1.2.0",
          "state": {
            "_model_module": "@jupyter-widgets/base",
            "_model_module_version": "1.2.0",
            "_model_name": "LayoutModel",
            "_view_count": null,
            "_view_module": "@jupyter-widgets/base",
            "_view_module_version": "1.2.0",
            "_view_name": "LayoutView",
            "align_content": null,
            "align_items": null,
            "align_self": null,
            "border": null,
            "bottom": null,
            "display": null,
            "flex": null,
            "flex_flow": null,
            "grid_area": null,
            "grid_auto_columns": null,
            "grid_auto_flow": null,
            "grid_auto_rows": null,
            "grid_column": null,
            "grid_gap": null,
            "grid_row": null,
            "grid_template_areas": null,
            "grid_template_columns": null,
            "grid_template_rows": null,
            "height": null,
            "justify_content": null,
            "justify_items": null,
            "left": null,
            "margin": null,
            "max_height": null,
            "max_width": null,
            "min_height": null,
            "min_width": null,
            "object_fit": null,
            "object_position": null,
            "order": null,
            "overflow": null,
            "overflow_x": null,
            "overflow_y": null,
            "padding": null,
            "right": null,
            "top": null,
            "visibility": null,
            "width": null
          }
        },
        "af838a92a7674ede9791d9c7bd2983fa": {
          "model_module": "@jupyter-widgets/controls",
          "model_name": "DescriptionStyleModel",
          "model_module_version": "1.5.0",
          "state": {
            "_model_module": "@jupyter-widgets/controls",
            "_model_module_version": "1.5.0",
            "_model_name": "DescriptionStyleModel",
            "_view_count": null,
            "_view_module": "@jupyter-widgets/base",
            "_view_module_version": "1.2.0",
            "_view_name": "StyleView",
            "description_width": ""
          }
        },
        "18567a5b74b747ae8f0ff6a3a0c8bd21": {
          "model_module": "@jupyter-widgets/base",
          "model_name": "LayoutModel",
          "model_module_version": "1.2.0",
          "state": {
            "_model_module": "@jupyter-widgets/base",
            "_model_module_version": "1.2.0",
            "_model_name": "LayoutModel",
            "_view_count": null,
            "_view_module": "@jupyter-widgets/base",
            "_view_module_version": "1.2.0",
            "_view_name": "LayoutView",
            "align_content": null,
            "align_items": null,
            "align_self": null,
            "border": null,
            "bottom": null,
            "display": null,
            "flex": null,
            "flex_flow": null,
            "grid_area": null,
            "grid_auto_columns": null,
            "grid_auto_flow": null,
            "grid_auto_rows": null,
            "grid_column": null,
            "grid_gap": null,
            "grid_row": null,
            "grid_template_areas": null,
            "grid_template_columns": null,
            "grid_template_rows": null,
            "height": null,
            "justify_content": null,
            "justify_items": null,
            "left": null,
            "margin": null,
            "max_height": null,
            "max_width": null,
            "min_height": null,
            "min_width": null,
            "object_fit": null,
            "object_position": null,
            "order": null,
            "overflow": null,
            "overflow_x": null,
            "overflow_y": null,
            "padding": null,
            "right": null,
            "top": null,
            "visibility": null,
            "width": null
          }
        },
        "a394d3880a83463595f88436698dd653": {
          "model_module": "@jupyter-widgets/controls",
          "model_name": "ProgressStyleModel",
          "model_module_version": "1.5.0",
          "state": {
            "_model_module": "@jupyter-widgets/controls",
            "_model_module_version": "1.5.0",
            "_model_name": "ProgressStyleModel",
            "_view_count": null,
            "_view_module": "@jupyter-widgets/base",
            "_view_module_version": "1.2.0",
            "_view_name": "StyleView",
            "bar_color": null,
            "description_width": ""
          }
        },
        "0b06205c7d10452f956e383b29917534": {
          "model_module": "@jupyter-widgets/base",
          "model_name": "LayoutModel",
          "model_module_version": "1.2.0",
          "state": {
            "_model_module": "@jupyter-widgets/base",
            "_model_module_version": "1.2.0",
            "_model_name": "LayoutModel",
            "_view_count": null,
            "_view_module": "@jupyter-widgets/base",
            "_view_module_version": "1.2.0",
            "_view_name": "LayoutView",
            "align_content": null,
            "align_items": null,
            "align_self": null,
            "border": null,
            "bottom": null,
            "display": null,
            "flex": null,
            "flex_flow": null,
            "grid_area": null,
            "grid_auto_columns": null,
            "grid_auto_flow": null,
            "grid_auto_rows": null,
            "grid_column": null,
            "grid_gap": null,
            "grid_row": null,
            "grid_template_areas": null,
            "grid_template_columns": null,
            "grid_template_rows": null,
            "height": null,
            "justify_content": null,
            "justify_items": null,
            "left": null,
            "margin": null,
            "max_height": null,
            "max_width": null,
            "min_height": null,
            "min_width": null,
            "object_fit": null,
            "object_position": null,
            "order": null,
            "overflow": null,
            "overflow_x": null,
            "overflow_y": null,
            "padding": null,
            "right": null,
            "top": null,
            "visibility": null,
            "width": null
          }
        },
        "93869a17422d46708ee9a44df6b8a6d7": {
          "model_module": "@jupyter-widgets/controls",
          "model_name": "DescriptionStyleModel",
          "model_module_version": "1.5.0",
          "state": {
            "_model_module": "@jupyter-widgets/controls",
            "_model_module_version": "1.5.0",
            "_model_name": "DescriptionStyleModel",
            "_view_count": null,
            "_view_module": "@jupyter-widgets/base",
            "_view_module_version": "1.2.0",
            "_view_name": "StyleView",
            "description_width": ""
          }
        },
        "ed5818a176be4df387c7522f944ea0b0": {
          "model_module": "@jupyter-widgets/controls",
          "model_name": "HBoxModel",
          "model_module_version": "1.5.0",
          "state": {
            "_dom_classes": [],
            "_model_module": "@jupyter-widgets/controls",
            "_model_module_version": "1.5.0",
            "_model_name": "HBoxModel",
            "_view_count": null,
            "_view_module": "@jupyter-widgets/controls",
            "_view_module_version": "1.5.0",
            "_view_name": "HBoxView",
            "box_style": "",
            "children": [
              "IPY_MODEL_01ce252e39d0491687ab78593f930ae9",
              "IPY_MODEL_0391445c497f448f96bb2263e44913e7",
              "IPY_MODEL_9460a203c8664453a36b8187755281b6"
            ],
            "layout": "IPY_MODEL_8164e32c4c4f41eea877b161a8cd422c"
          }
        },
        "01ce252e39d0491687ab78593f930ae9": {
          "model_module": "@jupyter-widgets/controls",
          "model_name": "HTMLModel",
          "model_module_version": "1.5.0",
          "state": {
            "_dom_classes": [],
            "_model_module": "@jupyter-widgets/controls",
            "_model_module_version": "1.5.0",
            "_model_name": "HTMLModel",
            "_view_count": null,
            "_view_module": "@jupyter-widgets/controls",
            "_view_module_version": "1.5.0",
            "_view_name": "HTMLView",
            "description": "",
            "description_tooltip": null,
            "layout": "IPY_MODEL_1e7cce2224f04c7ba66a1512e9ab3c93",
            "placeholder": "​",
            "style": "IPY_MODEL_e0af07f18e7040108010cf4404152fcb",
            "value": "Downloading: 100%"
          }
        },
        "0391445c497f448f96bb2263e44913e7": {
          "model_module": "@jupyter-widgets/controls",
          "model_name": "FloatProgressModel",
          "model_module_version": "1.5.0",
          "state": {
            "_dom_classes": [],
            "_model_module": "@jupyter-widgets/controls",
            "_model_module_version": "1.5.0",
            "_model_name": "FloatProgressModel",
            "_view_count": null,
            "_view_module": "@jupyter-widgets/controls",
            "_view_module_version": "1.5.0",
            "_view_name": "ProgressView",
            "bar_style": "success",
            "description": "",
            "description_tooltip": null,
            "layout": "IPY_MODEL_5b8af6a2133b4407a683e905571143a3",
            "max": 267967963,
            "min": 0,
            "orientation": "horizontal",
            "style": "IPY_MODEL_f84a66525ee14d2eae1445070895c33f",
            "value": 267967963
          }
        },
        "9460a203c8664453a36b8187755281b6": {
          "model_module": "@jupyter-widgets/controls",
          "model_name": "HTMLModel",
          "model_module_version": "1.5.0",
          "state": {
            "_dom_classes": [],
            "_model_module": "@jupyter-widgets/controls",
            "_model_module_version": "1.5.0",
            "_model_name": "HTMLModel",
            "_view_count": null,
            "_view_module": "@jupyter-widgets/controls",
            "_view_module_version": "1.5.0",
            "_view_name": "HTMLView",
            "description": "",
            "description_tooltip": null,
            "layout": "IPY_MODEL_9d57fd766d5349a698cebdc166ac4a6f",
            "placeholder": "​",
            "style": "IPY_MODEL_79b482144be042ba8ea047f16f4895c7",
            "value": " 256M/256M [00:05&lt;00:00, 55.0MB/s]"
          }
        },
        "8164e32c4c4f41eea877b161a8cd422c": {
          "model_module": "@jupyter-widgets/base",
          "model_name": "LayoutModel",
          "model_module_version": "1.2.0",
          "state": {
            "_model_module": "@jupyter-widgets/base",
            "_model_module_version": "1.2.0",
            "_model_name": "LayoutModel",
            "_view_count": null,
            "_view_module": "@jupyter-widgets/base",
            "_view_module_version": "1.2.0",
            "_view_name": "LayoutView",
            "align_content": null,
            "align_items": null,
            "align_self": null,
            "border": null,
            "bottom": null,
            "display": null,
            "flex": null,
            "flex_flow": null,
            "grid_area": null,
            "grid_auto_columns": null,
            "grid_auto_flow": null,
            "grid_auto_rows": null,
            "grid_column": null,
            "grid_gap": null,
            "grid_row": null,
            "grid_template_areas": null,
            "grid_template_columns": null,
            "grid_template_rows": null,
            "height": null,
            "justify_content": null,
            "justify_items": null,
            "left": null,
            "margin": null,
            "max_height": null,
            "max_width": null,
            "min_height": null,
            "min_width": null,
            "object_fit": null,
            "object_position": null,
            "order": null,
            "overflow": null,
            "overflow_x": null,
            "overflow_y": null,
            "padding": null,
            "right": null,
            "top": null,
            "visibility": null,
            "width": null
          }
        },
        "1e7cce2224f04c7ba66a1512e9ab3c93": {
          "model_module": "@jupyter-widgets/base",
          "model_name": "LayoutModel",
          "model_module_version": "1.2.0",
          "state": {
            "_model_module": "@jupyter-widgets/base",
            "_model_module_version": "1.2.0",
            "_model_name": "LayoutModel",
            "_view_count": null,
            "_view_module": "@jupyter-widgets/base",
            "_view_module_version": "1.2.0",
            "_view_name": "LayoutView",
            "align_content": null,
            "align_items": null,
            "align_self": null,
            "border": null,
            "bottom": null,
            "display": null,
            "flex": null,
            "flex_flow": null,
            "grid_area": null,
            "grid_auto_columns": null,
            "grid_auto_flow": null,
            "grid_auto_rows": null,
            "grid_column": null,
            "grid_gap": null,
            "grid_row": null,
            "grid_template_areas": null,
            "grid_template_columns": null,
            "grid_template_rows": null,
            "height": null,
            "justify_content": null,
            "justify_items": null,
            "left": null,
            "margin": null,
            "max_height": null,
            "max_width": null,
            "min_height": null,
            "min_width": null,
            "object_fit": null,
            "object_position": null,
            "order": null,
            "overflow": null,
            "overflow_x": null,
            "overflow_y": null,
            "padding": null,
            "right": null,
            "top": null,
            "visibility": null,
            "width": null
          }
        },
        "e0af07f18e7040108010cf4404152fcb": {
          "model_module": "@jupyter-widgets/controls",
          "model_name": "DescriptionStyleModel",
          "model_module_version": "1.5.0",
          "state": {
            "_model_module": "@jupyter-widgets/controls",
            "_model_module_version": "1.5.0",
            "_model_name": "DescriptionStyleModel",
            "_view_count": null,
            "_view_module": "@jupyter-widgets/base",
            "_view_module_version": "1.2.0",
            "_view_name": "StyleView",
            "description_width": ""
          }
        },
        "5b8af6a2133b4407a683e905571143a3": {
          "model_module": "@jupyter-widgets/base",
          "model_name": "LayoutModel",
          "model_module_version": "1.2.0",
          "state": {
            "_model_module": "@jupyter-widgets/base",
            "_model_module_version": "1.2.0",
            "_model_name": "LayoutModel",
            "_view_count": null,
            "_view_module": "@jupyter-widgets/base",
            "_view_module_version": "1.2.0",
            "_view_name": "LayoutView",
            "align_content": null,
            "align_items": null,
            "align_self": null,
            "border": null,
            "bottom": null,
            "display": null,
            "flex": null,
            "flex_flow": null,
            "grid_area": null,
            "grid_auto_columns": null,
            "grid_auto_flow": null,
            "grid_auto_rows": null,
            "grid_column": null,
            "grid_gap": null,
            "grid_row": null,
            "grid_template_areas": null,
            "grid_template_columns": null,
            "grid_template_rows": null,
            "height": null,
            "justify_content": null,
            "justify_items": null,
            "left": null,
            "margin": null,
            "max_height": null,
            "max_width": null,
            "min_height": null,
            "min_width": null,
            "object_fit": null,
            "object_position": null,
            "order": null,
            "overflow": null,
            "overflow_x": null,
            "overflow_y": null,
            "padding": null,
            "right": null,
            "top": null,
            "visibility": null,
            "width": null
          }
        },
        "f84a66525ee14d2eae1445070895c33f": {
          "model_module": "@jupyter-widgets/controls",
          "model_name": "ProgressStyleModel",
          "model_module_version": "1.5.0",
          "state": {
            "_model_module": "@jupyter-widgets/controls",
            "_model_module_version": "1.5.0",
            "_model_name": "ProgressStyleModel",
            "_view_count": null,
            "_view_module": "@jupyter-widgets/base",
            "_view_module_version": "1.2.0",
            "_view_name": "StyleView",
            "bar_color": null,
            "description_width": ""
          }
        },
        "9d57fd766d5349a698cebdc166ac4a6f": {
          "model_module": "@jupyter-widgets/base",
          "model_name": "LayoutModel",
          "model_module_version": "1.2.0",
          "state": {
            "_model_module": "@jupyter-widgets/base",
            "_model_module_version": "1.2.0",
            "_model_name": "LayoutModel",
            "_view_count": null,
            "_view_module": "@jupyter-widgets/base",
            "_view_module_version": "1.2.0",
            "_view_name": "LayoutView",
            "align_content": null,
            "align_items": null,
            "align_self": null,
            "border": null,
            "bottom": null,
            "display": null,
            "flex": null,
            "flex_flow": null,
            "grid_area": null,
            "grid_auto_columns": null,
            "grid_auto_flow": null,
            "grid_auto_rows": null,
            "grid_column": null,
            "grid_gap": null,
            "grid_row": null,
            "grid_template_areas": null,
            "grid_template_columns": null,
            "grid_template_rows": null,
            "height": null,
            "justify_content": null,
            "justify_items": null,
            "left": null,
            "margin": null,
            "max_height": null,
            "max_width": null,
            "min_height": null,
            "min_width": null,
            "object_fit": null,
            "object_position": null,
            "order": null,
            "overflow": null,
            "overflow_x": null,
            "overflow_y": null,
            "padding": null,
            "right": null,
            "top": null,
            "visibility": null,
            "width": null
          }
        },
        "79b482144be042ba8ea047f16f4895c7": {
          "model_module": "@jupyter-widgets/controls",
          "model_name": "DescriptionStyleModel",
          "model_module_version": "1.5.0",
          "state": {
            "_model_module": "@jupyter-widgets/controls",
            "_model_module_version": "1.5.0",
            "_model_name": "DescriptionStyleModel",
            "_view_count": null,
            "_view_module": "@jupyter-widgets/base",
            "_view_module_version": "1.2.0",
            "_view_name": "StyleView",
            "description_width": ""
          }
        },
        "79683384862b42d4af0eaa44266a8928": {
          "model_module": "@jupyter-widgets/controls",
          "model_name": "HBoxModel",
          "model_module_version": "1.5.0",
          "state": {
            "_dom_classes": [],
            "_model_module": "@jupyter-widgets/controls",
            "_model_module_version": "1.5.0",
            "_model_name": "HBoxModel",
            "_view_count": null,
            "_view_module": "@jupyter-widgets/controls",
            "_view_module_version": "1.5.0",
            "_view_name": "HBoxView",
            "box_style": "",
            "children": [
              "IPY_MODEL_5df0babf93294117bbc39674ca0e3566",
              "IPY_MODEL_a31716d01534487284fc5ce0f733a541",
              "IPY_MODEL_2e0818afcffe41d8bc84f26d95de59d2"
            ],
            "layout": "IPY_MODEL_20229abd1f7b4e0e8e6bc60d8a14d158"
          }
        },
        "5df0babf93294117bbc39674ca0e3566": {
          "model_module": "@jupyter-widgets/controls",
          "model_name": "HTMLModel",
          "model_module_version": "1.5.0",
          "state": {
            "_dom_classes": [],
            "_model_module": "@jupyter-widgets/controls",
            "_model_module_version": "1.5.0",
            "_model_name": "HTMLModel",
            "_view_count": null,
            "_view_module": "@jupyter-widgets/controls",
            "_view_module_version": "1.5.0",
            "_view_name": "HTMLView",
            "description": "",
            "description_tooltip": null,
            "layout": "IPY_MODEL_6bfb3fd445f64a5face62b7a0ef11abe",
            "placeholder": "​",
            "style": "IPY_MODEL_6fbb28cfab3741cc9f93f5b43d20f677",
            "value": "100%"
          }
        },
        "a31716d01534487284fc5ce0f733a541": {
          "model_module": "@jupyter-widgets/controls",
          "model_name": "FloatProgressModel",
          "model_module_version": "1.5.0",
          "state": {
            "_dom_classes": [],
            "_model_module": "@jupyter-widgets/controls",
            "_model_module_version": "1.5.0",
            "_model_name": "FloatProgressModel",
            "_view_count": null,
            "_view_module": "@jupyter-widgets/controls",
            "_view_module_version": "1.5.0",
            "_view_name": "ProgressView",
            "bar_style": "success",
            "description": "",
            "description_tooltip": null,
            "layout": "IPY_MODEL_3375e3cb80f9458b84cb0cdf5ec508f4",
            "max": 16,
            "min": 0,
            "orientation": "horizontal",
            "style": "IPY_MODEL_ce66e074ed194294babd2d1369a658ba",
            "value": 16
          }
        },
        "2e0818afcffe41d8bc84f26d95de59d2": {
          "model_module": "@jupyter-widgets/controls",
          "model_name": "HTMLModel",
          "model_module_version": "1.5.0",
          "state": {
            "_dom_classes": [],
            "_model_module": "@jupyter-widgets/controls",
            "_model_module_version": "1.5.0",
            "_model_name": "HTMLModel",
            "_view_count": null,
            "_view_module": "@jupyter-widgets/controls",
            "_view_module_version": "1.5.0",
            "_view_name": "HTMLView",
            "description": "",
            "description_tooltip": null,
            "layout": "IPY_MODEL_8214897c63444a2e916d49980c2a5823",
            "placeholder": "​",
            "style": "IPY_MODEL_01ce199d079e488ebed3a7bc5afba6b8",
            "value": " 16/16 [00:37&lt;00:00,  2.36s/ba]"
          }
        },
        "20229abd1f7b4e0e8e6bc60d8a14d158": {
          "model_module": "@jupyter-widgets/base",
          "model_name": "LayoutModel",
          "model_module_version": "1.2.0",
          "state": {
            "_model_module": "@jupyter-widgets/base",
            "_model_module_version": "1.2.0",
            "_model_name": "LayoutModel",
            "_view_count": null,
            "_view_module": "@jupyter-widgets/base",
            "_view_module_version": "1.2.0",
            "_view_name": "LayoutView",
            "align_content": null,
            "align_items": null,
            "align_self": null,
            "border": null,
            "bottom": null,
            "display": null,
            "flex": null,
            "flex_flow": null,
            "grid_area": null,
            "grid_auto_columns": null,
            "grid_auto_flow": null,
            "grid_auto_rows": null,
            "grid_column": null,
            "grid_gap": null,
            "grid_row": null,
            "grid_template_areas": null,
            "grid_template_columns": null,
            "grid_template_rows": null,
            "height": null,
            "justify_content": null,
            "justify_items": null,
            "left": null,
            "margin": null,
            "max_height": null,
            "max_width": null,
            "min_height": null,
            "min_width": null,
            "object_fit": null,
            "object_position": null,
            "order": null,
            "overflow": null,
            "overflow_x": null,
            "overflow_y": null,
            "padding": null,
            "right": null,
            "top": null,
            "visibility": null,
            "width": null
          }
        },
        "6bfb3fd445f64a5face62b7a0ef11abe": {
          "model_module": "@jupyter-widgets/base",
          "model_name": "LayoutModel",
          "model_module_version": "1.2.0",
          "state": {
            "_model_module": "@jupyter-widgets/base",
            "_model_module_version": "1.2.0",
            "_model_name": "LayoutModel",
            "_view_count": null,
            "_view_module": "@jupyter-widgets/base",
            "_view_module_version": "1.2.0",
            "_view_name": "LayoutView",
            "align_content": null,
            "align_items": null,
            "align_self": null,
            "border": null,
            "bottom": null,
            "display": null,
            "flex": null,
            "flex_flow": null,
            "grid_area": null,
            "grid_auto_columns": null,
            "grid_auto_flow": null,
            "grid_auto_rows": null,
            "grid_column": null,
            "grid_gap": null,
            "grid_row": null,
            "grid_template_areas": null,
            "grid_template_columns": null,
            "grid_template_rows": null,
            "height": null,
            "justify_content": null,
            "justify_items": null,
            "left": null,
            "margin": null,
            "max_height": null,
            "max_width": null,
            "min_height": null,
            "min_width": null,
            "object_fit": null,
            "object_position": null,
            "order": null,
            "overflow": null,
            "overflow_x": null,
            "overflow_y": null,
            "padding": null,
            "right": null,
            "top": null,
            "visibility": null,
            "width": null
          }
        },
        "6fbb28cfab3741cc9f93f5b43d20f677": {
          "model_module": "@jupyter-widgets/controls",
          "model_name": "DescriptionStyleModel",
          "model_module_version": "1.5.0",
          "state": {
            "_model_module": "@jupyter-widgets/controls",
            "_model_module_version": "1.5.0",
            "_model_name": "DescriptionStyleModel",
            "_view_count": null,
            "_view_module": "@jupyter-widgets/base",
            "_view_module_version": "1.2.0",
            "_view_name": "StyleView",
            "description_width": ""
          }
        },
        "3375e3cb80f9458b84cb0cdf5ec508f4": {
          "model_module": "@jupyter-widgets/base",
          "model_name": "LayoutModel",
          "model_module_version": "1.2.0",
          "state": {
            "_model_module": "@jupyter-widgets/base",
            "_model_module_version": "1.2.0",
            "_model_name": "LayoutModel",
            "_view_count": null,
            "_view_module": "@jupyter-widgets/base",
            "_view_module_version": "1.2.0",
            "_view_name": "LayoutView",
            "align_content": null,
            "align_items": null,
            "align_self": null,
            "border": null,
            "bottom": null,
            "display": null,
            "flex": null,
            "flex_flow": null,
            "grid_area": null,
            "grid_auto_columns": null,
            "grid_auto_flow": null,
            "grid_auto_rows": null,
            "grid_column": null,
            "grid_gap": null,
            "grid_row": null,
            "grid_template_areas": null,
            "grid_template_columns": null,
            "grid_template_rows": null,
            "height": null,
            "justify_content": null,
            "justify_items": null,
            "left": null,
            "margin": null,
            "max_height": null,
            "max_width": null,
            "min_height": null,
            "min_width": null,
            "object_fit": null,
            "object_position": null,
            "order": null,
            "overflow": null,
            "overflow_x": null,
            "overflow_y": null,
            "padding": null,
            "right": null,
            "top": null,
            "visibility": null,
            "width": null
          }
        },
        "ce66e074ed194294babd2d1369a658ba": {
          "model_module": "@jupyter-widgets/controls",
          "model_name": "ProgressStyleModel",
          "model_module_version": "1.5.0",
          "state": {
            "_model_module": "@jupyter-widgets/controls",
            "_model_module_version": "1.5.0",
            "_model_name": "ProgressStyleModel",
            "_view_count": null,
            "_view_module": "@jupyter-widgets/base",
            "_view_module_version": "1.2.0",
            "_view_name": "StyleView",
            "bar_color": null,
            "description_width": ""
          }
        },
        "8214897c63444a2e916d49980c2a5823": {
          "model_module": "@jupyter-widgets/base",
          "model_name": "LayoutModel",
          "model_module_version": "1.2.0",
          "state": {
            "_model_module": "@jupyter-widgets/base",
            "_model_module_version": "1.2.0",
            "_model_name": "LayoutModel",
            "_view_count": null,
            "_view_module": "@jupyter-widgets/base",
            "_view_module_version": "1.2.0",
            "_view_name": "LayoutView",
            "align_content": null,
            "align_items": null,
            "align_self": null,
            "border": null,
            "bottom": null,
            "display": null,
            "flex": null,
            "flex_flow": null,
            "grid_area": null,
            "grid_auto_columns": null,
            "grid_auto_flow": null,
            "grid_auto_rows": null,
            "grid_column": null,
            "grid_gap": null,
            "grid_row": null,
            "grid_template_areas": null,
            "grid_template_columns": null,
            "grid_template_rows": null,
            "height": null,
            "justify_content": null,
            "justify_items": null,
            "left": null,
            "margin": null,
            "max_height": null,
            "max_width": null,
            "min_height": null,
            "min_width": null,
            "object_fit": null,
            "object_position": null,
            "order": null,
            "overflow": null,
            "overflow_x": null,
            "overflow_y": null,
            "padding": null,
            "right": null,
            "top": null,
            "visibility": null,
            "width": null
          }
        },
        "01ce199d079e488ebed3a7bc5afba6b8": {
          "model_module": "@jupyter-widgets/controls",
          "model_name": "DescriptionStyleModel",
          "model_module_version": "1.5.0",
          "state": {
            "_model_module": "@jupyter-widgets/controls",
            "_model_module_version": "1.5.0",
            "_model_name": "DescriptionStyleModel",
            "_view_count": null,
            "_view_module": "@jupyter-widgets/base",
            "_view_module_version": "1.2.0",
            "_view_name": "StyleView",
            "description_width": ""
          }
        },
        "47461c20612646a5902d33e42a9e0cf1": {
          "model_module": "@jupyter-widgets/controls",
          "model_name": "HBoxModel",
          "model_module_version": "1.5.0",
          "state": {
            "_dom_classes": [],
            "_model_module": "@jupyter-widgets/controls",
            "_model_module_version": "1.5.0",
            "_model_name": "HBoxModel",
            "_view_count": null,
            "_view_module": "@jupyter-widgets/controls",
            "_view_module_version": "1.5.0",
            "_view_name": "HBoxView",
            "box_style": "",
            "children": [
              "IPY_MODEL_0fdb0ab2b4ab41e9b2997bb4831fa06c",
              "IPY_MODEL_baff33c2c719483687abbdf8352366f0",
              "IPY_MODEL_5a2fc412fc0b4f5b8ccc03610e512497"
            ],
            "layout": "IPY_MODEL_b3918860d1a44a149905dff7468208ec"
          }
        },
        "0fdb0ab2b4ab41e9b2997bb4831fa06c": {
          "model_module": "@jupyter-widgets/controls",
          "model_name": "HTMLModel",
          "model_module_version": "1.5.0",
          "state": {
            "_dom_classes": [],
            "_model_module": "@jupyter-widgets/controls",
            "_model_module_version": "1.5.0",
            "_model_name": "HTMLModel",
            "_view_count": null,
            "_view_module": "@jupyter-widgets/controls",
            "_view_module_version": "1.5.0",
            "_view_name": "HTMLView",
            "description": "",
            "description_tooltip": null,
            "layout": "IPY_MODEL_950314f95625419982af9ce39cc7c401",
            "placeholder": "​",
            "style": "IPY_MODEL_2da821de87b74949906131c33ccf9db6",
            "value": "100%"
          }
        },
        "baff33c2c719483687abbdf8352366f0": {
          "model_module": "@jupyter-widgets/controls",
          "model_name": "FloatProgressModel",
          "model_module_version": "1.5.0",
          "state": {
            "_dom_classes": [],
            "_model_module": "@jupyter-widgets/controls",
            "_model_module_version": "1.5.0",
            "_model_name": "FloatProgressModel",
            "_view_count": null,
            "_view_module": "@jupyter-widgets/controls",
            "_view_module_version": "1.5.0",
            "_view_name": "ProgressView",
            "bar_style": "success",
            "description": "",
            "description_tooltip": null,
            "layout": "IPY_MODEL_a55f90ab005743e7b5157cd88389102a",
            "max": 2,
            "min": 0,
            "orientation": "horizontal",
            "style": "IPY_MODEL_deddfa248feb491497829ef9c1aac41c",
            "value": 2
          }
        },
        "5a2fc412fc0b4f5b8ccc03610e512497": {
          "model_module": "@jupyter-widgets/controls",
          "model_name": "HTMLModel",
          "model_module_version": "1.5.0",
          "state": {
            "_dom_classes": [],
            "_model_module": "@jupyter-widgets/controls",
            "_model_module_version": "1.5.0",
            "_model_name": "HTMLModel",
            "_view_count": null,
            "_view_module": "@jupyter-widgets/controls",
            "_view_module_version": "1.5.0",
            "_view_name": "HTMLView",
            "description": "",
            "description_tooltip": null,
            "layout": "IPY_MODEL_41abbdc49f8a4d0c8a7330c712952fdb",
            "placeholder": "​",
            "style": "IPY_MODEL_4c9726a4fe1c4fbbb4518f4eca54236a",
            "value": " 2/2 [00:03&lt;00:00,  1.89s/ba]"
          }
        },
        "b3918860d1a44a149905dff7468208ec": {
          "model_module": "@jupyter-widgets/base",
          "model_name": "LayoutModel",
          "model_module_version": "1.2.0",
          "state": {
            "_model_module": "@jupyter-widgets/base",
            "_model_module_version": "1.2.0",
            "_model_name": "LayoutModel",
            "_view_count": null,
            "_view_module": "@jupyter-widgets/base",
            "_view_module_version": "1.2.0",
            "_view_name": "LayoutView",
            "align_content": null,
            "align_items": null,
            "align_self": null,
            "border": null,
            "bottom": null,
            "display": null,
            "flex": null,
            "flex_flow": null,
            "grid_area": null,
            "grid_auto_columns": null,
            "grid_auto_flow": null,
            "grid_auto_rows": null,
            "grid_column": null,
            "grid_gap": null,
            "grid_row": null,
            "grid_template_areas": null,
            "grid_template_columns": null,
            "grid_template_rows": null,
            "height": null,
            "justify_content": null,
            "justify_items": null,
            "left": null,
            "margin": null,
            "max_height": null,
            "max_width": null,
            "min_height": null,
            "min_width": null,
            "object_fit": null,
            "object_position": null,
            "order": null,
            "overflow": null,
            "overflow_x": null,
            "overflow_y": null,
            "padding": null,
            "right": null,
            "top": null,
            "visibility": null,
            "width": null
          }
        },
        "950314f95625419982af9ce39cc7c401": {
          "model_module": "@jupyter-widgets/base",
          "model_name": "LayoutModel",
          "model_module_version": "1.2.0",
          "state": {
            "_model_module": "@jupyter-widgets/base",
            "_model_module_version": "1.2.0",
            "_model_name": "LayoutModel",
            "_view_count": null,
            "_view_module": "@jupyter-widgets/base",
            "_view_module_version": "1.2.0",
            "_view_name": "LayoutView",
            "align_content": null,
            "align_items": null,
            "align_self": null,
            "border": null,
            "bottom": null,
            "display": null,
            "flex": null,
            "flex_flow": null,
            "grid_area": null,
            "grid_auto_columns": null,
            "grid_auto_flow": null,
            "grid_auto_rows": null,
            "grid_column": null,
            "grid_gap": null,
            "grid_row": null,
            "grid_template_areas": null,
            "grid_template_columns": null,
            "grid_template_rows": null,
            "height": null,
            "justify_content": null,
            "justify_items": null,
            "left": null,
            "margin": null,
            "max_height": null,
            "max_width": null,
            "min_height": null,
            "min_width": null,
            "object_fit": null,
            "object_position": null,
            "order": null,
            "overflow": null,
            "overflow_x": null,
            "overflow_y": null,
            "padding": null,
            "right": null,
            "top": null,
            "visibility": null,
            "width": null
          }
        },
        "2da821de87b74949906131c33ccf9db6": {
          "model_module": "@jupyter-widgets/controls",
          "model_name": "DescriptionStyleModel",
          "model_module_version": "1.5.0",
          "state": {
            "_model_module": "@jupyter-widgets/controls",
            "_model_module_version": "1.5.0",
            "_model_name": "DescriptionStyleModel",
            "_view_count": null,
            "_view_module": "@jupyter-widgets/base",
            "_view_module_version": "1.2.0",
            "_view_name": "StyleView",
            "description_width": ""
          }
        },
        "a55f90ab005743e7b5157cd88389102a": {
          "model_module": "@jupyter-widgets/base",
          "model_name": "LayoutModel",
          "model_module_version": "1.2.0",
          "state": {
            "_model_module": "@jupyter-widgets/base",
            "_model_module_version": "1.2.0",
            "_model_name": "LayoutModel",
            "_view_count": null,
            "_view_module": "@jupyter-widgets/base",
            "_view_module_version": "1.2.0",
            "_view_name": "LayoutView",
            "align_content": null,
            "align_items": null,
            "align_self": null,
            "border": null,
            "bottom": null,
            "display": null,
            "flex": null,
            "flex_flow": null,
            "grid_area": null,
            "grid_auto_columns": null,
            "grid_auto_flow": null,
            "grid_auto_rows": null,
            "grid_column": null,
            "grid_gap": null,
            "grid_row": null,
            "grid_template_areas": null,
            "grid_template_columns": null,
            "grid_template_rows": null,
            "height": null,
            "justify_content": null,
            "justify_items": null,
            "left": null,
            "margin": null,
            "max_height": null,
            "max_width": null,
            "min_height": null,
            "min_width": null,
            "object_fit": null,
            "object_position": null,
            "order": null,
            "overflow": null,
            "overflow_x": null,
            "overflow_y": null,
            "padding": null,
            "right": null,
            "top": null,
            "visibility": null,
            "width": null
          }
        },
        "deddfa248feb491497829ef9c1aac41c": {
          "model_module": "@jupyter-widgets/controls",
          "model_name": "ProgressStyleModel",
          "model_module_version": "1.5.0",
          "state": {
            "_model_module": "@jupyter-widgets/controls",
            "_model_module_version": "1.5.0",
            "_model_name": "ProgressStyleModel",
            "_view_count": null,
            "_view_module": "@jupyter-widgets/base",
            "_view_module_version": "1.2.0",
            "_view_name": "StyleView",
            "bar_color": null,
            "description_width": ""
          }
        },
        "41abbdc49f8a4d0c8a7330c712952fdb": {
          "model_module": "@jupyter-widgets/base",
          "model_name": "LayoutModel",
          "model_module_version": "1.2.0",
          "state": {
            "_model_module": "@jupyter-widgets/base",
            "_model_module_version": "1.2.0",
            "_model_name": "LayoutModel",
            "_view_count": null,
            "_view_module": "@jupyter-widgets/base",
            "_view_module_version": "1.2.0",
            "_view_name": "LayoutView",
            "align_content": null,
            "align_items": null,
            "align_self": null,
            "border": null,
            "bottom": null,
            "display": null,
            "flex": null,
            "flex_flow": null,
            "grid_area": null,
            "grid_auto_columns": null,
            "grid_auto_flow": null,
            "grid_auto_rows": null,
            "grid_column": null,
            "grid_gap": null,
            "grid_row": null,
            "grid_template_areas": null,
            "grid_template_columns": null,
            "grid_template_rows": null,
            "height": null,
            "justify_content": null,
            "justify_items": null,
            "left": null,
            "margin": null,
            "max_height": null,
            "max_width": null,
            "min_height": null,
            "min_width": null,
            "object_fit": null,
            "object_position": null,
            "order": null,
            "overflow": null,
            "overflow_x": null,
            "overflow_y": null,
            "padding": null,
            "right": null,
            "top": null,
            "visibility": null,
            "width": null
          }
        },
        "4c9726a4fe1c4fbbb4518f4eca54236a": {
          "model_module": "@jupyter-widgets/controls",
          "model_name": "DescriptionStyleModel",
          "model_module_version": "1.5.0",
          "state": {
            "_model_module": "@jupyter-widgets/controls",
            "_model_module_version": "1.5.0",
            "_model_name": "DescriptionStyleModel",
            "_view_count": null,
            "_view_module": "@jupyter-widgets/base",
            "_view_module_version": "1.2.0",
            "_view_name": "StyleView",
            "description_width": ""
          }
        },
        "b1069c28834845c29483497f2446e35f": {
          "model_module": "@jupyter-widgets/controls",
          "model_name": "HBoxModel",
          "model_module_version": "1.5.0",
          "state": {
            "_dom_classes": [],
            "_model_module": "@jupyter-widgets/controls",
            "_model_module_version": "1.5.0",
            "_model_name": "HBoxModel",
            "_view_count": null,
            "_view_module": "@jupyter-widgets/controls",
            "_view_module_version": "1.5.0",
            "_view_name": "HBoxView",
            "box_style": "",
            "children": [
              "IPY_MODEL_e3dd2454197c4b2d8ac6b5c8e75fec43",
              "IPY_MODEL_e7ebcdca5d7d444c8758f95117373e49",
              "IPY_MODEL_667d5282701d4169b3fd5e0683738666"
            ],
            "layout": "IPY_MODEL_f1633ed01cec45cb916e2517a0396576"
          }
        },
        "e3dd2454197c4b2d8ac6b5c8e75fec43": {
          "model_module": "@jupyter-widgets/controls",
          "model_name": "HTMLModel",
          "model_module_version": "1.5.0",
          "state": {
            "_dom_classes": [],
            "_model_module": "@jupyter-widgets/controls",
            "_model_module_version": "1.5.0",
            "_model_name": "HTMLModel",
            "_view_count": null,
            "_view_module": "@jupyter-widgets/controls",
            "_view_module_version": "1.5.0",
            "_view_name": "HTMLView",
            "description": "",
            "description_tooltip": null,
            "layout": "IPY_MODEL_51297235d729475fb7ece9abe55026f2",
            "placeholder": "​",
            "style": "IPY_MODEL_7afa6b32347d4decaa182760dfaa5897",
            "value": "100%"
          }
        },
        "e7ebcdca5d7d444c8758f95117373e49": {
          "model_module": "@jupyter-widgets/controls",
          "model_name": "FloatProgressModel",
          "model_module_version": "1.5.0",
          "state": {
            "_dom_classes": [],
            "_model_module": "@jupyter-widgets/controls",
            "_model_module_version": "1.5.0",
            "_model_name": "FloatProgressModel",
            "_view_count": null,
            "_view_module": "@jupyter-widgets/controls",
            "_view_module_version": "1.5.0",
            "_view_name": "ProgressView",
            "bar_style": "success",
            "description": "",
            "description_tooltip": null,
            "layout": "IPY_MODEL_df42fc11f0dd4fc38b8718f3035e1b10",
            "max": 2,
            "min": 0,
            "orientation": "horizontal",
            "style": "IPY_MODEL_db4c95c5a5d2493ba03dace0663b1a8a",
            "value": 2
          }
        },
        "667d5282701d4169b3fd5e0683738666": {
          "model_module": "@jupyter-widgets/controls",
          "model_name": "HTMLModel",
          "model_module_version": "1.5.0",
          "state": {
            "_dom_classes": [],
            "_model_module": "@jupyter-widgets/controls",
            "_model_module_version": "1.5.0",
            "_model_name": "HTMLModel",
            "_view_count": null,
            "_view_module": "@jupyter-widgets/controls",
            "_view_module_version": "1.5.0",
            "_view_name": "HTMLView",
            "description": "",
            "description_tooltip": null,
            "layout": "IPY_MODEL_1b20ccf9b75249a19e4e6ed1c9df574b",
            "placeholder": "​",
            "style": "IPY_MODEL_760942c9e520481a844bf17201db97b7",
            "value": " 2/2 [00:03&lt;00:00,  1.90s/ba]"
          }
        },
        "f1633ed01cec45cb916e2517a0396576": {
          "model_module": "@jupyter-widgets/base",
          "model_name": "LayoutModel",
          "model_module_version": "1.2.0",
          "state": {
            "_model_module": "@jupyter-widgets/base",
            "_model_module_version": "1.2.0",
            "_model_name": "LayoutModel",
            "_view_count": null,
            "_view_module": "@jupyter-widgets/base",
            "_view_module_version": "1.2.0",
            "_view_name": "LayoutView",
            "align_content": null,
            "align_items": null,
            "align_self": null,
            "border": null,
            "bottom": null,
            "display": null,
            "flex": null,
            "flex_flow": null,
            "grid_area": null,
            "grid_auto_columns": null,
            "grid_auto_flow": null,
            "grid_auto_rows": null,
            "grid_column": null,
            "grid_gap": null,
            "grid_row": null,
            "grid_template_areas": null,
            "grid_template_columns": null,
            "grid_template_rows": null,
            "height": null,
            "justify_content": null,
            "justify_items": null,
            "left": null,
            "margin": null,
            "max_height": null,
            "max_width": null,
            "min_height": null,
            "min_width": null,
            "object_fit": null,
            "object_position": null,
            "order": null,
            "overflow": null,
            "overflow_x": null,
            "overflow_y": null,
            "padding": null,
            "right": null,
            "top": null,
            "visibility": null,
            "width": null
          }
        },
        "51297235d729475fb7ece9abe55026f2": {
          "model_module": "@jupyter-widgets/base",
          "model_name": "LayoutModel",
          "model_module_version": "1.2.0",
          "state": {
            "_model_module": "@jupyter-widgets/base",
            "_model_module_version": "1.2.0",
            "_model_name": "LayoutModel",
            "_view_count": null,
            "_view_module": "@jupyter-widgets/base",
            "_view_module_version": "1.2.0",
            "_view_name": "LayoutView",
            "align_content": null,
            "align_items": null,
            "align_self": null,
            "border": null,
            "bottom": null,
            "display": null,
            "flex": null,
            "flex_flow": null,
            "grid_area": null,
            "grid_auto_columns": null,
            "grid_auto_flow": null,
            "grid_auto_rows": null,
            "grid_column": null,
            "grid_gap": null,
            "grid_row": null,
            "grid_template_areas": null,
            "grid_template_columns": null,
            "grid_template_rows": null,
            "height": null,
            "justify_content": null,
            "justify_items": null,
            "left": null,
            "margin": null,
            "max_height": null,
            "max_width": null,
            "min_height": null,
            "min_width": null,
            "object_fit": null,
            "object_position": null,
            "order": null,
            "overflow": null,
            "overflow_x": null,
            "overflow_y": null,
            "padding": null,
            "right": null,
            "top": null,
            "visibility": null,
            "width": null
          }
        },
        "7afa6b32347d4decaa182760dfaa5897": {
          "model_module": "@jupyter-widgets/controls",
          "model_name": "DescriptionStyleModel",
          "model_module_version": "1.5.0",
          "state": {
            "_model_module": "@jupyter-widgets/controls",
            "_model_module_version": "1.5.0",
            "_model_name": "DescriptionStyleModel",
            "_view_count": null,
            "_view_module": "@jupyter-widgets/base",
            "_view_module_version": "1.2.0",
            "_view_name": "StyleView",
            "description_width": ""
          }
        },
        "df42fc11f0dd4fc38b8718f3035e1b10": {
          "model_module": "@jupyter-widgets/base",
          "model_name": "LayoutModel",
          "model_module_version": "1.2.0",
          "state": {
            "_model_module": "@jupyter-widgets/base",
            "_model_module_version": "1.2.0",
            "_model_name": "LayoutModel",
            "_view_count": null,
            "_view_module": "@jupyter-widgets/base",
            "_view_module_version": "1.2.0",
            "_view_name": "LayoutView",
            "align_content": null,
            "align_items": null,
            "align_self": null,
            "border": null,
            "bottom": null,
            "display": null,
            "flex": null,
            "flex_flow": null,
            "grid_area": null,
            "grid_auto_columns": null,
            "grid_auto_flow": null,
            "grid_auto_rows": null,
            "grid_column": null,
            "grid_gap": null,
            "grid_row": null,
            "grid_template_areas": null,
            "grid_template_columns": null,
            "grid_template_rows": null,
            "height": null,
            "justify_content": null,
            "justify_items": null,
            "left": null,
            "margin": null,
            "max_height": null,
            "max_width": null,
            "min_height": null,
            "min_width": null,
            "object_fit": null,
            "object_position": null,
            "order": null,
            "overflow": null,
            "overflow_x": null,
            "overflow_y": null,
            "padding": null,
            "right": null,
            "top": null,
            "visibility": null,
            "width": null
          }
        },
        "db4c95c5a5d2493ba03dace0663b1a8a": {
          "model_module": "@jupyter-widgets/controls",
          "model_name": "ProgressStyleModel",
          "model_module_version": "1.5.0",
          "state": {
            "_model_module": "@jupyter-widgets/controls",
            "_model_module_version": "1.5.0",
            "_model_name": "ProgressStyleModel",
            "_view_count": null,
            "_view_module": "@jupyter-widgets/base",
            "_view_module_version": "1.2.0",
            "_view_name": "StyleView",
            "bar_color": null,
            "description_width": ""
          }
        },
        "1b20ccf9b75249a19e4e6ed1c9df574b": {
          "model_module": "@jupyter-widgets/base",
          "model_name": "LayoutModel",
          "model_module_version": "1.2.0",
          "state": {
            "_model_module": "@jupyter-widgets/base",
            "_model_module_version": "1.2.0",
            "_model_name": "LayoutModel",
            "_view_count": null,
            "_view_module": "@jupyter-widgets/base",
            "_view_module_version": "1.2.0",
            "_view_name": "LayoutView",
            "align_content": null,
            "align_items": null,
            "align_self": null,
            "border": null,
            "bottom": null,
            "display": null,
            "flex": null,
            "flex_flow": null,
            "grid_area": null,
            "grid_auto_columns": null,
            "grid_auto_flow": null,
            "grid_auto_rows": null,
            "grid_column": null,
            "grid_gap": null,
            "grid_row": null,
            "grid_template_areas": null,
            "grid_template_columns": null,
            "grid_template_rows": null,
            "height": null,
            "justify_content": null,
            "justify_items": null,
            "left": null,
            "margin": null,
            "max_height": null,
            "max_width": null,
            "min_height": null,
            "min_width": null,
            "object_fit": null,
            "object_position": null,
            "order": null,
            "overflow": null,
            "overflow_x": null,
            "overflow_y": null,
            "padding": null,
            "right": null,
            "top": null,
            "visibility": null,
            "width": null
          }
        },
        "760942c9e520481a844bf17201db97b7": {
          "model_module": "@jupyter-widgets/controls",
          "model_name": "DescriptionStyleModel",
          "model_module_version": "1.5.0",
          "state": {
            "_model_module": "@jupyter-widgets/controls",
            "_model_module_version": "1.5.0",
            "_model_name": "DescriptionStyleModel",
            "_view_count": null,
            "_view_module": "@jupyter-widgets/base",
            "_view_module_version": "1.2.0",
            "_view_name": "StyleView",
            "description_width": ""
          }
        },
        "a827a716a9c3478aad521b58cae32154": {
          "model_module": "@jupyter-widgets/controls",
          "model_name": "HBoxModel",
          "model_module_version": "1.5.0",
          "state": {
            "_dom_classes": [],
            "_model_module": "@jupyter-widgets/controls",
            "_model_module_version": "1.5.0",
            "_model_name": "HBoxModel",
            "_view_count": null,
            "_view_module": "@jupyter-widgets/controls",
            "_view_module_version": "1.5.0",
            "_view_name": "HBoxView",
            "box_style": "",
            "children": [
              "IPY_MODEL_60066ade6a2e453fb0ddaf329105d38f",
              "IPY_MODEL_e118a0b6fd1a4d04a042b29f62fe3e28",
              "IPY_MODEL_6260b0bd776543f49715f45367ba7fa2"
            ],
            "layout": "IPY_MODEL_221772bffbfe45efaf78425ecb9243a7"
          }
        },
        "60066ade6a2e453fb0ddaf329105d38f": {
          "model_module": "@jupyter-widgets/controls",
          "model_name": "HTMLModel",
          "model_module_version": "1.5.0",
          "state": {
            "_dom_classes": [],
            "_model_module": "@jupyter-widgets/controls",
            "_model_module_version": "1.5.0",
            "_model_name": "HTMLModel",
            "_view_count": null,
            "_view_module": "@jupyter-widgets/controls",
            "_view_module_version": "1.5.0",
            "_view_name": "HTMLView",
            "description": "",
            "description_tooltip": null,
            "layout": "IPY_MODEL_eba9e8700eea47958ce4c5ebfba5fcca",
            "placeholder": "​",
            "style": "IPY_MODEL_a472645229434752952b61d6cd943eab",
            "value": "100%"
          }
        },
        "e118a0b6fd1a4d04a042b29f62fe3e28": {
          "model_module": "@jupyter-widgets/controls",
          "model_name": "FloatProgressModel",
          "model_module_version": "1.5.0",
          "state": {
            "_dom_classes": [],
            "_model_module": "@jupyter-widgets/controls",
            "_model_module_version": "1.5.0",
            "_model_name": "FloatProgressModel",
            "_view_count": null,
            "_view_module": "@jupyter-widgets/controls",
            "_view_module_version": "1.5.0",
            "_view_name": "ProgressView",
            "bar_style": "success",
            "description": "",
            "description_tooltip": null,
            "layout": "IPY_MODEL_8583f6e4225e4644ba1b749ab4364247",
            "max": 125,
            "min": 0,
            "orientation": "horizontal",
            "style": "IPY_MODEL_dd35ed5442c64147bb89878f54ff6233",
            "value": 125
          }
        },
        "6260b0bd776543f49715f45367ba7fa2": {
          "model_module": "@jupyter-widgets/controls",
          "model_name": "HTMLModel",
          "model_module_version": "1.5.0",
          "state": {
            "_dom_classes": [],
            "_model_module": "@jupyter-widgets/controls",
            "_model_module_version": "1.5.0",
            "_model_name": "HTMLModel",
            "_view_count": null,
            "_view_module": "@jupyter-widgets/controls",
            "_view_module_version": "1.5.0",
            "_view_name": "HTMLView",
            "description": "",
            "description_tooltip": null,
            "layout": "IPY_MODEL_3037bc4d3c7d4ed39c83e7607294d42c",
            "placeholder": "​",
            "style": "IPY_MODEL_9b8842cb3aeb496c96d3dc7caa721bec",
            "value": " 125/125 [00:05&lt;00:00, 25.43ba/s]"
          }
        },
        "221772bffbfe45efaf78425ecb9243a7": {
          "model_module": "@jupyter-widgets/base",
          "model_name": "LayoutModel",
          "model_module_version": "1.2.0",
          "state": {
            "_model_module": "@jupyter-widgets/base",
            "_model_module_version": "1.2.0",
            "_model_name": "LayoutModel",
            "_view_count": null,
            "_view_module": "@jupyter-widgets/base",
            "_view_module_version": "1.2.0",
            "_view_name": "LayoutView",
            "align_content": null,
            "align_items": null,
            "align_self": null,
            "border": null,
            "bottom": null,
            "display": null,
            "flex": null,
            "flex_flow": null,
            "grid_area": null,
            "grid_auto_columns": null,
            "grid_auto_flow": null,
            "grid_auto_rows": null,
            "grid_column": null,
            "grid_gap": null,
            "grid_row": null,
            "grid_template_areas": null,
            "grid_template_columns": null,
            "grid_template_rows": null,
            "height": null,
            "justify_content": null,
            "justify_items": null,
            "left": null,
            "margin": null,
            "max_height": null,
            "max_width": null,
            "min_height": null,
            "min_width": null,
            "object_fit": null,
            "object_position": null,
            "order": null,
            "overflow": null,
            "overflow_x": null,
            "overflow_y": null,
            "padding": null,
            "right": null,
            "top": null,
            "visibility": null,
            "width": null
          }
        },
        "eba9e8700eea47958ce4c5ebfba5fcca": {
          "model_module": "@jupyter-widgets/base",
          "model_name": "LayoutModel",
          "model_module_version": "1.2.0",
          "state": {
            "_model_module": "@jupyter-widgets/base",
            "_model_module_version": "1.2.0",
            "_model_name": "LayoutModel",
            "_view_count": null,
            "_view_module": "@jupyter-widgets/base",
            "_view_module_version": "1.2.0",
            "_view_name": "LayoutView",
            "align_content": null,
            "align_items": null,
            "align_self": null,
            "border": null,
            "bottom": null,
            "display": null,
            "flex": null,
            "flex_flow": null,
            "grid_area": null,
            "grid_auto_columns": null,
            "grid_auto_flow": null,
            "grid_auto_rows": null,
            "grid_column": null,
            "grid_gap": null,
            "grid_row": null,
            "grid_template_areas": null,
            "grid_template_columns": null,
            "grid_template_rows": null,
            "height": null,
            "justify_content": null,
            "justify_items": null,
            "left": null,
            "margin": null,
            "max_height": null,
            "max_width": null,
            "min_height": null,
            "min_width": null,
            "object_fit": null,
            "object_position": null,
            "order": null,
            "overflow": null,
            "overflow_x": null,
            "overflow_y": null,
            "padding": null,
            "right": null,
            "top": null,
            "visibility": null,
            "width": null
          }
        },
        "a472645229434752952b61d6cd943eab": {
          "model_module": "@jupyter-widgets/controls",
          "model_name": "DescriptionStyleModel",
          "model_module_version": "1.5.0",
          "state": {
            "_model_module": "@jupyter-widgets/controls",
            "_model_module_version": "1.5.0",
            "_model_name": "DescriptionStyleModel",
            "_view_count": null,
            "_view_module": "@jupyter-widgets/base",
            "_view_module_version": "1.2.0",
            "_view_name": "StyleView",
            "description_width": ""
          }
        },
        "8583f6e4225e4644ba1b749ab4364247": {
          "model_module": "@jupyter-widgets/base",
          "model_name": "LayoutModel",
          "model_module_version": "1.2.0",
          "state": {
            "_model_module": "@jupyter-widgets/base",
            "_model_module_version": "1.2.0",
            "_model_name": "LayoutModel",
            "_view_count": null,
            "_view_module": "@jupyter-widgets/base",
            "_view_module_version": "1.2.0",
            "_view_name": "LayoutView",
            "align_content": null,
            "align_items": null,
            "align_self": null,
            "border": null,
            "bottom": null,
            "display": null,
            "flex": null,
            "flex_flow": null,
            "grid_area": null,
            "grid_auto_columns": null,
            "grid_auto_flow": null,
            "grid_auto_rows": null,
            "grid_column": null,
            "grid_gap": null,
            "grid_row": null,
            "grid_template_areas": null,
            "grid_template_columns": null,
            "grid_template_rows": null,
            "height": null,
            "justify_content": null,
            "justify_items": null,
            "left": null,
            "margin": null,
            "max_height": null,
            "max_width": null,
            "min_height": null,
            "min_width": null,
            "object_fit": null,
            "object_position": null,
            "order": null,
            "overflow": null,
            "overflow_x": null,
            "overflow_y": null,
            "padding": null,
            "right": null,
            "top": null,
            "visibility": null,
            "width": null
          }
        },
        "dd35ed5442c64147bb89878f54ff6233": {
          "model_module": "@jupyter-widgets/controls",
          "model_name": "ProgressStyleModel",
          "model_module_version": "1.5.0",
          "state": {
            "_model_module": "@jupyter-widgets/controls",
            "_model_module_version": "1.5.0",
            "_model_name": "ProgressStyleModel",
            "_view_count": null,
            "_view_module": "@jupyter-widgets/base",
            "_view_module_version": "1.2.0",
            "_view_name": "StyleView",
            "bar_color": null,
            "description_width": ""
          }
        },
        "3037bc4d3c7d4ed39c83e7607294d42c": {
          "model_module": "@jupyter-widgets/base",
          "model_name": "LayoutModel",
          "model_module_version": "1.2.0",
          "state": {
            "_model_module": "@jupyter-widgets/base",
            "_model_module_version": "1.2.0",
            "_model_name": "LayoutModel",
            "_view_count": null,
            "_view_module": "@jupyter-widgets/base",
            "_view_module_version": "1.2.0",
            "_view_name": "LayoutView",
            "align_content": null,
            "align_items": null,
            "align_self": null,
            "border": null,
            "bottom": null,
            "display": null,
            "flex": null,
            "flex_flow": null,
            "grid_area": null,
            "grid_auto_columns": null,
            "grid_auto_flow": null,
            "grid_auto_rows": null,
            "grid_column": null,
            "grid_gap": null,
            "grid_row": null,
            "grid_template_areas": null,
            "grid_template_columns": null,
            "grid_template_rows": null,
            "height": null,
            "justify_content": null,
            "justify_items": null,
            "left": null,
            "margin": null,
            "max_height": null,
            "max_width": null,
            "min_height": null,
            "min_width": null,
            "object_fit": null,
            "object_position": null,
            "order": null,
            "overflow": null,
            "overflow_x": null,
            "overflow_y": null,
            "padding": null,
            "right": null,
            "top": null,
            "visibility": null,
            "width": null
          }
        },
        "9b8842cb3aeb496c96d3dc7caa721bec": {
          "model_module": "@jupyter-widgets/controls",
          "model_name": "DescriptionStyleModel",
          "model_module_version": "1.5.0",
          "state": {
            "_model_module": "@jupyter-widgets/controls",
            "_model_module_version": "1.5.0",
            "_model_name": "DescriptionStyleModel",
            "_view_count": null,
            "_view_module": "@jupyter-widgets/base",
            "_view_module_version": "1.2.0",
            "_view_name": "StyleView",
            "description_width": ""
          }
        }
      }
    }
  },
  "cells": [
    {
      "cell_type": "markdown",
      "metadata": {
        "id": "view-in-github",
        "colab_type": "text"
      },
      "source": [
        "<a href=\"https://colab.research.google.com/github/Gooogr/Book_nlp_with_transformers/blob/main/ch2_text_classification.ipynb\" target=\"_parent\"><img src=\"https://colab.research.google.com/assets/colab-badge.svg\" alt=\"Open In Colab\"/></a>"
      ]
    },
    {
      "cell_type": "markdown",
      "source": [
        "Example of sentiment analysis. <br>\n",
        "Cover:\n",
        "* Hugging face (HF) Datasets (load and process datasets)\n",
        "* HF Tokenizers (tokenize input text)\n",
        "* HF Transformers (load, train and infer models)\n",
        "* HF Datasets (load metrics and model evaluation)"
      ],
      "metadata": {
        "id": "7hgPyiLYMmAS"
      }
    },
    {
      "cell_type": "code",
      "execution_count": null,
      "metadata": {
        "id": "4PZwboqHQke0"
      },
      "outputs": [],
      "source": [
        "!pip install -qq transformers[sentencepiece] datasets"
      ]
    },
    {
      "cell_type": "code",
      "source": [
        "import datasets\n",
        "import pandas as pd\n",
        "import numpy as np\n",
        "import matplotlib.pyplot as plt\n",
        "from transformers import AutoTokenizer, AutoModel\n",
        "from transformers import AutoModelForSequenceClassification\n",
        "from transformers import Trainer, TrainingArguments\n",
        "from sklearn.decomposition import PCA #instead of UMAP \n",
        "from sklearn.preprocessing import MinMaxScaler\n",
        "from sklearn.linear_model import LogisticRegression\n",
        "from sklearn.metrics import ConfusionMatrixDisplay, confusion_matrix\n",
        "from sklearn.metrics import accuracy_score, f1_score\n",
        "import torch\n",
        "from torch.nn.functional import cross_entropy"
      ],
      "metadata": {
        "id": "9c_RTwv1kbua"
      },
      "execution_count": 105,
      "outputs": []
    },
    {
      "cell_type": "markdown",
      "source": [
        "### Download data"
      ],
      "metadata": {
        "id": "vB51GQHxOZmE"
      }
    },
    {
      "cell_type": "code",
      "source": [
        "all_datasets_names = datasets.list_datasets()\n",
        "print(f'Total amount of datasets: {len(all_datasets_names)}')\n",
        "print(f'The first 5 are: {all_datasets_names[:5]}')"
      ],
      "metadata": {
        "colab": {
          "base_uri": "https://localhost:8080/"
        },
        "id": "DksnnqTkNR4l",
        "outputId": "a555a496-6aa0-42f5-c3f7-91e94d73b3bf"
      },
      "execution_count": 3,
      "outputs": [
        {
          "output_type": "stream",
          "name": "stdout",
          "text": [
            "Total amount of datasets: 4832\n",
            "The first 5 are: ['acronym_identification', 'ade_corpus_v2', 'adversarial_qa', 'aeslc', 'afrikaans_ner_corpus']\n"
          ]
        }
      ]
    },
    {
      "cell_type": "code",
      "source": [
        "emotion = datasets.load_dataset('emotion')"
      ],
      "metadata": {
        "colab": {
          "base_uri": "https://localhost:8080/",
          "height": 281,
          "referenced_widgets": [
            "2d12138d12d147009fd2c6fdc22b0289",
            "26b908201a7e424f8dbf1664462edbe3",
            "2f15eec828ec467fab5391f9dcef78f1",
            "fbbade9d660446dc895780151b030c28",
            "e427e58a33c143d8ad4c9a01ebe8c710",
            "d9f3f888bb8047f8951c172cd0896ffb",
            "f205a140fd5544a8beb4b69b7a90050b",
            "1586b0b2c8c44d429d292b115db81cab",
            "026b08d756d647ed8d2b11b48c6240a5",
            "46831df4ed904c0a9c4cd387a24ba045",
            "4017c6fcc66c4234b658655f9b26f00c",
            "22ba53e2ef844bbf8d03f9c21e7f0f82",
            "25105ec816e742f4b70914ae4df4dff1",
            "20d397ce88244828b2c28b578fea3936",
            "9f2dcf30a23b45f5b56b2d01205be087",
            "99cb19dcbade40bd9149110847b4b0b6",
            "1d71f25a45534c33ab57bdbaad7a604c",
            "48901e945457418f800be10bdbd5b0ac",
            "eb779a94b23b442ebcc6071ff743ae91",
            "844ac5f7e59c4692b4e90cfe08cda2c8",
            "866cc90575244e89a2c98bc8ef5ef465",
            "bcd98ab8fecb4e18a150bb19241d2fed",
            "7785752e8826459ca34cb399b6a60432",
            "2c6e2b8d3edc4343983e43b3a4940a37",
            "7d37c2fce4fe430eae2500c94760cf76",
            "0b019b3cda29439094da22286b62aa11",
            "67dc90a32c6c4359934a668a23960e4c",
            "d33e6fdedb3843049639f297e589bed9",
            "2969cc84d067437aae5bfccddef8b968",
            "c1e666efc49b43c3b0a56f7dbf29ebb9",
            "4cad71c2fed04a7ab351d4440663cb32",
            "318fbb79500c4193bb8ff35e65f50269",
            "b3d50a154ce04d43a16ab9af970ffc0d",
            "4557967f7af04e2f87f19213396251fa",
            "b0c2f92c49314e2c89436627f122aca7",
            "a6f0decb90504a8a8059d6e218a4ff19",
            "83934d09c3ae47b7b83ec6b72447be80",
            "6835c14b94744770bc15fa1cc8fd9042",
            "2f01cd8e549a44359a8f584a35b378bf",
            "343394f90d674623837c5c961fef0100",
            "20d84957725346d98e2f07c4f8202b83",
            "b73e4f045c7f40128096ea0923d22a07",
            "9331641c137242cb9b5e9a31095a38af",
            "fb97eb9999fa4c43b230f2f8af029e0e",
            "316c4ce10ec941d98e3b7c9fa0dd8aa5",
            "02ca9142d35a4647bc01fa138ff7cac9",
            "4d230f4a4b1a4ae48626c110f22e6d6d",
            "b1f62aa90c2d49ec8287d12efefdd65e",
            "e81ddc4a8e8941c6b6fdd06e3d12c653",
            "0535a600257a45168105aab8edc39dcc",
            "5256061ea2c646c6a9f17230dd39002a",
            "1a99c12805b24ccfb4d21aeaf67a9117",
            "67b7b33cb81f4e22a2812b300f2c5536",
            "8d55e566ab8a462c90ae9fb372ebbdc5",
            "3b0a508202234182bea19af09150e58d",
            "7c2ae1c159ac4be0ae723d320cd9742b",
            "e51801ecfb1445c9abb8bd4ba2750689",
            "7a6cf5d9162a4c47a89cd949727bf4a0",
            "ff380b48002c4aab969f480a51ff908a",
            "d4eb06ca99cf4e039082ff9cbb9a59c2",
            "ce77114570ee43feb13d4e2b31359e73",
            "1d90981ee1c24b27a5f79b99bc6a4cf7",
            "772e0e45be1343cc85b851135f07612c",
            "335492367be546089c295b86b43155b7",
            "5ca2bdb1253841c1b87da0b37f095828",
            "5e1eba3495664ece8481a312cca4607e",
            "74eaf83f27d34963a3bd686adf48de2f",
            "7da9c11a5f134998a40d37401a69f3cd",
            "4647c32dbed2409397886570cc41b83e",
            "99bfa500f6214c4aa2b955c2edbad0a2",
            "e15c7e6988524c00b03c5e2cd43972c6",
            "ceff8e3884134cdba375ca9429a9b504",
            "e3ad0ae4f311417ca102d78d18cbbb38",
            "c85e7d552aa34cea9680af558bc67dd0",
            "7db30022f6d9459d88d68dd5314b1c05",
            "c4da6f8ee0dc4c60bd4deea6f3a6bc83",
            "b3b066626b0b478ba160630caa53c6f3",
            "f3a5800ef407498584ec35541c47ee5a",
            "390c2bc6ace844bf86fb349b0aa4ca30",
            "fa178fa93ac14c1ea93d5be4a77bdd57",
            "d81719a59a4d4b7eae8b0045ad0823ef",
            "52cbba81cb93457e9e4742b6695c5d33",
            "191c334659434d379747325b779675e2",
            "90ec9dd02734460da71f42d187f8c775",
            "4fa3f1b0152842ee94731df065121b54",
            "66484aa729eb4b11807de4225a28da0c",
            "10dd7ac2d02a4164a2afafdd3c21485d",
            "cde26747731143e181bdbfb1c4633906",
            "907634901a1e4c96929460cb103f2732",
            "30d477abfc084e6fa67ddda486192101",
            "ecea73bfeb55479da4801b7870f3e15f",
            "ace30726e39043449f0603510f1f27a6",
            "751ee76567b74bc1b87725bca7ec1550",
            "1fbe2a809b18461a9ed102f2e00ab120",
            "46d696abbc9f4092be0658cdb240d27f",
            "33e83310d1d846ecabb403b592624687",
            "11f3d5438dd7415dafb04ff9362d819d",
            "f3794fcb0c694c1eb5786810f2399302",
            "480ce25769884b49a0c2afc82f3d8815"
          ]
        },
        "id": "g4KsDK98NVoj",
        "outputId": "91a66aa5-27ff-4995-c790-1e628b43d6ce"
      },
      "execution_count": 4,
      "outputs": [
        {
          "output_type": "display_data",
          "data": {
            "text/plain": [
              "Downloading builder script:   0%|          | 0.00/1.66k [00:00<?, ?B/s]"
            ],
            "application/vnd.jupyter.widget-view+json": {
              "version_major": 2,
              "version_minor": 0,
              "model_id": "2d12138d12d147009fd2c6fdc22b0289"
            }
          },
          "metadata": {}
        },
        {
          "output_type": "display_data",
          "data": {
            "text/plain": [
              "Downloading metadata:   0%|          | 0.00/1.61k [00:00<?, ?B/s]"
            ],
            "application/vnd.jupyter.widget-view+json": {
              "version_major": 2,
              "version_minor": 0,
              "model_id": "22ba53e2ef844bbf8d03f9c21e7f0f82"
            }
          },
          "metadata": {}
        },
        {
          "output_type": "stream",
          "name": "stderr",
          "text": [
            "Using custom data configuration default\n"
          ]
        },
        {
          "output_type": "stream",
          "name": "stdout",
          "text": [
            "Downloading and preparing dataset emotion/default (download: 1.97 MiB, generated: 2.07 MiB, post-processed: Unknown size, total: 4.05 MiB) to /root/.cache/huggingface/datasets/emotion/default/0.0.0/348f63ca8e27b3713b6c04d723efe6d824a56fb3d1449794716c0f0296072705...\n"
          ]
        },
        {
          "output_type": "display_data",
          "data": {
            "text/plain": [
              "Downloading data:   0%|          | 0.00/1.66M [00:00<?, ?B/s]"
            ],
            "application/vnd.jupyter.widget-view+json": {
              "version_major": 2,
              "version_minor": 0,
              "model_id": "7785752e8826459ca34cb399b6a60432"
            }
          },
          "metadata": {}
        },
        {
          "output_type": "display_data",
          "data": {
            "text/plain": [
              "Downloading data:   0%|          | 0.00/204k [00:00<?, ?B/s]"
            ],
            "application/vnd.jupyter.widget-view+json": {
              "version_major": 2,
              "version_minor": 0,
              "model_id": "4557967f7af04e2f87f19213396251fa"
            }
          },
          "metadata": {}
        },
        {
          "output_type": "display_data",
          "data": {
            "text/plain": [
              "Downloading data:   0%|          | 0.00/207k [00:00<?, ?B/s]"
            ],
            "application/vnd.jupyter.widget-view+json": {
              "version_major": 2,
              "version_minor": 0,
              "model_id": "316c4ce10ec941d98e3b7c9fa0dd8aa5"
            }
          },
          "metadata": {}
        },
        {
          "output_type": "display_data",
          "data": {
            "text/plain": [
              "Generating train split:   0%|          | 0/16000 [00:00<?, ? examples/s]"
            ],
            "application/vnd.jupyter.widget-view+json": {
              "version_major": 2,
              "version_minor": 0,
              "model_id": "7c2ae1c159ac4be0ae723d320cd9742b"
            }
          },
          "metadata": {}
        },
        {
          "output_type": "display_data",
          "data": {
            "text/plain": [
              "Generating validation split:   0%|          | 0/2000 [00:00<?, ? examples/s]"
            ],
            "application/vnd.jupyter.widget-view+json": {
              "version_major": 2,
              "version_minor": 0,
              "model_id": "74eaf83f27d34963a3bd686adf48de2f"
            }
          },
          "metadata": {}
        },
        {
          "output_type": "display_data",
          "data": {
            "text/plain": [
              "Generating test split:   0%|          | 0/2000 [00:00<?, ? examples/s]"
            ],
            "application/vnd.jupyter.widget-view+json": {
              "version_major": 2,
              "version_minor": 0,
              "model_id": "f3a5800ef407498584ec35541c47ee5a"
            }
          },
          "metadata": {}
        },
        {
          "output_type": "stream",
          "name": "stdout",
          "text": [
            "Dataset emotion downloaded and prepared to /root/.cache/huggingface/datasets/emotion/default/0.0.0/348f63ca8e27b3713b6c04d723efe6d824a56fb3d1449794716c0f0296072705. Subsequent calls will reuse this data.\n"
          ]
        },
        {
          "output_type": "display_data",
          "data": {
            "text/plain": [
              "  0%|          | 0/3 [00:00<?, ?it/s]"
            ],
            "application/vnd.jupyter.widget-view+json": {
              "version_major": 2,
              "version_minor": 0,
              "model_id": "907634901a1e4c96929460cb103f2732"
            }
          },
          "metadata": {}
        }
      ]
    },
    {
      "cell_type": "code",
      "source": [
        "emotion"
      ],
      "metadata": {
        "colab": {
          "base_uri": "https://localhost:8080/"
        },
        "id": "zWK3GYw6N2qD",
        "outputId": "6630a87a-1c30-4bd9-89ef-189c809f2aed"
      },
      "execution_count": 5,
      "outputs": [
        {
          "output_type": "execute_result",
          "data": {
            "text/plain": [
              "DatasetDict({\n",
              "    train: Dataset({\n",
              "        features: ['text', 'label'],\n",
              "        num_rows: 16000\n",
              "    })\n",
              "    validation: Dataset({\n",
              "        features: ['text', 'label'],\n",
              "        num_rows: 2000\n",
              "    })\n",
              "    test: Dataset({\n",
              "        features: ['text', 'label'],\n",
              "        num_rows: 2000\n",
              "    })\n",
              "})"
            ]
          },
          "metadata": {},
          "execution_count": 5
        }
      ]
    },
    {
      "cell_type": "code",
      "source": [
        "emotion['train'][:5] #note to apache arraw format. We got lists, not individual elements!"
      ],
      "metadata": {
        "colab": {
          "base_uri": "https://localhost:8080/"
        },
        "id": "997fVfrbN8fc",
        "outputId": "169e6f42-a515-43d0-cfa6-fdefe482e99b"
      },
      "execution_count": 6,
      "outputs": [
        {
          "output_type": "execute_result",
          "data": {
            "text/plain": [
              "{'label': [0, 0, 3, 2, 3],\n",
              " 'text': ['i didnt feel humiliated',\n",
              "  'i can go from feeling so hopeless to so damned hopeful just from being around someone who cares and is awake',\n",
              "  'im grabbing a minute to post i feel greedy wrong',\n",
              "  'i am ever feeling nostalgic about the fireplace i will know that it is still on the property',\n",
              "  'i am feeling grouchy']}"
            ]
          },
          "metadata": {},
          "execution_count": 6
        }
      ]
    },
    {
      "cell_type": "markdown",
      "source": [
        "### EDA"
      ],
      "metadata": {
        "id": "iraJbFNFOFpz"
      }
    },
    {
      "cell_type": "code",
      "source": [
        "emotion.set_format(type='pandas') # to simplify EDA part"
      ],
      "metadata": {
        "id": "VsDTrQxpOoXZ"
      },
      "execution_count": 7,
      "outputs": []
    },
    {
      "cell_type": "code",
      "source": [
        "df = emotion['train'][:]\n",
        "df.head()"
      ],
      "metadata": {
        "colab": {
          "base_uri": "https://localhost:8080/",
          "height": 206
        },
        "id": "kH2NuGz8O5_o",
        "outputId": "c6a666ae-e946-4811-854a-2fe69c0137a8"
      },
      "execution_count": 8,
      "outputs": [
        {
          "output_type": "execute_result",
          "data": {
            "text/plain": [
              "                                                text  label\n",
              "0                            i didnt feel humiliated      0\n",
              "1  i can go from feeling so hopeless to so damned...      0\n",
              "2   im grabbing a minute to post i feel greedy wrong      3\n",
              "3  i am ever feeling nostalgic about the fireplac...      2\n",
              "4                               i am feeling grouchy      3"
            ],
            "text/html": [
              "\n",
              "  <div id=\"df-21229811-9a41-4bbe-876c-c850740c368b\">\n",
              "    <div class=\"colab-df-container\">\n",
              "      <div>\n",
              "<style scoped>\n",
              "    .dataframe tbody tr th:only-of-type {\n",
              "        vertical-align: middle;\n",
              "    }\n",
              "\n",
              "    .dataframe tbody tr th {\n",
              "        vertical-align: top;\n",
              "    }\n",
              "\n",
              "    .dataframe thead th {\n",
              "        text-align: right;\n",
              "    }\n",
              "</style>\n",
              "<table border=\"1\" class=\"dataframe\">\n",
              "  <thead>\n",
              "    <tr style=\"text-align: right;\">\n",
              "      <th></th>\n",
              "      <th>text</th>\n",
              "      <th>label</th>\n",
              "    </tr>\n",
              "  </thead>\n",
              "  <tbody>\n",
              "    <tr>\n",
              "      <th>0</th>\n",
              "      <td>i didnt feel humiliated</td>\n",
              "      <td>0</td>\n",
              "    </tr>\n",
              "    <tr>\n",
              "      <th>1</th>\n",
              "      <td>i can go from feeling so hopeless to so damned...</td>\n",
              "      <td>0</td>\n",
              "    </tr>\n",
              "    <tr>\n",
              "      <th>2</th>\n",
              "      <td>im grabbing a minute to post i feel greedy wrong</td>\n",
              "      <td>3</td>\n",
              "    </tr>\n",
              "    <tr>\n",
              "      <th>3</th>\n",
              "      <td>i am ever feeling nostalgic about the fireplac...</td>\n",
              "      <td>2</td>\n",
              "    </tr>\n",
              "    <tr>\n",
              "      <th>4</th>\n",
              "      <td>i am feeling grouchy</td>\n",
              "      <td>3</td>\n",
              "    </tr>\n",
              "  </tbody>\n",
              "</table>\n",
              "</div>\n",
              "      <button class=\"colab-df-convert\" onclick=\"convertToInteractive('df-21229811-9a41-4bbe-876c-c850740c368b')\"\n",
              "              title=\"Convert this dataframe to an interactive table.\"\n",
              "              style=\"display:none;\">\n",
              "        \n",
              "  <svg xmlns=\"http://www.w3.org/2000/svg\" height=\"24px\"viewBox=\"0 0 24 24\"\n",
              "       width=\"24px\">\n",
              "    <path d=\"M0 0h24v24H0V0z\" fill=\"none\"/>\n",
              "    <path d=\"M18.56 5.44l.94 2.06.94-2.06 2.06-.94-2.06-.94-.94-2.06-.94 2.06-2.06.94zm-11 1L8.5 8.5l.94-2.06 2.06-.94-2.06-.94L8.5 2.5l-.94 2.06-2.06.94zm10 10l.94 2.06.94-2.06 2.06-.94-2.06-.94-.94-2.06-.94 2.06-2.06.94z\"/><path d=\"M17.41 7.96l-1.37-1.37c-.4-.4-.92-.59-1.43-.59-.52 0-1.04.2-1.43.59L10.3 9.45l-7.72 7.72c-.78.78-.78 2.05 0 2.83L4 21.41c.39.39.9.59 1.41.59.51 0 1.02-.2 1.41-.59l7.78-7.78 2.81-2.81c.8-.78.8-2.07 0-2.86zM5.41 20L4 18.59l7.72-7.72 1.47 1.35L5.41 20z\"/>\n",
              "  </svg>\n",
              "      </button>\n",
              "      \n",
              "  <style>\n",
              "    .colab-df-container {\n",
              "      display:flex;\n",
              "      flex-wrap:wrap;\n",
              "      gap: 12px;\n",
              "    }\n",
              "\n",
              "    .colab-df-convert {\n",
              "      background-color: #E8F0FE;\n",
              "      border: none;\n",
              "      border-radius: 50%;\n",
              "      cursor: pointer;\n",
              "      display: none;\n",
              "      fill: #1967D2;\n",
              "      height: 32px;\n",
              "      padding: 0 0 0 0;\n",
              "      width: 32px;\n",
              "    }\n",
              "\n",
              "    .colab-df-convert:hover {\n",
              "      background-color: #E2EBFA;\n",
              "      box-shadow: 0px 1px 2px rgba(60, 64, 67, 0.3), 0px 1px 3px 1px rgba(60, 64, 67, 0.15);\n",
              "      fill: #174EA6;\n",
              "    }\n",
              "\n",
              "    [theme=dark] .colab-df-convert {\n",
              "      background-color: #3B4455;\n",
              "      fill: #D2E3FC;\n",
              "    }\n",
              "\n",
              "    [theme=dark] .colab-df-convert:hover {\n",
              "      background-color: #434B5C;\n",
              "      box-shadow: 0px 1px 3px 1px rgba(0, 0, 0, 0.15);\n",
              "      filter: drop-shadow(0px 1px 2px rgba(0, 0, 0, 0.3));\n",
              "      fill: #FFFFFF;\n",
              "    }\n",
              "  </style>\n",
              "\n",
              "      <script>\n",
              "        const buttonEl =\n",
              "          document.querySelector('#df-21229811-9a41-4bbe-876c-c850740c368b button.colab-df-convert');\n",
              "        buttonEl.style.display =\n",
              "          google.colab.kernel.accessAllowed ? 'block' : 'none';\n",
              "\n",
              "        async function convertToInteractive(key) {\n",
              "          const element = document.querySelector('#df-21229811-9a41-4bbe-876c-c850740c368b');\n",
              "          const dataTable =\n",
              "            await google.colab.kernel.invokeFunction('convertToInteractive',\n",
              "                                                     [key], {});\n",
              "          if (!dataTable) return;\n",
              "\n",
              "          const docLinkHtml = 'Like what you see? Visit the ' +\n",
              "            '<a target=\"_blank\" href=https://colab.research.google.com/notebooks/data_table.ipynb>data table notebook</a>'\n",
              "            + ' to learn more about interactive tables.';\n",
              "          element.innerHTML = '';\n",
              "          dataTable['output_type'] = 'display_data';\n",
              "          await google.colab.output.renderOutput(dataTable, element);\n",
              "          const docLink = document.createElement('div');\n",
              "          docLink.innerHTML = docLinkHtml;\n",
              "          element.appendChild(docLink);\n",
              "        }\n",
              "      </script>\n",
              "    </div>\n",
              "  </div>\n",
              "  "
            ]
          },
          "metadata": {},
          "execution_count": 8
        }
      ]
    },
    {
      "cell_type": "code",
      "source": [
        "def label_int2str(x):\n",
        "    '''\n",
        "    Decode label index to str category. Use int2str method.\n",
        "    '''\n",
        "    return emotion['train'].features['label'].int2str(x)"
      ],
      "metadata": {
        "id": "cY3ZX2VDOtqk"
      },
      "execution_count": 9,
      "outputs": []
    },
    {
      "cell_type": "code",
      "source": [
        "df['label_name'] = df['label'].apply(label_int2str)"
      ],
      "metadata": {
        "id": "oY2u5KssOvVk"
      },
      "execution_count": 10,
      "outputs": []
    },
    {
      "cell_type": "code",
      "source": [
        "df.head()"
      ],
      "metadata": {
        "colab": {
          "base_uri": "https://localhost:8080/",
          "height": 206
        },
        "id": "MsiLI7JuPv4a",
        "outputId": "3e4c00c8-bf90-445b-e087-84140b930562"
      },
      "execution_count": 11,
      "outputs": [
        {
          "output_type": "execute_result",
          "data": {
            "text/plain": [
              "                                                text  label label_name\n",
              "0                            i didnt feel humiliated      0    sadness\n",
              "1  i can go from feeling so hopeless to so damned...      0    sadness\n",
              "2   im grabbing a minute to post i feel greedy wrong      3      anger\n",
              "3  i am ever feeling nostalgic about the fireplac...      2       love\n",
              "4                               i am feeling grouchy      3      anger"
            ],
            "text/html": [
              "\n",
              "  <div id=\"df-19922be5-78de-48e8-b043-79d7282819d9\">\n",
              "    <div class=\"colab-df-container\">\n",
              "      <div>\n",
              "<style scoped>\n",
              "    .dataframe tbody tr th:only-of-type {\n",
              "        vertical-align: middle;\n",
              "    }\n",
              "\n",
              "    .dataframe tbody tr th {\n",
              "        vertical-align: top;\n",
              "    }\n",
              "\n",
              "    .dataframe thead th {\n",
              "        text-align: right;\n",
              "    }\n",
              "</style>\n",
              "<table border=\"1\" class=\"dataframe\">\n",
              "  <thead>\n",
              "    <tr style=\"text-align: right;\">\n",
              "      <th></th>\n",
              "      <th>text</th>\n",
              "      <th>label</th>\n",
              "      <th>label_name</th>\n",
              "    </tr>\n",
              "  </thead>\n",
              "  <tbody>\n",
              "    <tr>\n",
              "      <th>0</th>\n",
              "      <td>i didnt feel humiliated</td>\n",
              "      <td>0</td>\n",
              "      <td>sadness</td>\n",
              "    </tr>\n",
              "    <tr>\n",
              "      <th>1</th>\n",
              "      <td>i can go from feeling so hopeless to so damned...</td>\n",
              "      <td>0</td>\n",
              "      <td>sadness</td>\n",
              "    </tr>\n",
              "    <tr>\n",
              "      <th>2</th>\n",
              "      <td>im grabbing a minute to post i feel greedy wrong</td>\n",
              "      <td>3</td>\n",
              "      <td>anger</td>\n",
              "    </tr>\n",
              "    <tr>\n",
              "      <th>3</th>\n",
              "      <td>i am ever feeling nostalgic about the fireplac...</td>\n",
              "      <td>2</td>\n",
              "      <td>love</td>\n",
              "    </tr>\n",
              "    <tr>\n",
              "      <th>4</th>\n",
              "      <td>i am feeling grouchy</td>\n",
              "      <td>3</td>\n",
              "      <td>anger</td>\n",
              "    </tr>\n",
              "  </tbody>\n",
              "</table>\n",
              "</div>\n",
              "      <button class=\"colab-df-convert\" onclick=\"convertToInteractive('df-19922be5-78de-48e8-b043-79d7282819d9')\"\n",
              "              title=\"Convert this dataframe to an interactive table.\"\n",
              "              style=\"display:none;\">\n",
              "        \n",
              "  <svg xmlns=\"http://www.w3.org/2000/svg\" height=\"24px\"viewBox=\"0 0 24 24\"\n",
              "       width=\"24px\">\n",
              "    <path d=\"M0 0h24v24H0V0z\" fill=\"none\"/>\n",
              "    <path d=\"M18.56 5.44l.94 2.06.94-2.06 2.06-.94-2.06-.94-.94-2.06-.94 2.06-2.06.94zm-11 1L8.5 8.5l.94-2.06 2.06-.94-2.06-.94L8.5 2.5l-.94 2.06-2.06.94zm10 10l.94 2.06.94-2.06 2.06-.94-2.06-.94-.94-2.06-.94 2.06-2.06.94z\"/><path d=\"M17.41 7.96l-1.37-1.37c-.4-.4-.92-.59-1.43-.59-.52 0-1.04.2-1.43.59L10.3 9.45l-7.72 7.72c-.78.78-.78 2.05 0 2.83L4 21.41c.39.39.9.59 1.41.59.51 0 1.02-.2 1.41-.59l7.78-7.78 2.81-2.81c.8-.78.8-2.07 0-2.86zM5.41 20L4 18.59l7.72-7.72 1.47 1.35L5.41 20z\"/>\n",
              "  </svg>\n",
              "      </button>\n",
              "      \n",
              "  <style>\n",
              "    .colab-df-container {\n",
              "      display:flex;\n",
              "      flex-wrap:wrap;\n",
              "      gap: 12px;\n",
              "    }\n",
              "\n",
              "    .colab-df-convert {\n",
              "      background-color: #E8F0FE;\n",
              "      border: none;\n",
              "      border-radius: 50%;\n",
              "      cursor: pointer;\n",
              "      display: none;\n",
              "      fill: #1967D2;\n",
              "      height: 32px;\n",
              "      padding: 0 0 0 0;\n",
              "      width: 32px;\n",
              "    }\n",
              "\n",
              "    .colab-df-convert:hover {\n",
              "      background-color: #E2EBFA;\n",
              "      box-shadow: 0px 1px 2px rgba(60, 64, 67, 0.3), 0px 1px 3px 1px rgba(60, 64, 67, 0.15);\n",
              "      fill: #174EA6;\n",
              "    }\n",
              "\n",
              "    [theme=dark] .colab-df-convert {\n",
              "      background-color: #3B4455;\n",
              "      fill: #D2E3FC;\n",
              "    }\n",
              "\n",
              "    [theme=dark] .colab-df-convert:hover {\n",
              "      background-color: #434B5C;\n",
              "      box-shadow: 0px 1px 3px 1px rgba(0, 0, 0, 0.15);\n",
              "      filter: drop-shadow(0px 1px 2px rgba(0, 0, 0, 0.3));\n",
              "      fill: #FFFFFF;\n",
              "    }\n",
              "  </style>\n",
              "\n",
              "      <script>\n",
              "        const buttonEl =\n",
              "          document.querySelector('#df-19922be5-78de-48e8-b043-79d7282819d9 button.colab-df-convert');\n",
              "        buttonEl.style.display =\n",
              "          google.colab.kernel.accessAllowed ? 'block' : 'none';\n",
              "\n",
              "        async function convertToInteractive(key) {\n",
              "          const element = document.querySelector('#df-19922be5-78de-48e8-b043-79d7282819d9');\n",
              "          const dataTable =\n",
              "            await google.colab.kernel.invokeFunction('convertToInteractive',\n",
              "                                                     [key], {});\n",
              "          if (!dataTable) return;\n",
              "\n",
              "          const docLinkHtml = 'Like what you see? Visit the ' +\n",
              "            '<a target=\"_blank\" href=https://colab.research.google.com/notebooks/data_table.ipynb>data table notebook</a>'\n",
              "            + ' to learn more about interactive tables.';\n",
              "          element.innerHTML = '';\n",
              "          dataTable['output_type'] = 'display_data';\n",
              "          await google.colab.output.renderOutput(dataTable, element);\n",
              "          const docLink = document.createElement('div');\n",
              "          docLink.innerHTML = docLinkHtml;\n",
              "          element.appendChild(docLink);\n",
              "        }\n",
              "      </script>\n",
              "    </div>\n",
              "  </div>\n",
              "  "
            ]
          },
          "metadata": {},
          "execution_count": 11
        }
      ]
    },
    {
      "cell_type": "code",
      "source": [
        "df['label_name'].value_counts(ascending=True).plot.barh()\n",
        "plt.title('Class frequency')\n",
        "plt.show()"
      ],
      "metadata": {
        "colab": {
          "base_uri": "https://localhost:8080/",
          "height": 281
        },
        "id": "561DMo7mQUk8",
        "outputId": "d87c99bd-8e48-4924-98e5-2bb980fb4594"
      },
      "execution_count": 12,
      "outputs": [
        {
          "output_type": "display_data",
          "data": {
            "text/plain": [
              "<Figure size 432x288 with 1 Axes>"
            ],
            "image/png": "[encoded data removed]"
          },
          "metadata": {
            "needs_background": "light"
          }
        }
      ]
    },
    {
      "cell_type": "markdown",
      "source": [
        "Dataset in imbalanced. But for simplification we will skip any upsepmling/downsampling steps."
      ],
      "metadata": {
        "id": "eogYGtpFQOTE"
      }
    },
    {
      "cell_type": "code",
      "source": [
        "df['words_per_tweet'] = df['text'].str.split().apply(lambda x: len(x))"
      ],
      "metadata": {
        "id": "8qu7OC6fQIHm"
      },
      "execution_count": 13,
      "outputs": []
    },
    {
      "cell_type": "code",
      "source": [
        "df.boxplot(column=\"words_per_tweet\", by=\"label_name\", grid=False, showfliers=False, color=\"black\")\n",
        "plt.suptitle(\"\")\n",
        "plt.title('Words per tweet')\n",
        "plt.xlabel(\"\")\n",
        "plt.show()"
      ],
      "metadata": {
        "colab": {
          "base_uri": "https://localhost:8080/",
          "height": 335
        },
        "id": "drUGbL86ScMc",
        "outputId": "27d8ac36-a01e-40e2-b0fd-13c850f5a8de"
      },
      "execution_count": 14,
      "outputs": [
        {
          "output_type": "stream",
          "name": "stderr",
          "text": [
            "/usr/local/lib/python3.7/dist-packages/matplotlib/cbook/__init__.py:1376: VisibleDeprecationWarning: Creating an ndarray from ragged nested sequences (which is a list-or-tuple of lists-or-tuples-or ndarrays with different lengths or shapes) is deprecated. If you meant to do this, you must specify 'dtype=object' when creating the ndarray.\n",
            "  X = np.atleast_1d(X.T if isinstance(X, np.ndarray) else np.asarray(X))\n"
          ]
        },
        {
          "output_type": "display_data",
          "data": {
            "text/plain": [
              "<Figure size 432x288 with 1 Axes>"
            ],
            "image/png": "[encoded data removed]"
          },
          "metadata": {
            "needs_background": "light"
          }
        }
      ]
    },
    {
      "cell_type": "markdown",
      "source": [
        "In general tweets have similar length. Mode value is 15."
      ],
      "metadata": {
        "id": "iqe0D5vMR3DG"
      }
    },
    {
      "cell_type": "code",
      "source": [
        "emotion.reset_format()"
      ],
      "metadata": {
        "id": "qUqxZZxVTSVW"
      },
      "execution_count": 15,
      "outputs": []
    },
    {
      "cell_type": "markdown",
      "source": [
        "### Tokenization"
      ],
      "metadata": {
        "id": "hQbNC9BbTUzr"
      }
    },
    {
      "cell_type": "markdown",
      "source": [
        "We will use WordPiece wich is part of BERT and DistilBERT pipelines."
      ],
      "metadata": {
        "id": "ff4GvEfrUNxd"
      }
    },
    {
      "cell_type": "code",
      "source": [
        "model_ckpt = \"distilbert-base-uncased\"\n",
        "tokenizer = AutoTokenizer.from_pretrained(model_ckpt)"
      ],
      "metadata": {
        "colab": {
          "base_uri": "https://localhost:8080/",
          "height": 145,
          "referenced_widgets": [
            "b355e6986d774b6cbce5eb6247382599",
            "3488e4a5734e4d0bbd24248913cff75c",
            "3bbe9f1bece24a789f9de9315972b56c",
            "52e5ceac677a467ab6631c3d21063278",
            "5522feb0276a4f5a8743d32612b80a52",
            "97138d47c4734e09b7ef12d4bacce678",
            "97ed9b11a1f841d9bad772f03237a7c7",
            "1677b4514e794fb086686c1d93e7d151",
            "32833a2205a942b08d711215c756a445",
            "fc883a59446346f6b8298c91c86be8ab",
            "1a3bb5f633b54ce5a3bbed09714d5519",
            "f250703c278843ce9f8c9117d53cc138",
            "afc128b2b6484a6b91307b1413bb726c",
            "54fcf914e41346a7b41e52da30885e5d",
            "16f12801449c47309840e3f3fa9e5ba0",
            "dd9530a4495645339415abdc960a0161",
            "0c44f007ccd74a398b7406f12b83ed77",
            "dd13ecae2c1f4cd7add39b8055d510b1",
            "2b35bb4004634e629ecb974eadf2065f",
            "6b833bc233a14b9b8da870c6cb52b65c",
            "132c89b163384d2dbe9c80d224809ac4",
            "2c036fa74d614909a239d85c4e2aea7d",
            "bf6493a1062c447d9ddb3d00e47d00ef",
            "a8bd95ad342f4635b3a8a6d212bcce80",
            "b18f896801b945769ca8df0811530baf",
            "783413e60ebf40f283dbe435bb03ee52",
            "fd76748d6b874072af20c7ee0a96581e",
            "8c9a0d37970b46cd973f71844d4d5686",
            "81019d3956cf4a14ab415543de5d7f89",
            "c057594ac5cd4280b8cdfe9e1909e776",
            "930a424f9c52417eadd4dbf20528d536",
            "10de5585fa594ee9bb1745252c6f9969",
            "baa689dbad2741a2abe56c4b60b2de55",
            "5ab89be0f76a4b279d9da849fd36d7f1",
            "fdb195e4847e498abeb85059f7b9cca3",
            "994cbbfabbd34f8e965225e2a5c10cf6",
            "308af14d65f4405688b1932c66444bfc",
            "fb8c1868cb44473f8e0c6218692a5485",
            "88f8669043d44705a3c3d4c4c1d3053e",
            "0597db5849554523900be34ada310fec",
            "0044ca9ef1d64b0987964f678d8b88f2",
            "231dbf88d9f0459dbf439f4e7affd6a0",
            "5f5d55a4936544e0ad49ed2f42b9a443",
            "e18d01000cc8491185648a97469a2575"
          ]
        },
        "id": "EMKFTEHxTbt_",
        "outputId": "7d7de2eb-6cf9-4836-c834-87f8942ee499"
      },
      "execution_count": 16,
      "outputs": [
        {
          "output_type": "display_data",
          "data": {
            "text/plain": [
              "Downloading:   0%|          | 0.00/28.0 [00:00<?, ?B/s]"
            ],
            "application/vnd.jupyter.widget-view+json": {
              "version_major": 2,
              "version_minor": 0,
              "model_id": "b355e6986d774b6cbce5eb6247382599"
            }
          },
          "metadata": {}
        },
        {
          "output_type": "display_data",
          "data": {
            "text/plain": [
              "Downloading:   0%|          | 0.00/483 [00:00<?, ?B/s]"
            ],
            "application/vnd.jupyter.widget-view+json": {
              "version_major": 2,
              "version_minor": 0,
              "model_id": "f250703c278843ce9f8c9117d53cc138"
            }
          },
          "metadata": {}
        },
        {
          "output_type": "display_data",
          "data": {
            "text/plain": [
              "Downloading:   0%|          | 0.00/226k [00:00<?, ?B/s]"
            ],
            "application/vnd.jupyter.widget-view+json": {
              "version_major": 2,
              "version_minor": 0,
              "model_id": "bf6493a1062c447d9ddb3d00e47d00ef"
            }
          },
          "metadata": {}
        },
        {
          "output_type": "display_data",
          "data": {
            "text/plain": [
              "Downloading:   0%|          | 0.00/455k [00:00<?, ?B/s]"
            ],
            "application/vnd.jupyter.widget-view+json": {
              "version_major": 2,
              "version_minor": 0,
              "model_id": "5ab89be0f76a4b279d9da849fd36d7f1"
            }
          },
          "metadata": {}
        }
      ]
    },
    {
      "cell_type": "code",
      "source": [
        "example_text = \"Tokenizing text is a core task of NLP\"\n",
        "\n",
        "# encode\n",
        "encoded_text = tokenizer(example_text)\n",
        "print(encoded_text)\n",
        "\n",
        "# convert to tokens\n",
        "tokens = tokenizer.convert_ids_to_tokens(encoded_text['input_ids'])\n",
        "print(tokens)\n",
        "\n",
        "# convert to string\n",
        "string = tokenizer.convert_tokens_to_string(tokens)\n",
        "print(string)"
      ],
      "metadata": {
        "colab": {
          "base_uri": "https://localhost:8080/"
        },
        "id": "2RiMVQA7UMWl",
        "outputId": "4200f9e0-91cf-4ac8-a02f-bfaed406a874"
      },
      "execution_count": 17,
      "outputs": [
        {
          "output_type": "stream",
          "name": "stdout",
          "text": [
            "{'input_ids': [101, 19204, 6026, 3793, 2003, 1037, 4563, 4708, 1997, 17953, 2361, 102], 'attention_mask': [1, 1, 1, 1, 1, 1, 1, 1, 1, 1, 1, 1]}\n",
            "['[CLS]', 'token', '##izing', 'text', 'is', 'a', 'core', 'task', 'of', 'nl', '##p', '[SEP]']\n",
            "[CLS] tokenizing text is a core task of nlp [SEP]\n"
          ]
        }
      ]
    },
    {
      "cell_type": "markdown",
      "source": [
        "Ok, time to tokenize our dataset"
      ],
      "metadata": {
        "id": "OMSAV6i8U1Je"
      }
    },
    {
      "cell_type": "code",
      "source": [
        "#emotion['train']['text']"
      ],
      "metadata": {
        "id": "FV5lzbu8XH1Q"
      },
      "execution_count": 18,
      "outputs": []
    },
    {
      "cell_type": "code",
      "source": [
        "def tokenize(batch):\n",
        "    return tokenizer(batch['text'], padding=True, truncation=True)"
      ],
      "metadata": {
        "id": "SefT4CCFXfd1"
      },
      "execution_count": 19,
      "outputs": []
    },
    {
      "cell_type": "code",
      "source": [
        "tokenize(emotion['train'][:2])"
      ],
      "metadata": {
        "colab": {
          "base_uri": "https://localhost:8080/"
        },
        "id": "JqJMQo1UXzTL",
        "outputId": "c9de06f8-de9f-4007-ca88-78a3011b7629"
      },
      "execution_count": 20,
      "outputs": [
        {
          "output_type": "execute_result",
          "data": {
            "text/plain": [
              "{'input_ids': [[101, 1045, 2134, 2102, 2514, 26608, 102, 0, 0, 0, 0, 0, 0, 0, 0, 0, 0, 0, 0, 0, 0, 0, 0], [101, 1045, 2064, 2175, 2013, 3110, 2061, 20625, 2000, 2061, 9636, 17772, 2074, 2013, 2108, 2105, 2619, 2040, 14977, 1998, 2003, 8300, 102]], 'attention_mask': [[1, 1, 1, 1, 1, 1, 1, 0, 0, 0, 0, 0, 0, 0, 0, 0, 0, 0, 0, 0, 0, 0, 0], [1, 1, 1, 1, 1, 1, 1, 1, 1, 1, 1, 1, 1, 1, 1, 1, 1, 1, 1, 1, 1, 1, 1]]}"
            ]
          },
          "metadata": {},
          "execution_count": 20
        }
      ]
    },
    {
      "cell_type": "markdown",
      "source": [
        "First tweet is shorter the the second, the it was padded by zeros to make equal length. Attantion mask hided these additional zeroes."
      ],
      "metadata": {
        "id": "hbzBw1UGX5Ui"
      }
    },
    {
      "cell_type": "markdown",
      "source": [
        "![Screenshot from 2022-05-14 19-24-05.png](data:image/png;base64,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)"
      ],
      "metadata": {
        "id": "Lj-l-sm5YV7M"
      }
    },
    {
      "cell_type": "markdown",
      "source": [
        "Apply tokenizer to our dataset"
      ],
      "metadata": {
        "id": "Z_JYuQpzY7jg"
      }
    },
    {
      "cell_type": "code",
      "source": [
        "emotion_encoded = emotion.map(tokenize, batched=True, batch_size=None)"
      ],
      "metadata": {
        "colab": {
          "base_uri": "https://localhost:8080/",
          "height": 113,
          "referenced_widgets": [
            "df2fe959c8fa4d109a042a6ecae65a19",
            "9cb6b9d0d9954f08a21e5553d6c17bc3",
            "95dd3b063f0c414e85e20c02846ec343",
            "8282b4a6c1f545f9947e60c2eb283b1b",
            "45dc5d914d3c4a78870c7ceca292bee0",
            "97b88d2cb0974ba89b6a1a2c0d0263a2",
            "3dac3b8ce16747a1a456f32e9de9ab7b",
            "49675045876544d8a80d344786c51417",
            "6f6558f7db4249b2bab1d1549e232a1e",
            "68644e7d4c604af0bbc34cc5ac9df4c4",
            "892cca1c117e4bae9d9487123a182347",
            "395a353e77f442b79f200e35ae0fbecc",
            "f8778dfb393d4f47adb6bbe4bdec0842",
            "b64e5e6611eb40d6aa01cfc240e1a5a2",
            "098e3fd22dc84a908ab58fd1a0a391b3",
            "6d5b6382abc1434c81c40c0e94377f75",
            "0d8a714e6d5341bca4158154b2e022fa",
            "1bb98ce6364a4a309730e100302eea91",
            "c2305f77c3774661b25619d4dcce8c37",
            "52781a65f62641ab9812f62829229f53",
            "8267c42999dc4b1bb68103e8a358dd3f",
            "34e50805c7664064993d2244fa56a49e",
            "cd16f7d6bb4b43059581c10fc5ca8bf9",
            "bb6b1c95279641efbe92782588862b8f",
            "5ba6128ecfa14361be917659e1966824",
            "3c94358bc7be423b91472e79fbc8d6d9",
            "af74799180e34b769ae06df8dc8c28e7",
            "fdc39b43f0474a2a8c91f3186d8ad754",
            "af838a92a7674ede9791d9c7bd2983fa",
            "18567a5b74b747ae8f0ff6a3a0c8bd21",
            "a394d3880a83463595f88436698dd653",
            "0b06205c7d10452f956e383b29917534",
            "93869a17422d46708ee9a44df6b8a6d7"
          ]
        },
        "id": "-AQ67kh2Y6Ou",
        "outputId": "d8832ec5-49a5-49e4-b441-3c4a2881815f"
      },
      "execution_count": 21,
      "outputs": [
        {
          "output_type": "display_data",
          "data": {
            "text/plain": [
              "  0%|          | 0/1 [00:00<?, ?ba/s]"
            ],
            "application/vnd.jupyter.widget-view+json": {
              "version_major": 2,
              "version_minor": 0,
              "model_id": "df2fe959c8fa4d109a042a6ecae65a19"
            }
          },
          "metadata": {}
        },
        {
          "output_type": "display_data",
          "data": {
            "text/plain": [
              "  0%|          | 0/1 [00:00<?, ?ba/s]"
            ],
            "application/vnd.jupyter.widget-view+json": {
              "version_major": 2,
              "version_minor": 0,
              "model_id": "395a353e77f442b79f200e35ae0fbecc"
            }
          },
          "metadata": {}
        },
        {
          "output_type": "display_data",
          "data": {
            "text/plain": [
              "  0%|          | 0/1 [00:00<?, ?ba/s]"
            ],
            "application/vnd.jupyter.widget-view+json": {
              "version_major": 2,
              "version_minor": 0,
              "model_id": "cd16f7d6bb4b43059581c10fc5ca8bf9"
            }
          },
          "metadata": {}
        }
      ]
    },
    {
      "cell_type": "code",
      "source": [
        "emotion_encoded"
      ],
      "metadata": {
        "colab": {
          "base_uri": "https://localhost:8080/"
        },
        "id": "OzBNMlUaZN8G",
        "outputId": "29bc6348-88da-45e8-9ecb-037ad470b747"
      },
      "execution_count": 22,
      "outputs": [
        {
          "output_type": "execute_result",
          "data": {
            "text/plain": [
              "DatasetDict({\n",
              "    train: Dataset({\n",
              "        features: ['text', 'label', 'input_ids', 'attention_mask'],\n",
              "        num_rows: 16000\n",
              "    })\n",
              "    validation: Dataset({\n",
              "        features: ['text', 'label', 'input_ids', 'attention_mask'],\n",
              "        num_rows: 2000\n",
              "    })\n",
              "    test: Dataset({\n",
              "        features: ['text', 'label', 'input_ids', 'attention_mask'],\n",
              "        num_rows: 2000\n",
              "    })\n",
              "})"
            ]
          },
          "metadata": {},
          "execution_count": 22
        }
      ]
    },
    {
      "cell_type": "markdown",
      "source": [
        "### Classifier training"
      ],
      "metadata": {
        "id": "CLM7X2qoZSs1"
      }
    },
    {
      "cell_type": "markdown",
      "source": [
        "#### Option 1: Feature extraction without fine-tuning\n",
        "We will create dataset based on extracted vectors from the hidden state layer and train separate classifier."
      ],
      "metadata": {
        "id": "M3yeHbDiZWJR"
      }
    },
    {
      "cell_type": "code",
      "source": [
        "model_ckpt = \"distilbert-base-uncased\"\n",
        "device = torch.device(\"cuda\" if torch.cuda.is_available() else \"cpu\")\n",
        "model = AutoModel.from_pretrained(model_ckpt).to(device)\n",
        "print('device in use:', device)"
      ],
      "metadata": {
        "colab": {
          "base_uri": "https://localhost:8080/",
          "height": 138,
          "referenced_widgets": [
            "ed5818a176be4df387c7522f944ea0b0",
            "01ce252e39d0491687ab78593f930ae9",
            "0391445c497f448f96bb2263e44913e7",
            "9460a203c8664453a36b8187755281b6",
            "8164e32c4c4f41eea877b161a8cd422c",
            "1e7cce2224f04c7ba66a1512e9ab3c93",
            "e0af07f18e7040108010cf4404152fcb",
            "5b8af6a2133b4407a683e905571143a3",
            "f84a66525ee14d2eae1445070895c33f",
            "9d57fd766d5349a698cebdc166ac4a6f",
            "79b482144be042ba8ea047f16f4895c7"
          ]
        },
        "id": "Qay4bcHudIaF",
        "outputId": "ebb3d673-0241-4ea9-d7f9-7de45c8eafeb"
      },
      "execution_count": 23,
      "outputs": [
        {
          "output_type": "display_data",
          "data": {
            "text/plain": [
              "Downloading:   0%|          | 0.00/256M [00:00<?, ?B/s]"
            ],
            "application/vnd.jupyter.widget-view+json": {
              "version_major": 2,
              "version_minor": 0,
              "model_id": "ed5818a176be4df387c7522f944ea0b0"
            }
          },
          "metadata": {}
        },
        {
          "output_type": "stream",
          "name": "stderr",
          "text": [
            "Some weights of the model checkpoint at distilbert-base-uncased were not used when initializing DistilBertModel: ['vocab_projector.bias', 'vocab_layer_norm.bias', 'vocab_transform.weight', 'vocab_transform.bias', 'vocab_projector.weight', 'vocab_layer_norm.weight']\n",
            "- This IS expected if you are initializing DistilBertModel from the checkpoint of a model trained on another task or with another architecture (e.g. initializing a BertForSequenceClassification model from a BertForPreTraining model).\n",
            "- This IS NOT expected if you are initializing DistilBertModel from the checkpoint of a model that you expect to be exactly identical (initializing a BertForSequenceClassification model from a BertForSequenceClassification model).\n"
          ]
        },
        {
          "output_type": "stream",
          "name": "stdout",
          "text": [
            "device in use: cuda\n"
          ]
        }
      ]
    },
    {
      "cell_type": "markdown",
      "source": [
        "Minimal text exmaple"
      ],
      "metadata": {
        "id": "xgYrqX4dHnog"
      }
    },
    {
      "cell_type": "code",
      "source": [
        "test_text = \"my not so random text\"\n",
        "inputs = tokenizer(test_text, return_tensors='pt')\n",
        "print(inputs)"
      ],
      "metadata": {
        "colab": {
          "base_uri": "https://localhost:8080/"
        },
        "id": "00Wh_MnoHPcN",
        "outputId": "1868d434-dcf2-4384-b21a-01e2d012b205"
      },
      "execution_count": 25,
      "outputs": [
        {
          "output_type": "stream",
          "name": "stdout",
          "text": [
            "{'input_ids': tensor([[ 101, 2026, 2025, 2061, 6721, 3793,  102]]), 'attention_mask': tensor([[1, 1, 1, 1, 1, 1, 1]])}\n"
          ]
        }
      ]
    },
    {
      "cell_type": "code",
      "source": [
        "inputs = {k:v.to(device) for k, v in inputs.items()}\n",
        "with torch.no_grad(): #speed up process by skipping gradient computation\n",
        "    outputs = model(**inputs)"
      ],
      "metadata": {
        "id": "IJgT02MFHsqq"
      },
      "execution_count": 26,
      "outputs": []
    },
    {
      "cell_type": "code",
      "source": [
        "print(outputs)\n",
        "print('Output shape:', outputs.last_hidden_state.shape)"
      ],
      "metadata": {
        "colab": {
          "base_uri": "https://localhost:8080/"
        },
        "id": "PfFaRRZvICen",
        "outputId": "118ea390-e945-4c8c-c078-4d76e402e6ba"
      },
      "execution_count": 31,
      "outputs": [
        {
          "output_type": "stream",
          "name": "stdout",
          "text": [
            "BaseModelOutput(last_hidden_state=tensor([[[-0.0892, -0.0081, -0.0051,  ..., -0.0262,  0.2581,  0.3353],\n",
            "         [ 0.2927,  0.2716,  0.0713,  ..., -0.1289,  0.3239,  0.6273],\n",
            "         [-0.2575, -0.5480,  0.3669,  ..., -0.0788,  0.1956,  0.2625],\n",
            "         ...,\n",
            "         [ 0.1957, -0.4156, -0.0467,  ..., -0.2477,  0.0410, -0.1942],\n",
            "         [ 0.1185, -0.1716,  0.0189,  ...,  0.1070, -0.0661,  0.2182],\n",
            "         [ 0.9167,  0.2103, -0.4431,  ...,  0.1040, -0.3891, -0.2886]]],\n",
            "       device='cuda:0'), hidden_states=None, attentions=None)\n",
            "Output shape: torch.Size([1, 7, 768])\n"
          ]
        }
      ]
    },
    {
      "cell_type": "markdown",
      "source": [
        "Ok, apply this method to the whole dataset"
      ],
      "metadata": {
        "id": "DvVZsdWhITdJ"
      }
    },
    {
      "cell_type": "code",
      "source": [
        "tokenizer.model_input_names"
      ],
      "metadata": {
        "colab": {
          "base_uri": "https://localhost:8080/"
        },
        "id": "WIe8g2mSIvbA",
        "outputId": "73b57b67-cb77-406a-eca5-c37312c83a42"
      },
      "execution_count": 35,
      "outputs": [
        {
          "output_type": "execute_result",
          "data": {
            "text/plain": [
              "['input_ids', 'attention_mask']"
            ]
          },
          "metadata": {},
          "execution_count": 35
        }
      ]
    },
    {
      "cell_type": "code",
      "source": [
        "def extract_hidden_state(batch):\n",
        "    # Send model inputs to device\n",
        "    inputs = {k:v.to(device) for k,v in batch.items() if k in tokenizer.model_input_names}\n",
        "\n",
        "    #Extract the last hidden state\n",
        "    with torch.no_grad():\n",
        "        last_hidden_state = model(**inputs).last_hidden_state\n",
        "\n",
        "    # For classificattion tasks it's common to use only hidden state vector for [CLS] token\n",
        "    # Return vector for [CLS] token\n",
        "    return {'hidden_state': last_hidden_state[:, 0].cpu().numpy()}\n"
      ],
      "metadata": {
        "id": "b_rvWCmWeG_b"
      },
      "execution_count": 36,
      "outputs": []
    },
    {
      "cell_type": "code",
      "source": [
        "emotion_encoded"
      ],
      "metadata": {
        "colab": {
          "base_uri": "https://localhost:8080/"
        },
        "id": "9JF0VOkeKHHC",
        "outputId": "997d4be8-bc0e-4c1b-b305-087bbf841143"
      },
      "execution_count": 41,
      "outputs": [
        {
          "output_type": "execute_result",
          "data": {
            "text/plain": [
              "DatasetDict({\n",
              "    train: Dataset({\n",
              "        features: ['text', 'label', 'input_ids', 'attention_mask'],\n",
              "        num_rows: 16000\n",
              "    })\n",
              "    validation: Dataset({\n",
              "        features: ['text', 'label', 'input_ids', 'attention_mask'],\n",
              "        num_rows: 2000\n",
              "    })\n",
              "    test: Dataset({\n",
              "        features: ['text', 'label', 'input_ids', 'attention_mask'],\n",
              "        num_rows: 2000\n",
              "    })\n",
              "})"
            ]
          },
          "metadata": {},
          "execution_count": 41
        }
      ]
    },
    {
      "cell_type": "code",
      "source": [
        "# Convert input_ids and attention_mask to the torch format\n",
        "emotion_encoded.set_format('torch', columns=['input_ids', 'attention_mask', 'label'])"
      ],
      "metadata": {
        "id": "42LCYoizKRV7"
      },
      "execution_count": 40,
      "outputs": []
    },
    {
      "cell_type": "code",
      "source": [
        "emotion_hidden = emotion_encoded.map(extract_hidden_state, batched=True) # batched=True, so default batch_size will be 1000"
      ],
      "metadata": {
        "colab": {
          "base_uri": "https://localhost:8080/",
          "height": 113,
          "referenced_widgets": [
            "79683384862b42d4af0eaa44266a8928",
            "5df0babf93294117bbc39674ca0e3566",
            "a31716d01534487284fc5ce0f733a541",
            "2e0818afcffe41d8bc84f26d95de59d2",
            "20229abd1f7b4e0e8e6bc60d8a14d158",
            "6bfb3fd445f64a5face62b7a0ef11abe",
            "6fbb28cfab3741cc9f93f5b43d20f677",
            "3375e3cb80f9458b84cb0cdf5ec508f4",
            "ce66e074ed194294babd2d1369a658ba",
            "8214897c63444a2e916d49980c2a5823",
            "01ce199d079e488ebed3a7bc5afba6b8",
            "47461c20612646a5902d33e42a9e0cf1",
            "0fdb0ab2b4ab41e9b2997bb4831fa06c",
            "baff33c2c719483687abbdf8352366f0",
            "5a2fc412fc0b4f5b8ccc03610e512497",
            "b3918860d1a44a149905dff7468208ec",
            "950314f95625419982af9ce39cc7c401",
            "2da821de87b74949906131c33ccf9db6",
            "a55f90ab005743e7b5157cd88389102a",
            "deddfa248feb491497829ef9c1aac41c",
            "41abbdc49f8a4d0c8a7330c712952fdb",
            "4c9726a4fe1c4fbbb4518f4eca54236a",
            "b1069c28834845c29483497f2446e35f",
            "e3dd2454197c4b2d8ac6b5c8e75fec43",
            "e7ebcdca5d7d444c8758f95117373e49",
            "667d5282701d4169b3fd5e0683738666",
            "f1633ed01cec45cb916e2517a0396576",
            "51297235d729475fb7ece9abe55026f2",
            "7afa6b32347d4decaa182760dfaa5897",
            "df42fc11f0dd4fc38b8718f3035e1b10",
            "db4c95c5a5d2493ba03dace0663b1a8a",
            "1b20ccf9b75249a19e4e6ed1c9df574b",
            "760942c9e520481a844bf17201db97b7"
          ]
        },
        "id": "QzXdOmwFKoeH",
        "outputId": "aaddc75c-b488-4490-c1ad-dd368c692cad"
      },
      "execution_count": 42,
      "outputs": [
        {
          "output_type": "display_data",
          "data": {
            "text/plain": [
              "  0%|          | 0/16 [00:00<?, ?ba/s]"
            ],
            "application/vnd.jupyter.widget-view+json": {
              "version_major": 2,
              "version_minor": 0,
              "model_id": "79683384862b42d4af0eaa44266a8928"
            }
          },
          "metadata": {}
        },
        {
          "output_type": "display_data",
          "data": {
            "text/plain": [
              "  0%|          | 0/2 [00:00<?, ?ba/s]"
            ],
            "application/vnd.jupyter.widget-view+json": {
              "version_major": 2,
              "version_minor": 0,
              "model_id": "47461c20612646a5902d33e42a9e0cf1"
            }
          },
          "metadata": {}
        },
        {
          "output_type": "display_data",
          "data": {
            "text/plain": [
              "  0%|          | 0/2 [00:00<?, ?ba/s]"
            ],
            "application/vnd.jupyter.widget-view+json": {
              "version_major": 2,
              "version_minor": 0,
              "model_id": "b1069c28834845c29483497f2446e35f"
            }
          },
          "metadata": {}
        }
      ]
    },
    {
      "cell_type": "code",
      "source": [
        "emotion_hidden"
      ],
      "metadata": {
        "colab": {
          "base_uri": "https://localhost:8080/"
        },
        "id": "gesyDYuMKcKU",
        "outputId": "975015bf-e4f2-4453-a827-0edbde6b9bc4"
      },
      "execution_count": 43,
      "outputs": [
        {
          "output_type": "execute_result",
          "data": {
            "text/plain": [
              "DatasetDict({\n",
              "    train: Dataset({\n",
              "        features: ['text', 'label', 'input_ids', 'attention_mask', 'hidden_state'],\n",
              "        num_rows: 16000\n",
              "    })\n",
              "    validation: Dataset({\n",
              "        features: ['text', 'label', 'input_ids', 'attention_mask', 'hidden_state'],\n",
              "        num_rows: 2000\n",
              "    })\n",
              "    test: Dataset({\n",
              "        features: ['text', 'label', 'input_ids', 'attention_mask', 'hidden_state'],\n",
              "        num_rows: 2000\n",
              "    })\n",
              "})"
            ]
          },
          "metadata": {},
          "execution_count": 43
        }
      ]
    },
    {
      "cell_type": "markdown",
      "source": [
        "Creating a feature matrix"
      ],
      "metadata": {
        "id": "XWn--2IQLHCd"
      }
    },
    {
      "cell_type": "markdown",
      "source": [
        "Now we can prepare dataset for classifier training"
      ],
      "metadata": {
        "id": "SbVH7M17LZKz"
      }
    },
    {
      "cell_type": "code",
      "source": [
        "X_train = np.array(emotion_hidden[\"train\"][\"hidden_state\"])\n",
        "X_valid = np.array(emotion_hidden[\"validation\"][\"hidden_state\"])\n",
        "y_train = np.array(emotion_hidden[\"train\"][\"label\"])\n",
        "y_valid = np.array(emotion_hidden[\"validation\"][\"label\"])\n",
        "X_train.shape, X_valid.shape"
      ],
      "metadata": {
        "colab": {
          "base_uri": "https://localhost:8080/"
        },
        "id": "CUSq85vELQyH",
        "outputId": "d68358d9-1de2-4907-c182-dc66402a2be1"
      },
      "execution_count": 46,
      "outputs": [
        {
          "output_type": "execute_result",
          "data": {
            "text/plain": [
              "((16000, 768), (2000, 768))"
            ]
          },
          "metadata": {},
          "execution_count": 46
        }
      ]
    },
    {
      "cell_type": "markdown",
      "source": [
        "Hidden states visualizations"
      ],
      "metadata": {
        "id": "8Ip3tCuEOXiP"
      }
    },
    {
      "cell_type": "code",
      "source": [
        "# Scale features to [0,1] range\n",
        "X_scaled = MinMaxScaler().fit_transform(X_train)\n",
        "# Initialize and fit PCA/UMAP\n",
        "pca_emdebings = PCA(n_components=2).fit_transform(X_scaled)\n",
        "# Create a DataFrame of 2D embeddings\n",
        "df_emb = pd.DataFrame(pca_emdebings, columns=[\"X\", \"Y\"])\n",
        "df_emb[\"label\"] = y_train\n",
        "df_emb.head()"
      ],
      "metadata": {
        "colab": {
          "base_uri": "https://localhost:8080/",
          "height": 206
        },
        "id": "2culx0RmLWHF",
        "outputId": "f6e9f232-bc0d-47f9-f20d-491abeb9a068"
      },
      "execution_count": 57,
      "outputs": [
        {
          "output_type": "execute_result",
          "data": {
            "text/plain": [
              "          X         Y  label\n",
              "0  0.052285 -2.044845      0\n",
              "1 -0.611239  0.071186      0\n",
              "2  0.172693 -1.991039      3\n",
              "3 -0.632667  0.384492      2\n",
              "4 -1.145685 -0.882579      3"
            ],
            "text/html": [
              "\n",
              "  <div id=\"df-ed71e932-cd80-412b-8366-9d9c3cb51d45\">\n",
              "    <div class=\"colab-df-container\">\n",
              "      <div>\n",
              "<style scoped>\n",
              "    .dataframe tbody tr th:only-of-type {\n",
              "        vertical-align: middle;\n",
              "    }\n",
              "\n",
              "    .dataframe tbody tr th {\n",
              "        vertical-align: top;\n",
              "    }\n",
              "\n",
              "    .dataframe thead th {\n",
              "        text-align: right;\n",
              "    }\n",
              "</style>\n",
              "<table border=\"1\" class=\"dataframe\">\n",
              "  <thead>\n",
              "    <tr style=\"text-align: right;\">\n",
              "      <th></th>\n",
              "      <th>X</th>\n",
              "      <th>Y</th>\n",
              "      <th>label</th>\n",
              "    </tr>\n",
              "  </thead>\n",
              "  <tbody>\n",
              "    <tr>\n",
              "      <th>0</th>\n",
              "      <td>0.052285</td>\n",
              "      <td>-2.044845</td>\n",
              "      <td>0</td>\n",
              "    </tr>\n",
              "    <tr>\n",
              "      <th>1</th>\n",
              "      <td>-0.611239</td>\n",
              "      <td>0.071186</td>\n",
              "      <td>0</td>\n",
              "    </tr>\n",
              "    <tr>\n",
              "      <th>2</th>\n",
              "      <td>0.172693</td>\n",
              "      <td>-1.991039</td>\n",
              "      <td>3</td>\n",
              "    </tr>\n",
              "    <tr>\n",
              "      <th>3</th>\n",
              "      <td>-0.632667</td>\n",
              "      <td>0.384492</td>\n",
              "      <td>2</td>\n",
              "    </tr>\n",
              "    <tr>\n",
              "      <th>4</th>\n",
              "      <td>-1.145685</td>\n",
              "      <td>-0.882579</td>\n",
              "      <td>3</td>\n",
              "    </tr>\n",
              "  </tbody>\n",
              "</table>\n",
              "</div>\n",
              "      <button class=\"colab-df-convert\" onclick=\"convertToInteractive('df-ed71e932-cd80-412b-8366-9d9c3cb51d45')\"\n",
              "              title=\"Convert this dataframe to an interactive table.\"\n",
              "              style=\"display:none;\">\n",
              "        \n",
              "  <svg xmlns=\"http://www.w3.org/2000/svg\" height=\"24px\"viewBox=\"0 0 24 24\"\n",
              "       width=\"24px\">\n",
              "    <path d=\"M0 0h24v24H0V0z\" fill=\"none\"/>\n",
              "    <path d=\"M18.56 5.44l.94 2.06.94-2.06 2.06-.94-2.06-.94-.94-2.06-.94 2.06-2.06.94zm-11 1L8.5 8.5l.94-2.06 2.06-.94-2.06-.94L8.5 2.5l-.94 2.06-2.06.94zm10 10l.94 2.06.94-2.06 2.06-.94-2.06-.94-.94-2.06-.94 2.06-2.06.94z\"/><path d=\"M17.41 7.96l-1.37-1.37c-.4-.4-.92-.59-1.43-.59-.52 0-1.04.2-1.43.59L10.3 9.45l-7.72 7.72c-.78.78-.78 2.05 0 2.83L4 21.41c.39.39.9.59 1.41.59.51 0 1.02-.2 1.41-.59l7.78-7.78 2.81-2.81c.8-.78.8-2.07 0-2.86zM5.41 20L4 18.59l7.72-7.72 1.47 1.35L5.41 20z\"/>\n",
              "  </svg>\n",
              "      </button>\n",
              "      \n",
              "  <style>\n",
              "    .colab-df-container {\n",
              "      display:flex;\n",
              "      flex-wrap:wrap;\n",
              "      gap: 12px;\n",
              "    }\n",
              "\n",
              "    .colab-df-convert {\n",
              "      background-color: #E8F0FE;\n",
              "      border: none;\n",
              "      border-radius: 50%;\n",
              "      cursor: pointer;\n",
              "      display: none;\n",
              "      fill: #1967D2;\n",
              "      height: 32px;\n",
              "      padding: 0 0 0 0;\n",
              "      width: 32px;\n",
              "    }\n",
              "\n",
              "    .colab-df-convert:hover {\n",
              "      background-color: #E2EBFA;\n",
              "      box-shadow: 0px 1px 2px rgba(60, 64, 67, 0.3), 0px 1px 3px 1px rgba(60, 64, 67, 0.15);\n",
              "      fill: #174EA6;\n",
              "    }\n",
              "\n",
              "    [theme=dark] .colab-df-convert {\n",
              "      background-color: #3B4455;\n",
              "      fill: #D2E3FC;\n",
              "    }\n",
              "\n",
              "    [theme=dark] .colab-df-convert:hover {\n",
              "      background-color: #434B5C;\n",
              "      box-shadow: 0px 1px 3px 1px rgba(0, 0, 0, 0.15);\n",
              "      filter: drop-shadow(0px 1px 2px rgba(0, 0, 0, 0.3));\n",
              "      fill: #FFFFFF;\n",
              "    }\n",
              "  </style>\n",
              "\n",
              "      <script>\n",
              "        const buttonEl =\n",
              "          document.querySelector('#df-ed71e932-cd80-412b-8366-9d9c3cb51d45 button.colab-df-convert');\n",
              "        buttonEl.style.display =\n",
              "          google.colab.kernel.accessAllowed ? 'block' : 'none';\n",
              "\n",
              "        async function convertToInteractive(key) {\n",
              "          const element = document.querySelector('#df-ed71e932-cd80-412b-8366-9d9c3cb51d45');\n",
              "          const dataTable =\n",
              "            await google.colab.kernel.invokeFunction('convertToInteractive',\n",
              "                                                     [key], {});\n",
              "          if (!dataTable) return;\n",
              "\n",
              "          const docLinkHtml = 'Like what you see? Visit the ' +\n",
              "            '<a target=\"_blank\" href=https://colab.research.google.com/notebooks/data_table.ipynb>data table notebook</a>'\n",
              "            + ' to learn more about interactive tables.';\n",
              "          element.innerHTML = '';\n",
              "          dataTable['output_type'] = 'display_data';\n",
              "          await google.colab.output.renderOutput(dataTable, element);\n",
              "          const docLink = document.createElement('div');\n",
              "          docLink.innerHTML = docLinkHtml;\n",
              "          element.appendChild(docLink);\n",
              "        }\n",
              "      </script>\n",
              "    </div>\n",
              "  </div>\n",
              "  "
            ]
          },
          "metadata": {},
          "execution_count": 57
        }
      ]
    },
    {
      "cell_type": "code",
      "source": [
        "fig, axes = plt.subplots(2, 3, figsize=(7,5))\n",
        "axes = axes.flatten()\n",
        "cmaps = [\"Greys\", \"Blues\", \"Oranges\", \"Reds\", \"Purples\", \"Greens\"]\n",
        "labels = emotion[\"train\"].features[\"label\"].names\n",
        "for i, (label, cmap) in enumerate(zip(labels, cmaps)):\n",
        "    df_emb_sub = df_emb.query(f\"label == {i}\")\n",
        "    axes[i].hexbin(df_emb_sub[\"X\"], df_emb_sub[\"Y\"], cmap=cmap,\n",
        "    gridsize=20, linewidths=(0,))\n",
        "    axes[i].set_title(label)\n",
        "    axes[i].set_xticks([]), axes[i].set_yticks([])\n",
        "plt.tight_layout()\n",
        "plt.show()"
      ],
      "metadata": {
        "colab": {
          "base_uri": "https://localhost:8080/",
          "height": 369
        },
        "id": "fFbsgsLPOL0r",
        "outputId": "dd0d43f5-bf5c-4609-9af4-f42cb8b7d48c"
      },
      "execution_count": 58,
      "outputs": [
        {
          "output_type": "display_data",
          "data": {
            "text/plain": [
              "<Figure size 504x360 with 6 Axes>"
            ],
            "image/png": "[encoded data removed]"
          },
          "metadata": {}
        }
      ]
    },
    {
      "cell_type": "markdown",
      "source": [
        "Training simple classifier"
      ],
      "metadata": {
        "id": "G7pw7gkyOOou"
      }
    },
    {
      "cell_type": "code",
      "source": [
        "%%time\n",
        "lr_clf = LogisticRegression(solver='saga', \n",
        "                            max_iter=1000, # 1000 will garantee convergence\n",
        "                            n_jobs=-1, \n",
        "                            penalty='l2',\n",
        "                            verbose=True) \n",
        "lr_clf.fit(X_train, y_train)"
      ],
      "metadata": {
        "colab": {
          "base_uri": "https://localhost:8080/"
        },
        "id": "g0y1w3tUPSa6",
        "outputId": "259bfa72-9998-42fc-84cc-2bebbbb23fe9"
      },
      "execution_count": 65,
      "outputs": [
        {
          "output_type": "execute_result",
          "data": {
            "text/plain": [
              "LogisticRegression(max_iter=1000, solver='saga')"
            ]
          },
          "metadata": {},
          "execution_count": 65
        }
      ]
    },
    {
      "cell_type": "code",
      "source": [
        "print('Valid accuracy:', lr_clf.score(X_valid, y_valid))"
      ],
      "metadata": {
        "colab": {
          "base_uri": "https://localhost:8080/"
        },
        "id": "fq8vTcHwRfMC",
        "outputId": "365fdbf3-8a19-4c43-b850-ef351e682afb"
      },
      "execution_count": 68,
      "outputs": [
        {
          "output_type": "stream",
          "name": "stdout",
          "text": [
            "Valid accuracy: 0.633\n"
          ]
        }
      ]
    },
    {
      "cell_type": "markdown",
      "source": [
        "Better than random :)"
      ],
      "metadata": {
        "id": "1RPq5na3R_hp"
      }
    },
    {
      "cell_type": "code",
      "source": [
        "def plot_confusion_matrix(y_preds, y_true, labels):\n",
        "    cm = confusion_matrix(y_true, y_preds, normalize=\"true\")\n",
        "    fig, ax = plt.subplots(figsize=(6, 6))\n",
        "    disp = ConfusionMatrixDisplay(confusion_matrix=cm, display_labels=labels)\n",
        "    disp.plot(cmap=\"Blues\", values_format=\".2f\", ax=ax, colorbar=False)\n",
        "    plt.title(\"Normalized confusion matrix\")\n",
        "    plt.show()"
      ],
      "metadata": {
        "id": "lqYLbgqXPvi3"
      },
      "execution_count": 70,
      "outputs": []
    },
    {
      "cell_type": "code",
      "source": [
        "y_preds = lr_clf.predict(X_valid)\n",
        "plot_confusion_matrix(y_preds, y_valid, labels)"
      ],
      "metadata": {
        "colab": {
          "base_uri": "https://localhost:8080/",
          "height": 404
        },
        "id": "hGXmG2JjQIIj",
        "outputId": "b969fc06-bf5d-4f01-d051-69a92f26ebbb"
      },
      "execution_count": 71,
      "outputs": [
        {
          "output_type": "display_data",
          "data": {
            "text/plain": [
              "<Figure size 432x432 with 1 Axes>"
            ],
            "image/png": "[encoded data removed]"
          },
          "metadata": {
            "needs_background": "light"
          }
        }
      ]
    },
    {
      "cell_type": "markdown",
      "source": [
        "Problem to separate love - joy - surprise, sadness-anger"
      ],
      "metadata": {
        "id": "udG9N_kQSGRI"
      }
    },
    {
      "cell_type": "markdown",
      "source": [
        "#### Option 2: Fine-tuning transformers"
      ],
      "metadata": {
        "id": "2CPR-GysSSTk"
      }
    },
    {
      "cell_type": "markdown",
      "source": [
        "Loading pre-trained model. Use AutoModelForSequenceClassification has build in classification head. But the model the same - DistilBERT"
      ],
      "metadata": {
        "id": "Nn9sraXSSsRE"
      }
    },
    {
      "cell_type": "code",
      "source": [
        "num_labels = 6\n",
        "model = (AutoModelForSequenceClassification\n",
        "        .from_pretrained(model_ckpt, num_labels=num_labels)\n",
        "        .to(device))\n",
        "# warning because of the randonly initialized classification head"
      ],
      "metadata": {
        "colab": {
          "base_uri": "https://localhost:8080/"
        },
        "id": "QfF-Kz66TDA1",
        "outputId": "426343be-c2f2-4ba3-e826-f842f59aa21c"
      },
      "execution_count": 75,
      "outputs": [
        {
          "output_type": "stream",
          "name": "stderr",
          "text": [
            "Some weights of the model checkpoint at distilbert-base-uncased were not used when initializing DistilBertForSequenceClassification: ['vocab_projector.bias', 'vocab_layer_norm.bias', 'vocab_transform.weight', 'vocab_transform.bias', 'vocab_projector.weight', 'vocab_layer_norm.weight']\n",
            "- This IS expected if you are initializing DistilBertForSequenceClassification from the checkpoint of a model trained on another task or with another architecture (e.g. initializing a BertForSequenceClassification model from a BertForPreTraining model).\n",
            "- This IS NOT expected if you are initializing DistilBertForSequenceClassification from the checkpoint of a model that you expect to be exactly identical (initializing a BertForSequenceClassification model from a BertForSequenceClassification model).\n",
            "Some weights of DistilBertForSequenceClassification were not initialized from the model checkpoint at distilbert-base-uncased and are newly initialized: ['classifier.bias', 'pre_classifier.bias', 'classifier.weight', 'pre_classifier.weight']\n",
            "You should probably TRAIN this model on a down-stream task to be able to use it for predictions and inference.\n"
          ]
        }
      ]
    },
    {
      "cell_type": "markdown",
      "source": [
        "Define metrics"
      ],
      "metadata": {
        "id": "1VM-QzEaTa4K"
      }
    },
    {
      "cell_type": "code",
      "source": [
        "def compute_metrics(pred):\n",
        "    labels = pred.label_ids\n",
        "    preds = pred.predictions.argmax(-1)\n",
        "    f1 = f1_score(labels, preds, average='weighted')\n",
        "    acc = accuracy_score(labels, preds)\n",
        "    return{\"accuracy\":acc, \"f1\":f1}"
      ],
      "metadata": {
        "id": "yLfe80FlTm9C"
      },
      "execution_count": 94,
      "outputs": []
    },
    {
      "cell_type": "markdown",
      "source": [
        "Train model"
      ],
      "metadata": {
        "id": "GaymNlk4UhJO"
      }
    },
    {
      "cell_type": "code",
      "source": [
        "batch_size = 64\n",
        "logging_steps = len(emotion_encoded[\"train\"]) // batch_size\n",
        "model_name = f\"{model_ckpt}-finetuned-emotion\""
      ],
      "metadata": {
        "id": "QnuZYd1cUJLa"
      },
      "execution_count": 90,
      "outputs": []
    },
    {
      "cell_type": "code",
      "source": [
        "logging_steps"
      ],
      "metadata": {
        "colab": {
          "base_uri": "https://localhost:8080/"
        },
        "id": "hwfv8BdSXsa8",
        "outputId": "3178bcad-012d-46ad-97b8-8b75bcacc0dd"
      },
      "execution_count": 96,
      "outputs": [
        {
          "output_type": "execute_result",
          "data": {
            "text/plain": [
              "250"
            ]
          },
          "metadata": {},
          "execution_count": 96
        }
      ]
    },
    {
      "cell_type": "code",
      "source": [
        "training_args = TrainingArguments(output_dir=model_name,\n",
        "                                num_train_epochs=2,\n",
        "                                learning_rate=2e-5,\n",
        "                                per_device_train_batch_size=batch_size,\n",
        "                                per_device_eval_batch_size=batch_size,\n",
        "                                weight_decay=0.01,\n",
        "                                evaluation_strategy=\"epoch\",\n",
        "                                disable_tqdm=False,\n",
        "                                logging_steps=logging_steps,\n",
        "                                push_to_hub=False, #let's skip this stuff\n",
        "                                log_level=\"error\")"
      ],
      "metadata": {
        "id": "qWFWwDaOUxQg"
      },
      "execution_count": 91,
      "outputs": []
    },
    {
      "cell_type": "code",
      "source": [
        ""
      ],
      "metadata": {
        "id": "r31vxX04WSA1"
      },
      "execution_count": 91,
      "outputs": []
    },
    {
      "cell_type": "code",
      "source": [
        "emotion_encoded['validation']"
      ],
      "metadata": {
        "colab": {
          "base_uri": "https://localhost:8080/"
        },
        "id": "63wy5ORmVFo1",
        "outputId": "653a89ea-0589-43f0-c771-744e2ec9299a"
      },
      "execution_count": 92,
      "outputs": [
        {
          "output_type": "execute_result",
          "data": {
            "text/plain": [
              "Dataset({\n",
              "    features: ['text', 'label', 'input_ids', 'attention_mask'],\n",
              "    num_rows: 2000\n",
              "})"
            ]
          },
          "metadata": {},
          "execution_count": 92
        }
      ]
    },
    {
      "cell_type": "code",
      "source": [
        "trainer = Trainer(model=model, \n",
        "                  args=training_args,\n",
        "                  compute_metrics=compute_metrics,\n",
        "                  train_dataset=emotion_encoded[\"train\"],\n",
        "                  eval_dataset=emotion_encoded[\"validation\"],\n",
        "                  tokenizer=tokenizer)\n",
        "trainer.train()"
      ],
      "metadata": {
        "colab": {
          "base_uri": "https://localhost:8080/",
          "height": 210
        },
        "id": "C75LqTmxU7A4",
        "outputId": "1c2793fa-2975-4583-bf1a-7e9cf15b60b5"
      },
      "execution_count": 97,
      "outputs": [
        {
          "output_type": "stream",
          "name": "stderr",
          "text": [
            "/usr/local/lib/python3.7/dist-packages/transformers/optimization.py:309: FutureWarning: This implementation of AdamW is deprecated and will be removed in a future version. Use the PyTorch implementation torch.optim.AdamW instead, or set `no_deprecation_warning=True` to disable this warning\n",
            "  FutureWarning,\n"
          ]
        },
        {
          "output_type": "display_data",
          "data": {
            "text/plain": [
              "<IPython.core.display.HTML object>"
            ],
            "text/html": [
              "\n",
              "    <div>\n",
              "      \n",
              "      <progress value='500' max='500' style='width:300px; height:20px; vertical-align: middle;'></progress>\n",
              "      [500/500 03:54, Epoch 2/2]\n",
              "    </div>\n",
              "    <table border=\"1\" class=\"dataframe\">\n",
              "  <thead>\n",
              " <tr style=\"text-align: left;\">\n",
              "      <th>Epoch</th>\n",
              "      <th>Training Loss</th>\n",
              "      <th>Validation Loss</th>\n",
              "      <th>Accuracy</th>\n",
              "      <th>F1</th>\n",
              "    </tr>\n",
              "  </thead>\n",
              "  <tbody>\n",
              "    <tr>\n",
              "      <td>1</td>\n",
              "      <td>0.100000</td>\n",
              "      <td>0.189793</td>\n",
              "      <td>0.926000</td>\n",
              "      <td>0.926409</td>\n",
              "    </tr>\n",
              "    <tr>\n",
              "      <td>2</td>\n",
              "      <td>0.104700</td>\n",
              "      <td>0.163724</td>\n",
              "      <td>0.935000</td>\n",
              "      <td>0.935094</td>\n",
              "    </tr>\n",
              "  </tbody>\n",
              "</table><p>"
            ]
          },
          "metadata": {}
        },
        {
          "output_type": "execute_result",
          "data": {
            "text/plain": [
              "TrainOutput(global_step=500, training_loss=0.10235523986816407, metrics={'train_runtime': 234.804, 'train_samples_per_second': 136.284, 'train_steps_per_second': 2.129, 'total_flos': 720342861696000.0, 'train_loss': 0.10235523986816407, 'epoch': 2.0})"
            ]
          },
          "metadata": {},
          "execution_count": 97
        }
      ]
    },
    {
      "cell_type": "markdown",
      "source": [
        "0.935 💪"
      ],
      "metadata": {
        "id": "qzNqrc8OVLiH"
      }
    },
    {
      "cell_type": "markdown",
      "source": [
        "Getting results"
      ],
      "metadata": {
        "id": "Hbc6gfmyahM5"
      }
    },
    {
      "cell_type": "code",
      "source": [
        "preds_output = trainer.predict(emotion_encoded[\"validation\"])"
      ],
      "metadata": {
        "colab": {
          "base_uri": "https://localhost:8080/",
          "height": 37
        },
        "id": "drieZ5V6Y1Wy",
        "outputId": "03ebd414-47bc-4ef6-abab-af09d7aa3dad"
      },
      "execution_count": 99,
      "outputs": [
        {
          "output_type": "display_data",
          "data": {
            "text/plain": [
              "<IPython.core.display.HTML object>"
            ],
            "text/html": [
              "\n",
              "    <div>\n",
              "      \n",
              "      <progress value='32' max='32' style='width:300px; height:20px; vertical-align: middle;'></progress>\n",
              "      [32/32 00:04]\n",
              "    </div>\n",
              "    "
            ]
          },
          "metadata": {}
        }
      ]
    },
    {
      "cell_type": "code",
      "source": [
        "preds_output.metrics"
      ],
      "metadata": {
        "colab": {
          "base_uri": "https://localhost:8080/"
        },
        "id": "OrCmG6cSZJW8",
        "outputId": "ef63de8a-5767-43ad-a80d-0c63175485ff"
      },
      "execution_count": 101,
      "outputs": [
        {
          "output_type": "execute_result",
          "data": {
            "text/plain": [
              "{'test_accuracy': 0.935,\n",
              " 'test_f1': 0.9350943857274716,\n",
              " 'test_loss': 0.16372406482696533,\n",
              " 'test_runtime': 4.9488,\n",
              " 'test_samples_per_second': 404.135,\n",
              " 'test_steps_per_second': 6.466}"
            ]
          },
          "metadata": {},
          "execution_count": 101
        }
      ]
    },
    {
      "cell_type": "code",
      "source": [
        "y_preds = np.argmax(preds_output.predictions, axis=1)"
      ],
      "metadata": {
        "id": "ixnIxQolaOUN"
      },
      "execution_count": 102,
      "outputs": []
    },
    {
      "cell_type": "code",
      "source": [
        "plot_confusion_matrix(y_preds, y_valid, labels)"
      ],
      "metadata": {
        "colab": {
          "base_uri": "https://localhost:8080/",
          "height": 404
        },
        "id": "1ZSHRP6xaW2l",
        "outputId": "a67f4c8c-1476-4030-b271-1a64a2500f38"
      },
      "execution_count": 104,
      "outputs": [
        {
          "output_type": "display_data",
          "data": {
            "text/plain": [
              "<Figure size 432x432 with 1 Axes>"
            ],
            "image/png": "[encoded data removed]"
          },
          "metadata": {
            "needs_background": "light"
          }
        }
      ]
    },
    {
      "cell_type": "markdown",
      "source": [
        "Error analysis"
      ],
      "metadata": {
        "id": "qBwNGcL-aa24"
      }
    },
    {
      "cell_type": "code",
      "source": [
        "def forward_pass_with_label(batch):\n",
        "    # Place all input tensors on the same device as the model\n",
        "    inputs = {k:v.to(device) for k,v in batch.items() if k in tokenizer.model_input_names}\n",
        "    with torch.no_grad():\n",
        "        output = model(**inputs)\n",
        "        pred_label = torch.argmax(output.logits, axis=-1)\n",
        "        loss = cross_entropy(output.logits, batch[\"label\"].to(device),\n",
        "        reduction=\"none\")\n",
        "    # Place outputs on CPU for compatibility with other dataset columns\n",
        "    return {\"loss\": loss.cpu().numpy(),\n",
        "            \"predicted_label\": pred_label.cpu().numpy()}"
      ],
      "metadata": {
        "id": "SlJCnBkGaoF_"
      },
      "execution_count": 106,
      "outputs": []
    },
    {
      "cell_type": "code",
      "source": [
        "# Convert our dataset back to PyTorch tensors\n",
        "emotion_encoded.set_format(\"torch\", columns=[\"input_ids\", \"attention_mask\", \"label\"])\n",
        "# Compute loss values\n",
        "emotion_encoded[\"validation\"] = emotion_encoded[\"validation\"].map(forward_pass_with_label, \n",
        "                                                                  batched=True, batch_size=16)"
      ],
      "metadata": {
        "colab": {
          "base_uri": "https://localhost:8080/",
          "height": 49,
          "referenced_widgets": [
            "a827a716a9c3478aad521b58cae32154",
            "60066ade6a2e453fb0ddaf329105d38f",
            "e118a0b6fd1a4d04a042b29f62fe3e28",
            "6260b0bd776543f49715f45367ba7fa2",
            "221772bffbfe45efaf78425ecb9243a7",
            "eba9e8700eea47958ce4c5ebfba5fcca",
            "a472645229434752952b61d6cd943eab",
            "8583f6e4225e4644ba1b749ab4364247",
            "dd35ed5442c64147bb89878f54ff6233",
            "3037bc4d3c7d4ed39c83e7607294d42c",
            "9b8842cb3aeb496c96d3dc7caa721bec"
          ]
        },
        "id": "IEWAAPDNa9mJ",
        "outputId": "92a11c62-6415-46df-864b-837fde7df3e4"
      },
      "execution_count": 108,
      "outputs": [
        {
          "output_type": "display_data",
          "data": {
            "text/plain": [
              "  0%|          | 0/125 [00:00<?, ?ba/s]"
            ],
            "application/vnd.jupyter.widget-view+json": {
              "version_major": 2,
              "version_minor": 0,
              "model_id": "a827a716a9c3478aad521b58cae32154"
            }
          },
          "metadata": {}
        }
      ]
    },
    {
      "cell_type": "code",
      "source": [
        "emotion_encoded.set_format(\"pandas\")\n",
        "cols = [\"text\", \"label\", \"predicted_label\", \"loss\"]\n",
        "df_test = emotion_encoded[\"validation\"][:][cols]\n",
        "df_test[\"label\"] = df_test[\"label\"].apply(label_int2str)\n",
        "df_test[\"predicted_label\"] = (df_test[\"predicted_label\"].apply(label_int2str))"
      ],
      "metadata": {
        "id": "X0CmKbsebD2k"
      },
      "execution_count": 111,
      "outputs": []
    },
    {
      "cell_type": "code",
      "source": [
        "df_test.sort_values(\"loss\", ascending=False).head(10)"
      ],
      "metadata": {
        "colab": {
          "base_uri": "https://localhost:8080/",
          "height": 363
        },
        "id": "UKdhnHlnbTnM",
        "outputId": "aa4ff3c3-7fad-4750-ddcd-a94075feada8"
      },
      "execution_count": 113,
      "outputs": [
        {
          "output_type": "execute_result",
          "data": {
            "text/plain": [
              "                                                   text     label  \\\n",
              "1950  i as representative of everything thats wrong ...  surprise   \n",
              "882   i feel badly about reneging on my commitment t...      love   \n",
              "1195  i always think about are act the way i want to...     anger   \n",
              "1111  im lazy my characters fall into categories of ...       joy   \n",
              "1963  i called myself pro life and voted for perry w...       joy   \n",
              "1500  i guess we would naturally feel a sense of lon...     anger   \n",
              "1509  i guess this is a memoir so it feels like that...       joy   \n",
              "1870  i guess i feel betrayed because i admired him ...       joy   \n",
              "1852  i arrived home with a strange feeling of happi...   sadness   \n",
              "1367  that day i was alone at home after coming home...      fear   \n",
              "\n",
              "     predicted_label      loss  \n",
              "1950         sadness  9.028975  \n",
              "882          sadness  8.473310  \n",
              "1195             joy  8.293082  \n",
              "1111            fear  7.786015  \n",
              "1963         sadness  7.078388  \n",
              "1500         sadness  7.012499  \n",
              "1509            fear  6.351780  \n",
              "1870         sadness  6.282023  \n",
              "1852            fear  4.982881  \n",
              "1367         sadness  4.819684  "
            ],
            "text/html": [
              "\n",
              "  <div id=\"df-90af5aca-4679-42ee-816b-32b49f3af99f\">\n",
              "    <div class=\"colab-df-container\">\n",
              "      <div>\n",
              "<style scoped>\n",
              "    .dataframe tbody tr th:only-of-type {\n",
              "        vertical-align: middle;\n",
              "    }\n",
              "\n",
              "    .dataframe tbody tr th {\n",
              "        vertical-align: top;\n",
              "    }\n",
              "\n",
              "    .dataframe thead th {\n",
              "        text-align: right;\n",
              "    }\n",
              "</style>\n",
              "<table border=\"1\" class=\"dataframe\">\n",
              "  <thead>\n",
              "    <tr style=\"text-align: right;\">\n",
              "      <th></th>\n",
              "      <th>text</th>\n",
              "      <th>label</th>\n",
              "      <th>predicted_label</th>\n",
              "      <th>loss</th>\n",
              "    </tr>\n",
              "  </thead>\n",
              "  <tbody>\n",
              "    <tr>\n",
              "      <th>1950</th>\n",
              "      <td>i as representative of everything thats wrong ...</td>\n",
              "      <td>surprise</td>\n",
              "      <td>sadness</td>\n",
              "      <td>9.028975</td>\n",
              "    </tr>\n",
              "    <tr>\n",
              "      <th>882</th>\n",
              "      <td>i feel badly about reneging on my commitment t...</td>\n",
              "      <td>love</td>\n",
              "      <td>sadness</td>\n",
              "      <td>8.473310</td>\n",
              "    </tr>\n",
              "    <tr>\n",
              "      <th>1195</th>\n",
              "      <td>i always think about are act the way i want to...</td>\n",
              "      <td>anger</td>\n",
              "      <td>joy</td>\n",
              "      <td>8.293082</td>\n",
              "    </tr>\n",
              "    <tr>\n",
              "      <th>1111</th>\n",
              "      <td>im lazy my characters fall into categories of ...</td>\n",
              "      <td>joy</td>\n",
              "      <td>fear</td>\n",
              "      <td>7.786015</td>\n",
              "    </tr>\n",
              "    <tr>\n",
              "      <th>1963</th>\n",
              "      <td>i called myself pro life and voted for perry w...</td>\n",
              "      <td>joy</td>\n",
              "      <td>sadness</td>\n",
              "      <td>7.078388</td>\n",
              "    </tr>\n",
              "    <tr>\n",
              "      <th>1500</th>\n",
              "      <td>i guess we would naturally feel a sense of lon...</td>\n",
              "      <td>anger</td>\n",
              "      <td>sadness</td>\n",
              "      <td>7.012499</td>\n",
              "    </tr>\n",
              "    <tr>\n",
              "      <th>1509</th>\n",
              "      <td>i guess this is a memoir so it feels like that...</td>\n",
              "      <td>joy</td>\n",
              "      <td>fear</td>\n",
              "      <td>6.351780</td>\n",
              "    </tr>\n",
              "    <tr>\n",
              "      <th>1870</th>\n",
              "      <td>i guess i feel betrayed because i admired him ...</td>\n",
              "      <td>joy</td>\n",
              "      <td>sadness</td>\n",
              "      <td>6.282023</td>\n",
              "    </tr>\n",
              "    <tr>\n",
              "      <th>1852</th>\n",
              "      <td>i arrived home with a strange feeling of happi...</td>\n",
              "      <td>sadness</td>\n",
              "      <td>fear</td>\n",
              "      <td>4.982881</td>\n",
              "    </tr>\n",
              "    <tr>\n",
              "      <th>1367</th>\n",
              "      <td>that day i was alone at home after coming home...</td>\n",
              "      <td>fear</td>\n",
              "      <td>sadness</td>\n",
              "      <td>4.819684</td>\n",
              "    </tr>\n",
              "  </tbody>\n",
              "</table>\n",
              "</div>\n",
              "      <button class=\"colab-df-convert\" onclick=\"convertToInteractive('df-90af5aca-4679-42ee-816b-32b49f3af99f')\"\n",
              "              title=\"Convert this dataframe to an interactive table.\"\n",
              "              style=\"display:none;\">\n",
              "        \n",
              "  <svg xmlns=\"http://www.w3.org/2000/svg\" height=\"24px\"viewBox=\"0 0 24 24\"\n",
              "       width=\"24px\">\n",
              "    <path d=\"M0 0h24v24H0V0z\" fill=\"none\"/>\n",
              "    <path d=\"M18.56 5.44l.94 2.06.94-2.06 2.06-.94-2.06-.94-.94-2.06-.94 2.06-2.06.94zm-11 1L8.5 8.5l.94-2.06 2.06-.94-2.06-.94L8.5 2.5l-.94 2.06-2.06.94zm10 10l.94 2.06.94-2.06 2.06-.94-2.06-.94-.94-2.06-.94 2.06-2.06.94z\"/><path d=\"M17.41 7.96l-1.37-1.37c-.4-.4-.92-.59-1.43-.59-.52 0-1.04.2-1.43.59L10.3 9.45l-7.72 7.72c-.78.78-.78 2.05 0 2.83L4 21.41c.39.39.9.59 1.41.59.51 0 1.02-.2 1.41-.59l7.78-7.78 2.81-2.81c.8-.78.8-2.07 0-2.86zM5.41 20L4 18.59l7.72-7.72 1.47 1.35L5.41 20z\"/>\n",
              "  </svg>\n",
              "      </button>\n",
              "      \n",
              "  <style>\n",
              "    .colab-df-container {\n",
              "      display:flex;\n",
              "      flex-wrap:wrap;\n",
              "      gap: 12px;\n",
              "    }\n",
              "\n",
              "    .colab-df-convert {\n",
              "      background-color: #E8F0FE;\n",
              "      border: none;\n",
              "      border-radius: 50%;\n",
              "      cursor: pointer;\n",
              "      display: none;\n",
              "      fill: #1967D2;\n",
              "      height: 32px;\n",
              "      padding: 0 0 0 0;\n",
              "      width: 32px;\n",
              "    }\n",
              "\n",
              "    .colab-df-convert:hover {\n",
              "      background-color: #E2EBFA;\n",
              "      box-shadow: 0px 1px 2px rgba(60, 64, 67, 0.3), 0px 1px 3px 1px rgba(60, 64, 67, 0.15);\n",
              "      fill: #174EA6;\n",
              "    }\n",
              "\n",
              "    [theme=dark] .colab-df-convert {\n",
              "      background-color: #3B4455;\n",
              "      fill: #D2E3FC;\n",
              "    }\n",
              "\n",
              "    [theme=dark] .colab-df-convert:hover {\n",
              "      background-color: #434B5C;\n",
              "      box-shadow: 0px 1px 3px 1px rgba(0, 0, 0, 0.15);\n",
              "      filter: drop-shadow(0px 1px 2px rgba(0, 0, 0, 0.3));\n",
              "      fill: #FFFFFF;\n",
              "    }\n",
              "  </style>\n",
              "\n",
              "      <script>\n",
              "        const buttonEl =\n",
              "          document.querySelector('#df-90af5aca-4679-42ee-816b-32b49f3af99f button.colab-df-convert');\n",
              "        buttonEl.style.display =\n",
              "          google.colab.kernel.accessAllowed ? 'block' : 'none';\n",
              "\n",
              "        async function convertToInteractive(key) {\n",
              "          const element = document.querySelector('#df-90af5aca-4679-42ee-816b-32b49f3af99f');\n",
              "          const dataTable =\n",
              "            await google.colab.kernel.invokeFunction('convertToInteractive',\n",
              "                                                     [key], {});\n",
              "          if (!dataTable) return;\n",
              "\n",
              "          const docLinkHtml = 'Like what you see? Visit the ' +\n",
              "            '<a target=\"_blank\" href=https://colab.research.google.com/notebooks/data_table.ipynb>data table notebook</a>'\n",
              "            + ' to learn more about interactive tables.';\n",
              "          element.innerHTML = '';\n",
              "          dataTable['output_type'] = 'display_data';\n",
              "          await google.colab.output.renderOutput(dataTable, element);\n",
              "          const docLink = document.createElement('div');\n",
              "          docLink.innerHTML = docLinkHtml;\n",
              "          element.appendChild(docLink);\n",
              "        }\n",
              "      </script>\n",
              "    </div>\n",
              "  </div>\n",
              "  "
            ]
          },
          "metadata": {},
          "execution_count": 113
        }
      ]
    },
    {
      "cell_type": "code",
      "source": [
        "df_test.sort_values(\"loss\", ascending=True).head(10)"
      ],
      "metadata": {
        "colab": {
          "base_uri": "https://localhost:8080/",
          "height": 363
        },
        "id": "J84_d2JtbWpT",
        "outputId": "b9b111a7-6cf5-4454-8c2b-cf7b481681bd"
      },
      "execution_count": 114,
      "outputs": [
        {
          "output_type": "execute_result",
          "data": {
            "text/plain": [
              "                                                   text    label  \\\n",
              "69    i have no extra money im worried all of the ti...  sadness   \n",
              "1310                  i feel like an ungrateful asshole  sadness   \n",
              "1502             i feel ungrateful for stupid shit like  sadness   \n",
              "133   i and feel quite ungrateful for it but i m loo...  sadness   \n",
              "1873  i feel practically virtuous this month i have ...      joy   \n",
              "394   i feel shamed that i hoped for one last christ...  sadness   \n",
              "1303                     i feel pathetic and uninspired  sadness   \n",
              "620   i shall move right along to the post interview...      joy   \n",
              "396                          i feel pretty pathetic now  sadness   \n",
              "507                         i always feel so inadequate  sadness   \n",
              "\n",
              "     predicted_label      loss  \n",
              "69           sadness  0.001049  \n",
              "1310         sadness  0.001085  \n",
              "1502         sadness  0.001112  \n",
              "133          sadness  0.001115  \n",
              "1873             joy  0.001126  \n",
              "394          sadness  0.001133  \n",
              "1303         sadness  0.001134  \n",
              "620              joy  0.001142  \n",
              "396          sadness  0.001153  \n",
              "507          sadness  0.001153  "
            ],
            "text/html": [
              "\n",
              "  <div id=\"df-d8615116-7baa-431b-9686-814c6159a26f\">\n",
              "    <div class=\"colab-df-container\">\n",
              "      <div>\n",
              "<style scoped>\n",
              "    .dataframe tbody tr th:only-of-type {\n",
              "        vertical-align: middle;\n",
              "    }\n",
              "\n",
              "    .dataframe tbody tr th {\n",
              "        vertical-align: top;\n",
              "    }\n",
              "\n",
              "    .dataframe thead th {\n",
              "        text-align: right;\n",
              "    }\n",
              "</style>\n",
              "<table border=\"1\" class=\"dataframe\">\n",
              "  <thead>\n",
              "    <tr style=\"text-align: right;\">\n",
              "      <th></th>\n",
              "      <th>text</th>\n",
              "      <th>label</th>\n",
              "      <th>predicted_label</th>\n",
              "      <th>loss</th>\n",
              "    </tr>\n",
              "  </thead>\n",
              "  <tbody>\n",
              "    <tr>\n",
              "      <th>69</th>\n",
              "      <td>i have no extra money im worried all of the ti...</td>\n",
              "      <td>sadness</td>\n",
              "      <td>sadness</td>\n",
              "      <td>0.001049</td>\n",
              "    </tr>\n",
              "    <tr>\n",
              "      <th>1310</th>\n",
              "      <td>i feel like an ungrateful asshole</td>\n",
              "      <td>sadness</td>\n",
              "      <td>sadness</td>\n",
              "      <td>0.001085</td>\n",
              "    </tr>\n",
              "    <tr>\n",
              "      <th>1502</th>\n",
              "      <td>i feel ungrateful for stupid shit like</td>\n",
              "      <td>sadness</td>\n",
              "      <td>sadness</td>\n",
              "      <td>0.001112</td>\n",
              "    </tr>\n",
              "    <tr>\n",
              "      <th>133</th>\n",
              "      <td>i and feel quite ungrateful for it but i m loo...</td>\n",
              "      <td>sadness</td>\n",
              "      <td>sadness</td>\n",
              "      <td>0.001115</td>\n",
              "    </tr>\n",
              "    <tr>\n",
              "      <th>1873</th>\n",
              "      <td>i feel practically virtuous this month i have ...</td>\n",
              "      <td>joy</td>\n",
              "      <td>joy</td>\n",
              "      <td>0.001126</td>\n",
              "    </tr>\n",
              "    <tr>\n",
              "      <th>394</th>\n",
              "      <td>i feel shamed that i hoped for one last christ...</td>\n",
              "      <td>sadness</td>\n",
              "      <td>sadness</td>\n",
              "      <td>0.001133</td>\n",
              "    </tr>\n",
              "    <tr>\n",
              "      <th>1303</th>\n",
              "      <td>i feel pathetic and uninspired</td>\n",
              "      <td>sadness</td>\n",
              "      <td>sadness</td>\n",
              "      <td>0.001134</td>\n",
              "    </tr>\n",
              "    <tr>\n",
              "      <th>620</th>\n",
              "      <td>i shall move right along to the post interview...</td>\n",
              "      <td>joy</td>\n",
              "      <td>joy</td>\n",
              "      <td>0.001142</td>\n",
              "    </tr>\n",
              "    <tr>\n",
              "      <th>396</th>\n",
              "      <td>i feel pretty pathetic now</td>\n",
              "      <td>sadness</td>\n",
              "      <td>sadness</td>\n",
              "      <td>0.001153</td>\n",
              "    </tr>\n",
              "    <tr>\n",
              "      <th>507</th>\n",
              "      <td>i always feel so inadequate</td>\n",
              "      <td>sadness</td>\n",
              "      <td>sadness</td>\n",
              "      <td>0.001153</td>\n",
              "    </tr>\n",
              "  </tbody>\n",
              "</table>\n",
              "</div>\n",
              "      <button class=\"colab-df-convert\" onclick=\"convertToInteractive('df-d8615116-7baa-431b-9686-814c6159a26f')\"\n",
              "              title=\"Convert this dataframe to an interactive table.\"\n",
              "              style=\"display:none;\">\n",
              "        \n",
              "  <svg xmlns=\"http://www.w3.org/2000/svg\" height=\"24px\"viewBox=\"0 0 24 24\"\n",
              "       width=\"24px\">\n",
              "    <path d=\"M0 0h24v24H0V0z\" fill=\"none\"/>\n",
              "    <path d=\"M18.56 5.44l.94 2.06.94-2.06 2.06-.94-2.06-.94-.94-2.06-.94 2.06-2.06.94zm-11 1L8.5 8.5l.94-2.06 2.06-.94-2.06-.94L8.5 2.5l-.94 2.06-2.06.94zm10 10l.94 2.06.94-2.06 2.06-.94-2.06-.94-.94-2.06-.94 2.06-2.06.94z\"/><path d=\"M17.41 7.96l-1.37-1.37c-.4-.4-.92-.59-1.43-.59-.52 0-1.04.2-1.43.59L10.3 9.45l-7.72 7.72c-.78.78-.78 2.05 0 2.83L4 21.41c.39.39.9.59 1.41.59.51 0 1.02-.2 1.41-.59l7.78-7.78 2.81-2.81c.8-.78.8-2.07 0-2.86zM5.41 20L4 18.59l7.72-7.72 1.47 1.35L5.41 20z\"/>\n",
              "  </svg>\n",
              "      </button>\n",
              "      \n",
              "  <style>\n",
              "    .colab-df-container {\n",
              "      display:flex;\n",
              "      flex-wrap:wrap;\n",
              "      gap: 12px;\n",
              "    }\n",
              "\n",
              "    .colab-df-convert {\n",
              "      background-color: #E8F0FE;\n",
              "      border: none;\n",
              "      border-radius: 50%;\n",
              "      cursor: pointer;\n",
              "      display: none;\n",
              "      fill: #1967D2;\n",
              "      height: 32px;\n",
              "      padding: 0 0 0 0;\n",
              "      width: 32px;\n",
              "    }\n",
              "\n",
              "    .colab-df-convert:hover {\n",
              "      background-color: #E2EBFA;\n",
              "      box-shadow: 0px 1px 2px rgba(60, 64, 67, 0.3), 0px 1px 3px 1px rgba(60, 64, 67, 0.15);\n",
              "      fill: #174EA6;\n",
              "    }\n",
              "\n",
              "    [theme=dark] .colab-df-convert {\n",
              "      background-color: #3B4455;\n",
              "      fill: #D2E3FC;\n",
              "    }\n",
              "\n",
              "    [theme=dark] .colab-df-convert:hover {\n",
              "      background-color: #434B5C;\n",
              "      box-shadow: 0px 1px 3px 1px rgba(0, 0, 0, 0.15);\n",
              "      filter: drop-shadow(0px 1px 2px rgba(0, 0, 0, 0.3));\n",
              "      fill: #FFFFFF;\n",
              "    }\n",
              "  </style>\n",
              "\n",
              "      <script>\n",
              "        const buttonEl =\n",
              "          document.querySelector('#df-d8615116-7baa-431b-9686-814c6159a26f button.colab-df-convert');\n",
              "        buttonEl.style.display =\n",
              "          google.colab.kernel.accessAllowed ? 'block' : 'none';\n",
              "\n",
              "        async function convertToInteractive(key) {\n",
              "          const element = document.querySelector('#df-d8615116-7baa-431b-9686-814c6159a26f');\n",
              "          const dataTable =\n",
              "            await google.colab.kernel.invokeFunction('convertToInteractive',\n",
              "                                                     [key], {});\n",
              "          if (!dataTable) return;\n",
              "\n",
              "          const docLinkHtml = 'Like what you see? Visit the ' +\n",
              "            '<a target=\"_blank\" href=https://colab.research.google.com/notebooks/data_table.ipynb>data table notebook</a>'\n",
              "            + ' to learn more about interactive tables.';\n",
              "          element.innerHTML = '';\n",
              "          dataTable['output_type'] = 'display_data';\n",
              "          await google.colab.output.renderOutput(dataTable, element);\n",
              "          const docLink = document.createElement('div');\n",
              "          docLink.innerHTML = docLinkHtml;\n",
              "          element.appendChild(docLink);\n",
              "        }\n",
              "      </script>\n",
              "    </div>\n",
              "  </div>\n",
              "  "
            ]
          },
          "metadata": {},
          "execution_count": 114
        }
      ]
    },
    {
      "cell_type": "markdown",
      "source": [
        "Custom example"
      ],
      "metadata": {
        "id": "zVk1JXrPbgel"
      }
    },
    {
      "cell_type": "code",
      "source": [
        "# custom_tweet = \"I saw a movie today and it was really good.\"\n",
        "# preds = model(custom_tweet, return_all_scores=True)"
      ],
      "metadata": {
        "id": "5Ha10n0nbq1S"
      },
      "execution_count": 117,
      "outputs": []
    },
    {
      "cell_type": "code",
      "source": [
        ""
      ],
      "metadata": {
        "id": "Q82FMMCtbs8u"
      },
      "execution_count": null,
      "outputs": []
    }
  ]
}